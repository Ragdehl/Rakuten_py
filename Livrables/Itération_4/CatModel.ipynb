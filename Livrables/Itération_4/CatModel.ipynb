{
 "cells": [
  {
   "cell_type": "markdown",
   "id": "52063eb8",
   "metadata": {},
   "source": [
    "Entrainement de modèles de base et d'un modèle CatModel qui les concatène.  \n",
    "\n",
    "Les définitions communes sont dans **rakuten_common.py**\n",
    "  * NB_ECHANTILLONS: Nombre d'échantillons utilisés (-1 par défaut => tous)\n",
    "  * TEST_SIZE: Ratio utilisé pour les tests (0.2 par défaut)\n",
    "  * VALIDATION_SPLIT: Ratio utilisé pour la validation (0.15 par défaut)\n",
    "  * RakutenBaseModel: Classe de base des modèles\n",
    "  * RakutenCatModel: Classe de base pour les modèles utilisant des modèles de base\n",
    "  * get_X...: Fonctions diverses retournant des données preprocessées, créant un fichier cache si nécessaire\n",
    "\n",
    "Les fichiers intermédiaires et finaux sont tous créés dans le répertoire **modele_rakuten_out**.\n",
    "\n",
    "L'exécution d'un modèle se fait ainsi:\n",
    "\n",
    "        modele().evaluate(NB_ECHANTILLONS)  \n",
    "\n",
    "Après entrainement et prédiction, un rapport est affiché et le modèle est sauvegardé sur disque.\n",
    "\n",
    "Le modèle qui utilise des modèles de base déjà exécutés les déclare dans la méthode **config** (voir objs dans CatModel.config()): Les objets de bases suvegardés sur disque sont alors chargés, pour récupérer l'architecture de leurs layers ainsi que leurs poids, afin de construire le modèle concaténant.\n"
   ]
  },
  {
   "cell_type": "code",
   "execution_count": 1,
   "id": "b2a58caa",
   "metadata": {},
   "outputs": [],
   "source": [
    "from rakuten_common import *"
   ]
  },
  {
   "cell_type": "code",
   "execution_count": 2,
   "id": "7ad2cc99",
   "metadata": {},
   "outputs": [],
   "source": [
    "class EmbedRNN(RakutenBaseModel):\n",
    "    \"\"\"\n",
    "    Modèle texte avec un layer Embedding et un layer GRU\n",
    "    \"\"\"\n",
    "    def __init__(self, nb=None):\n",
    "        super().__init__(self.__class__.__name__, nb)\n",
    "        if not hasattr(self, \"std\"):\n",
    "            # Appel pour la création du modèle\n",
    "            self.maxlen = 600\n",
    "            self.num_words = 70000\n",
    "            self.embedding_dim = 200\n",
    "            self.tokenizer = tf.keras.preprocessing.text.Tokenizer(num_words=self.num_words)\n",
    "\n",
    "    def get_class_weight(self):\n",
    "        indices = {int(self.fit_labels[i]):i for i in self.fit_labels}\n",
    "        cw = {i: 1 for i in range(NB_CLASSES)}\n",
    "        #cw[indices[1280]] = 2\n",
    "        return cw\n",
    "\n",
    "    def get_model_body(self):\n",
    "        self.layer_index = 0\n",
    "        inp = tf.keras.layers.Input(shape=(self.maxlen,),\n",
    "                                    name=self.layer_name(\"input\"))\n",
    "        x = tf.keras.layers.Embedding(self.num_words, self.embedding_dim,\n",
    "                                      name=self.layer_name(\"embed\"))(inp)\n",
    "        x = tf.keras.layers.GRU(128, return_sequences=True,\n",
    "                                name=self.layer_name(\"gru\"))(x)\n",
    "        x = tf.keras.layers.Dropout(0.3, name=self.layer_name(\"dropout\"))(x)\n",
    "        x = tf.keras.layers.GlobalAveragePooling1D(name=self.layer_name(\"batchnorm\"))(x)\n",
    "        x = tf.keras.layers.Dense(256, activation='relu', name=self.layer_name(\"dense\"))(x)\n",
    "        x = tf.keras.layers.Dropout(0.3, name=self.layer_name(\"dropout\"))(x)\n",
    "        return inp, x\n",
    "\n",
    "    def preprocess_X_train(self, off_start, off_end, input_file=None):\n",
    "        X_train = get_X_text(input_file)[off_start:off_end]\n",
    "        self.tokenizer.fit_on_texts(X_train)\n",
    "        self.word2idx = self.tokenizer.word_index\n",
    "        self.idx2word = self.tokenizer.index_word\n",
    "        self.vocab_size = self.tokenizer.num_words\n",
    "        \n",
    "        X_train = self.tokenizer.texts_to_sequences(X_train)\n",
    "        X_train = tf.keras.preprocessing.sequence.pad_sequences(X_train,\n",
    "                                                                maxlen=self.maxlen,\n",
    "                                                                padding='post')\n",
    "        return X_train\n",
    "\n",
    "    def preprocess_X_test(self, off_start, off_end, input_file=None):\n",
    "        X_test = get_X_text(input_file)[off_start:off_end]\n",
    "        X_test = self.tokenizer.texts_to_sequences(X_test)\n",
    "        X_test = tf.keras.preprocessing.sequence.pad_sequences(X_test,\n",
    "                                                               maxlen=self.maxlen,\n",
    "                                                               padding='post')\n",
    "\n",
    "        return X_test\n",
    "\n",
    "    def fit(self, off_start, off_val, off_end, input_file=None):\n",
    "\n",
    "        X_train = self.preprocess_X_train(off_start, off_val, input_file)\n",
    "        y_train = self.preprocess_y_train(off_start, off_val, input_file)\n",
    "\n",
    "        X_val = self.preprocess_X_test(off_val, off_end, input_file)\n",
    "        y_val = self.preprocess_y_train(off_val, off_end, input_file)\n",
    "\n",
    "        self.model = self.get_model()\n",
    "        \n",
    "        return self.compile_and_train_gen(X_train, y_train, X_val, y_val, optimizer='adam',\n",
    "                                         epochs=50, patience_stop=8, patience_lr=3,\n",
    "                                          class_weight=[])"
   ]
  },
  {
   "cell_type": "code",
   "execution_count": 39,
   "id": "3bed11f8",
   "metadata": {},
   "outputs": [
    {
     "name": "stdout",
     "output_type": "stream",
     "text": [
      "++ [20h51mn] EmbedRNN: Evaluation avec 84916 échantillons\n",
      "++ [20h51mn] EmbedRNN: fit(): Début\n",
      "Epoch 1/50\n",
      "1805/1805 [==============================] - 390s 215ms/step - loss: 1.5638 - accuracy: 0.5239 - val_loss: 0.8156 - val_accuracy: 0.7560\n",
      "Epoch 2/50\n",
      "1805/1805 [==============================] - 387s 214ms/step - loss: 0.6223 - accuracy: 0.8151 - val_loss: 0.6466 - val_accuracy: 0.8093\n",
      "Epoch 3/50\n",
      "1805/1805 [==============================] - 387s 214ms/step - loss: 0.3368 - accuracy: 0.8982 - val_loss: 0.6733 - val_accuracy: 0.8156\n",
      "Epoch 4/50\n",
      "1805/1805 [==============================] - 386s 214ms/step - loss: 0.1897 - accuracy: 0.9427 - val_loss: 0.7434 - val_accuracy: 0.8099\n",
      "Epoch 5/50\n",
      "1805/1805 [==============================] - 387s 215ms/step - loss: 0.1167 - accuracy: 0.9644 - val_loss: 0.9055 - val_accuracy: 0.8116\n",
      "\n",
      "Epoch 00005: ReduceLROnPlateau reducing learning rate to 0.00010000000474974513.\n",
      "Epoch 6/50\n",
      "1805/1805 [==============================] - 390s 216ms/step - loss: 0.0516 - accuracy: 0.9838 - val_loss: 1.0160 - val_accuracy: 0.8103\n",
      "Epoch 7/50\n",
      "1805/1805 [==============================] - 385s 213ms/step - loss: 0.0372 - accuracy: 0.9880 - val_loss: 1.1056 - val_accuracy: 0.8116\n",
      "Epoch 8/50\n",
      "1805/1805 [==============================] - 389s 215ms/step - loss: 0.0298 - accuracy: 0.9906 - val_loss: 1.1718 - val_accuracy: 0.8090\n",
      "\n",
      "Epoch 00008: ReduceLROnPlateau reducing learning rate to 1.0000000474974514e-05.\n",
      "Epoch 9/50\n",
      "1805/1805 [==============================] - 386s 214ms/step - loss: 0.0237 - accuracy: 0.9924 - val_loss: 1.1858 - val_accuracy: 0.8093\n",
      "Epoch 10/50\n",
      "1805/1805 [==============================] - 387s 214ms/step - loss: 0.0223 - accuracy: 0.9929 - val_loss: 1.1997 - val_accuracy: 0.8091\n",
      "Restoring model weights from the end of the best epoch.\n",
      "Epoch 00010: early stopping\n"
     ]
    },
    {
     "data": {
      "image/png": "[encoded data removed]",
      "text/plain": [
       "<Figure size 1080x216 with 2 Axes>"
      ]
     },
     "metadata": {
      "needs_background": "light"
     },
     "output_type": "display_data"
    },
    {
     "name": "stdout",
     "output_type": "stream",
     "text": [
      "++ [21h56mn] EmbedRNN: fit(): Fin\n",
      "\n",
      "++ [21h56mn] EmbedRNN: predict(): Début\n",
      "531/531 [==============================] - 10s 19ms/step\n",
      "++ [21h56mn] EmbedRNN: predict(): Fin\n",
      "\n",
      "++ [21h56mn] EmbedRNN: w-f1-score = \u001b[1m0.8074\u001b[0m\n",
      "\n",
      "              precision    recall  f1-score   support\n",
      "\n",
      "          10       0.51      0.60      0.55       652\n",
      "        1140       0.71      0.77      0.74       541\n",
      "        1160       0.90      0.93      0.91       815\n",
      "        1180       0.76      0.45      0.57       140\n",
      "        1280       0.74      0.69      0.71       956\n",
      "        1281       0.52      0.57      0.54       399\n",
      "        1300       0.96      0.94      0.95      1051\n",
      "        1301       0.94      0.87      0.90       168\n",
      "        1302       0.83      0.75      0.79       497\n",
      "        1320       0.70      0.80      0.75       683\n",
      "        1560       0.82      0.82      0.82       993\n",
      "        1920       0.92      0.88      0.90       841\n",
      "        1940       0.73      0.84      0.78       147\n",
      "        2060       0.84      0.73      0.78      1031\n",
      "        2220       0.77      0.76      0.76       147\n",
      "        2280       0.82      0.83      0.83       921\n",
      "        2403       0.73      0.80      0.76       972\n",
      "        2462       0.59      0.83      0.69       282\n",
      "        2522       0.89      0.93      0.91       988\n",
      "        2582       0.83      0.63      0.72       509\n",
      "        2583       0.95      0.98      0.96      1987\n",
      "        2585       0.73      0.86      0.79       499\n",
      "        2705       0.78      0.66      0.71       559\n",
      "        2905       0.99      0.98      0.98       162\n",
      "          40       0.68      0.60      0.64       535\n",
      "          50       0.86      0.69      0.76       353\n",
      "          60       0.92      0.77      0.84       156\n",
      "\n",
      "    accuracy                           0.81     16984\n",
      "   macro avg       0.79      0.78      0.78     16984\n",
      "weighted avg       0.81      0.81      0.81     16984\n",
      "\n",
      "++ [21h56mn] EmbedRNN: 3271 mauvaises prédictions: modele_rakuten_out\\EmbedRNN_84916_bad_predictions.csv\n",
      "++ [21h56mn] EmbedRNN: Evaluation exécutée en 1h5mn\n",
      "++ [21h56mn] EmbedRNN: Modèle sauvegardé dans modele_rakuten_out\\EmbedRNN_84916_model.hdf5\n",
      "++ [21h56mn] EmbedRNN: Objet complet sauvegardé dans modele_rakuten_out\\EmbedRNN_84916_object.pkl\n"
     ]
    }
   ],
   "source": [
    "EmbedRNN().evaluate(NB_ECHANTILLONS)"
   ]
  },
  {
   "cell_type": "code",
   "execution_count": 3,
   "id": "457cceb0",
   "metadata": {},
   "outputs": [],
   "source": [
    "class Multilingu(RakutenBaseModel):\n",
    "    \"\"\"\n",
    "    Utilisation d'un modèle texte pré-entrainé (Multilingual-large) pour obtenir\n",
    "    des vecteurs d'embedding.\n",
    "    La fonction get_X_text_embed_multilingual() retourne ces vecteurs. Les plongements\n",
    "    des phrases sont effectués lors de la première exécution et stocké dans un fichier\n",
    "    qui est simplement lu par la suite.\n",
    "    Pour utiliser ce mdèle il faut télécharger \n",
    "           https://tfhub.dev/google/universal-sentence-encoder-multilingual-large/3\n",
    "    et l'extraire en tant que tfhub/universal-sentence-encoder-multilingual-large-3\n",
    "    \"\"\"\n",
    "    def __init__(self, nb=None):\n",
    "        super().__init__(self.__class__.__name__, nb)\n",
    "        if not hasattr(self, \"std\"):\n",
    "            # Appel pour la création du modèle\n",
    "            self.embedding_length = 512 # Défini par le modèle Multilingual/large\n",
    "            self.std = StandardScaler()\n",
    "\n",
    "    def get_model_body(self):\n",
    "        self.layer_index = 0\n",
    "        inp = tf.keras.layers.Input(shape=(self.embedding_length,),\n",
    "                                    name=self.layer_name(\"input\"))\n",
    "        x = tf.keras.layers.BatchNormalization(name=self.layer_name(\"batchnorm\"))(inp)\n",
    "        x = tf.keras.layers.Dense(200, activation='relu', name=self.layer_name(\"dense\"))(x)\n",
    "        x = tf.keras.layers.Dropout(0.4, name=self.layer_name(\"dropout\"))(x)\n",
    "#        x = tf.keras.layers.Dense(100, activation='relu', name=self.layer_name(\"dense\"))(x)\n",
    "#        x = tf.keras.layers.Dropout(0.4, name=self.layer_name(\"dropout\"))(x)\n",
    "        return inp, x\n",
    "\n",
    "    def preprocess_X_train(self, off_start, off_end, input_file=None):\n",
    "        X_train = get_X_text_embed_multilingual(input_file)[off_start:off_end]\n",
    "        X_train = self.std.fit_transform(X_train)\n",
    "        return X_train\n",
    "\n",
    "    def preprocess_X_test(self, off_start, off_end, input_file=None):\n",
    "        X_test = get_X_text_embed_multilingual(input_file)[off_start:off_end]\n",
    "        X_test = self.std.transform(X_test)\n",
    "        return X_test\n",
    "\n",
    "    def fit(self, off_start, off_val, off_end, input_file=None):\n",
    "\n",
    "        X_train = self.preprocess_X_train(off_start, off_val, input_file)\n",
    "        y_train = self.preprocess_y_train(off_start, off_val, input_file)\n",
    "\n",
    "        X_val = self.preprocess_X_test(off_val, off_end, input_file)\n",
    "        y_val = self.preprocess_y_train(off_val, off_end, input_file)\n",
    "\n",
    "        self.model = self.get_model()\n",
    "        \n",
    "        return self.compile_and_train_gen(X_train, y_train, X_val, y_val, optimizer='adam',\n",
    "                                         epochs=50, patience_stop=7, patience_lr=3)\n"
   ]
  },
  {
   "cell_type": "code",
   "execution_count": 9,
   "id": "b9256673",
   "metadata": {},
   "outputs": [
    {
     "name": "stdout",
     "output_type": "stream",
     "text": [
      "++ [08h13mn] Multilingu: Evaluation avec 84916 échantillons\n",
      "++ [08h13mn] Multilingu: fit(): Début\n",
      "Epoch 1/50\n",
      "1805/1805 [==============================] - 8s 4ms/step - loss: 1.0750 - accuracy: 0.6807 - val_loss: 0.7463 - val_accuracy: 0.7660\n",
      "Epoch 2/50\n",
      "1805/1805 [==============================] - 7s 4ms/step - loss: 0.8065 - accuracy: 0.7503 - val_loss: 0.7034 - val_accuracy: 0.7813\n",
      "Epoch 3/50\n",
      "1805/1805 [==============================] - 7s 4ms/step - loss: 0.7379 - accuracy: 0.7683 - val_loss: 0.6686 - val_accuracy: 0.7943\n",
      "Epoch 4/50\n",
      "1805/1805 [==============================] - 7s 4ms/step - loss: 0.6992 - accuracy: 0.7766 - val_loss: 0.6724 - val_accuracy: 0.7867\n",
      "Epoch 5/50\n",
      "1805/1805 [==============================] - 7s 4ms/step - loss: 0.6664 - accuracy: 0.7851 - val_loss: 0.6716 - val_accuracy: 0.7943\n",
      "Epoch 6/50\n",
      "1805/1805 [==============================] - 7s 4ms/step - loss: 0.6379 - accuracy: 0.7934 - val_loss: 0.6593 - val_accuracy: 0.7975\n",
      "Epoch 7/50\n",
      "1805/1805 [==============================] - 6s 4ms/step - loss: 0.6159 - accuracy: 0.8000 - val_loss: 0.6589 - val_accuracy: 0.7968\n",
      "Epoch 8/50\n",
      "1805/1805 [==============================] - 6s 4ms/step - loss: 0.5939 - accuracy: 0.8035 - val_loss: 0.6707 - val_accuracy: 0.7960\n",
      "Epoch 9/50\n",
      "1805/1805 [==============================] - 7s 4ms/step - loss: 0.5763 - accuracy: 0.8085 - val_loss: 0.6679 - val_accuracy: 0.8006\n",
      "Epoch 10/50\n",
      "1805/1805 [==============================] - 7s 4ms/step - loss: 0.5676 - accuracy: 0.8097 - val_loss: 0.6721 - val_accuracy: 0.7984\n",
      "\n",
      "Epoch 00010: ReduceLROnPlateau reducing learning rate to 0.00010000000474974513.\n",
      "Epoch 11/50\n",
      "1805/1805 [==============================] - 7s 4ms/step - loss: 0.4966 - accuracy: 0.8315 - val_loss: 0.6582 - val_accuracy: 0.8061\n",
      "Epoch 12/50\n",
      "1805/1805 [==============================] - 6s 4ms/step - loss: 0.4708 - accuracy: 0.8393 - val_loss: 0.6550 - val_accuracy: 0.8076\n",
      "Epoch 13/50\n",
      "1805/1805 [==============================] - 6s 4ms/step - loss: 0.4617 - accuracy: 0.8444 - val_loss: 0.6537 - val_accuracy: 0.8093\n",
      "Epoch 14/50\n",
      "1805/1805 [==============================] - 6s 4ms/step - loss: 0.4500 - accuracy: 0.8463 - val_loss: 0.6534 - val_accuracy: 0.8092\n",
      "Epoch 15/50\n",
      "1805/1805 [==============================] - 6s 4ms/step - loss: 0.4453 - accuracy: 0.8490 - val_loss: 0.6518 - val_accuracy: 0.8084\n",
      "Epoch 16/50\n",
      "1805/1805 [==============================] - 6s 4ms/step - loss: 0.4365 - accuracy: 0.8505 - val_loss: 0.6560 - val_accuracy: 0.8101\n",
      "Epoch 17/50\n",
      "1805/1805 [==============================] - 6s 4ms/step - loss: 0.4306 - accuracy: 0.8524 - val_loss: 0.6555 - val_accuracy: 0.8109\n",
      "Epoch 18/50\n",
      "1805/1805 [==============================] - 6s 4ms/step - loss: 0.4269 - accuracy: 0.8531 - val_loss: 0.6559 - val_accuracy: 0.8084\n",
      "\n",
      "Epoch 00018: ReduceLROnPlateau reducing learning rate to 1.0000000474974514e-05.\n",
      "Epoch 19/50\n",
      "1805/1805 [==============================] - 6s 4ms/step - loss: 0.4171 - accuracy: 0.8584 - val_loss: 0.6575 - val_accuracy: 0.8091\n",
      "Epoch 20/50\n",
      "1805/1805 [==============================] - 6s 4ms/step - loss: 0.4199 - accuracy: 0.8552 - val_loss: 0.6566 - val_accuracy: 0.8095\n",
      "Epoch 21/50\n",
      "1805/1805 [==============================] - 6s 4ms/step - loss: 0.4150 - accuracy: 0.8585 - val_loss: 0.6552 - val_accuracy: 0.8104\n",
      "\n",
      "Epoch 00021: ReduceLROnPlateau reducing learning rate to 1.0000000656873453e-06.\n",
      "Epoch 22/50\n",
      "1805/1805 [==============================] - 6s 4ms/step - loss: 0.4193 - accuracy: 0.8556 - val_loss: 0.6571 - val_accuracy: 0.8111\n",
      "Restoring model weights from the end of the best epoch.\n",
      "Epoch 00022: early stopping\n"
     ]
    },
    {
     "data": {
      "image/png": "[encoded data removed]",
      "text/plain": [
       "<Figure size 1080x216 with 2 Axes>"
      ]
     },
     "metadata": {
      "needs_background": "light"
     },
     "output_type": "display_data"
    },
    {
     "name": "stdout",
     "output_type": "stream",
     "text": [
      "++ [08h16mn] Multilingu: fit(): Fin\n",
      "\n",
      "++ [08h16mn] Multilingu: predict(): Début\n",
      "531/531 [==============================] - 1s 875us/step\n",
      "++ [08h16mn] Multilingu: predict(): Fin\n",
      "\n",
      "++ [08h16mn] Multilingu: w-f1-score = \u001b[1m0.8014\u001b[0m\n",
      "\n",
      "              precision    recall  f1-score   support\n",
      "\n",
      "          10       0.58      0.60      0.59       652\n",
      "        1140       0.73      0.72      0.73       541\n",
      "        1160       0.91      0.92      0.92       815\n",
      "        1180       0.65      0.60      0.62       140\n",
      "        1280       0.61      0.60      0.61       956\n",
      "        1281       0.65      0.48      0.55       399\n",
      "        1300       0.82      0.93      0.87      1051\n",
      "        1301       0.95      0.82      0.88       168\n",
      "        1302       0.72      0.76      0.74       497\n",
      "        1320       0.75      0.73      0.74       683\n",
      "        1560       0.77      0.76      0.77       993\n",
      "        1920       0.88      0.88      0.88       841\n",
      "        1940       0.90      0.91      0.91       147\n",
      "        2060       0.80      0.76      0.78      1031\n",
      "        2220       0.84      0.80      0.82       147\n",
      "        2280       0.84      0.84      0.84       921\n",
      "        2403       0.74      0.83      0.78       972\n",
      "        2462       0.80      0.79      0.80       282\n",
      "        2522       0.88      0.89      0.88       988\n",
      "        2582       0.72      0.68      0.70       509\n",
      "        2583       0.96      0.97      0.96      1987\n",
      "        2585       0.80      0.80      0.80       499\n",
      "        2705       0.78      0.73      0.75       559\n",
      "        2905       0.98      0.99      0.98       162\n",
      "          40       0.73      0.68      0.71       535\n",
      "          50       0.82      0.86      0.84       353\n",
      "          60       0.95      0.86      0.90       156\n",
      "\n",
      "    accuracy                           0.80     16984\n",
      "   macro avg       0.80      0.79      0.79     16984\n",
      "weighted avg       0.80      0.80      0.80     16984\n",
      "\n",
      "++ [08h16mn] Multilingu: 3350 mauvaises prédictions: modele_rakuten_out\\Multilingu_84916_bad_predictions.csv\n",
      "++ [08h16mn] Multilingu: Evaluation exécutée en 0h2mn\n",
      "++ [08h16mn] Multilingu: Modèle sauvegardé dans modele_rakuten_out\\Multilingu_84916_model.hdf5\n",
      "++ [08h16mn] Multilingu: Objet complet sauvegardé dans modele_rakuten_out\\Multilingu_84916_object.pkl\n"
     ]
    }
   ],
   "source": [
    "Multilingu().evaluate(NB_ECHANTILLONS)"
   ]
  },
  {
   "cell_type": "code",
   "execution_count": 4,
   "id": "962163b9",
   "metadata": {},
   "outputs": [],
   "source": [
    "class NPDataset(tf.keras.utils.Sequence):\n",
    "    \"\"\"\n",
    "    Générateur qui extrait les données (de type tableau numpy)\n",
    "    à partir d'un path de fichier (passer par un fichier évite\n",
    "    le risque de OOM avec les grosses matrices denses one hot)\n",
    "    \"\"\"\n",
    "    def __init__(self, batch_size,\n",
    "                 X, y=None, shuffle=False, random_state=1968):\n",
    "        nb = len(X)\n",
    "        self.y = y\n",
    "        self.batch_size = batch_size\n",
    "        self.batch_number = int(nb / batch_size)\n",
    "        self.batch_indexes = range(self.batch_number)\n",
    "        self.prefix = re.match(r'^(.*)_\\d+\\.npy$', X[0]).group(1)\n",
    "        if shuffle:\n",
    "            self.random_state = random_state\n",
    "            self.batch_indexes = sklearn.utils.shuffle(self.batch_indexes,\n",
    "                                                       random_state=random_state)\n",
    "        self.shuffle = shuffle\n",
    "\n",
    "    def __len__(self):\n",
    "        \"\"\" Retourne le nombre de batchs \"\"\"\n",
    "        return self.batch_number\n",
    "\n",
    "    def __getitem__(self, index):\n",
    "        index = self.batch_indexes[index]\n",
    "        X = []\n",
    "        for i in range(index*self.batch_size, (index+1)*self.batch_size):\n",
    "            f = f\"{self.prefix}_{i}.npy\"\n",
    "            with open(f, 'rb') as fd:\n",
    "                x = np.load(fd)\n",
    "                X.append(x)\n",
    "        X = np.array(X)\n",
    "        if self.y is None:\n",
    "            return X\n",
    "        else:\n",
    "            y = self.y[index*self.batch_size : (index+1)*self.batch_size]\n",
    "            return X, y\n",
    "\n",
    "    def on_epoch_end(self):\n",
    "        \"\"\" Changements effectués à chaque fin d'époque \"\"\"\n",
    "        if self.shuffle:\n",
    "            self.batch_indexes = sklearn.utils.shuffle(self.batch_indexes,\n",
    "                                                       random_state=self.random_state)\n",
    "        \n",
    "\n",
    "class TextOneHot(RakutenBaseModel):\n",
    "    \"\"\"\n",
    "    Mini modèle NN exécuté après un préprocessing des données effectué\n",
    "    avec un pipe sklearn TfidfVectorizer | SelectFromModel(LinearSVC)\n",
    "    \n",
    "    Il faut télécharger la base de donnée Spacy pour le français:\n",
    "                     python -m spacy download fr_core_news_sm\n",
    "    Les textes sont tokenizés et lemattisés en utilisant Spacy, la fonction\n",
    "    get_X_text_spacy_lemma() retourne ces textes préprocessés en les lisant\n",
    "    dans un fichier qui est construit lors de la première utilisation.\n",
    "    \"\"\"\n",
    "    def __init__(self, nb=None):\n",
    "        super().__init__(self.__class__.__name__, nb)\n",
    "        if not hasattr(self, \"select\"):\n",
    "            # Appel pour la création du modèle\n",
    "            self.privatedir = os.path.join(OUTDIR, self.name)\n",
    "            self.maxfeatures = 50000 # Nombre de features selectionnées par SVC\n",
    "            self.select = make_pipeline(\n",
    "                TfidfVectorizer(analyzer='word',\n",
    "                  #strip_accents='ascii',\n",
    "                  #stop_words=french_stop_words, \n",
    "                  #    tokenizer=tokenize_spacy, # les données sont déjà tokenizées\n",
    "                  preprocessor=' '.join,\n",
    "                  lowercase=False,\n",
    "                  stop_words=None,\n",
    "                  max_df=0.8,\n",
    "                  min_df=2,\n",
    "                  ngram_range=(1,2),\n",
    "                  use_idf=True,\n",
    "                  smooth_idf=True,\n",
    "                  sublinear_tf=False,\n",
    "                  binary=True,\n",
    " #                 max_features=30000,  moins rentable que celui de SelectFromModel \n",
    "                  ),\n",
    "                  SelectFromModel(LinearSVC(penalty=\"l2\", dual=True, C=0.8,\n",
    "                                            tol=1e-5, max_iter=4000),\n",
    "                                  max_features=self.maxfeatures))\n",
    "\n",
    "    def __flush_data_to_file(self, data, tag, off_start, off_end, input_file=None):\n",
    "        if not os.path.isdir(self.privatedir):\n",
    "            os.makedirs(self.privatedir)\n",
    "        filelist = []\n",
    "        for i in range(data.shape[0]):\n",
    "            f = os.path.join(self.privatedir,\n",
    "                             f\"{tag}_{off_start}_{off_end}_{i}.npy\")\n",
    "            with open(f, 'wb') as fd:\n",
    "                datum = data[i].toarray()[0]\n",
    "                np.save(fd, datum)\n",
    "            filelist.append(f)\n",
    "        return filelist\n",
    "    \n",
    "    def data_from_file(self, filepath):\n",
    "        \"\"\"\n",
    "        Méthode pour lire une donnée preprocessée à partir d'un fichier\n",
    "        et la retourner\n",
    "        \"\"\"\n",
    "        with open(filepath, 'rb') as fd:\n",
    "            datum = np.load(fd)\n",
    "        return datum\n",
    "\n",
    "#    def get_class_weight(self):\n",
    "#        indices = {int(self.fit_labels[i]):i for i in self.fit_labels}\n",
    "#        cw = {i: 1 for i in range(NB_CLASSES)}\n",
    "#        cw[indices[10]] = 2\n",
    "#        return cw\n",
    "\n",
    "    def get_model_body(self):\n",
    "        self.layer_index = 0\n",
    "        inp = tf.keras.layers.Input(shape=self.input_shape, name=self.layer_name(\"input\"))\n",
    "        x = inp\n",
    "        x = tf.keras.layers.Dense(90, activation='relu', name=self.layer_name(\"dense\"))(x)\n",
    "        x = tf.keras.layers.Dropout(0.5, name=self.layer_name(\"dropout\"))(x)\n",
    "        x = tf.keras.layers.BatchNormalization(name=self.layer_name(\"batchnorm\"))(x)\n",
    "        return inp, x\n",
    "\n",
    "    def preprocess_X_train(self, off_start, off_end, input_file=None):\n",
    "        y_train = get_y()[off_start:off_end]\n",
    "#            X_train = get_X_text(input_file)[off_start:off_end]\n",
    "        X_train = get_X_text_spacy_lemma(input_file)[off_start:off_end]\n",
    "        X_train = self.select.fit_transform(X_train, y_train)\n",
    "        self.input_shape = X_train.shape[1:]\n",
    "        self.prt(f\"Nombre de mots retenus = {self.input_shape[0]}\")\n",
    "        return self.__flush_data_to_file(X_train, \"train\", off_start, off_end)\n",
    "\n",
    "    def preprocess_X_test(self, off_start, off_end, input_file=None):\n",
    "#        X_test = get_X_text(input_file)[off_start:off_end]\n",
    "        X_test = get_X_text_spacy_lemma(input_file)[off_start:off_end]\n",
    "        X_test = self.select.transform(X_test)\n",
    "        return self.__flush_data_to_file(X_test, \"test\", off_start, off_end)\n",
    "\n",
    "    def fit(self, off_start, off_val, off_end, input_file=None):\n",
    "\n",
    "        X_train = self.preprocess_X_train(off_start, off_val, input_file)\n",
    "        y_train = self.preprocess_y_train(off_start, off_val, input_file)\n",
    "        trainds = NPDataset(self.batch_size, X_train, y_train, shuffle=True)\n",
    "\n",
    "        X_val = self.preprocess_X_test(off_val, off_end, input_file)\n",
    "        y_val = self.preprocess_y_train(off_val, off_end, input_file)\n",
    "        valds = NPDataset(self.batch_size, X_val, y_val, shuffle=True)\n",
    "\n",
    "        self.model = self.get_model()\n",
    "\n",
    "        return self.compile_and_train_dataset(trainds, valds,\n",
    "                                              optimizer=tf.keras.optimizers.Adam(lr=0.0001),\n",
    "                                              epochs=20,\n",
    "                                              patience_stop=6, patience_lr=3)\n",
    "\n",
    "    def predict(self, off_start, off_end, input_file=None):\n",
    "        X_test = self.preprocess_X_test(off_start, off_end, input_file)\n",
    "        testds = NPDataset(1, X_test, shuffle=False)\n",
    "        return self.model_predict(testds)"
   ]
  },
  {
   "cell_type": "code",
   "execution_count": 5,
   "id": "4250a15b",
   "metadata": {
    "scrolled": true
   },
   "outputs": [
    {
     "name": "stdout",
     "output_type": "stream",
     "text": [
      "++ [23h30mn] TextOneHot: Evaluation avec 84916 échantillons\n",
      "++ [23h31mn] TextOneHot: Nombre de mots retenus = 50000\n"
     ]
    },
    {
     "name": "stderr",
     "output_type": "stream",
     "text": [
      "C:\\Users\\Eric\\AppData\\Roaming\\Python\\Python37\\site-packages\\tensorflow\\python\\keras\\optimizer_v2\\optimizer_v2.py:375: UserWarning: The `lr` argument is deprecated, use `learning_rate` instead.\n",
      "  \"The `lr` argument is deprecated, use `learning_rate` instead.\")\n"
     ]
    },
    {
     "name": "stdout",
     "output_type": "stream",
     "text": [
      "++ [23h52mn] TextOneHot: fit(): Début\n",
      "Epoch 1/20\n",
      "1804/1804 [==============================] - 2914s 2s/step - loss: 1.6359 - accuracy: 0.6350 - val_loss: 0.8041 - val_accuracy: 0.8052\n",
      "Epoch 2/20\n",
      "1804/1804 [==============================] - 2320s 1s/step - loss: 0.6835 - accuracy: 0.8431 - val_loss: 0.5848 - val_accuracy: 0.8372\n",
      "Epoch 3/20\n",
      "1804/1804 [==============================] - 2223s 1s/step - loss: 0.3924 - accuracy: 0.9109 - val_loss: 0.5246 - val_accuracy: 0.8464\n",
      "Epoch 4/20\n",
      "1804/1804 [==============================] - 2321s 1s/step - loss: 0.2419 - accuracy: 0.9467 - val_loss: 0.5138 - val_accuracy: 0.8522\n",
      "Epoch 5/20\n",
      "1804/1804 [==============================] - 2237s 1s/step - loss: 0.1607 - accuracy: 0.9650 - val_loss: 0.5248 - val_accuracy: 0.8490\n",
      "Epoch 6/20\n",
      "1804/1804 [==============================] - 2293s 1s/step - loss: 0.1099 - accuracy: 0.9764 - val_loss: 0.5437 - val_accuracy: 0.8513\n",
      "Epoch 7/20\n",
      "1804/1804 [==============================] - 2551s 1s/step - loss: 0.0787 - accuracy: 0.9825 - val_loss: 0.5678 - val_accuracy: 0.8538\n",
      "\n",
      "Epoch 00007: ReduceLROnPlateau reducing learning rate to 9.999999747378752e-06.\n",
      "Epoch 8/20\n",
      "1804/1804 [==============================] - 2620s 1s/step - loss: 0.0569 - accuracy: 0.9889 - val_loss: 0.5717 - val_accuracy: 0.8526\n",
      "Epoch 9/20\n",
      "1804/1804 [==============================] - 2269s 1s/step - loss: 0.0548 - accuracy: 0.9892 - val_loss: 0.5737 - val_accuracy: 0.8531\n",
      "Epoch 10/20\n",
      "1804/1804 [==============================] - 2264s 1s/step - loss: 0.0502 - accuracy: 0.9905 - val_loss: 0.5777 - val_accuracy: 0.8519\n",
      "Restoring model weights from the end of the best epoch.\n",
      "\n",
      "Epoch 00010: ReduceLROnPlateau reducing learning rate to 9.999999747378752e-07.\n",
      "Epoch 00010: early stopping\n"
     ]
    },
    {
     "data": {
      "image/png": "[encoded data removed]",
      "text/plain": [
       "<Figure size 1080x216 with 2 Axes>"
      ]
     },
     "metadata": {
      "needs_background": "light"
     },
     "output_type": "display_data"
    },
    {
     "name": "stdout",
     "output_type": "stream",
     "text": [
      "++ [06h32mn] TextOneHot: fit(): Fin\n",
      "\n",
      "++ [06h37mn] TextOneHot: predict(): Début\n",
      "16984/16984 [==============================] - 224s 12ms/step\n",
      "++ [06h41mn] TextOneHot: predict(): Fin\n",
      "\n",
      "++ [06h41mn] TextOneHot: w-f1-score = \u001b[1m0.8456\u001b[0m\n",
      "\n",
      "              precision    recall  f1-score   support\n",
      "\n",
      "          10       0.56      0.65      0.60       652\n",
      "        1140       0.80      0.81      0.80       541\n",
      "        1160       0.95      0.95      0.95       815\n",
      "        1180       0.83      0.64      0.73       140\n",
      "        1280       0.72      0.75      0.73       956\n",
      "        1281       0.66      0.62      0.64       399\n",
      "        1300       0.95      0.95      0.95      1051\n",
      "        1301       0.99      0.90      0.94       168\n",
      "        1302       0.87      0.83      0.85       497\n",
      "        1320       0.89      0.85      0.87       683\n",
      "        1560       0.82      0.85      0.84       993\n",
      "        1920       0.92      0.93      0.92       841\n",
      "        1940       0.91      0.94      0.92       147\n",
      "        2060       0.81      0.81      0.81      1031\n",
      "        2220       0.91      0.83      0.87       147\n",
      "        2280       0.77      0.81      0.79       921\n",
      "        2403       0.78      0.78      0.78       972\n",
      "        2462       0.80      0.80      0.80       282\n",
      "        2522       0.94      0.93      0.93       988\n",
      "        2582       0.81      0.75      0.78       509\n",
      "        2583       0.98      0.99      0.98      1987\n",
      "        2585       0.86      0.88      0.87       499\n",
      "        2705       0.76      0.71      0.73       559\n",
      "        2905       0.99      0.98      0.98       162\n",
      "          40       0.77      0.69      0.73       535\n",
      "          50       0.84      0.87      0.85       353\n",
      "          60       0.97      0.87      0.92       156\n",
      "\n",
      "    accuracy                           0.85     16984\n",
      "   macro avg       0.85      0.83      0.84     16984\n",
      "weighted avg       0.85      0.85      0.85     16984\n",
      "\n",
      "++ [06h41mn] TextOneHot: 2628 mauvaises prédictions: modele_rakuten_out\\TextOneHot_84916_bad_predictions.csv\n",
      "++ [06h41mn] TextOneHot: Evaluation exécutée en 7h10mn\n",
      "++ [06h41mn] TextOneHot: Modèle sauvegardé dans modele_rakuten_out\\TextOneHot_84916_model.hdf5\n",
      "++ [06h41mn] TextOneHot: Objet complet sauvegardé dans modele_rakuten_out\\TextOneHot_84916_object.pkl\n"
     ]
    }
   ],
   "source": [
    "TextOneHot().evaluate(NB_ECHANTILLONS)"
   ]
  },
  {
   "cell_type": "code",
   "execution_count": 5,
   "id": "39e15730",
   "metadata": {},
   "outputs": [],
   "source": [
    "class EffNetB1(RakutenBaseModel):\n",
    "    \"\"\"\n",
    "    Modèle de transfert learning d'images avec EfficientNet et l'utilisation\n",
    "    d'un générateur d'images augmentées.\n",
    "    https://www.dlology.com/blog/transfer-learning-with-efficientnet/\n",
    "    Le modèle B5 a le format d'image (456x456) le plus proche de celles à\n",
    "    classer (500x500), il est plus performant que B1 (~0.87 versus ~0.85)\n",
    "    mais beaucoup plus coûteux en temps d'éxecution.\n",
    "    \"\"\"\n",
    "\n",
    "    def __init__(self, nb=None):\n",
    "        super().__init__(self.__class__.__name__, nb)\n",
    "        self.input_shape = (240, 240, 3) # Dépend du numéro x (EfficientNetBx)\n",
    "        self.preprocessing_function = None # Inclus dans le modèle\n",
    "        self.basetrainable = 8\n",
    "        self.epochs_freezed = 10\n",
    "        self.epochs_unfreezed = 20\n",
    "        self.batch_size = 32\n",
    "\n",
    "    def preprocess_X_train(self, off_start, off_end, input_file=None):\n",
    "        return get_X_image_path(input_file)[off_start:off_end]\n",
    "\n",
    "    def preprocess_X_test(self, off_start, off_end, input_file=None):\n",
    "        return get_X_image_path(input_file)[off_start:off_end]\n",
    "    \n",
    "    def data_from_file(self, filepath):\n",
    "        \"\"\"\n",
    "        Méthode pour lire une image à partir d'un fichier et la retourner\n",
    "        au bon format (adapté aux entrées du modèle modèle)\n",
    "        \"\"\"\n",
    "        img = cv2.imread(filepath)\n",
    "        img = cv2.resize(img, (240, 240), interpolation=cv2.INTER_CUBIC)\n",
    "        return img\n",
    "\n",
    "    def get_model_body(self):\n",
    "        self.layer_index = 0\n",
    "        self.basemodel = tf.keras.applications.EfficientNetB1(\n",
    "                                input_shape = self.input_shape,\n",
    "                                include_top = False,\n",
    "                                # drop_connect_rate=0.4,\n",
    "                                weights = 'imagenet')\n",
    "        inp = Input(shape=self.input_shape, name=\"input_\" + self.name)\n",
    "        x = self.basemodel(inp)\n",
    "        x = tf.keras.layers.GlobalAveragePooling2D()(x)\n",
    "        x = tf.keras.layers.Dense(1024, activation=\"relu\", name=self.layer_name(\"dense\"))(x)\n",
    "        x = tf.keras.layers.BatchNormalization(trainable = True,axis=1, name=self.layer_name(\"batchnorm\"))(x)\n",
    "        x = tf.keras.layers.Dropout(0.5, name=self.layer_name(\"dropout\"))(x)\n",
    "        x = tf.keras.layers.Dense(512, activation=\"relu\", name=self.layer_name(\"dense\"))(x)\n",
    "        x = tf.keras.layers.BatchNormalization(trainable = True, axis=1, name=self.layer_name(\"batchnorm\"))(x)\n",
    "        return inp, x\n",
    "\n",
    "    def __get_train_dataset(self, X_imagepaths, y_train):\n",
    "        df = pd.DataFrame({\"imgpath\": X_imagepaths, \"class\": y_train})\n",
    "        datagenerator = tf.keras.preprocessing.image.ImageDataGenerator(\n",
    "                                    validation_split = VALIDATION_SPLIT,\n",
    "                                    preprocessing_function = self.preprocessing_function,\n",
    "                                    rotation_range = 10,\n",
    "                                    width_shift_range = 0.1,\n",
    "                                    height_shift_range = 0.1,\n",
    "                                    zoom_range = 0.1,\n",
    "                                    brightness_range=[0.9, 1.1],\n",
    "                                    horizontal_flip = True\n",
    "                                    )\n",
    "        traingen = datagenerator.flow_from_dataframe(subset = 'training', dataframe=df,\n",
    "                                                     x_col=\"imgpath\", y_col=\"class\",\n",
    "                                                     class_mode=\"sparse\",\n",
    "                                                     target_size=(self.input_shape[0], self.input_shape[1]),\n",
    "                                                     batch_size=self.batch_size)\n",
    "        valgen = datagenerator.flow_from_dataframe(subset='validation',\n",
    "                                                   dataframe=df, x_col=\"imgpath\", y_col=\"class\",\n",
    "                                                   class_mode=\"sparse\",\n",
    "                                                   target_size=(self.input_shape[0], self.input_shape[1]),\n",
    "                                                   batch_size=self.batch_size)\n",
    "        return traingen, valgen\n",
    "\n",
    "    def __get_test_dataset(self, X_imagepaths):\n",
    "        df = pd.DataFrame({\"imgpath\": X_imagepaths,\n",
    "                           \"class\": [0 for _ in range(len(X_imagepaths))]})\n",
    "        testgen = tf.keras.preprocessing.image.ImageDataGenerator( \n",
    "                        preprocessing_function = self.preprocessing_function).flow_from_dataframe(\n",
    "                        dataframe=df, x_col=\"imgpath\", y_col=\"class\",\n",
    "                        class_mode=None, target_size=(self.input_shape[0], self.input_shape[1]),\n",
    "                        batch_size=1,\n",
    "                        shuffle = False)\n",
    "        return testgen\n",
    "\n",
    "    def fit(self, off_start, off_val, off_end, input_file=None):\n",
    "\n",
    "        self.prt(f\"Création des générateurs d'images\")\n",
    "        X_imgpaths = get_X_image_path(input_file)[off_start:off_end]\n",
    "        y_train = get_y()[off_start:off_end]\n",
    "        traingen, valgen = self.__get_train_dataset(X_imgpaths, y_train)\n",
    "        self.fit_labels = dict((v,k) for k,v in (traingen.class_indices).items())\n",
    "\n",
    "        self.model = self.get_model()\n",
    "        \n",
    "        self.prt(f\"Congélation des layers du modèle de base et entrainement\")\n",
    "        for layer in self.basemodel.layers:\n",
    "            layer.trainable = False\n",
    "        history = self.compile_and_train_dataset(traingen, valgen,\n",
    "                                         optimizer=tf.keras.optimizers.Adam(lr=0.01),\n",
    "                                         epochs=self.epochs_freezed)\n",
    "        if self.basetrainable > 0:\n",
    "            self.prt(f\"Décongélation des {self.basetrainable} derniers layers et entrainement\")\n",
    "            for layer in self.basemodel.layers[-self.basetrainable:]:\n",
    "                if not isinstance(layer, tf.keras.layers.BatchNormalization):\n",
    "                    layer.trainable = True\n",
    "            self.compile_and_train_dataset(traingen, valgen,\n",
    "                                   optimizer=tf.keras.optimizers.Adam(lr=0.00008),\n",
    "                                    patience_lr=3,\n",
    "                                   epochs=self.epochs_unfreezed)\n",
    "        self.prt(\"Entrainement terminé\")\n",
    "        return history\n",
    "\n",
    "    def predict(self, off_start, off_end, input_file=None):\n",
    "        X_test = self.preprocess_X_test(off_start, off_end, input_file)\n",
    "        testgen = self.__get_test_dataset(X_test)\n",
    "        return self.model_predict(testgen)\n"
   ]
  },
  {
   "cell_type": "code",
   "execution_count": 34,
   "id": "93cb1188",
   "metadata": {},
   "outputs": [
    {
     "name": "stdout",
     "output_type": "stream",
     "text": [
      "++ [10h20mn] EffNetB1: Evaluation avec 84916 échantillons\n",
      "++ [10h20mn] EffNetB1: Création des générateurs d'images\n",
      "Found 57743 validated image filenames belonging to 27 classes.\n",
      "Found 10189 validated image filenames belonging to 27 classes.\n",
      "++ [10h21mn] EffNetB1: Congélation des layers du modèle de base et entrainement\n",
      "++ [10h21mn] EffNetB1: fit(): Début\n"
     ]
    },
    {
     "name": "stderr",
     "output_type": "stream",
     "text": [
      "C:\\Users\\Eric\\AppData\\Roaming\\Python\\Python37\\site-packages\\tensorflow\\python\\keras\\optimizer_v2\\optimizer_v2.py:375: UserWarning: The `lr` argument is deprecated, use `learning_rate` instead.\n",
      "  \"The `lr` argument is deprecated, use `learning_rate` instead.\")\n"
     ]
    },
    {
     "name": "stdout",
     "output_type": "stream",
     "text": [
      "Epoch 1/10\n",
      "1805/1805 [==============================] - 1935s 1s/step - loss: 1.8378 - accuracy: 0.4703 - val_loss: 1.5670 - val_accuracy: 0.5361\n",
      "Epoch 2/10\n",
      "1805/1805 [==============================] - 1261s 698ms/step - loss: 1.6150 - accuracy: 0.5194 - val_loss: 1.5159 - val_accuracy: 0.5479\n",
      "Epoch 3/10\n",
      "1805/1805 [==============================] - 1242s 688ms/step - loss: 1.5526 - accuracy: 0.5371 - val_loss: 1.4811 - val_accuracy: 0.5604\n",
      "Epoch 4/10\n",
      "1805/1805 [==============================] - 1260s 698ms/step - loss: 1.5127 - accuracy: 0.5505 - val_loss: 1.4588 - val_accuracy: 0.5722\n",
      "Epoch 5/10\n",
      "1805/1805 [==============================] - 1278s 708ms/step - loss: 1.4683 - accuracy: 0.5599 - val_loss: 1.3819 - val_accuracy: 0.5880\n",
      "Epoch 6/10\n",
      "1805/1805 [==============================] - 1258s 697ms/step - loss: 1.4366 - accuracy: 0.5708 - val_loss: 1.3878 - val_accuracy: 0.5893\n",
      "Epoch 7/10\n",
      "1805/1805 [==============================] - 1203s 666ms/step - loss: 1.3978 - accuracy: 0.5805 - val_loss: 1.3747 - val_accuracy: 0.5960\n",
      "Epoch 8/10\n",
      "1805/1805 [==============================] - 1256s 696ms/step - loss: 1.3786 - accuracy: 0.5840 - val_loss: 1.3680 - val_accuracy: 0.5920\n",
      "Epoch 9/10\n",
      "1805/1805 [==============================] - 1243s 688ms/step - loss: 1.3455 - accuracy: 0.5940 - val_loss: 1.3756 - val_accuracy: 0.5983\n",
      "Epoch 10/10\n",
      "1805/1805 [==============================] - 1230s 681ms/step - loss: 1.3258 - accuracy: 0.5997 - val_loss: 1.3413 - val_accuracy: 0.6011\n"
     ]
    },
    {
     "data": {
      "image/png": "[encoded data removed]",
      "text/plain": [
       "<Figure size 1080x216 with 2 Axes>"
      ]
     },
     "metadata": {
      "needs_background": "light"
     },
     "output_type": "display_data"
    },
    {
     "name": "stdout",
     "output_type": "stream",
     "text": [
      "++ [14h00mn] EffNetB1: fit(): Fin\n",
      "\n",
      "++ [14h00mn] EffNetB1: Décongélation des 8 derniers layers et entrainement\n",
      "++ [14h00mn] EffNetB1: fit(): Début\n",
      "Epoch 1/15\n",
      "1805/1805 [==============================] - 1307s 719ms/step - loss: 1.2001 - accuracy: 0.6323 - val_loss: 1.2564 - val_accuracy: 0.6248\n",
      "Epoch 2/15\n",
      "1805/1805 [==============================] - 1238s 686ms/step - loss: 1.1391 - accuracy: 0.6492 - val_loss: 1.2362 - val_accuracy: 0.6283\n",
      "Epoch 3/15\n",
      "1805/1805 [==============================] - 1280s 709ms/step - loss: 1.0988 - accuracy: 0.6609 - val_loss: 1.2291 - val_accuracy: 0.6345\n",
      "Epoch 4/15\n",
      "1805/1805 [==============================] - 1302s 721ms/step - loss: 1.0618 - accuracy: 0.6698 - val_loss: 1.2194 - val_accuracy: 0.6368\n",
      "Epoch 5/15\n",
      "1805/1805 [==============================] - 1324s 733ms/step - loss: 1.0389 - accuracy: 0.6775 - val_loss: 1.2174 - val_accuracy: 0.6396\n",
      "Epoch 6/15\n",
      "1805/1805 [==============================] - 1323s 733ms/step - loss: 1.0005 - accuracy: 0.6868 - val_loss: 1.2016 - val_accuracy: 0.6446\n",
      "Epoch 7/15\n",
      "1805/1805 [==============================] - 1322s 733ms/step - loss: 0.9844 - accuracy: 0.6931 - val_loss: 1.2015 - val_accuracy: 0.6440\n",
      "Epoch 8/15\n",
      "1805/1805 [==============================] - 1298s 719ms/step - loss: 0.9560 - accuracy: 0.7008 - val_loss: 1.2136 - val_accuracy: 0.6419\n",
      "Epoch 9/15\n",
      "1805/1805 [==============================] - 1239s 686ms/step - loss: 0.9299 - accuracy: 0.7077 - val_loss: 1.2020 - val_accuracy: 0.6438\n",
      "\n",
      "Epoch 00009: ReduceLROnPlateau reducing learning rate to 7.999999797903002e-06.\n",
      "Epoch 10/15\n",
      "1805/1805 [==============================] - 1160s 643ms/step - loss: 0.8927 - accuracy: 0.7196 - val_loss: 1.2008 - val_accuracy: 0.6453\n",
      "Epoch 11/15\n",
      "1805/1805 [==============================] - 1168s 647ms/step - loss: 0.8853 - accuracy: 0.7195 - val_loss: 1.2017 - val_accuracy: 0.6492\n",
      "Epoch 12/15\n",
      "1805/1805 [==============================] - 1166s 646ms/step - loss: 0.8782 - accuracy: 0.7233 - val_loss: 1.2012 - val_accuracy: 0.6465\n",
      "Epoch 13/15\n",
      "1805/1805 [==============================] - 1165s 645ms/step - loss: 0.8737 - accuracy: 0.7249 - val_loss: 1.2006 - val_accuracy: 0.6486\n",
      "Epoch 14/15\n",
      "1805/1805 [==============================] - 1160s 643ms/step - loss: 0.8685 - accuracy: 0.7254 - val_loss: 1.1974 - val_accuracy: 0.6523\n",
      "Epoch 15/15\n",
      "1805/1805 [==============================] - 1173s 650ms/step - loss: 0.8684 - accuracy: 0.7272 - val_loss: 1.1972 - val_accuracy: 0.6491\n"
     ]
    },
    {
     "data": {
      "image/png": "[encoded data removed]",
      "text/plain": [
       "<Figure size 1080x216 with 2 Axes>"
      ]
     },
     "metadata": {
      "needs_background": "light"
     },
     "output_type": "display_data"
    },
    {
     "name": "stdout",
     "output_type": "stream",
     "text": [
      "++ [19h11mn] EffNetB1: fit(): Fin\n",
      "\n",
      "++ [19h11mn] EffNetB1: Entrainement terminé\n",
      "Found 16984 validated image filenames.\n",
      "++ [19h11mn] EffNetB1: predict(): Début\n",
      "16984/16984 [==============================] - 541s 32ms/step\n",
      "++ [19h20mn] EffNetB1: predict(): Fin\n",
      "\n",
      "++ [19h20mn] EffNetB1: w-f1-score = \u001b[1m0.6473\u001b[0m\n",
      "\n",
      "              precision    recall  f1-score   support\n",
      "\n",
      "          10       0.53      0.63      0.57       652\n",
      "        1140       0.65      0.67      0.66       541\n",
      "        1160       0.89      0.93      0.91       815\n",
      "        1180       0.45      0.36      0.40       140\n",
      "        1280       0.47      0.45      0.46       956\n",
      "        1281       0.42      0.23      0.30       399\n",
      "        1300       0.70      0.79      0.74      1051\n",
      "        1301       0.69      0.69      0.69       168\n",
      "        1302       0.56      0.47      0.51       497\n",
      "        1320       0.54      0.49      0.52       683\n",
      "        1560       0.62      0.57      0.59       993\n",
      "        1920       0.76      0.83      0.79       841\n",
      "        1940       0.71      0.74      0.73       147\n",
      "        2060       0.57      0.57      0.57      1031\n",
      "        2220       0.61      0.43      0.50       147\n",
      "        2280       0.68      0.78      0.72       921\n",
      "        2403       0.71      0.62      0.66       972\n",
      "        2462       0.67      0.47      0.55       282\n",
      "        2522       0.68      0.72      0.70       988\n",
      "        2582       0.53      0.41      0.46       509\n",
      "        2583       0.79      0.88      0.83      1987\n",
      "        2585       0.52      0.49      0.51       499\n",
      "        2705       0.73      0.76      0.74       559\n",
      "        2905       0.52      0.82      0.64       162\n",
      "          40       0.59      0.56      0.57       535\n",
      "          50       0.54      0.36      0.43       353\n",
      "          60       0.61      0.79      0.69       156\n",
      "\n",
      "    accuracy                           0.65     16984\n",
      "   macro avg       0.62      0.61      0.61     16984\n",
      "weighted avg       0.65      0.65      0.65     16984\n",
      "\n",
      "++ [19h20mn] EffNetB1: 5867 mauvaises prédictions: modele_rakuten_out\\EffNetB1_84916_bad_predictions.csv\n",
      "++ [19h20mn] EffNetB1: Evaluation exécutée en 8h59mn\n"
     ]
    },
    {
     "name": "stderr",
     "output_type": "stream",
     "text": [
      "C:\\Users\\Eric\\AppData\\Roaming\\Python\\Python37\\site-packages\\tensorflow\\python\\keras\\utils\\generic_utils.py:497: CustomMaskWarning: Custom mask layers require a config and must override get_config. When loading, the custom mask layer must be passed to the custom_objects argument.\n",
      "  category=CustomMaskWarning)\n"
     ]
    },
    {
     "name": "stdout",
     "output_type": "stream",
     "text": [
      "++ [19h20mn] EffNetB1: Modèle sauvegardé dans modele_rakuten_out\\EffNetB1_84916_model.hdf5\n",
      "Pas de sauvegarde de  basemodel\n",
      "++ [19h20mn] EffNetB1: Objet complet sauvegardé dans modele_rakuten_out\\EffNetB1_84916_object.pkl\n"
     ]
    }
   ],
   "source": [
    "#https://keras.io/examples/vision/image_classification_efficientnet_fine_tuning/\n",
    "EffNetB1().evaluate(NB_ECHANTILLONS)"
   ]
  },
  {
   "cell_type": "code",
   "execution_count": 6,
   "id": "4ef7c142",
   "metadata": {},
   "outputs": [],
   "source": [
    "class CatModel(RakutenCatModel):\n",
    "    \"\"\"\n",
    "    Modèle qui concatene plusieurs modèles de base. ceux ci sont\n",
    "    listés et instanciées dans self.objs. le paramètre nb permet\n",
    "    de corréler les fichiers créés par les modèles de base et le\n",
    "    modèle de concaténation, ils ont tous le même nb (en pratique\n",
    "    il s'agit du nombre d'échantillons utilisés).\n",
    "    \n",
    "    Le modèle utilise un layer Keras concatenate après appel des\n",
    "    méthodes get_model_body() de chaque modèle de base afin de\n",
    "    récupérer l'architecture des layers de ces modèles.\n",
    "    \n",
    "         +----------+  +----------+  +----------+\n",
    "         | modèle A |  | modèle B |  | modèle C |\n",
    "         +-----+----+  +-----+----+  +-----+----+\n",
    "               |             |             |\n",
    "               +-------+     |    +--------+\n",
    "                       |     |    |\n",
    "                    +--v-----v----v--+\n",
    "                    |   concatenate  |\n",
    "                    +--------+-------+\n",
    "                             |\n",
    "                    +--------v-------+\n",
    "                    |  top layerss   |\n",
    "                    +----------------+\n",
    "                    \n",
    "    Une fois le modèle compilé, les poids des layers de bases sont\n",
    "    initialisés avec ceux des objets modèles de base, grace à la\n",
    "    méthode copy_submodules_weights().\n",
    "    \"\"\"\n",
    "    def config(self, nb):\n",
    "        \"\"\" Déclaration des modèles de base utilisés \"\"\"\n",
    "        if not hasattr(self, \"objs\") and nb is not None:\n",
    "            self.objs = [\n",
    "                         EmbedRNN(nb),\n",
    "                         TextOneHot(nb),\n",
    "                         Multilingu(nb),\n",
    "                         EffNetB1(nb)\n",
    "                        ]\n",
    "\n",
    "    def __init__(self, nb=None):\n",
    "        super().__init__(self.__class__.__name__, nb)\n",
    "\n",
    "        self.config(nb)\n",
    "        \n",
    "    def fit(self, off_start, off_val, off_end, input_file=None):\n",
    "        \"\"\"\n",
    "        Entrainement du modèle sur l'intervalle des données spécifié par\n",
    "        off_start et off_end (offsets dans les fichiers de data).\n",
    "        \"\"\"\n",
    "\n",
    "        self.prt(f'Chargements des modèles référencés \"{self.nb}\"')\n",
    "        self.config(self.nb)\n",
    "\n",
    "        # Générateurs qui alimenteront fit() avec les données train & val\n",
    "        traingen, valgen = self.create_train_generators(off_start, off_val, off_end, input_file)\n",
    "        \n",
    "        self.prt(f\"Création du modèle\")\n",
    "        # Récupèration des inputs et des outputs de chaque modèle de base\n",
    "        # pour construire le modèle concatenate\n",
    "        inputtensors, outputtensors = [], []\n",
    "        for obj in self.objs:\n",
    "            inp, outp = obj.get_model_body()\n",
    "            inputtensors.append(inp)\n",
    "            outputtensors.append(outp)\n",
    "        \n",
    "        self.layer_index = 0 # compteur utilisé dans get_model_body()\n",
    "        \n",
    "        tensors = outputtensors\n",
    "#        outputtensors = []\n",
    "#        for x in tensors:\n",
    "#            x = BatchNormalization(name=self.layer_name(\"batchnorm\"))(x)\n",
    "#            x = Dense(128, activation='relu', name=self.layer_name(\"dense\"))(x)\n",
    "#            outputtensors.append(x)\n",
    "\n",
    "        x = concatenate(outputtensors, axis=-1, name = self.layer_name(\"concatenate\"))\n",
    "#        x = Dense(64, activation='relu', name=self.layer_name(\"dense\"))(x)\n",
    "#        x = Dropout(0.2, name=self.layer_name(\"dropout\"))(x)\n",
    "#        x = BatchNormalization(name=self.layer_name(\"batchnorm\"))(x)\n",
    "        x = Dense(NB_CLASSES, activation='softmax', name=self.layer_name(\"dense\"))(x)\n",
    "        self.model = Model(inputtensors, x, name=self.name)\n",
    "\n",
    "        #print(self.model.summary())\n",
    "\n",
    "        print(f\"  * Layers non entrainables:\")\n",
    "        for layer in self.model.layers:\n",
    "            if layer.name.find(self.name) < 0:\n",
    "                layer.trainable = False\n",
    "                print(f\"      - {layer.name}\")\n",
    "#        for layer in self.model.layers:\n",
    "#            if 0 <= layer.name.find('efficient'):\n",
    "#                layer.trainable = False\n",
    "#                print(f\"      - {layer.name}\")\n",
    "        print(f\"  * Layers entrainables:\")\n",
    "        for layer in self.model.layers:\n",
    "            if layer.trainable:\n",
    "                print(f\"      - {layer.name}\")\n",
    "\n",
    "        self.model.compile(optimizer= tf.keras.optimizers.Adam(lr=0.001),\n",
    "                           loss='sparse_categorical_crossentropy',\n",
    "                           metrics = ['accuracy'])\n",
    "\n",
    "        # Initialisation des poids\n",
    "        self.copy_submodels_weights()\n",
    "\n",
    "        self.prt(\"fit(): Début\")    \n",
    "        callbacks = [tf.keras.callbacks.EarlyStopping(monitor='val_loss', patience=3,\n",
    "                                             restore_best_weights=True, verbose=1),\n",
    "                     tf.keras.callbacks.ModelCheckpoint(filepath=self.fbestweights,\n",
    "                                             save_weights_only=True, save_best_only=True,\n",
    "                                              monitor='val_loss', mode='min'),\n",
    "                     tf.keras.callbacks.ReduceLROnPlateau(monitor='val_loss', patience=3, factor=0.1,\n",
    "                                                          verbose=1)]\n",
    "        if os.path.isfile(self.fbestweights):\n",
    "            os.remove(self.fbestweights)\n",
    "        history = self.model.fit(traingen,\n",
    "                                 epochs=15,\n",
    "                                 validation_data = valgen,\n",
    "                                 callbacks=callbacks)\n",
    "        if os.path.isfile(self.fbestweights):\n",
    "            self.model.load_weights(self.fbestweights)\n",
    "        self.prt(\"fit(): Fin\")\n",
    "        plot_history(f\"{self.name}\", history)\n",
    "\n",
    "        print(f\"Décongélation des layers suivants:\")\n",
    "        for layer in self.model.layers:\n",
    "            if not layer.trainable and layer.name.find(\"efficient\") < 0:\n",
    "                print(f\"      - {layer.name}\")\n",
    "\n",
    "        self.model.compile(optimizer= tf.keras.optimizers.Adam(lr=0.0001),\n",
    "                           loss='sparse_categorical_crossentropy',\n",
    "                           metrics = ['accuracy'])\n",
    "\n",
    "\n",
    "        if os.path.isfile(self.fbestweights):\n",
    "            os.remove(self.fbestweights)\n",
    "        history = self.model.fit(traingen,\n",
    "                                 epochs=15,\n",
    "                                 validation_data = valgen,\n",
    "                                 callbacks=callbacks)\n",
    "        if os.path.isfile(self.fbestweights):\n",
    "            self.model.load_weights(self.fbestweights)\n",
    "        self.prt(\"fit(): Fin\")\n",
    "        plot_history(f\"{self.name}\", history)\n",
    "\n",
    "        return history"
   ]
  },
  {
   "cell_type": "code",
   "execution_count": 7,
   "id": "30df7ebb",
   "metadata": {},
   "outputs": [
    {
     "name": "stdout",
     "output_type": "stream",
     "text": [
      "++ [09h00mn] CatModel: Evaluation avec 84916 échantillons\n",
      "++ [09h00mn] CatModel: Chargements des modèles référencés \"84916\"\n",
      "Chargement de l'objet (modele_rakuten_out\\EmbedRNN_84916_object.pkl)\n",
      "Chargement du modèle (modele_rakuten_out\\EmbedRNN_84916_model.hdf5)\n",
      "Chargement de l'objet (modele_rakuten_out\\TextOneHot_84916_object.pkl)\n",
      "Chargement du modèle (modele_rakuten_out\\TextOneHot_84916_model.hdf5)\n",
      "Chargement de l'objet (modele_rakuten_out\\Multilingu_84916_object.pkl)\n",
      "Chargement du modèle (modele_rakuten_out\\Multilingu_84916_model.hdf5)\n",
      "Chargement de l'objet (modele_rakuten_out\\EffNetB1_84916_object.pkl)\n",
      "Chargement du modèle (modele_rakuten_out\\EffNetB1_84916_model.hdf5)\n",
      "++ [09h00mn] CatModel: Preprocessing des 67932 données d'entrainement\n",
      "++ [09h01mn] TextOneHot: Nombre de mots retenus = 50000\n",
      "++ [09h24mn] CatModel: Instantiation des générateurs d'entrainement\n",
      "Nettoyage de modele_rakuten_out\\CatDataset_train_57742\n",
      "Création de 1804 fichiers de batch dans modele_rakuten_out\\CatDataset_train_57742\n",
      "* modèle EmbedRNN\n"
     ]
    },
    {
     "name": "stderr",
     "output_type": "stream",
     "text": [
      "100%|██████████| 1804/1804 [00:47<00:00, 37.80it/s] \n",
      "  0%|          | 0/1804 [00:00<?, ?it/s]"
     ]
    },
    {
     "name": "stdout",
     "output_type": "stream",
     "text": [
      "* modèle TextOneHot\n"
     ]
    },
    {
     "name": "stderr",
     "output_type": "stream",
     "text": [
      "100%|██████████| 1804/1804 [50:28<00:00,  1.68s/it] \n",
      "  0%|          | 3/1804 [00:00<01:02, 29.03it/s]"
     ]
    },
    {
     "name": "stdout",
     "output_type": "stream",
     "text": [
      "* modèle Multilingu\n"
     ]
    },
    {
     "name": "stderr",
     "output_type": "stream",
     "text": [
      "100%|██████████| 1804/1804 [01:09<00:00, 25.96it/s] \n",
      "  0%|          | 0/1804 [00:00<?, ?it/s]"
     ]
    },
    {
     "name": "stdout",
     "output_type": "stream",
     "text": [
      "* modèle EffNetB1\n"
     ]
    },
    {
     "name": "stderr",
     "output_type": "stream",
     "text": [
      "100%|██████████| 1804/1804 [33:44<00:00,  1.12s/it] \n"
     ]
    },
    {
     "name": "stdout",
     "output_type": "stream",
     "text": [
      "Nettoyage de modele_rakuten_out\\CatDataset_val_10190\n"
     ]
    },
    {
     "name": "stderr",
     "output_type": "stream",
     "text": [
      "  8%|▊         | 24/318 [00:00<00:01, 237.82it/s]"
     ]
    },
    {
     "name": "stdout",
     "output_type": "stream",
     "text": [
      "Création de 318 fichiers de batch dans modele_rakuten_out\\CatDataset_val_10190\n",
      "* modèle EmbedRNN\n"
     ]
    },
    {
     "name": "stderr",
     "output_type": "stream",
     "text": [
      "100%|██████████| 318/318 [00:02<00:00, 115.71it/s]\n",
      "  0%|          | 0/318 [00:00<?, ?it/s]"
     ]
    },
    {
     "name": "stdout",
     "output_type": "stream",
     "text": [
      "* modèle TextOneHot\n"
     ]
    },
    {
     "name": "stderr",
     "output_type": "stream",
     "text": [
      "100%|██████████| 318/318 [08:45<00:00,  1.65s/it]\n",
      "  1%|          | 3/318 [00:00<00:13, 23.25it/s]"
     ]
    },
    {
     "name": "stdout",
     "output_type": "stream",
     "text": [
      "* modèle Multilingu\n"
     ]
    },
    {
     "name": "stderr",
     "output_type": "stream",
     "text": [
      "100%|██████████| 318/318 [00:01<00:00, 184.30it/s]\n",
      "  0%|          | 0/318 [00:00<?, ?it/s]"
     ]
    },
    {
     "name": "stdout",
     "output_type": "stream",
     "text": [
      "* modèle EffNetB1\n"
     ]
    },
    {
     "name": "stderr",
     "output_type": "stream",
     "text": [
      "100%|██████████| 318/318 [03:55<00:00,  1.35it/s]\n"
     ]
    },
    {
     "name": "stdout",
     "output_type": "stream",
     "text": [
      "++ [11h03mn] CatModel: Création du modèle\n",
      "  * Layers non entrainables:\n",
      "      - input_EffNetB1\n",
      "      - input_1_EmbedRNN\n",
      "      - efficientnetb1\n",
      "      - embed_2_EmbedRNN\n",
      "      - global_average_pooling2d\n",
      "      - gru_3_EmbedRNN\n",
      "      - dense_1_EffNetB1\n",
      "      - dropout_4_EmbedRNN\n",
      "      - input_1_TextOneHot\n",
      "      - input_1_Multilingu\n",
      "      - batchnorm_2_EffNetB1\n",
      "      - batchnorm_5_EmbedRNN\n",
      "      - dense_2_TextOneHot\n",
      "      - batchnorm_2_Multilingu\n",
      "      - dropout_3_EffNetB1\n",
      "      - dense_6_EmbedRNN\n",
      "      - dropout_3_TextOneHot\n",
      "      - dense_3_Multilingu\n",
      "      - dense_4_EffNetB1\n",
      "      - dropout_7_EmbedRNN\n",
      "      - batchnorm_4_TextOneHot\n",
      "      - dropout_4_Multilingu\n",
      "      - batchnorm_5_EffNetB1\n",
      "  * Layers entrainables:\n",
      "      - concatenate_1_CatModel\n",
      "      - dense_2_CatModel\n",
      "  * Init des layers avec les poids des modèles de base:\n",
      "      - embed_2_EmbedRNN\n",
      "      - gru_3_EmbedRNN\n",
      "      - dense_6_EmbedRNN\n",
      "      - dense_2_TextOneHot\n"
     ]
    },
    {
     "name": "stderr",
     "output_type": "stream",
     "text": [
      "C:\\Users\\Eric\\AppData\\Roaming\\Python\\Python37\\site-packages\\tensorflow\\python\\keras\\optimizer_v2\\optimizer_v2.py:375: UserWarning: The `lr` argument is deprecated, use `learning_rate` instead.\n",
      "  \"The `lr` argument is deprecated, use `learning_rate` instead.\")\n"
     ]
    },
    {
     "name": "stdout",
     "output_type": "stream",
     "text": [
      "      - batchnorm_4_TextOneHot\n",
      "      - batchnorm_2_Multilingu\n",
      "      - dense_3_Multilingu\n",
      "      - efficientnetb1\n",
      "      - dense_1_EffNetB1\n",
      "      - batchnorm_2_EffNetB1\n",
      "      - dense_4_EffNetB1\n",
      "      - batchnorm_5_EffNetB1\n",
      "++ [11h03mn] CatModel: fit(): Début\n",
      "Epoch 1/15\n",
      "1804/1804 [==============================] - 607s 317ms/step - loss: 0.1943 - accuracy: 0.9453 - val_loss: 0.4261 - val_accuracy: 0.8788\n",
      "Epoch 2/15\n",
      "1804/1804 [==============================] - 559s 310ms/step - loss: 0.0786 - accuracy: 0.9750 - val_loss: 0.4367 - val_accuracy: 0.8822\n",
      "Epoch 3/15\n",
      "1804/1804 [==============================] - 558s 309ms/step - loss: 0.0681 - accuracy: 0.9779 - val_loss: 0.4555 - val_accuracy: 0.8837\n",
      "Epoch 4/15\n",
      "1804/1804 [==============================] - 558s 309ms/step - loss: 0.0645 - accuracy: 0.9784 - val_loss: 0.4608 - val_accuracy: 0.8856\n",
      "Restoring model weights from the end of the best epoch.\n",
      "\n",
      "Epoch 00004: ReduceLROnPlateau reducing learning rate to 0.00010000000474974513.\n",
      "Epoch 00004: early stopping\n",
      "++ [11h41mn] CatModel: fit(): Fin\n"
     ]
    },
    {
     "data": {
      "image/png": "[encoded data removed]",
      "text/plain": [
       "<Figure size 1080x216 with 2 Axes>"
      ]
     },
     "metadata": {
      "needs_background": "light"
     },
     "output_type": "display_data"
    },
    {
     "name": "stdout",
     "output_type": "stream",
     "text": [
      "Décongélation des layers suivants:\n",
      "      - input_EffNetB1\n",
      "      - input_1_EmbedRNN\n",
      "      - embed_2_EmbedRNN\n",
      "      - global_average_pooling2d\n",
      "      - gru_3_EmbedRNN\n",
      "      - dense_1_EffNetB1\n",
      "      - dropout_4_EmbedRNN\n",
      "      - input_1_TextOneHot\n",
      "      - input_1_Multilingu\n",
      "      - batchnorm_2_EffNetB1\n",
      "      - batchnorm_5_EmbedRNN\n",
      "      - dense_2_TextOneHot\n",
      "      - batchnorm_2_Multilingu\n",
      "      - dropout_3_EffNetB1\n",
      "      - dense_6_EmbedRNN\n",
      "      - dropout_3_TextOneHot\n",
      "      - dense_3_Multilingu\n",
      "      - dense_4_EffNetB1\n",
      "      - dropout_7_EmbedRNN\n",
      "      - batchnorm_4_TextOneHot\n",
      "      - dropout_4_Multilingu\n",
      "      - batchnorm_5_EffNetB1\n",
      "Epoch 1/15\n",
      "1804/1804 [==============================] - 571s 311ms/step - loss: 0.0804 - accuracy: 0.9753 - val_loss: 0.4153 - val_accuracy: 0.8811\n",
      "Epoch 2/15\n",
      "1804/1804 [==============================] - 559s 310ms/step - loss: 0.0767 - accuracy: 0.9761 - val_loss: 0.4134 - val_accuracy: 0.8821\n",
      "Epoch 3/15\n",
      "1804/1804 [==============================] - 560s 311ms/step - loss: 0.0718 - accuracy: 0.9774 - val_loss: 0.4128 - val_accuracy: 0.8817\n",
      "Epoch 4/15\n",
      "1804/1804 [==============================] - 561s 311ms/step - loss: 0.0677 - accuracy: 0.9797 - val_loss: 0.4124 - val_accuracy: 0.8823\n",
      "Epoch 5/15\n",
      "1804/1804 [==============================] - 559s 310ms/step - loss: 0.0669 - accuracy: 0.9788 - val_loss: 0.4130 - val_accuracy: 0.8825\n",
      "Epoch 6/15\n",
      "1804/1804 [==============================] - 558s 310ms/step - loss: 0.0640 - accuracy: 0.9801 - val_loss: 0.4148 - val_accuracy: 0.8819\n",
      "Epoch 7/15\n",
      "1804/1804 [==============================] - 559s 310ms/step - loss: 0.0627 - accuracy: 0.9803 - val_loss: 0.4147 - val_accuracy: 0.8819\n",
      "Restoring model weights from the end of the best epoch.\n",
      "\n",
      "Epoch 00007: ReduceLROnPlateau reducing learning rate to 9.999999747378752e-06.\n",
      "Epoch 00007: early stopping\n",
      "++ [12h47mn] CatModel: fit(): Fin\n"
     ]
    },
    {
     "data": {
      "image/png": "[encoded data removed]",
      "text/plain": [
       "<Figure size 1080x216 with 2 Axes>"
      ]
     },
     "metadata": {
      "needs_background": "light"
     },
     "output_type": "display_data"
    },
    {
     "name": "stdout",
     "output_type": "stream",
     "text": [
      "++ [12h47mn] CatModel: Prédiction pour 16984 échantillons\n",
      "++ [12h47mn] CatModel: Preprocessing des données de test\n",
      "++ [12h53mn] CatModel: Instantiation du générateur de test\n",
      "Nettoyage de modele_rakuten_out\\CatDataset_test_16984\n"
     ]
    },
    {
     "name": "stderr",
     "output_type": "stream",
     "text": [
      "  2%|▏         | 286/16984 [00:00<00:11, 1484.55it/s]"
     ]
    },
    {
     "name": "stdout",
     "output_type": "stream",
     "text": [
      "Création de 16984 fichiers de batch dans modele_rakuten_out\\CatDataset_test_16984\n",
      "* modèle EmbedRNN\n"
     ]
    },
    {
     "name": "stderr",
     "output_type": "stream",
     "text": [
      "100%|██████████| 16984/16984 [00:16<00:00, 1021.90it/s]\n",
      "  0%|          | 0/16984 [00:00<?, ?it/s]"
     ]
    },
    {
     "name": "stdout",
     "output_type": "stream",
     "text": [
      "* modèle TextOneHot\n"
     ]
    },
    {
     "name": "stderr",
     "output_type": "stream",
     "text": [
      "100%|██████████| 16984/16984 [21:11<00:00, 13.35it/s] \n",
      "  0%|          | 3/16984 [00:00<10:19, 27.41it/s]"
     ]
    },
    {
     "name": "stdout",
     "output_type": "stream",
     "text": [
      "* modèle Multilingu\n"
     ]
    },
    {
     "name": "stderr",
     "output_type": "stream",
     "text": [
      "100%|██████████| 16984/16984 [06:15<00:00, 45.18it/s] \n"
     ]
    },
    {
     "name": "stdout",
     "output_type": "stream",
     "text": [
      "* modèle EffNetB1\n"
     ]
    },
    {
     "name": "stderr",
     "output_type": "stream",
     "text": [
      "100%|██████████| 16984/16984 [24:11<00:00, 11.70it/s] \n"
     ]
    },
    {
     "name": "stdout",
     "output_type": "stream",
     "text": [
      "++ [13h46mn] CatModel: predict(): Début\n",
      "16984/16984 [==============================] - 791s 46ms/step\n",
      "++ [13h59mn] CatModel: predict(): Fin\n",
      "\n",
      "++ [13h59mn] CatModel: w-f1-score = \u001b[1m0.8778\u001b[0m\n",
      "\n",
      "              precision    recall  f1-score   support\n",
      "\n",
      "          10       0.70      0.74      0.72       652\n",
      "        1140       0.82      0.87      0.84       541\n",
      "        1160       0.98      0.98      0.98       815\n",
      "        1180       0.77      0.66      0.71       140\n",
      "        1280       0.77      0.79      0.78       956\n",
      "        1281       0.70      0.65      0.67       399\n",
      "        1300       0.97      0.97      0.97      1051\n",
      "        1301       0.98      0.90      0.94       168\n",
      "        1302       0.87      0.86      0.86       497\n",
      "        1320       0.88      0.85      0.86       683\n",
      "        1560       0.86      0.86      0.86       993\n",
      "        1920       0.92      0.93      0.92       841\n",
      "        1940       0.96      0.95      0.95       147\n",
      "        2060       0.84      0.83      0.83      1031\n",
      "        2220       0.91      0.85      0.88       147\n",
      "        2280       0.87      0.89      0.88       921\n",
      "        2403       0.82      0.85      0.84       972\n",
      "        2462       0.85      0.83      0.84       282\n",
      "        2522       0.94      0.94      0.94       988\n",
      "        2582       0.79      0.77      0.78       509\n",
      "        2583       0.98      0.99      0.99      1987\n",
      "        2585       0.86      0.90      0.88       499\n",
      "        2705       0.88      0.86      0.87       559\n",
      "        2905       0.99      0.99      0.99       162\n",
      "          40       0.86      0.76      0.81       535\n",
      "          50       0.86      0.90      0.88       353\n",
      "          60       0.96      0.90      0.93       156\n",
      "\n",
      "    accuracy                           0.88     16984\n",
      "   macro avg       0.87      0.86      0.87     16984\n",
      "weighted avg       0.88      0.88      0.88     16984\n",
      "\n",
      "++ [13h59mn] CatModel: 2073 mauvaises prédictions: modele_rakuten_out\\CatModel_84916_bad_predictions.csv\n",
      "++ [13h59mn] CatModel: Evaluation exécutée en 4h58mn\n"
     ]
    },
    {
     "name": "stderr",
     "output_type": "stream",
     "text": [
      "C:\\Users\\Eric\\AppData\\Roaming\\Python\\Python37\\site-packages\\tensorflow\\python\\keras\\utils\\generic_utils.py:497: CustomMaskWarning: Custom mask layers require a config and must override get_config. When loading, the custom mask layer must be passed to the custom_objects argument.\n",
      "  category=CustomMaskWarning)\n"
     ]
    },
    {
     "name": "stdout",
     "output_type": "stream",
     "text": [
      "++ [13h59mn] CatModel: Modèle sauvegardé dans modele_rakuten_out\\CatModel_84916_model.hdf5\n",
      "Pas de sauvegarde de  objs\n",
      "++ [13h59mn] CatModel: Objet complet sauvegardé dans modele_rakuten_out\\CatModel_84916_object.pkl\n"
     ]
    }
   ],
   "source": [
    "CatModel().evaluate(NB_ECHANTILLONS)"
   ]
  },
  {
   "cell_type": "code",
   "execution_count": 8,
   "id": "a282495d",
   "metadata": {},
   "outputs": [
    {
     "name": "stdout",
     "output_type": "stream",
     "text": [
      "Classes les plus mal prédites:\n"
     ]
    },
    {
     "data": {
      "text/html": [
       "<div>\n",
       "<style scoped>\n",
       "    .dataframe tbody tr th:only-of-type {\n",
       "        vertical-align: middle;\n",
       "    }\n",
       "\n",
       "    .dataframe tbody tr th {\n",
       "        vertical-align: top;\n",
       "    }\n",
       "\n",
       "    .dataframe thead th {\n",
       "        text-align: right;\n",
       "    }\n",
       "</style>\n",
       "<table border=\"1\" class=\"dataframe\">\n",
       "  <thead>\n",
       "    <tr style=\"text-align: right;\">\n",
       "      <th></th>\n",
       "      <th>1280</th>\n",
       "      <th>2060</th>\n",
       "      <th>10</th>\n",
       "      <th>2403</th>\n",
       "      <th>1281</th>\n",
       "      <th>1560</th>\n",
       "      <th>40</th>\n",
       "      <th>2582</th>\n",
       "      <th>1320</th>\n",
       "      <th>2280</th>\n",
       "      <th>2705</th>\n",
       "      <th>1140</th>\n",
       "      <th>1302</th>\n",
       "      <th>2522</th>\n",
       "      <th>1920</th>\n",
       "      <th>2585</th>\n",
       "      <th>2462</th>\n",
       "      <th>1180</th>\n",
       "      <th>50</th>\n",
       "      <th>1300</th>\n",
       "    </tr>\n",
       "  </thead>\n",
       "  <tbody>\n",
       "    <tr>\n",
       "      <th>Erreurs</th>\n",
       "      <td>197</td>\n",
       "      <td>179</td>\n",
       "      <td>169</td>\n",
       "      <td>146</td>\n",
       "      <td>139</td>\n",
       "      <td>137</td>\n",
       "      <td>127</td>\n",
       "      <td>118</td>\n",
       "      <td>105</td>\n",
       "      <td>98</td>\n",
       "      <td>77</td>\n",
       "      <td>73</td>\n",
       "      <td>70</td>\n",
       "      <td>64</td>\n",
       "      <td>59</td>\n",
       "      <td>52</td>\n",
       "      <td>47</td>\n",
       "      <td>47</td>\n",
       "      <td>34</td>\n",
       "      <td>30</td>\n",
       "    </tr>\n",
       "  </tbody>\n",
       "</table>\n",
       "</div>"
      ],
      "text/plain": [
       "         1280  2060  10    2403  1281  1560  40    2582  1320  2280  2705  \\\n",
       "Erreurs   197   179   169   146   139   137   127   118   105    98    77   \n",
       "\n",
       "         1140  1302  2522  1920  2585  2462  1180  50    1300  \n",
       "Erreurs    73    70    64    59    52    47    47    34    30  "
      ]
     },
     "metadata": {},
     "output_type": "display_data"
    },
    {
     "data": {
      "image/png": "[encoded data removed]",
      "text/plain": [
       "<Figure size 1152x720 with 2 Axes>"
      ]
     },
     "metadata": {
      "needs_background": "light"
     },
     "output_type": "display_data"
    }
   ],
   "source": [
    "# Analyse des mauvaises prédictions à partir du fichier généré\n",
    "# ne contenant que les mauvaises prédictions\n",
    "badf = \"modele_rakuten_out\\CatModel_84916_bad_predictions.csv\"\n",
    "df = pd.read_csv(badf)\n",
    "\n",
    "print(\"Classes les plus mal prédites:\")\n",
    "vc = df.y_test.value_counts()\n",
    "display(pd.DataFrame(vc[:20]).transpose().rename(index = {'y_test': 'Erreurs'}))\n",
    "\n",
    "plt.figure(figsize=(16,10))\n",
    "sns.heatmap(pd.crosstab(df.y_test, df.y_pred))\n",
    "plt.title(\"Matrice de confusion sur les mauvaise prédictions\")\n",
    "plt.show()"
   ]
  },
  {
   "cell_type": "code",
   "execution_count": null,
   "id": "45bd98ec",
   "metadata": {},
   "outputs": [],
   "source": [
    "# Sauvegarde des modèles et création du fichier csv des\n",
    "# prédictions sur le fichier officiel de test\n",
    "CatModel(NB_ECHANTILLONS).deliver()"
   ]
  }
 ],
 "metadata": {
  "kernelspec": {
   "display_name": "Python 3",
   "language": "python",
   "name": "python3"
  },
  "language_info": {
   "codemirror_mode": {
    "name": "ipython",
    "version": 3
   },
   "file_extension": ".py",
   "mimetype": "text/x-python",
   "name": "python",
   "nbconvert_exporter": "python",
   "pygments_lexer": "ipython3",
   "version": "3.7.10"
  }
 },
 "nbformat": 4,
 "nbformat_minor": 5
}
