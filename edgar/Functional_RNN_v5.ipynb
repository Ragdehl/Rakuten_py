{
 "cells": [
  {
   "cell_type": "markdown",
   "metadata": {},
   "source": [
    "# RNN Functional"
   ]
  },
  {
   "cell_type": "code",
   "execution_count": 148,
   "metadata": {},
   "outputs": [],
   "source": [
    "import glob\n",
    "import pandas as pd\n",
    "import tensorflow as tf\n",
    "\n",
    "\n",
    "from sklearn.model_selection import train_test_split\n",
    "from tqdm import tqdm\n",
    "import numpy as np\n",
    "\n",
    "import os #Miscellaneous operating system interfaces\n",
    "#https://docs.python.org/3/library/os.html\n",
    "#get current working directory\n",
    "path = os.getcwd() + '\\\\images\\\\image_train'\n",
    "path\n",
    "\n",
    "model_type = 'Functional'\n",
    "existing_model = 'RNN'\n",
    "version = 'v5'\n",
    "filename = existing_model + '_' +  version\n",
    "model_path = 'models_output\\\\' + existing_model + '\\\\' + version + '\\\\'"
   ]
  },
  {
   "cell_type": "code",
   "execution_count": 149,
   "metadata": {},
   "outputs": [],
   "source": [
    "classes = {'10':' Livres, Couvertures de livres ','40':' Jeux videos, CDs + mais aussi equipements, cables, etc. ','50':' Jeux Vidéos, Equipements ','60':' Consoles, Manettes, croix, boutons, ecrans ','1140':' Figurines, Personnages et objets, parfois dans des boites ','1160':' Cartes, Rectangles, beaucoup de couleurs ','1180':' Figurines et boites ','1280':' Jouets, poupées nounours, equipements enfants','1281':' Jeux enfants, Boites et autres, couleurs flashy','1300':' Jeux techniques, Equipement, petites machines ','1301':' Habits bébés, petites photos ','1302':' Equipements, Habits, outils, jouets, objets sur fond blanc','1320':' Matériel et meubles bébé poussettes, habits','1560':' Meubles, matelas canapés lampes, chaises','1920':' Oreillers, coussins, draps','1940':' Alimentations, conserves boites d gateaux','2060':' Décorations','2220':' Equipements divers pour animaux','2280':' Livres et revues anciennes','2403':' Livres et revues de collection','2462':' Equipement jeux, play stations','2522':' Cahiers, carnets, marque pages','2582':' Matériel, meubles et outils pour le jardin','2583':' Equipements technique pour la maison et exterieur (piscines), produits','2585':' Idem 2583:  Equipements technique pour la maison et exterieur (piscines), produits','2705':' Livres','2905':' Jeux vidéos'}"
   ]
  },
  {
   "cell_type": "markdown",
   "metadata": {},
   "source": [
    "Données textuelles:"
   ]
  },
  {
   "cell_type": "code",
   "execution_count": 150,
   "metadata": {},
   "outputs": [
    {
     "data": {
      "text/plain": [
       "0          10\n",
       "1        2280\n",
       "2          50\n",
       "3        1280\n",
       "4        2705\n",
       "         ... \n",
       "84911      40\n",
       "84912    2583\n",
       "84913    2280\n",
       "84914    1560\n",
       "84915    2522\n",
       "Name: prdtypecode, Length: 84916, dtype: object"
      ]
     },
     "execution_count": 150,
     "metadata": {},
     "output_type": "execute_result"
    }
   ],
   "source": [
    "X = pd.read_csv(r'C:\\Users\\Edgar\\Documents\\Rakuten\\X_train_update.csv',index_col =0)\n",
    "#X = pd.read_csv(r'C:\\Users\\Edgar\\Documents\\Rakuten\\X_train\\X_train_lemma-FR_stop_words-FR_no_num-FR_remove_accents-FR_no_special-FR_lemma-EN_stop_words-EN_stop_words-DE_lemma-DE_steem-FR_steem-EN_steem-DE.csv',index_col =0)\n",
    "y = pd.read_csv(r'C:\\Users\\Edgar\\Documents\\Rakuten\\Y_train_CVw08PX.csv',index_col=0).squeeze().map(str)\n",
    "y"
   ]
  },
  {
   "cell_type": "code",
   "execution_count": 151,
   "metadata": {},
   "outputs": [],
   "source": [
    "#X.rename(columns = {'0':'text'},inplace=True)\n",
    "#X"
   ]
  },
  {
   "cell_type": "code",
   "execution_count": 152,
   "metadata": {},
   "outputs": [
    {
     "data": {
      "text/html": [
       "<div>\n",
       "<style scoped>\n",
       "    .dataframe tbody tr th:only-of-type {\n",
       "        vertical-align: middle;\n",
       "    }\n",
       "\n",
       "    .dataframe tbody tr th {\n",
       "        vertical-align: top;\n",
       "    }\n",
       "\n",
       "    .dataframe thead th {\n",
       "        text-align: right;\n",
       "    }\n",
       "</style>\n",
       "<table border=\"1\" class=\"dataframe\">\n",
       "  <thead>\n",
       "    <tr style=\"text-align: right;\">\n",
       "      <th></th>\n",
       "      <th>designation</th>\n",
       "      <th>description</th>\n",
       "      <th>productid</th>\n",
       "      <th>imageid</th>\n",
       "      <th>text</th>\n",
       "    </tr>\n",
       "  </thead>\n",
       "  <tbody>\n",
       "    <tr>\n",
       "      <th>0</th>\n",
       "      <td>Olivia: Personalisiertes Notizbuch / 150 Seite...</td>\n",
       "      <td></td>\n",
       "      <td>3804725264</td>\n",
       "      <td>1263597046</td>\n",
       "      <td>Olivia: Personalisiertes Notizbuch / 150 Seite...</td>\n",
       "    </tr>\n",
       "    <tr>\n",
       "      <th>1</th>\n",
       "      <td>Journal Des Arts (Le) N° 133 Du 28/09/2001 - L...</td>\n",
       "      <td></td>\n",
       "      <td>436067568</td>\n",
       "      <td>1008141237</td>\n",
       "      <td>Journal Des Arts (Le) N° 133 Du 28/09/2001 - L...</td>\n",
       "    </tr>\n",
       "    <tr>\n",
       "      <th>2</th>\n",
       "      <td>Grand Stylet Ergonomique Bleu Gamepad Nintendo...</td>\n",
       "      <td>PILOT STYLE Touch Pen de marque Speedlink est ...</td>\n",
       "      <td>201115110</td>\n",
       "      <td>938777978</td>\n",
       "      <td>Grand Stylet Ergonomique Bleu Gamepad Nintendo...</td>\n",
       "    </tr>\n",
       "    <tr>\n",
       "      <th>3</th>\n",
       "      <td>Peluche Donald - Europe - Disneyland 2000 (Mar...</td>\n",
       "      <td></td>\n",
       "      <td>50418756</td>\n",
       "      <td>457047496</td>\n",
       "      <td>Peluche Donald - Europe - Disneyland 2000 (Mar...</td>\n",
       "    </tr>\n",
       "    <tr>\n",
       "      <th>4</th>\n",
       "      <td>La Guerre Des Tuques</td>\n",
       "      <td>Luc a des id&amp;eacute;es de grandeur. Il veut or...</td>\n",
       "      <td>278535884</td>\n",
       "      <td>1077757786</td>\n",
       "      <td>La Guerre Des TuquesLuc a des id&amp;eacute;es de ...</td>\n",
       "    </tr>\n",
       "    <tr>\n",
       "      <th>...</th>\n",
       "      <td>...</td>\n",
       "      <td>...</td>\n",
       "      <td>...</td>\n",
       "      <td>...</td>\n",
       "      <td>...</td>\n",
       "    </tr>\n",
       "    <tr>\n",
       "      <th>84911</th>\n",
       "      <td>The Sims [ Import Anglais ]</td>\n",
       "      <td></td>\n",
       "      <td>206719094</td>\n",
       "      <td>941495734</td>\n",
       "      <td>The Sims [ Import Anglais ]</td>\n",
       "    </tr>\n",
       "    <tr>\n",
       "      <th>84912</th>\n",
       "      <td>Kit piscine acier NEVADA déco pierre Ø 3.50m x...</td>\n",
       "      <td>&lt;b&gt;Description complète :&lt;/b&gt;&lt;br /&gt;Kit piscine...</td>\n",
       "      <td>3065095706</td>\n",
       "      <td>1188462883</td>\n",
       "      <td>Kit piscine acier NEVADA déco pierre Ø 3.50m x...</td>\n",
       "    </tr>\n",
       "    <tr>\n",
       "      <th>84913</th>\n",
       "      <td>Journal Officiel De La Republique Francaise N°...</td>\n",
       "      <td></td>\n",
       "      <td>440707564</td>\n",
       "      <td>1009325617</td>\n",
       "      <td>Journal Officiel De La Republique Francaise N°...</td>\n",
       "    </tr>\n",
       "    <tr>\n",
       "      <th>84914</th>\n",
       "      <td>Table Basse Bois De Récupération Massif Base B...</td>\n",
       "      <td>&lt;p&gt;Cette table basse a un design unique et con...</td>\n",
       "      <td>3942400296</td>\n",
       "      <td>1267353403</td>\n",
       "      <td>Table Basse Bois De Récupération Massif Base B...</td>\n",
       "    </tr>\n",
       "    <tr>\n",
       "      <th>84915</th>\n",
       "      <td>Gomme De Collection 2 Gommes Pinguin Glace Ver...</td>\n",
       "      <td></td>\n",
       "      <td>57203227</td>\n",
       "      <td>684671297</td>\n",
       "      <td>Gomme De Collection 2 Gommes Pinguin Glace Ver...</td>\n",
       "    </tr>\n",
       "  </tbody>\n",
       "</table>\n",
       "<p>84916 rows × 5 columns</p>\n",
       "</div>"
      ],
      "text/plain": [
       "                                             designation  \\\n",
       "0      Olivia: Personalisiertes Notizbuch / 150 Seite...   \n",
       "1      Journal Des Arts (Le) N° 133 Du 28/09/2001 - L...   \n",
       "2      Grand Stylet Ergonomique Bleu Gamepad Nintendo...   \n",
       "3      Peluche Donald - Europe - Disneyland 2000 (Mar...   \n",
       "4                                   La Guerre Des Tuques   \n",
       "...                                                  ...   \n",
       "84911                        The Sims [ Import Anglais ]   \n",
       "84912  Kit piscine acier NEVADA déco pierre Ø 3.50m x...   \n",
       "84913  Journal Officiel De La Republique Francaise N°...   \n",
       "84914  Table Basse Bois De Récupération Massif Base B...   \n",
       "84915  Gomme De Collection 2 Gommes Pinguin Glace Ver...   \n",
       "\n",
       "                                             description   productid  \\\n",
       "0                                                         3804725264   \n",
       "1                                                          436067568   \n",
       "2      PILOT STYLE Touch Pen de marque Speedlink est ...   201115110   \n",
       "3                                                           50418756   \n",
       "4      Luc a des id&eacute;es de grandeur. Il veut or...   278535884   \n",
       "...                                                  ...         ...   \n",
       "84911                                                      206719094   \n",
       "84912  <b>Description complète :</b><br />Kit piscine...  3065095706   \n",
       "84913                                                      440707564   \n",
       "84914  <p>Cette table basse a un design unique et con...  3942400296   \n",
       "84915                                                       57203227   \n",
       "\n",
       "          imageid                                               text  \n",
       "0      1263597046  Olivia: Personalisiertes Notizbuch / 150 Seite...  \n",
       "1      1008141237  Journal Des Arts (Le) N° 133 Du 28/09/2001 - L...  \n",
       "2       938777978  Grand Stylet Ergonomique Bleu Gamepad Nintendo...  \n",
       "3       457047496  Peluche Donald - Europe - Disneyland 2000 (Mar...  \n",
       "4      1077757786  La Guerre Des TuquesLuc a des id&eacute;es de ...  \n",
       "...           ...                                                ...  \n",
       "84911   941495734                        The Sims [ Import Anglais ]  \n",
       "84912  1188462883  Kit piscine acier NEVADA déco pierre Ø 3.50m x...  \n",
       "84913  1009325617  Journal Officiel De La Republique Francaise N°...  \n",
       "84914  1267353403  Table Basse Bois De Récupération Massif Base B...  \n",
       "84915   684671297  Gomme De Collection 2 Gommes Pinguin Glace Ver...  \n",
       "\n",
       "[84916 rows x 5 columns]"
      ]
     },
     "execution_count": 152,
     "metadata": {},
     "output_type": "execute_result"
    }
   ],
   "source": [
    "X.fillna('',inplace=True)\n",
    "X['text'] = X.apply(lambda line: line['designation'] + line['description'],axis=1)\n",
    "X"
   ]
  },
  {
   "cell_type": "code",
   "execution_count": 153,
   "metadata": {},
   "outputs": [],
   "source": [
    "#df_y['label'] = df_y['prdtypecode'].replace(df_y.prdtypecode.unique(), [*range(len(df_y.prdtypecode.unique()))])\n",
    "#df_y"
   ]
  },
  {
   "cell_type": "markdown",
   "metadata": {},
   "source": [
    "Nombre de mots par texte:"
   ]
  },
  {
   "cell_type": "code",
   "execution_count": 154,
   "metadata": {},
   "outputs": [
    {
     "data": {
      "image/png": "[encoded data removed]",
      "text/plain": [
       "<Figure size 1440x360 with 1 Axes>"
      ]
     },
     "metadata": {
      "needs_background": "light"
     },
     "output_type": "display_data"
    }
   ],
   "source": [
    "import seaborn as sns\n",
    "from matplotlib import pyplot\n",
    "\n",
    "X[\"count_word\"] = X.text.apply(lambda x : len(x.split(' ')))\n",
    "\n",
    "fig, ax = pyplot.subplots(figsize=(20,5))\n",
    "\n",
    "sns.countplot(X[\"count_word\"],ax=ax);"
   ]
  },
  {
   "cell_type": "markdown",
   "metadata": {},
   "source": [
    "Pour éviter des séquences trop longue, le seuil maximum d'une phrase sera considéré à 40:"
   ]
  },
  {
   "cell_type": "code",
   "execution_count": 155,
   "metadata": {},
   "outputs": [],
   "source": [
    "#df_X = df_X[df_X.count_word<=20]\n",
    "\n",
    "#df_X[\"count_word\"] = df_X.text.apply(lambda x : len(x.split(' ')))\n",
    "#fig, ax = pyplot.subplots(figsize=(20,5))\n",
    "\n",
    "#sns.countplot(df_X[\"count_word\"],ax=ax)"
   ]
  },
  {
   "cell_type": "markdown",
   "metadata": {},
   "source": [
    "Tokenisation:"
   ]
  },
  {
   "cell_type": "code",
   "execution_count": 156,
   "metadata": {},
   "outputs": [],
   "source": [
    "#from sklearn.feature_extraction.text import TfidfVectorizer\n",
    "#from nltk.tokenize import word_tokenize\n",
    "\n",
    "#tfid = TfidfVectorizer(analyzer='word',\n",
    "#                       tokenizer=word_tokenize,\n",
    "#                       max_df=0.8,\n",
    "#                       min_df=2,\n",
    "#                       #ngram_range=(1,1),\n",
    "#                       use_idf=True,\n",
    "#                       smooth_idf=True,                       sublinear_tf=False,\n",
    "#                       binary=True,\n",
    "#                       max_features=10000\n",
    "#                      )\n",
    "\n",
    "#X = tfid.fit_transform(df_X['text'].squeeze()).todense()\n",
    "\n",
    "#X.shape"
   ]
  },
  {
   "cell_type": "markdown",
   "metadata": {},
   "source": [
    "Separer les données en train & text:"
   ]
  },
  {
   "cell_type": "code",
   "execution_count": 157,
   "metadata": {},
   "outputs": [
    {
     "data": {
      "text/html": [
       "<div>\n",
       "<style scoped>\n",
       "    .dataframe tbody tr th:only-of-type {\n",
       "        vertical-align: middle;\n",
       "    }\n",
       "\n",
       "    .dataframe tbody tr th {\n",
       "        vertical-align: top;\n",
       "    }\n",
       "\n",
       "    .dataframe thead th {\n",
       "        text-align: right;\n",
       "    }\n",
       "</style>\n",
       "<table border=\"1\" class=\"dataframe\">\n",
       "  <thead>\n",
       "    <tr style=\"text-align: right;\">\n",
       "      <th></th>\n",
       "      <th>designation</th>\n",
       "      <th>description</th>\n",
       "      <th>productid</th>\n",
       "      <th>imageid</th>\n",
       "      <th>text</th>\n",
       "      <th>count_word</th>\n",
       "    </tr>\n",
       "  </thead>\n",
       "  <tbody>\n",
       "    <tr>\n",
       "      <th>60735</th>\n",
       "      <td>Carte Postale Typo Aimer - Kiub</td>\n",
       "      <td>Carte postale tendance de la collection Typo d...</td>\n",
       "      <td>2825941333</td>\n",
       "      <td>1208783386</td>\n",
       "      <td>Carte Postale Typo Aimer - KiubCarte postale t...</td>\n",
       "      <td>52</td>\n",
       "    </tr>\n",
       "    <tr>\n",
       "      <th>9118</th>\n",
       "      <td>Garçon - Le Jeu De Plateau !</td>\n",
       "      <td>A propos : Il s¿agit d¿un jeu de cartes dans l...</td>\n",
       "      <td>89102802</td>\n",
       "      <td>856119038</td>\n",
       "      <td>Garçon - Le Jeu De Plateau !A propos : Il s¿ag...</td>\n",
       "      <td>66</td>\n",
       "    </tr>\n",
       "    <tr>\n",
       "      <th>55855</th>\n",
       "      <td>Royaume Des Animaux Ab À Asc</td>\n",
       "      <td></td>\n",
       "      <td>197015072</td>\n",
       "      <td>936925976</td>\n",
       "      <td>Royaume Des Animaux Ab À Asc</td>\n",
       "      <td>6</td>\n",
       "    </tr>\n",
       "    <tr>\n",
       "      <th>42138</th>\n",
       "      <td>Piscine Jeu Adresse 237x152</td>\n",
       "      <td>0</td>\n",
       "      <td>2824252365</td>\n",
       "      <td>1166755995</td>\n",
       "      <td>Piscine Jeu Adresse 237x1520</td>\n",
       "      <td>4</td>\n",
       "    </tr>\n",
       "    <tr>\n",
       "      <th>10948</th>\n",
       "      <td>United States And European Union Auditor Indep...</td>\n",
       "      <td></td>\n",
       "      <td>418466190</td>\n",
       "      <td>1017775450</td>\n",
       "      <td>United States And European Union Auditor Indep...</td>\n",
       "      <td>8</td>\n",
       "    </tr>\n",
       "    <tr>\n",
       "      <th>...</th>\n",
       "      <td>...</td>\n",
       "      <td>...</td>\n",
       "      <td>...</td>\n",
       "      <td>...</td>\n",
       "      <td>...</td>\n",
       "      <td>...</td>\n",
       "    </tr>\n",
       "    <tr>\n",
       "      <th>6265</th>\n",
       "      <td>Griottines - Coffret De 5 Cl</td>\n",
       "      <td>Griottines - Coffret de 5 cl Cerises Griottes ...</td>\n",
       "      <td>183256510</td>\n",
       "      <td>938718607</td>\n",
       "      <td>Griottines - Coffret De 5 ClGriottines - Coffr...</td>\n",
       "      <td>103</td>\n",
       "    </tr>\n",
       "    <tr>\n",
       "      <th>54886</th>\n",
       "      <td>1bouquet 7 Têtes Artificielles Pivoine Soie Fe...</td>\n",
       "      <td>1Bouquet 7 têtes artificielles Pivoine Soie Fe...</td>\n",
       "      <td>4086048240</td>\n",
       "      <td>1289079205</td>\n",
       "      <td>1bouquet 7 Têtes Artificielles Pivoine Soie Fe...</td>\n",
       "      <td>107</td>\n",
       "    </tr>\n",
       "    <tr>\n",
       "      <th>76820</th>\n",
       "      <td>Happy Easter Taies D'oreiller En Lin Coussin S...</td>\n",
       "      <td>Happy Easter taies d&amp;#39;oreiller en lin Couss...</td>\n",
       "      <td>3992621069</td>\n",
       "      <td>1273354395</td>\n",
       "      <td>Happy Easter Taies D'oreiller En Lin Coussin S...</td>\n",
       "      <td>86</td>\n",
       "    </tr>\n",
       "    <tr>\n",
       "      <th>860</th>\n",
       "      <td>Pratique Chasse Camo Camping Imperméable Camou...</td>\n",
       "      <td>Pratique Camo chasse furtif étanche Camping Ca...</td>\n",
       "      <td>4231695757</td>\n",
       "      <td>1323296971</td>\n",
       "      <td>Pratique Chasse Camo Camping Imperméable Camou...</td>\n",
       "      <td>219</td>\n",
       "    </tr>\n",
       "    <tr>\n",
       "      <th>15795</th>\n",
       "      <td>Cine Live - N° 51 - Wasabi Reno</td>\n",
       "      <td>Le magazine qui se lit se regarde et s'écoute....</td>\n",
       "      <td>131689220</td>\n",
       "      <td>885908975</td>\n",
       "      <td>Cine Live - N° 51 - Wasabi RenoLe magazine qui...</td>\n",
       "      <td>28</td>\n",
       "    </tr>\n",
       "  </tbody>\n",
       "</table>\n",
       "<p>67932 rows × 6 columns</p>\n",
       "</div>"
      ],
      "text/plain": [
       "                                             designation  \\\n",
       "60735                    Carte Postale Typo Aimer - Kiub   \n",
       "9118                        Garçon - Le Jeu De Plateau !   \n",
       "55855                       Royaume Des Animaux Ab À Asc   \n",
       "42138                        Piscine Jeu Adresse 237x152   \n",
       "10948  United States And European Union Auditor Indep...   \n",
       "...                                                  ...   \n",
       "6265                        Griottines - Coffret De 5 Cl   \n",
       "54886  1bouquet 7 Têtes Artificielles Pivoine Soie Fe...   \n",
       "76820  Happy Easter Taies D'oreiller En Lin Coussin S...   \n",
       "860    Pratique Chasse Camo Camping Imperméable Camou...   \n",
       "15795                    Cine Live - N° 51 - Wasabi Reno   \n",
       "\n",
       "                                             description   productid  \\\n",
       "60735  Carte postale tendance de la collection Typo d...  2825941333   \n",
       "9118   A propos : Il s¿agit d¿un jeu de cartes dans l...    89102802   \n",
       "55855                                                      197015072   \n",
       "42138                                                  0  2824252365   \n",
       "10948                                                      418466190   \n",
       "...                                                  ...         ...   \n",
       "6265   Griottines - Coffret de 5 cl Cerises Griottes ...   183256510   \n",
       "54886  1Bouquet 7 têtes artificielles Pivoine Soie Fe...  4086048240   \n",
       "76820  Happy Easter taies d&#39;oreiller en lin Couss...  3992621069   \n",
       "860    Pratique Camo chasse furtif étanche Camping Ca...  4231695757   \n",
       "15795  Le magazine qui se lit se regarde et s'écoute....   131689220   \n",
       "\n",
       "          imageid                                               text  \\\n",
       "60735  1208783386  Carte Postale Typo Aimer - KiubCarte postale t...   \n",
       "9118    856119038  Garçon - Le Jeu De Plateau !A propos : Il s¿ag...   \n",
       "55855   936925976                       Royaume Des Animaux Ab À Asc   \n",
       "42138  1166755995                       Piscine Jeu Adresse 237x1520   \n",
       "10948  1017775450  United States And European Union Auditor Indep...   \n",
       "...           ...                                                ...   \n",
       "6265    938718607  Griottines - Coffret De 5 ClGriottines - Coffr...   \n",
       "54886  1289079205  1bouquet 7 Têtes Artificielles Pivoine Soie Fe...   \n",
       "76820  1273354395  Happy Easter Taies D'oreiller En Lin Coussin S...   \n",
       "860    1323296971  Pratique Chasse Camo Camping Imperméable Camou...   \n",
       "15795   885908975  Cine Live - N° 51 - Wasabi RenoLe magazine qui...   \n",
       "\n",
       "       count_word  \n",
       "60735          52  \n",
       "9118           66  \n",
       "55855           6  \n",
       "42138           4  \n",
       "10948           8  \n",
       "...           ...  \n",
       "6265          103  \n",
       "54886         107  \n",
       "76820          86  \n",
       "860           219  \n",
       "15795          28  \n",
       "\n",
       "[67932 rows x 6 columns]"
      ]
     },
     "execution_count": 157,
     "metadata": {},
     "output_type": "execute_result"
    }
   ],
   "source": [
    "# Importer la classe train_test \n",
    "from sklearn.model_selection import train_test_split\n",
    "\n",
    "# Séparer le jeu de données en données d'entraînement et données test \n",
    "X_train_text, X_test_text, y_train, y_test = train_test_split(X, y, test_size=0.2,random_state=42)\n",
    "\n",
    "X_train_text"
   ]
  },
  {
   "cell_type": "markdown",
   "metadata": {},
   "source": [
    "Tokeniser: texte -> sequence entier (index dans un dictionaire):"
   ]
  },
  {
   "cell_type": "code",
   "execution_count": 158,
   "metadata": {},
   "outputs": [],
   "source": [
    "import tensorflow as tf\n",
    "# Définition du tokenizer\n",
    "tokenizer = tf.keras.preprocessing.text.Tokenizer(num_words=50000,\n",
    "                                                )\n",
    "# Mettre à jour le dictionnaire du tokenizer\n",
    "tokenizer.fit_on_texts(X_train_text.text)"
   ]
  },
  {
   "cell_type": "markdown",
   "metadata": {},
   "source": [
    "Stocker le dictionnaire de correspondance:"
   ]
  },
  {
   "cell_type": "code",
   "execution_count": 159,
   "metadata": {},
   "outputs": [],
   "source": [
    "# Définition des dictionnaires\n",
    "word2idx = tokenizer.word_index\n",
    "idx2word = tokenizer.index_word\n",
    "vocab_size = tokenizer.num_words\n"
   ]
  },
  {
   "cell_type": "markdown",
   "metadata": {},
   "source": [
    "• Transformer chaque review X_text_train en une séquence d'entiers à l'aide de la méthode texts_to_sequences"
   ]
  },
  {
   "cell_type": "code",
   "execution_count": 160,
   "metadata": {},
   "outputs": [],
   "source": [
    "X_train = tokenizer.texts_to_sequences(X_train_text.text)\n",
    "\n",
    "X_test = tokenizer.texts_to_sequences(X_test_text.text)"
   ]
  },
  {
   "cell_type": "markdown",
   "metadata": {},
   "source": [
    "• Transfomer la liste de sequence X_train en tableau numpy à l'aide de la fonction pad_sequences"
   ]
  },
  {
   "cell_type": "code",
   "execution_count": 161,
   "metadata": {},
   "outputs": [],
   "source": [
    "maxlen = 500\n",
    "X_train = tf.keras.preprocessing.sequence.pad_sequences(X_train, maxlen=maxlen, padding='post')\n",
    "X_test = tf.keras.preprocessing.sequence.pad_sequences(X_test, maxlen=maxlen, padding='post')"
   ]
  },
  {
   "cell_type": "code",
   "execution_count": 162,
   "metadata": {},
   "outputs": [
    {
     "data": {
      "text/plain": [
       "array([[  198, 10698, 40528, ...,     0,     0,     0],\n",
       "       [ 2492,    10,    70, ...,     0,     0,     0],\n",
       "       [ 3611,    17,   461, ...,     0,     0,     0],\n",
       "       ...,\n",
       "       [ 1802,  7702,  1366, ...,     0,     0,     0],\n",
       "       [  268,  3140,  6942, ...,     0,     0,     0],\n",
       "       [15137,  5659,   219, ...,     0,     0,     0]])"
      ]
     },
     "execution_count": 162,
     "metadata": {},
     "output_type": "execute_result"
    }
   ],
   "source": [
    "X_train"
   ]
  },
  {
   "cell_type": "code",
   "execution_count": 163,
   "metadata": {},
   "outputs": [
    {
     "data": {
      "text/plain": [
       "array([[  393,  1283,    70, ...,     0,     0,     0],\n",
       "       [ 3270, 20700,    24, ...,     0,     0,     0],\n",
       "       [  282,  1850,     9, ...,     0,     0,     0],\n",
       "       ...,\n",
       "       [  182,   268,   409, ...,     0,     0,     0],\n",
       "       [  932,     1,   416, ...,     0,     0,     0],\n",
       "       [22922,   994, 43185, ...,     0,     0,     0]])"
      ]
     },
     "execution_count": 163,
     "metadata": {},
     "output_type": "execute_result"
    }
   ],
   "source": [
    "X_test"
   ]
  },
  {
   "cell_type": "code",
   "execution_count": 186,
   "metadata": {},
   "outputs": [],
   "source": [
    "# Dataset de notre jeu de données\n",
    "text_train_set = tf.data.Dataset.from_tensor_slices((X_train,np.array([int(i) for i in y_train.values])))\n",
    "\n",
    "text_test_set = tf.data.Dataset.from_tensor_slices((X_test,np.array([int(i) for i in y_test.values])))"
   ]
  },
  {
   "cell_type": "code",
   "execution_count": 187,
   "metadata": {},
   "outputs": [],
   "source": [
    "# Ajouter la fonction load_image dans le pipeline des opérations. Séparer le résultat en lot de taille 32.\n",
    "text_train_set = text_train_set.map(lambda text, y: [text, y]).batch(32).repeat(-1)\n",
    "#dataset = dataset.map(lambda x, y: [load_image(x), y[:-1], y[1:]]).batch(16).repeat(-1)\n",
    "\n",
    "text_test_set = text_test_set.map(lambda text, y: [text, y]).batch(32).repeat(-1)"
   ]
  },
  {
   "cell_type": "code",
   "execution_count": 188,
   "metadata": {},
   "outputs": [],
   "source": [
    "# Définition d'un générateur python\n",
    "def generator(text_set):\n",
    "    iter_text = iter(text_set)\n",
    "    while True:\n",
    "        X_text, y_text = next(iter_text) #do not use this 'y_text' from text iterator!!! Tf does not recognise it and leads to bug during training\n",
    "\n",
    "        yield [X_text], y_text"
   ]
  },
  {
   "cell_type": "code",
   "execution_count": 189,
   "metadata": {},
   "outputs": [],
   "source": [
    "# Définition du générateur final.\n",
    "gen_train = generator(text_train_set)\n",
    "\n",
    "gen_test = generator(text_test_set)"
   ]
  },
  {
   "cell_type": "code",
   "execution_count": 202,
   "metadata": {},
   "outputs": [],
   "source": [
    "import json \n",
    "\n",
    "with open('classes.json') as f:\n",
    "    categories = json.load(f)\n",
    "\n",
    "i = 0\n",
    "y_dict = {}\n",
    "for category in categories:\n",
    "    y_train = y_train.replace(category,categories[category])\n",
    "    y_test = y_test.replace(category,categories[category])\n",
    "    y_dict[i] = category\n",
    "    i+=1"
   ]
  },
  {
   "cell_type": "code",
   "execution_count": 170,
   "metadata": {},
   "outputs": [],
   "source": [
    "#y_test"
   ]
  },
  {
   "cell_type": "markdown",
   "metadata": {},
   "source": [
    "### Modèle RNN"
   ]
  },
  {
   "cell_type": "code",
   "execution_count": 190,
   "metadata": {},
   "outputs": [
    {
     "name": "stdout",
     "output_type": "stream",
     "text": [
      "Model: \"model_5\"\n",
      "_________________________________________________________________\n",
      "Layer (type)                 Output Shape              Param #   \n",
      "=================================================================\n",
      "input (InputLayer)           [(None, None)]            0         \n",
      "_________________________________________________________________\n",
      "embed_RNN_v5 (Embedding)     (None, None, 256)         47877376  \n",
      "_________________________________________________________________\n",
      "GRU_RNN_v5 (GRU)             (None, None, 128)         148224    \n",
      "_________________________________________________________________\n",
      "dropout_1RNN_v5 (Dropout)    (None, None, 128)         0         \n",
      "_________________________________________________________________\n",
      "batchnormRNN_v5 (GlobalAvera (None, 128)               0         \n",
      "_________________________________________________________________\n",
      "dense_2_RNN_v5 (Dense)       (None, 256)               33024     \n",
      "_________________________________________________________________\n",
      "dropout_2_RNN_v5 (Dropout)   (None, 256)               0         \n",
      "_________________________________________________________________\n",
      "output_RNN_v5 (Dense)        (None, 27)                6939      \n",
      "=================================================================\n",
      "Total params: 48,065,563\n",
      "Trainable params: 48,065,563\n",
      "Non-trainable params: 0\n",
      "_________________________________________________________________\n"
     ]
    }
   ],
   "source": [
    "from tensorflow.keras.layers import Input, Embedding, GlobalAveragePooling1D, RNN, GRUCell, Dense, LSTM, Dropout, GRU\n",
    "from tensorflow.keras import Model\n",
    "\n",
    "embedding_dim = 256\n",
    "voc_size_inp = len(tokenizer.word_counts)+1\n",
    "\n",
    "\n",
    "text_inputs = Input(shape=(None,), dtype='int32',name='input')\n",
    "x = Embedding(voc_size_inp, embedding_dim, name= 'embed_' + filename)(text_inputs)\n",
    "#x = GRU(128, return_sequences=True, name='gru_' + filename)(x)\n",
    "x = GRU(128,return_sequences=True, name = 'GRU_' + filename)(x)\n",
    "#x = Dense(1024, activation='relu', name='dense_1_' + filename)(x)\n",
    "x = Dropout(0.3, name='dropout_1' + filename)(x)\n",
    "x = GlobalAveragePooling1D(name='batchnorm' + filename)(x)\n",
    "x = Dense(256, activation='relu', name='dense_2_' + filename)(x)\n",
    "x = Dropout(0.3, name='dropout_2_' + filename)(x)\n",
    "text_output = Dense(27, activation='softmax', name='output_' + filename)(x)\n",
    "\n",
    "model = Model(text_inputs, text_output)\n",
    "model.summary()"
   ]
  },
  {
   "cell_type": "code",
   "execution_count": 191,
   "metadata": {},
   "outputs": [],
   "source": [
    "from tensorflow.keras.optimizers import Adam\n",
    "\n",
    "model.compile(optimizer='adam',loss='sparse_categorical_crossentropy',metrics=['accuracy'])\n",
    "\n",
    "#model.compile(optimizer='adam', loss='sparse_categorical_crossentropy',metrics=['accuracy'])"
   ]
  },
  {
   "cell_type": "code",
   "execution_count": 192,
   "metadata": {},
   "outputs": [],
   "source": [
    "from tensorflow.keras import callbacks\n",
    "\n",
    "early_stopping = callbacks.EarlyStopping(monitor='val_accuracy',\n",
    "                                         patience=3,\n",
    "                                         mode='max',\n",
    "                                         restore_best_weights=True)\n",
    "\n",
    "\n",
    "checkpoint = callbacks.ModelCheckpoint(filepath= model_path + filename + '.hdf5', \n",
    "                                       monitor='val_accuracy',\n",
    "                                       save_best_only=True,\n",
    "                                       save_weights_only=False,\n",
    "                                       mode='max',\n",
    "                                       save_freq='epoch')\n",
    "\n",
    "red_on_plateau = callbacks.ReduceLROnPlateau(monitor='val_accuracy', \n",
    "                                             patience=2, \n",
    "                                             factor=0.1,\n",
    "                                             verbose=1)"
   ]
  },
  {
   "cell_type": "code",
   "execution_count": 193,
   "metadata": {},
   "outputs": [
    {
     "name": "stdout",
     "output_type": "stream",
     "text": [
      "Epoch 1/10\n"
     ]
    },
    {
     "ename": "InvalidArgumentError",
     "evalue": " Received a label value of 2705 which is outside the valid range of [0, 27).  Label values: 1320 1281 2403 1302 10 1320 2705 1300 1560 1280 2060 2522 1280 2060 1920 1560 2582 1920 1940 2403 40 1140 1140 1920 1920 2522 2060 2280 2403 2280 2585 2583\n\t [[node sparse_categorical_crossentropy/SparseSoftmaxCrossEntropyWithLogits/SparseSoftmaxCrossEntropyWithLogits (defined at <ipython-input-193-4f7949b22ba8>:3) ]] [Op:__inference_train_function_6672475]\n\nFunction call stack:\ntrain_function\n",
     "output_type": "error",
     "traceback": [
      "\u001b[1;31m---------------------------------------------------------------------------\u001b[0m",
      "\u001b[1;31mInvalidArgumentError\u001b[0m                      Traceback (most recent call last)",
      "\u001b[1;32m<ipython-input-193-4f7949b22ba8>\u001b[0m in \u001b[0;36m<module>\u001b[1;34m\u001b[0m\n\u001b[0;32m      1\u001b[0m \u001b[1;31m#model.load_weights(model_path + filename + '.hdf5')\u001b[0m\u001b[1;33m\u001b[0m\u001b[1;33m\u001b[0m\u001b[1;33m\u001b[0m\u001b[0m\n\u001b[0;32m      2\u001b[0m \u001b[1;33m\u001b[0m\u001b[0m\n\u001b[1;32m----> 3\u001b[1;33m \u001b[0mmodel\u001b[0m\u001b[1;33m.\u001b[0m\u001b[0mfit\u001b[0m\u001b[1;33m(\u001b[0m\u001b[0mgen_train\u001b[0m\u001b[1;33m,\u001b[0m \u001b[0msteps_per_epoch\u001b[0m\u001b[1;33m=\u001b[0m\u001b[0mint\u001b[0m\u001b[1;33m(\u001b[0m\u001b[0mlen\u001b[0m\u001b[1;33m(\u001b[0m\u001b[0my_train\u001b[0m\u001b[1;33m.\u001b[0m\u001b[0mvalues\u001b[0m\u001b[1;33m)\u001b[0m\u001b[1;33m/\u001b[0m\u001b[1;36m32\u001b[0m\u001b[1;33m)\u001b[0m\u001b[1;33m,\u001b[0m \u001b[0mvalidation_data\u001b[0m \u001b[1;33m=\u001b[0m \u001b[0mgen_test\u001b[0m\u001b[1;33m,\u001b[0m \u001b[0mvalidation_steps\u001b[0m \u001b[1;33m=\u001b[0m \u001b[0mint\u001b[0m\u001b[1;33m(\u001b[0m\u001b[0mlen\u001b[0m\u001b[1;33m(\u001b[0m\u001b[0my_test\u001b[0m\u001b[1;33m.\u001b[0m\u001b[0mvalues\u001b[0m\u001b[1;33m)\u001b[0m\u001b[1;33m/\u001b[0m\u001b[1;36m32\u001b[0m\u001b[1;33m)\u001b[0m\u001b[1;33m,\u001b[0m\u001b[0mepochs\u001b[0m\u001b[1;33m=\u001b[0m\u001b[1;36m10\u001b[0m\u001b[1;33m,\u001b[0m \u001b[0mworkers\u001b[0m\u001b[1;33m=\u001b[0m\u001b[1;36m1\u001b[0m\u001b[1;33m)\u001b[0m\u001b[1;33m\u001b[0m\u001b[1;33m\u001b[0m\u001b[0m\n\u001b[0m",
      "\u001b[1;32m~\\AppData\\Roaming\\Python\\Python38\\site-packages\\tensorflow\\python\\keras\\engine\\training.py\u001b[0m in \u001b[0;36mfit\u001b[1;34m(self, x, y, batch_size, epochs, verbose, callbacks, validation_split, validation_data, shuffle, class_weight, sample_weight, initial_epoch, steps_per_epoch, validation_steps, validation_batch_size, validation_freq, max_queue_size, workers, use_multiprocessing)\u001b[0m\n\u001b[0;32m   1181\u001b[0m                 _r=1):\n\u001b[0;32m   1182\u001b[0m               \u001b[0mcallbacks\u001b[0m\u001b[1;33m.\u001b[0m\u001b[0mon_train_batch_begin\u001b[0m\u001b[1;33m(\u001b[0m\u001b[0mstep\u001b[0m\u001b[1;33m)\u001b[0m\u001b[1;33m\u001b[0m\u001b[1;33m\u001b[0m\u001b[0m\n\u001b[1;32m-> 1183\u001b[1;33m               \u001b[0mtmp_logs\u001b[0m \u001b[1;33m=\u001b[0m \u001b[0mself\u001b[0m\u001b[1;33m.\u001b[0m\u001b[0mtrain_function\u001b[0m\u001b[1;33m(\u001b[0m\u001b[0miterator\u001b[0m\u001b[1;33m)\u001b[0m\u001b[1;33m\u001b[0m\u001b[1;33m\u001b[0m\u001b[0m\n\u001b[0m\u001b[0;32m   1184\u001b[0m               \u001b[1;32mif\u001b[0m \u001b[0mdata_handler\u001b[0m\u001b[1;33m.\u001b[0m\u001b[0mshould_sync\u001b[0m\u001b[1;33m:\u001b[0m\u001b[1;33m\u001b[0m\u001b[1;33m\u001b[0m\u001b[0m\n\u001b[0;32m   1185\u001b[0m                 \u001b[0mcontext\u001b[0m\u001b[1;33m.\u001b[0m\u001b[0masync_wait\u001b[0m\u001b[1;33m(\u001b[0m\u001b[1;33m)\u001b[0m\u001b[1;33m\u001b[0m\u001b[1;33m\u001b[0m\u001b[0m\n",
      "\u001b[1;32m~\\AppData\\Roaming\\Python\\Python38\\site-packages\\tensorflow\\python\\eager\\def_function.py\u001b[0m in \u001b[0;36m__call__\u001b[1;34m(self, *args, **kwds)\u001b[0m\n\u001b[0;32m    887\u001b[0m \u001b[1;33m\u001b[0m\u001b[0m\n\u001b[0;32m    888\u001b[0m       \u001b[1;32mwith\u001b[0m \u001b[0mOptionalXlaContext\u001b[0m\u001b[1;33m(\u001b[0m\u001b[0mself\u001b[0m\u001b[1;33m.\u001b[0m\u001b[0m_jit_compile\u001b[0m\u001b[1;33m)\u001b[0m\u001b[1;33m:\u001b[0m\u001b[1;33m\u001b[0m\u001b[1;33m\u001b[0m\u001b[0m\n\u001b[1;32m--> 889\u001b[1;33m         \u001b[0mresult\u001b[0m \u001b[1;33m=\u001b[0m \u001b[0mself\u001b[0m\u001b[1;33m.\u001b[0m\u001b[0m_call\u001b[0m\u001b[1;33m(\u001b[0m\u001b[1;33m*\u001b[0m\u001b[0margs\u001b[0m\u001b[1;33m,\u001b[0m \u001b[1;33m**\u001b[0m\u001b[0mkwds\u001b[0m\u001b[1;33m)\u001b[0m\u001b[1;33m\u001b[0m\u001b[1;33m\u001b[0m\u001b[0m\n\u001b[0m\u001b[0;32m    890\u001b[0m \u001b[1;33m\u001b[0m\u001b[0m\n\u001b[0;32m    891\u001b[0m       \u001b[0mnew_tracing_count\u001b[0m \u001b[1;33m=\u001b[0m \u001b[0mself\u001b[0m\u001b[1;33m.\u001b[0m\u001b[0mexperimental_get_tracing_count\u001b[0m\u001b[1;33m(\u001b[0m\u001b[1;33m)\u001b[0m\u001b[1;33m\u001b[0m\u001b[1;33m\u001b[0m\u001b[0m\n",
      "\u001b[1;32m~\\AppData\\Roaming\\Python\\Python38\\site-packages\\tensorflow\\python\\eager\\def_function.py\u001b[0m in \u001b[0;36m_call\u001b[1;34m(self, *args, **kwds)\u001b[0m\n\u001b[0;32m    948\u001b[0m         \u001b[1;31m# Lifting succeeded, so variables are initialized and we can run the\u001b[0m\u001b[1;33m\u001b[0m\u001b[1;33m\u001b[0m\u001b[1;33m\u001b[0m\u001b[0m\n\u001b[0;32m    949\u001b[0m         \u001b[1;31m# stateless function.\u001b[0m\u001b[1;33m\u001b[0m\u001b[1;33m\u001b[0m\u001b[1;33m\u001b[0m\u001b[0m\n\u001b[1;32m--> 950\u001b[1;33m         \u001b[1;32mreturn\u001b[0m \u001b[0mself\u001b[0m\u001b[1;33m.\u001b[0m\u001b[0m_stateless_fn\u001b[0m\u001b[1;33m(\u001b[0m\u001b[1;33m*\u001b[0m\u001b[0margs\u001b[0m\u001b[1;33m,\u001b[0m \u001b[1;33m**\u001b[0m\u001b[0mkwds\u001b[0m\u001b[1;33m)\u001b[0m\u001b[1;33m\u001b[0m\u001b[1;33m\u001b[0m\u001b[0m\n\u001b[0m\u001b[0;32m    951\u001b[0m     \u001b[1;32melse\u001b[0m\u001b[1;33m:\u001b[0m\u001b[1;33m\u001b[0m\u001b[1;33m\u001b[0m\u001b[0m\n\u001b[0;32m    952\u001b[0m       \u001b[0m_\u001b[0m\u001b[1;33m,\u001b[0m \u001b[0m_\u001b[0m\u001b[1;33m,\u001b[0m \u001b[0m_\u001b[0m\u001b[1;33m,\u001b[0m \u001b[0mfiltered_flat_args\u001b[0m \u001b[1;33m=\u001b[0m\u001b[0;31m \u001b[0m\u001b[0;31m\\\u001b[0m\u001b[1;33m\u001b[0m\u001b[1;33m\u001b[0m\u001b[0m\n",
      "\u001b[1;32m~\\AppData\\Roaming\\Python\\Python38\\site-packages\\tensorflow\\python\\eager\\function.py\u001b[0m in \u001b[0;36m__call__\u001b[1;34m(self, *args, **kwargs)\u001b[0m\n\u001b[0;32m   3021\u001b[0m       (graph_function,\n\u001b[0;32m   3022\u001b[0m        filtered_flat_args) = self._maybe_define_function(args, kwargs)\n\u001b[1;32m-> 3023\u001b[1;33m     return graph_function._call_flat(\n\u001b[0m\u001b[0;32m   3024\u001b[0m         filtered_flat_args, captured_inputs=graph_function.captured_inputs)  # pylint: disable=protected-access\n\u001b[0;32m   3025\u001b[0m \u001b[1;33m\u001b[0m\u001b[0m\n",
      "\u001b[1;32m~\\AppData\\Roaming\\Python\\Python38\\site-packages\\tensorflow\\python\\eager\\function.py\u001b[0m in \u001b[0;36m_call_flat\u001b[1;34m(self, args, captured_inputs, cancellation_manager)\u001b[0m\n\u001b[0;32m   1958\u001b[0m         and executing_eagerly):\n\u001b[0;32m   1959\u001b[0m       \u001b[1;31m# No tape is watching; skip to running the function.\u001b[0m\u001b[1;33m\u001b[0m\u001b[1;33m\u001b[0m\u001b[1;33m\u001b[0m\u001b[0m\n\u001b[1;32m-> 1960\u001b[1;33m       return self._build_call_outputs(self._inference_function.call(\n\u001b[0m\u001b[0;32m   1961\u001b[0m           ctx, args, cancellation_manager=cancellation_manager))\n\u001b[0;32m   1962\u001b[0m     forward_backward = self._select_forward_and_backward_functions(\n",
      "\u001b[1;32m~\\AppData\\Roaming\\Python\\Python38\\site-packages\\tensorflow\\python\\eager\\function.py\u001b[0m in \u001b[0;36mcall\u001b[1;34m(self, ctx, args, cancellation_manager)\u001b[0m\n\u001b[0;32m    589\u001b[0m       \u001b[1;32mwith\u001b[0m \u001b[0m_InterpolateFunctionError\u001b[0m\u001b[1;33m(\u001b[0m\u001b[0mself\u001b[0m\u001b[1;33m)\u001b[0m\u001b[1;33m:\u001b[0m\u001b[1;33m\u001b[0m\u001b[1;33m\u001b[0m\u001b[0m\n\u001b[0;32m    590\u001b[0m         \u001b[1;32mif\u001b[0m \u001b[0mcancellation_manager\u001b[0m \u001b[1;32mis\u001b[0m \u001b[1;32mNone\u001b[0m\u001b[1;33m:\u001b[0m\u001b[1;33m\u001b[0m\u001b[1;33m\u001b[0m\u001b[0m\n\u001b[1;32m--> 591\u001b[1;33m           outputs = execute.execute(\n\u001b[0m\u001b[0;32m    592\u001b[0m               \u001b[0mstr\u001b[0m\u001b[1;33m(\u001b[0m\u001b[0mself\u001b[0m\u001b[1;33m.\u001b[0m\u001b[0msignature\u001b[0m\u001b[1;33m.\u001b[0m\u001b[0mname\u001b[0m\u001b[1;33m)\u001b[0m\u001b[1;33m,\u001b[0m\u001b[1;33m\u001b[0m\u001b[1;33m\u001b[0m\u001b[0m\n\u001b[0;32m    593\u001b[0m               \u001b[0mnum_outputs\u001b[0m\u001b[1;33m=\u001b[0m\u001b[0mself\u001b[0m\u001b[1;33m.\u001b[0m\u001b[0m_num_outputs\u001b[0m\u001b[1;33m,\u001b[0m\u001b[1;33m\u001b[0m\u001b[1;33m\u001b[0m\u001b[0m\n",
      "\u001b[1;32m~\\AppData\\Roaming\\Python\\Python38\\site-packages\\tensorflow\\python\\eager\\execute.py\u001b[0m in \u001b[0;36mquick_execute\u001b[1;34m(op_name, num_outputs, inputs, attrs, ctx, name)\u001b[0m\n\u001b[0;32m     57\u001b[0m   \u001b[1;32mtry\u001b[0m\u001b[1;33m:\u001b[0m\u001b[1;33m\u001b[0m\u001b[1;33m\u001b[0m\u001b[0m\n\u001b[0;32m     58\u001b[0m     \u001b[0mctx\u001b[0m\u001b[1;33m.\u001b[0m\u001b[0mensure_initialized\u001b[0m\u001b[1;33m(\u001b[0m\u001b[1;33m)\u001b[0m\u001b[1;33m\u001b[0m\u001b[1;33m\u001b[0m\u001b[0m\n\u001b[1;32m---> 59\u001b[1;33m     tensors = pywrap_tfe.TFE_Py_Execute(ctx._handle, device_name, op_name,\n\u001b[0m\u001b[0;32m     60\u001b[0m                                         inputs, attrs, num_outputs)\n\u001b[0;32m     61\u001b[0m   \u001b[1;32mexcept\u001b[0m \u001b[0mcore\u001b[0m\u001b[1;33m.\u001b[0m\u001b[0m_NotOkStatusException\u001b[0m \u001b[1;32mas\u001b[0m \u001b[0me\u001b[0m\u001b[1;33m:\u001b[0m\u001b[1;33m\u001b[0m\u001b[1;33m\u001b[0m\u001b[0m\n",
      "\u001b[1;31mInvalidArgumentError\u001b[0m:  Received a label value of 2705 which is outside the valid range of [0, 27).  Label values: 1320 1281 2403 1302 10 1320 2705 1300 1560 1280 2060 2522 1280 2060 1920 1560 2582 1920 1940 2403 40 1140 1140 1920 1920 2522 2060 2280 2403 2280 2585 2583\n\t [[node sparse_categorical_crossentropy/SparseSoftmaxCrossEntropyWithLogits/SparseSoftmaxCrossEntropyWithLogits (defined at <ipython-input-193-4f7949b22ba8>:3) ]] [Op:__inference_train_function_6672475]\n\nFunction call stack:\ntrain_function\n"
     ]
    }
   ],
   "source": [
    "#model.load_weights(model_path + filename + '.hdf5')\n",
    "\n",
    "model.fit(gen_train, steps_per_epoch=int(len(y_train.values)/32), validation_data = gen_test, validation_steps = int(len(y_test.values)/32),epochs=10, workers=1)"
   ]
  },
  {
   "cell_type": "code",
   "execution_count": null,
   "metadata": {},
   "outputs": [],
   "source": [
    "#model.load_weights(model_path + filename + '.hdf5')\n",
    "#history = model.fit(X_train, y_train, batch_size = 32, epochs=30, validation_data = (X_test, y_test),callbacks=[early_stopping, checkpoint,red_on_plateau])"
   ]
  },
  {
   "cell_type": "code",
   "execution_count": null,
   "metadata": {},
   "outputs": [],
   "source": [
    "model.save(model_path + filename + '.hdf5')"
   ]
  },
  {
   "cell_type": "code",
   "execution_count": null,
   "metadata": {},
   "outputs": [],
   "source": [
    "saved_model = tf.keras.models.load_model(model_path + filename + '.hdf5')\n",
    "#saved_model.load_weights(model_path + filename + '.hdf5')\n",
    "saved_model.summary()"
   ]
  },
  {
   "cell_type": "code",
   "execution_count": null,
   "metadata": {},
   "outputs": [],
   "source": [
    "y_pred_prob = saved_model.predict(X_test)"
   ]
  },
  {
   "cell_type": "code",
   "execution_count": null,
   "metadata": {},
   "outputs": [],
   "source": [
    "y_pred = [y_dict[i] for i in np.argmax(y_pred_prob, axis=1)]\n",
    "y_test_ = [y_dict[i] for i in y_test]"
   ]
  },
  {
   "cell_type": "code",
   "execution_count": null,
   "metadata": {},
   "outputs": [],
   "source": [
    "y_pred #2905,1281,2060"
   ]
  },
  {
   "cell_type": "code",
   "execution_count": null,
   "metadata": {},
   "outputs": [],
   "source": [
    "from sklearn.metrics import f1_score, classification_report\n",
    "\n",
    "print(classification_report(y_test_,y_pred))"
   ]
  },
  {
   "cell_type": "code",
   "execution_count": null,
   "metadata": {},
   "outputs": [],
   "source": [
    "from sklearn import metrics\n",
    "import matplotlib.pyplot as plt # Pour l'affichage d'images\n",
    "from matplotlib import cm # Pour importer de nouvelles cartes de couleur\n",
    "%matplotlib inline\n",
    "import itertools # Pour créer des iterateurs\n",
    "\n",
    "y_organised = ['10','2280','2403','2705','2522',\n",
    "               '40','50','2905','2462','60',\n",
    "               '1280','1281','1300','1180','1140','1160',\n",
    "               '1320','1560',\n",
    "               '2582','2583','2585','1302','2220',\n",
    "               '1920','2060',\n",
    "               '1301','1940'\n",
    "              ]\n",
    "\n",
    "def conf_matx(y_test,y_pred):\n",
    "    #Réponse valable:\n",
    "    #cnf_matrix = metrics.confusion_matrix(y_test,y_pred,labels=list(set(y_pred)))\n",
    "    cnf_matrix = metrics.confusion_matrix(y_test,y_pred,labels=y_organised)\n",
    "    y_organised\n",
    "\n",
    "    pond_matrix = []\n",
    "    for line in cnf_matrix:\n",
    "        pond_line = []\n",
    "        for cell in line:\n",
    "            pond_line.append(round(cell/sum(line),2))\n",
    "        pond_matrix.append(pond_line)\n",
    "        #print(sum(line))\n",
    "        #print(sum(pond_line))\n",
    "    cnf_matrix = np.array(pond_matrix)\n",
    "\n",
    "    ###Optionnel: Afficher une matrice de confusion sous forme de tableau coloré\n",
    "    #classes = set(y_pred)\n",
    "    classes = y_organised\n",
    "\n",
    "    plt.figure(figsize=(17,17))\n",
    "\n",
    "    plt.imshow(cnf_matrix, interpolation='nearest',cmap='Blues')\n",
    "    plt.title(\"Matrice de confusion\")\n",
    "    plt.colorbar()\n",
    "    tick_marks = np.arange(len(classes))\n",
    "    #tick_marks = set(y_test)\n",
    "    plt.xticks(tick_marks, classes)\n",
    "    plt.yticks(tick_marks, classes)\n",
    "\n",
    "    for i, j in itertools.product(range(cnf_matrix.shape[0]), range(cnf_matrix.shape[1])):\n",
    "        plt.text(j, i, cnf_matrix[i, j],\n",
    "                 horizontalalignment=\"center\",\n",
    "                 color=\"white\" if cnf_matrix[i, j] > ( cnf_matrix.max() / 2) else \"black\")\n",
    "\n",
    "    plt.ylabel('Vrais labels')\n",
    "    plt.xlabel('Labels prédits')\n",
    "    plt.show()\n",
    "    \n",
    "conf_matx(y_test_,y_pred)"
   ]
  },
  {
   "cell_type": "code",
   "execution_count": null,
   "metadata": {},
   "outputs": [],
   "source": [
    "y_pred_prob = model.predict(X_test)"
   ]
  },
  {
   "cell_type": "code",
   "execution_count": null,
   "metadata": {},
   "outputs": [],
   "source": [
    "y_pred = [y_dict[i] for i in np.argmax(y_pred_prob, axis=1)]\n",
    "y_test_ = [y_dict[i] for i in y_test]\n",
    "\n",
    "y_pred"
   ]
  },
  {
   "cell_type": "code",
   "execution_count": null,
   "metadata": {},
   "outputs": [],
   "source": [
    "from sklearn.metrics import f1_score, classification_report\n",
    "\n",
    "print(classification_report(y_test_,y_pred))"
   ]
  },
  {
   "cell_type": "code",
   "execution_count": null,
   "metadata": {},
   "outputs": [],
   "source": [
    "from sklearn import metrics\n",
    "import matplotlib.pyplot as plt # Pour l'affichage d'images\n",
    "from matplotlib import cm # Pour importer de nouvelles cartes de couleur\n",
    "%matplotlib inline\n",
    "import itertools # Pour créer des iterateurs\n",
    "\n",
    "y_organised = ['10','2280','2403','2705','2522',\n",
    "               '40','50','2905','2462','60',\n",
    "               '1280','1281','1300','1180','1140','1160',\n",
    "               '1320','1560',\n",
    "               '2582','2583','2585','1302','2220',\n",
    "               '1920','2060',\n",
    "               '1301','1940'\n",
    "              ]\n",
    "\n",
    "def conf_matx(y_test,y_pred):\n",
    "    #Réponse valable:\n",
    "    #cnf_matrix = metrics.confusion_matrix(y_test,y_pred,labels=list(set(y_pred)))\n",
    "    cnf_matrix = metrics.confusion_matrix(y_test,y_pred,labels=y_organised)\n",
    "    y_organised\n",
    "\n",
    "    pond_matrix = []\n",
    "    for line in cnf_matrix:\n",
    "        pond_line = []\n",
    "        for cell in line:\n",
    "            pond_line.append(round(cell/sum(line),2))\n",
    "        pond_matrix.append(pond_line)\n",
    "        #print(sum(line))\n",
    "        #print(sum(pond_line))\n",
    "    cnf_matrix = np.array(pond_matrix)\n",
    "\n",
    "    ###Optionnel: Afficher une matrice de confusion sous forme de tableau coloré\n",
    "    #classes = set(y_pred)\n",
    "    classes = y_organised\n",
    "\n",
    "    plt.figure(figsize=(17,17))\n",
    "\n",
    "    plt.imshow(cnf_matrix, interpolation='nearest',cmap='Blues')\n",
    "    plt.title(\"Matrice de confusion\")\n",
    "    plt.colorbar()\n",
    "    tick_marks = np.arange(len(classes))\n",
    "    #tick_marks = set(y_test)\n",
    "    plt.xticks(tick_marks, classes)\n",
    "    plt.yticks(tick_marks, classes)\n",
    "\n",
    "    for i, j in itertools.product(range(cnf_matrix.shape[0]), range(cnf_matrix.shape[1])):\n",
    "        plt.text(j, i, cnf_matrix[i, j],\n",
    "                 horizontalalignment=\"center\",\n",
    "                 color=\"white\" if cnf_matrix[i, j] > ( cnf_matrix.max() / 2) else \"black\")\n",
    "\n",
    "    plt.ylabel('Vrais labels')\n",
    "    plt.xlabel('Labels prédits')\n",
    "    plt.show()\n",
    "    \n",
    "conf_matx(y_test_,y_pred)"
   ]
  },
  {
   "cell_type": "code",
   "execution_count": null,
   "metadata": {},
   "outputs": [],
   "source": [
    "df_csv = pd.read_csv('predictions.csv',index_col=0)\n",
    "df_csv"
   ]
  },
  {
   "cell_type": "code",
   "execution_count": null,
   "metadata": {},
   "outputs": [],
   "source": [
    "#df_total = pd.DataFrame(index = y.index.to_list())\n",
    "#df_real = pd.DataFrame(y.to_list(),index = y.index.to_list(),columns = ['real'])\n",
    "df_pred = pd.DataFrame(y_pred,index = y_test.index.to_list(),columns = [filename])"
   ]
  },
  {
   "cell_type": "code",
   "execution_count": null,
   "metadata": {},
   "outputs": [],
   "source": [
    "df = pd.concat([df_csv,df_pred],axis=1)\n",
    "df"
   ]
  },
  {
   "cell_type": "code",
   "execution_count": null,
   "metadata": {},
   "outputs": [],
   "source": [
    "df.to_csv('predictions.csv')"
   ]
  },
  {
   "cell_type": "code",
   "execution_count": null,
   "metadata": {},
   "outputs": [],
   "source": [
    "df.dropna(subset=['RNN_v3','RNN_v4'],inplace=True)"
   ]
  },
  {
   "cell_type": "code",
   "execution_count": null,
   "metadata": {},
   "outputs": [],
   "source": [
    "df"
   ]
  },
  {
   "cell_type": "code",
   "execution_count": null,
   "metadata": {},
   "outputs": [],
   "source": [
    "new_y_pred = []\n",
    "for x, y, z in zip(df['real'].to_list(), df['RNN_v3'].to_list(), df['RNN_v4'].to_list()):\n",
    "    if y == x or z == x:\n",
    "        new_y_pred.append(str(x))\n",
    "    else:\n",
    "        new_y_pred.append(str(z))"
   ]
  },
  {
   "cell_type": "code",
   "execution_count": null,
   "metadata": {},
   "outputs": [],
   "source": [
    "\n",
    "print(classification_report(df['real'].map(str).to_list(),new_y_pred))"
   ]
  }
 ],
 "metadata": {
  "kernelspec": {
   "display_name": "Python 3",
   "language": "python",
   "name": "python3"
  },
  "language_info": {
   "codemirror_mode": {
    "name": "ipython",
    "version": 3
   },
   "file_extension": ".py",
   "mimetype": "text/x-python",
   "name": "python",
   "nbconvert_exporter": "python",
   "pygments_lexer": "ipython3",
   "version": "3.8.3"
  }
 },
 "nbformat": 4,
 "nbformat_minor": 4
}
