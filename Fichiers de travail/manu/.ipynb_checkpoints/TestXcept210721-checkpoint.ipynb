{
  "nbformat": 4,
  "nbformat_minor": 0,
  "metadata": {
    "kernelspec": {
      "display_name": "Python 3",
      "language": "python",
      "name": "python3"
    },
    "language_info": {
      "codemirror_mode": {
        "name": "ipython",
        "version": 3
      },
      "file_extension": ".py",
      "mimetype": "text/x-python",
      "name": "python",
      "nbconvert_exporter": "python",
      "pygments_lexer": "ipython3",
      "version": "3.8.8"
    },
    "colab": {
      "name": "TestXcept210721.ipynb",
      "provenance": [],
      "include_colab_link": true
    }
  },
  "cells": [
    {
      "cell_type": "markdown",
      "metadata": {
        "id": "view-in-github",
        "colab_type": "text"
      },
      "source": [
        "<a href=\"https://colab.research.google.com/github/Ragdehl/Rakuten_py/blob/main/manu/TestXcept210721.ipynb\" target=\"_parent\"><img src=\"https://colab.research.google.com/assets/colab-badge.svg\" alt=\"Open In Colab\"/></a>"
      ]
    },
    {
      "cell_type": "code",
      "metadata": {
        "id": "8nD2NU2pUxKa"
      },
      "source": [
        "import os\n",
        "import glob\n",
        "import pandas as pd\n",
        "import numpy as np\n",
        "import seaborn as sns\n",
        "import matplotlib.pyplot as plt\n",
        "import numpy as np\n",
        "from sklearn.model_selection import train_test_split\n",
        "from tensorflow.python.keras.models import Sequential\n",
        "from tensorflow.python.keras.layers import Dropout,Dense, Flatten, GlobalAveragePooling2D\n",
        "from keras import layers\n",
        "from keras.layers import *\n",
        "from keras.optimizers import *\n",
        "from keras.applications import *\n",
        "from keras.models import Model\n",
        "from keras.optimizers import SGD\n",
        "from keras.applications.xception import Xception, preprocess_input\n",
        "from keras.models import Model\n",
        "from keras.preprocessing.image import ImageDataGenerator\n",
        "from keras.callbacks import ModelCheckpoint, EarlyStopping\n",
        "import keras.applications as kapps\n",
        "from keras import backend as k\n",
        "from tensorflow.keras.optimizers import RMSprop, Adam\n",
        "from tensorflow.keras import callbacks"
      ],
      "execution_count": null,
      "outputs": []
    },
    {
      "cell_type": "code",
      "metadata": {
        "id": "OOYv6NiZUxKc",
        "outputId": "a847a251-fe99-411b-d254-c936b21d6ee7"
      },
      "source": [
        "X = pd.read_csv('X_train_update.csv',index_col=0)\n",
        "y = pd.read_csv('Y_train_CVw08PX.csv',index_col=0)\n",
        "\n",
        "current_path = os.getcwd() \n",
        "images_path = current_path + r'/images2/image_train/'\n",
        "images_list = os.listdir(images_path)\n",
        "X['image name'] = 'image_' + X['imageid'].map(str) + '_product_' + X['productid'].map(str) + '.jpg'\n",
        "\n",
        "X_train, X_test, y_train, y_test = train_test_split(X, y, test_size = 0.2, random_state = 123)\n",
        "X_train, X_val, y_train, y_val = train_test_split(X_train, y_train, test_size = 0.1, random_state = 123)\n",
        "X_val = X_train.iloc[:8400,:]\n",
        "y_val = y_train.iloc[:8400,:]\n",
        "X_train = X_train.iloc[:84000,:]\n",
        "y_train = y_train.iloc[:84000:,:]\n",
        "X_test = X_test.iloc[:13800,:]\n",
        "y_test = y_test.iloc[:13800,:]\n",
        "\n",
        "X_train[\"class\"] = y_train\n",
        "X_test[\"class\"] = y_test\n",
        "X_val[\"class\"] = y_val\n",
        "\n",
        "train_data_generator = ImageDataGenerator(rescale = 1./255, rotation_range = 10, width_shift_range = 0.15, height_shift_range = 0.15,zoom_range = 1.1, horizontal_flip = True)\n",
        "val_data_generator = ImageDataGenerator(rescale = 1./255, rotation_range = 10, width_shift_range = 0.15, height_shift_range = 0.15,zoom_range = 1.1,horizontal_flip = True)\n",
        "test_data_generator = ImageDataGenerator(rescale = 1./255)\n",
        "\n",
        "batch_size = 32 #\n",
        "path = images_path\n",
        "X_train[\"class\"] = X_train[\"class\"].astype(str)\n",
        "X_test[\"class\"] = X_test[\"class\"].astype(str)\n",
        "X_val[\"class\"] = X_val[\"class\"].astype(str)\n",
        "\n",
        "train_generator = train_data_generator.flow_from_dataframe(dataframe=X_train, directory=path, x_col = \"image name\", y_col = \"class\",\n",
        "class_mode =\"sparse\", target_size = (240, 240), batch_size = batch_size)\n",
        "\n",
        "val_generator = val_data_generator.flow_from_dataframe(dataframe=X_val, directory=path, x_col = \"image name\", y_col = \"class\",\n",
        "class_mode =\"sparse\", target_size = (240, 240), batch_size = batch_size)\n",
        "\n",
        "test_generator = test_data_generator.flow_from_dataframe(dataframe=X_test, directory=path, x_col = \"image name\", y_col = \"class\",\n",
        "class_mode =\"sparse\", target_size = (240, 240), batch_size = batch_size)\n"
      ],
      "execution_count": null,
      "outputs": [
        {
          "output_type": "stream",
          "text": [
            "Found 61138 validated image filenames belonging to 27 classes.\n",
            "Found 8400 validated image filenames belonging to 27 classes.\n",
            "Found 13800 validated image filenames belonging to 27 classes.\n"
          ],
          "name": "stdout"
        }
      ]
    },
    {
      "cell_type": "code",
      "metadata": {
        "id": "xm_ex22tUxKd"
      },
      "source": [
        "basemodel = kapps.xception.Xception( input_shape = (240, 240, 3) ,include_top = False, weights = 'imagenet')\n",
        "basemodel.trainable = False\n",
        "\n",
        "x = GlobalAveragePooling2D() (basemodel.output) #\n",
        "x = layers.Flatten() (x)\n",
        "x = layers.Dense(1024, activation='relu') (x)\n",
        "x = layers.BatchNormalization (trainable = True) (x) #\n",
        "x = layers.Dropout(0.35) (x)\n",
        "x = layers.Dense(512, activation='relu') (x)\n",
        "x = layers.BatchNormalization (trainable = True) (x)\n",
        "x = layers.Dropout(0.30) (x)\n",
        "x = layers.Dense(256, activation='relu') (x)\n",
        "x = layers.BatchNormalization (trainable = True) (x)\n",
        "x = layers.Dropout(0.25) (x)\n",
        "x = layers.Dense(128, activation='relu') (x)\n",
        "x = layers.BatchNormalization (trainable = True) (x)\n",
        "x = layers.Dense(27, activation='softmax') (x)\n",
        "\n",
        "model = tf.keras.models.Model(basemodel.input, x)\n",
        "model.compile(optimizer = Adam(learning_rate=0.0001), loss = 'sparse_categorical_crossentropy', metrics = ['acc'])"
      ],
      "execution_count": null,
      "outputs": []
    },
    {
      "cell_type": "code",
      "metadata": {
        "id": "Mh0zsomEUxKe",
        "outputId": "6ec2e2f2-49bc-4ed7-a677-e59041c3d091"
      },
      "source": [
        "cwd = os.getcwd()\n",
        "filepath = cwd\n",
        "checkpoint = callbacks.ModelCheckpoint(filepath = filepath, monitor = 'val_loss', save_best_only = True, save_weights_only = False,\n",
        "                                       mode = 'min', save_freq = 'epoch')\n",
        "epoch = 10\n",
        "\n",
        "test_history = model.fit(train_generator, epochs = epoch,steps_per_epoch = len(X_train)//batch_size, validation_data = val_generator,\n",
        "                        validation_steps = len(X_val)//batch_size) #, callbacks = [checkpoint])"
      ],
      "execution_count": null,
      "outputs": [
        {
          "output_type": "stream",
          "text": [
            "Epoch 1/10\n",
            "1910/1910 [==============================] - 2531s 1s/step - loss: 2.3138 - acc: 0.3299 - val_loss: 2.1094 - val_acc: 0.3805\n",
            "Epoch 2/10\n",
            "1910/1910 [==============================] - 2631s 1s/step - loss: 2.0934 - acc: 0.3833 - val_loss: 2.0396 - val_acc: 0.3987\n",
            "Epoch 3/10\n",
            "1910/1910 [==============================] - 2650s 1s/step - loss: 2.0278 - acc: 0.4015 - val_loss: 1.9881 - val_acc: 0.4102\n",
            "Epoch 4/10\n",
            "1910/1910 [==============================] - 2627s 1s/step - loss: 1.9880 - acc: 0.4100 - val_loss: 1.9233 - val_acc: 0.4265\n",
            "Epoch 5/10\n",
            "1910/1910 [==============================] - 2573s 1s/step - loss: 1.9487 - acc: 0.4214 - val_loss: 1.9020 - val_acc: 0.4352\n",
            "Epoch 6/10\n",
            "1910/1910 [==============================] - 2625s 1s/step - loss: 1.9214 - acc: 0.4321 - val_loss: 1.8752 - val_acc: 0.4370\n",
            "Epoch 7/10\n",
            "1910/1910 [==============================] - 2695s 1s/step - loss: 1.8992 - acc: 0.4376 - val_loss: 1.8645 - val_acc: 0.4463\n",
            "Epoch 8/10\n",
            "1910/1910 [==============================] - 2630s 1s/step - loss: 1.8706 - acc: 0.4468 - val_loss: 1.8311 - val_acc: 0.4540\n",
            "Epoch 9/10\n",
            "1910/1910 [==============================] - 2643s 1s/step - loss: 1.8491 - acc: 0.4528 - val_loss: 1.8269 - val_acc: 0.4548\n",
            "Epoch 10/10\n",
            "1910/1910 [==============================] - 2602s 1s/step - loss: 1.8336 - acc: 0.4522 - val_loss: 1.7930 - val_acc: 0.4709\n"
          ],
          "name": "stdout"
        }
      ]
    },
    {
      "cell_type": "code",
      "metadata": {
        "id": "a42PMDgrUxKf",
        "outputId": "2e01c6ec-6800-43f5-f191-b7d5f725d212"
      },
      "source": [
        "for layer in basemodel.layers[-4:]:\n",
        "    layer.trainable = True\n",
        "    \n",
        "lr_plateau = callbacks.ReduceLROnPlateau(monitor='val_loss', patience=1, verbose=2, mode='min')\n",
        "model.compile(optimizer= Adam(learning_rate=0.0001) , loss='sparse_categorical_crossentropy', metrics = ['accuracy'])\n",
        "hist_unfreeze21 = model.fit(train_generator, epochs = 10, steps_per_epoch = len(X_train)//batch_size, validation_data=test_generator,\n",
        "                                validation_steps=len(X_val)//batch_size, callbacks = [lr_plateau])"
      ],
      "execution_count": null,
      "outputs": [
        {
          "output_type": "stream",
          "text": [
            "Epoch 1/10\n",
            "1910/1910 [==============================] - 2946s 2s/step - loss: 1.8513 - accuracy: 0.4501 - val_loss: 1.4540 - val_accuracy: 0.5513\n",
            "Epoch 2/10\n",
            "1910/1910 [==============================] - 3005s 2s/step - loss: 1.8036 - accuracy: 0.4617 - val_loss: 1.4014 - val_accuracy: 0.5745\n",
            "Epoch 3/10\n",
            "1910/1910 [==============================] - 2967s 2s/step - loss: 1.7685 - accuracy: 0.4735 - val_loss: 1.3891 - val_accuracy: 0.5768\n",
            "Epoch 4/10\n",
            "1910/1910 [==============================] - 3000s 2s/step - loss: 1.7361 - accuracy: 0.4816 - val_loss: 1.4000 - val_accuracy: 0.5736\n",
            "\n",
            "Epoch 00004: ReduceLROnPlateau reducing learning rate to 9.999999747378752e-06.\n",
            "Epoch 5/10\n",
            "1910/1910 [==============================] - 3068s 2s/step - loss: 1.6558 - accuracy: 0.5035 - val_loss: 1.3302 - val_accuracy: 0.5959\n",
            "Epoch 6/10\n",
            "1910/1910 [==============================] - 3067s 2s/step - loss: 1.6247 - accuracy: 0.5136 - val_loss: 1.3160 - val_accuracy: 0.6034\n",
            "Epoch 7/10\n",
            "1910/1910 [==============================] - 3002s 2s/step - loss: 1.6135 - accuracy: 0.5160 - val_loss: 1.3373 - val_accuracy: 0.5942\n",
            "\n",
            "Epoch 00007: ReduceLROnPlateau reducing learning rate to 9.999999747378752e-07.\n",
            "Epoch 8/10\n",
            "1910/1910 [==============================] - 3092s 2s/step - loss: 1.6070 - accuracy: 0.5187 - val_loss: 1.3378 - val_accuracy: 0.5969\n",
            "\n",
            "Epoch 00008: ReduceLROnPlateau reducing learning rate to 9.999999974752428e-08.\n",
            "Epoch 9/10\n",
            "1910/1910 [==============================] - 2872s 2s/step - loss: 1.5970 - accuracy: 0.5202 - val_loss: 1.3328 - val_accuracy: 0.5970\n",
            "\n",
            "Epoch 00009: ReduceLROnPlateau reducing learning rate to 1.0000000116860975e-08.\n",
            "Epoch 10/10\n",
            "1910/1910 [==============================] - 2906s 2s/step - loss: 1.6001 - accuracy: 0.5196 - val_loss: 1.3073 - val_accuracy: 0.6058\n"
          ],
          "name": "stdout"
        }
      ]
    },
    {
      "cell_type": "code",
      "metadata": {
        "id": "5PqIHghaUxKf",
        "outputId": "ae56b5b1-575a-466d-c540-4a5d8cd1f317"
      },
      "source": [
        "import pandas as pd\n",
        "pd.DataFrame(hist_unfreeze21.history).plot(figsize=(12, 8))\n",
        "plt.grid(True)\n",
        "plt.gca().set_ylim(0.3, 0.7) \n",
        "plt.show()"
      ],
      "execution_count": null,
      "outputs": [
        {
          "output_type": "display_data",
          "data": {
            "image/png": "[encoded data removed]",
            "text/plain": [
              "<Figure size 864x576 with 1 Axes>"
            ]
          },
          "metadata": {
            "tags": [],
            "needs_background": "light"
          }
        }
      ]
    },
    {
      "cell_type": "markdown",
      "metadata": {
        "id": "_qPad5IlUxKg"
      },
      "source": [
        "y_pred21 = model.predict(test_generator, verbose = 1)\n",
        "y_pred21 = y_pred19.argmax(axis = 1)"
      ]
    }
  ]
}