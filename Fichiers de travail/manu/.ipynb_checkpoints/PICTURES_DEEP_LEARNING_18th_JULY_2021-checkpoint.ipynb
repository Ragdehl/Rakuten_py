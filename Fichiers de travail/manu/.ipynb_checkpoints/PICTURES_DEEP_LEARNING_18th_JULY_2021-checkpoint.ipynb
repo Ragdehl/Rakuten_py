{
  "nbformat": 4,
  "nbformat_minor": 5,
  "metadata": {
    "kernelspec": {
      "display_name": "Python 3",
      "language": "python",
      "name": "python3"
    },
    "language_info": {
      "codemirror_mode": {
        "name": "ipython",
        "version": 3
      },
      "file_extension": ".py",
      "mimetype": "text/x-python",
      "name": "python",
      "nbconvert_exporter": "python",
      "pygments_lexer": "ipython3",
      "version": "3.8.8"
    },
    "colab": {
      "name": "PICTURES DEEP LEARNING 18th JULY 2021.ipynb",
      "provenance": [],
      "include_colab_link": true
    }
  },
  "cells": [
    {
      "cell_type": "markdown",
      "metadata": {
        "id": "view-in-github",
        "colab_type": "text"
      },
      "source": [
        "<a href=\"https://colab.research.google.com/github/Ragdehl/Rakuten_py/blob/main/manu/PICTURES_DEEP_LEARNING_18th_JULY_2021.ipynb\" target=\"_parent\"><img src=\"https://colab.research.google.com/assets/colab-badge.svg\" alt=\"Open In Colab\"/></a>"
      ]
    },
    {
      "cell_type": "code",
      "metadata": {
        "id": "computational-strength"
      },
      "source": [
        "import pandas as pd\n",
        "import numpy as np\n",
        "import seaborn as sns\n",
        "import matplotlib.pyplot as plt\n",
        "import numpy as np\n",
        "import glob\n",
        "import os"
      ],
      "id": "computational-strength",
      "execution_count": null,
      "outputs": []
    },
    {
      "cell_type": "code",
      "metadata": {
        "id": "entertaining-weapon"
      },
      "source": [
        "from keras.layers import Dense, GlobalAveragePooling2D\n",
        "from keras.models import Model\n",
        "from keras.optimizers import SGD\n",
        "from keras.preprocessing.image import ImageDataGenerator"
      ],
      "id": "entertaining-weapon",
      "execution_count": null,
      "outputs": []
    },
    {
      "cell_type": "code",
      "metadata": {
        "id": "tamil-individual"
      },
      "source": [
        "X = pd.read_csv('X_train_update.csv',index_col=0)\n",
        "y = pd.read_csv('Y_train_CVw08PX.csv',index_col=0)"
      ],
      "id": "tamil-individual",
      "execution_count": null,
      "outputs": []
    },
    {
      "cell_type": "code",
      "metadata": {
        "id": "communist-budapest"
      },
      "source": [
        "current_path = os.getcwd() \n",
        "images_path = current_path + r'/images2/image_train/'\n",
        "images_list = os.listdir(images_path)"
      ],
      "id": "communist-budapest",
      "execution_count": null,
      "outputs": []
    },
    {
      "cell_type": "code",
      "metadata": {
        "id": "modern-james"
      },
      "source": [
        "X['image name'] = 'image_' + X['imageid'].map(str) + '_product_' + X['productid'].map(str) + '.jpg'"
      ],
      "id": "modern-james",
      "execution_count": null,
      "outputs": []
    },
    {
      "cell_type": "code",
      "metadata": {
        "id": "exotic-model"
      },
      "source": [
        "from sklearn.model_selection import train_test_split\n",
        "X_train, X_test, y_train, y_test = train_test_split(X, y, test_size = 0.2, random_state = 123)\n",
        "X_train, X_val, y_train, y_val = train_test_split(X_train, y_train, test_size = 0.1, random_state = 123)\n",
        "X_val = X_train.iloc[:8400,:]\n",
        "y_val = y_train.iloc[:8400,:]\n",
        "X_train = X_train.iloc[:84000,:]\n",
        "y_train = y_train.iloc[:84000:,:]\n",
        "X_test = X_test.iloc[:13800,:]\n",
        "y_test = y_test.iloc[:13800,:]\n",
        "\n",
        "X_train[\"class\"] = y_train\n",
        "X_test[\"class\"] = y_test\n",
        "X_val[\"class\"] = y_val"
      ],
      "id": "exotic-model",
      "execution_count": null,
      "outputs": []
    },
    {
      "cell_type": "code",
      "metadata": {
        "id": "diverse-concept"
      },
      "source": [
        "train_data_generator = ImageDataGenerator(rescale = 1./255, rotation_range = 10, width_shift_range = 0.15, height_shift_range = 0.15,zoom_range = 1.1, horizontal_flip = True)\n",
        "val_data_generator = ImageDataGenerator(rescale = 1./255, rotation_range = 10, width_shift_range = 0.15, height_shift_range = 0.15,zoom_range = 1.1,horizontal_flip = True)\n",
        "test_data_generator = ImageDataGenerator(rescale = 1./255)"
      ],
      "id": "diverse-concept",
      "execution_count": null,
      "outputs": []
    },
    {
      "cell_type": "code",
      "metadata": {
        "id": "downtown-episode",
        "outputId": "ea9bff9c-500a-4c09-eb94-57dddc936520"
      },
      "source": [
        "batch_size = 64\n",
        "path = images_path\n",
        "X_train[\"class\"] = X_train[\"class\"].astype(str)\n",
        "X_test[\"class\"] = X_test[\"class\"].astype(str)\n",
        "X_val[\"class\"] = X_val[\"class\"].astype(str)\n",
        "\n",
        "train_generator = train_data_generator.flow_from_dataframe(dataframe=X_train, directory=path, x_col = \"image name\", y_col = \"class\",\n",
        "class_mode =\"sparse\", target_size = (240, 240), batch_size = batch_size)\n",
        "\n",
        "val_generator = val_data_generator.flow_from_dataframe(dataframe=X_val, directory=path, x_col = \"image name\", y_col = \"class\",\n",
        "class_mode =\"sparse\", target_size = (240, 240), batch_size = batch_size)\n",
        "\n",
        "test_generator = test_data_generator.flow_from_dataframe(dataframe=X_test, directory=path, x_col = \"image name\", y_col = \"class\",\n",
        "class_mode =\"sparse\", target_size = (240, 240), batch_size = batch_size)"
      ],
      "id": "downtown-episode",
      "execution_count": null,
      "outputs": [
        {
          "output_type": "stream",
          "text": [
            "Found 61138 validated image filenames belonging to 27 classes.\n",
            "Found 8400 validated image filenames belonging to 27 classes.\n",
            "Found 13800 validated image filenames belonging to 27 classes.\n"
          ],
          "name": "stdout"
        }
      ]
    },
    {
      "cell_type": "code",
      "metadata": {
        "id": "roman-elder"
      },
      "source": [
        "import sys\n",
        "import os\n",
        "from tensorflow.python.keras.models import Sequential\n",
        "from tensorflow.python.keras.layers import Dropout,Dense, Flatten, GlobalAveragePooling2D\n",
        "from keras.layers import *\n",
        "from keras.optimizers import *\n",
        "from keras.applications import *\n",
        "from keras.applications.xception import Xception, preprocess_input\n",
        "from keras.models import Model\n",
        "from keras.preprocessing.image import ImageDataGenerator\n",
        "from keras.callbacks import ModelCheckpoint, EarlyStopping\n",
        "from keras import backend as k\n",
        "from tensorflow.keras.optimizers import RMSprop\n",
        "from keras import layers"
      ],
      "id": "roman-elder",
      "execution_count": null,
      "outputs": []
    },
    {
      "cell_type": "code",
      "metadata": {
        "id": "digital-gateway"
      },
      "source": [
        "import keras.applications as kapps"
      ],
      "id": "digital-gateway",
      "execution_count": null,
      "outputs": []
    },
    {
      "cell_type": "code",
      "metadata": {
        "id": "naval-shore",
        "outputId": "2125103a-039b-4e08-b21f-4bde83814467"
      },
      "source": [
        "from keras.optimizers import Adam\n",
        "from tensorflow.keras.optimizers import RMSprop\n",
        "opt = Adam(lr=0.0001)"
      ],
      "id": "naval-shore",
      "execution_count": null,
      "outputs": [
        {
          "output_type": "stream",
          "text": [
            "C:\\Users\\utilisateur\\anaconda3\\envs\\tf\\lib\\site-packages\\tensorflow\\python\\keras\\optimizer_v2\\optimizer_v2.py:374: UserWarning: The `lr` argument is deprecated, use `learning_rate` instead.\n",
            "  warnings.warn(\n"
          ],
          "name": "stderr"
        }
      ]
    },
    {
      "cell_type": "code",
      "metadata": {
        "id": "behind-trader"
      },
      "source": [
        "#inputshape = (150, 150, 3)\n",
        "#pprocfunc = kapps.xception.preprocess_input\n",
        "basemodel = kapps.xception.Xception( input_shape = (240, 240, 3) ,include_top = False, weights = 'imagenet')\n",
        "# Freezer les couches\n",
        "basemodel = basemodel\n",
        "for layer in basemodel.layers:\n",
        "    layer.trainable = False \n",
        "    \n",
        "# ou base_model.trainable = False"
      ],
      "id": "behind-trader",
      "execution_count": null,
      "outputs": []
    },
    {
      "cell_type": "code",
      "metadata": {
        "id": "unable-tournament",
        "outputId": "eb24f336-de0d-4066-9a18-1a498436517f"
      },
      "source": [
        "basemodel.summary()"
      ],
      "id": "unable-tournament",
      "execution_count": null,
      "outputs": [
        {
          "output_type": "stream",
          "text": [
            "Model: \"xception\"\n",
            "__________________________________________________________________________________________________\n",
            "Layer (type)                    Output Shape         Param #     Connected to                     \n",
            "==================================================================================================\n",
            "input_5 (InputLayer)            [(None, 240, 240, 3) 0                                            \n",
            "__________________________________________________________________________________________________\n",
            "block1_conv1 (Conv2D)           (None, 119, 119, 32) 864         input_5[0][0]                    \n",
            "__________________________________________________________________________________________________\n",
            "block1_conv1_bn (BatchNormaliza (None, 119, 119, 32) 128         block1_conv1[0][0]               \n",
            "__________________________________________________________________________________________________\n",
            "block1_conv1_act (Activation)   (None, 119, 119, 32) 0           block1_conv1_bn[0][0]            \n",
            "__________________________________________________________________________________________________\n",
            "block1_conv2 (Conv2D)           (None, 117, 117, 64) 18432       block1_conv1_act[0][0]           \n",
            "__________________________________________________________________________________________________\n",
            "block1_conv2_bn (BatchNormaliza (None, 117, 117, 64) 256         block1_conv2[0][0]               \n",
            "__________________________________________________________________________________________________\n",
            "block1_conv2_act (Activation)   (None, 117, 117, 64) 0           block1_conv2_bn[0][0]            \n",
            "__________________________________________________________________________________________________\n",
            "block2_sepconv1 (SeparableConv2 (None, 117, 117, 128 8768        block1_conv2_act[0][0]           \n",
            "__________________________________________________________________________________________________\n",
            "block2_sepconv1_bn (BatchNormal (None, 117, 117, 128 512         block2_sepconv1[0][0]            \n",
            "__________________________________________________________________________________________________\n",
            "block2_sepconv2_act (Activation (None, 117, 117, 128 0           block2_sepconv1_bn[0][0]         \n",
            "__________________________________________________________________________________________________\n",
            "block2_sepconv2 (SeparableConv2 (None, 117, 117, 128 17536       block2_sepconv2_act[0][0]        \n",
            "__________________________________________________________________________________________________\n",
            "block2_sepconv2_bn (BatchNormal (None, 117, 117, 128 512         block2_sepconv2[0][0]            \n",
            "__________________________________________________________________________________________________\n",
            "conv2d_16 (Conv2D)              (None, 59, 59, 128)  8192        block1_conv2_act[0][0]           \n",
            "__________________________________________________________________________________________________\n",
            "block2_pool (MaxPooling2D)      (None, 59, 59, 128)  0           block2_sepconv2_bn[0][0]         \n",
            "__________________________________________________________________________________________________\n",
            "batch_normalization_36 (BatchNo (None, 59, 59, 128)  512         conv2d_16[0][0]                  \n",
            "__________________________________________________________________________________________________\n",
            "add_48 (Add)                    (None, 59, 59, 128)  0           block2_pool[0][0]                \n",
            "                                                                 batch_normalization_36[0][0]     \n",
            "__________________________________________________________________________________________________\n",
            "block3_sepconv1_act (Activation (None, 59, 59, 128)  0           add_48[0][0]                     \n",
            "__________________________________________________________________________________________________\n",
            "block3_sepconv1 (SeparableConv2 (None, 59, 59, 256)  33920       block3_sepconv1_act[0][0]        \n",
            "__________________________________________________________________________________________________\n",
            "block3_sepconv1_bn (BatchNormal (None, 59, 59, 256)  1024        block3_sepconv1[0][0]            \n",
            "__________________________________________________________________________________________________\n",
            "block3_sepconv2_act (Activation (None, 59, 59, 256)  0           block3_sepconv1_bn[0][0]         \n",
            "__________________________________________________________________________________________________\n",
            "block3_sepconv2 (SeparableConv2 (None, 59, 59, 256)  67840       block3_sepconv2_act[0][0]        \n",
            "__________________________________________________________________________________________________\n",
            "block3_sepconv2_bn (BatchNormal (None, 59, 59, 256)  1024        block3_sepconv2[0][0]            \n",
            "__________________________________________________________________________________________________\n",
            "conv2d_17 (Conv2D)              (None, 30, 30, 256)  32768       add_48[0][0]                     \n",
            "__________________________________________________________________________________________________\n",
            "block3_pool (MaxPooling2D)      (None, 30, 30, 256)  0           block3_sepconv2_bn[0][0]         \n",
            "__________________________________________________________________________________________________\n",
            "batch_normalization_37 (BatchNo (None, 30, 30, 256)  1024        conv2d_17[0][0]                  \n",
            "__________________________________________________________________________________________________\n",
            "add_49 (Add)                    (None, 30, 30, 256)  0           block3_pool[0][0]                \n",
            "                                                                 batch_normalization_37[0][0]     \n",
            "__________________________________________________________________________________________________\n",
            "block4_sepconv1_act (Activation (None, 30, 30, 256)  0           add_49[0][0]                     \n",
            "__________________________________________________________________________________________________\n",
            "block4_sepconv1 (SeparableConv2 (None, 30, 30, 728)  188672      block4_sepconv1_act[0][0]        \n",
            "__________________________________________________________________________________________________\n",
            "block4_sepconv1_bn (BatchNormal (None, 30, 30, 728)  2912        block4_sepconv1[0][0]            \n",
            "__________________________________________________________________________________________________\n",
            "block4_sepconv2_act (Activation (None, 30, 30, 728)  0           block4_sepconv1_bn[0][0]         \n",
            "__________________________________________________________________________________________________\n",
            "block4_sepconv2 (SeparableConv2 (None, 30, 30, 728)  536536      block4_sepconv2_act[0][0]        \n",
            "__________________________________________________________________________________________________\n",
            "block4_sepconv2_bn (BatchNormal (None, 30, 30, 728)  2912        block4_sepconv2[0][0]            \n",
            "__________________________________________________________________________________________________\n",
            "conv2d_18 (Conv2D)              (None, 15, 15, 728)  186368      add_49[0][0]                     \n",
            "__________________________________________________________________________________________________\n",
            "block4_pool (MaxPooling2D)      (None, 15, 15, 728)  0           block4_sepconv2_bn[0][0]         \n",
            "__________________________________________________________________________________________________\n",
            "batch_normalization_38 (BatchNo (None, 15, 15, 728)  2912        conv2d_18[0][0]                  \n",
            "__________________________________________________________________________________________________\n",
            "add_50 (Add)                    (None, 15, 15, 728)  0           block4_pool[0][0]                \n",
            "                                                                 batch_normalization_38[0][0]     \n",
            "__________________________________________________________________________________________________\n",
            "block5_sepconv1_act (Activation (None, 15, 15, 728)  0           add_50[0][0]                     \n",
            "__________________________________________________________________________________________________\n",
            "block5_sepconv1 (SeparableConv2 (None, 15, 15, 728)  536536      block5_sepconv1_act[0][0]        \n",
            "__________________________________________________________________________________________________\n",
            "block5_sepconv1_bn (BatchNormal (None, 15, 15, 728)  2912        block5_sepconv1[0][0]            \n",
            "__________________________________________________________________________________________________\n",
            "block5_sepconv2_act (Activation (None, 15, 15, 728)  0           block5_sepconv1_bn[0][0]         \n",
            "__________________________________________________________________________________________________\n",
            "block5_sepconv2 (SeparableConv2 (None, 15, 15, 728)  536536      block5_sepconv2_act[0][0]        \n",
            "__________________________________________________________________________________________________\n",
            "block5_sepconv2_bn (BatchNormal (None, 15, 15, 728)  2912        block5_sepconv2[0][0]            \n",
            "__________________________________________________________________________________________________\n",
            "block5_sepconv3_act (Activation (None, 15, 15, 728)  0           block5_sepconv2_bn[0][0]         \n",
            "__________________________________________________________________________________________________\n",
            "block5_sepconv3 (SeparableConv2 (None, 15, 15, 728)  536536      block5_sepconv3_act[0][0]        \n",
            "__________________________________________________________________________________________________\n",
            "block5_sepconv3_bn (BatchNormal (None, 15, 15, 728)  2912        block5_sepconv3[0][0]            \n",
            "__________________________________________________________________________________________________\n",
            "add_51 (Add)                    (None, 15, 15, 728)  0           block5_sepconv3_bn[0][0]         \n",
            "                                                                 add_50[0][0]                     \n",
            "__________________________________________________________________________________________________\n",
            "block6_sepconv1_act (Activation (None, 15, 15, 728)  0           add_51[0][0]                     \n",
            "__________________________________________________________________________________________________\n",
            "block6_sepconv1 (SeparableConv2 (None, 15, 15, 728)  536536      block6_sepconv1_act[0][0]        \n",
            "__________________________________________________________________________________________________\n",
            "block6_sepconv1_bn (BatchNormal (None, 15, 15, 728)  2912        block6_sepconv1[0][0]            \n",
            "__________________________________________________________________________________________________\n",
            "block6_sepconv2_act (Activation (None, 15, 15, 728)  0           block6_sepconv1_bn[0][0]         \n",
            "__________________________________________________________________________________________________\n",
            "block6_sepconv2 (SeparableConv2 (None, 15, 15, 728)  536536      block6_sepconv2_act[0][0]        \n",
            "__________________________________________________________________________________________________\n",
            "block6_sepconv2_bn (BatchNormal (None, 15, 15, 728)  2912        block6_sepconv2[0][0]            \n",
            "__________________________________________________________________________________________________\n",
            "block6_sepconv3_act (Activation (None, 15, 15, 728)  0           block6_sepconv2_bn[0][0]         \n",
            "__________________________________________________________________________________________________\n",
            "block6_sepconv3 (SeparableConv2 (None, 15, 15, 728)  536536      block6_sepconv3_act[0][0]        \n",
            "__________________________________________________________________________________________________\n",
            "block6_sepconv3_bn (BatchNormal (None, 15, 15, 728)  2912        block6_sepconv3[0][0]            \n",
            "__________________________________________________________________________________________________\n",
            "add_52 (Add)                    (None, 15, 15, 728)  0           block6_sepconv3_bn[0][0]         \n",
            "                                                                 add_51[0][0]                     \n",
            "__________________________________________________________________________________________________\n",
            "block7_sepconv1_act (Activation (None, 15, 15, 728)  0           add_52[0][0]                     \n",
            "__________________________________________________________________________________________________\n",
            "block7_sepconv1 (SeparableConv2 (None, 15, 15, 728)  536536      block7_sepconv1_act[0][0]        \n",
            "__________________________________________________________________________________________________\n",
            "block7_sepconv1_bn (BatchNormal (None, 15, 15, 728)  2912        block7_sepconv1[0][0]            \n",
            "__________________________________________________________________________________________________\n",
            "block7_sepconv2_act (Activation (None, 15, 15, 728)  0           block7_sepconv1_bn[0][0]         \n",
            "__________________________________________________________________________________________________\n",
            "block7_sepconv2 (SeparableConv2 (None, 15, 15, 728)  536536      block7_sepconv2_act[0][0]        \n",
            "__________________________________________________________________________________________________\n",
            "block7_sepconv2_bn (BatchNormal (None, 15, 15, 728)  2912        block7_sepconv2[0][0]            \n",
            "__________________________________________________________________________________________________\n",
            "block7_sepconv3_act (Activation (None, 15, 15, 728)  0           block7_sepconv2_bn[0][0]         \n",
            "__________________________________________________________________________________________________\n",
            "block7_sepconv3 (SeparableConv2 (None, 15, 15, 728)  536536      block7_sepconv3_act[0][0]        \n",
            "__________________________________________________________________________________________________\n",
            "block7_sepconv3_bn (BatchNormal (None, 15, 15, 728)  2912        block7_sepconv3[0][0]            \n",
            "__________________________________________________________________________________________________\n",
            "add_53 (Add)                    (None, 15, 15, 728)  0           block7_sepconv3_bn[0][0]         \n",
            "                                                                 add_52[0][0]                     \n",
            "__________________________________________________________________________________________________\n",
            "block8_sepconv1_act (Activation (None, 15, 15, 728)  0           add_53[0][0]                     \n",
            "__________________________________________________________________________________________________\n",
            "block8_sepconv1 (SeparableConv2 (None, 15, 15, 728)  536536      block8_sepconv1_act[0][0]        \n",
            "__________________________________________________________________________________________________\n",
            "block8_sepconv1_bn (BatchNormal (None, 15, 15, 728)  2912        block8_sepconv1[0][0]            \n",
            "__________________________________________________________________________________________________\n",
            "block8_sepconv2_act (Activation (None, 15, 15, 728)  0           block8_sepconv1_bn[0][0]         \n",
            "__________________________________________________________________________________________________\n",
            "block8_sepconv2 (SeparableConv2 (None, 15, 15, 728)  536536      block8_sepconv2_act[0][0]        \n",
            "__________________________________________________________________________________________________\n",
            "block8_sepconv2_bn (BatchNormal (None, 15, 15, 728)  2912        block8_sepconv2[0][0]            \n",
            "__________________________________________________________________________________________________\n",
            "block8_sepconv3_act (Activation (None, 15, 15, 728)  0           block8_sepconv2_bn[0][0]         \n",
            "__________________________________________________________________________________________________\n",
            "block8_sepconv3 (SeparableConv2 (None, 15, 15, 728)  536536      block8_sepconv3_act[0][0]        \n",
            "__________________________________________________________________________________________________\n",
            "block8_sepconv3_bn (BatchNormal (None, 15, 15, 728)  2912        block8_sepconv3[0][0]            \n",
            "__________________________________________________________________________________________________\n",
            "add_54 (Add)                    (None, 15, 15, 728)  0           block8_sepconv3_bn[0][0]         \n",
            "                                                                 add_53[0][0]                     \n",
            "__________________________________________________________________________________________________\n",
            "block9_sepconv1_act (Activation (None, 15, 15, 728)  0           add_54[0][0]                     \n",
            "__________________________________________________________________________________________________\n",
            "block9_sepconv1 (SeparableConv2 (None, 15, 15, 728)  536536      block9_sepconv1_act[0][0]        \n",
            "__________________________________________________________________________________________________\n",
            "block9_sepconv1_bn (BatchNormal (None, 15, 15, 728)  2912        block9_sepconv1[0][0]            \n",
            "__________________________________________________________________________________________________\n",
            "block9_sepconv2_act (Activation (None, 15, 15, 728)  0           block9_sepconv1_bn[0][0]         \n",
            "__________________________________________________________________________________________________\n",
            "block9_sepconv2 (SeparableConv2 (None, 15, 15, 728)  536536      block9_sepconv2_act[0][0]        \n",
            "__________________________________________________________________________________________________\n",
            "block9_sepconv2_bn (BatchNormal (None, 15, 15, 728)  2912        block9_sepconv2[0][0]            \n",
            "__________________________________________________________________________________________________\n",
            "block9_sepconv3_act (Activation (None, 15, 15, 728)  0           block9_sepconv2_bn[0][0]         \n",
            "__________________________________________________________________________________________________\n",
            "block9_sepconv3 (SeparableConv2 (None, 15, 15, 728)  536536      block9_sepconv3_act[0][0]        \n",
            "__________________________________________________________________________________________________\n",
            "block9_sepconv3_bn (BatchNormal (None, 15, 15, 728)  2912        block9_sepconv3[0][0]            \n",
            "__________________________________________________________________________________________________\n",
            "add_55 (Add)                    (None, 15, 15, 728)  0           block9_sepconv3_bn[0][0]         \n",
            "                                                                 add_54[0][0]                     \n",
            "__________________________________________________________________________________________________\n",
            "block10_sepconv1_act (Activatio (None, 15, 15, 728)  0           add_55[0][0]                     \n",
            "__________________________________________________________________________________________________\n",
            "block10_sepconv1 (SeparableConv (None, 15, 15, 728)  536536      block10_sepconv1_act[0][0]       \n",
            "__________________________________________________________________________________________________\n",
            "block10_sepconv1_bn (BatchNorma (None, 15, 15, 728)  2912        block10_sepconv1[0][0]           \n",
            "__________________________________________________________________________________________________\n",
            "block10_sepconv2_act (Activatio (None, 15, 15, 728)  0           block10_sepconv1_bn[0][0]        \n",
            "__________________________________________________________________________________________________\n",
            "block10_sepconv2 (SeparableConv (None, 15, 15, 728)  536536      block10_sepconv2_act[0][0]       \n",
            "__________________________________________________________________________________________________\n",
            "block10_sepconv2_bn (BatchNorma (None, 15, 15, 728)  2912        block10_sepconv2[0][0]           \n",
            "__________________________________________________________________________________________________\n",
            "block10_sepconv3_act (Activatio (None, 15, 15, 728)  0           block10_sepconv2_bn[0][0]        \n",
            "__________________________________________________________________________________________________\n",
            "block10_sepconv3 (SeparableConv (None, 15, 15, 728)  536536      block10_sepconv3_act[0][0]       \n",
            "__________________________________________________________________________________________________\n",
            "block10_sepconv3_bn (BatchNorma (None, 15, 15, 728)  2912        block10_sepconv3[0][0]           \n",
            "__________________________________________________________________________________________________\n",
            "add_56 (Add)                    (None, 15, 15, 728)  0           block10_sepconv3_bn[0][0]        \n",
            "                                                                 add_55[0][0]                     \n",
            "__________________________________________________________________________________________________\n",
            "block11_sepconv1_act (Activatio (None, 15, 15, 728)  0           add_56[0][0]                     \n",
            "__________________________________________________________________________________________________\n",
            "block11_sepconv1 (SeparableConv (None, 15, 15, 728)  536536      block11_sepconv1_act[0][0]       \n",
            "__________________________________________________________________________________________________\n",
            "block11_sepconv1_bn (BatchNorma (None, 15, 15, 728)  2912        block11_sepconv1[0][0]           \n",
            "__________________________________________________________________________________________________\n",
            "block11_sepconv2_act (Activatio (None, 15, 15, 728)  0           block11_sepconv1_bn[0][0]        \n",
            "__________________________________________________________________________________________________\n",
            "block11_sepconv2 (SeparableConv (None, 15, 15, 728)  536536      block11_sepconv2_act[0][0]       \n",
            "__________________________________________________________________________________________________\n",
            "block11_sepconv2_bn (BatchNorma (None, 15, 15, 728)  2912        block11_sepconv2[0][0]           \n",
            "__________________________________________________________________________________________________\n",
            "block11_sepconv3_act (Activatio (None, 15, 15, 728)  0           block11_sepconv2_bn[0][0]        \n",
            "__________________________________________________________________________________________________\n",
            "block11_sepconv3 (SeparableConv (None, 15, 15, 728)  536536      block11_sepconv3_act[0][0]       \n",
            "__________________________________________________________________________________________________\n",
            "block11_sepconv3_bn (BatchNorma (None, 15, 15, 728)  2912        block11_sepconv3[0][0]           \n",
            "__________________________________________________________________________________________________\n",
            "add_57 (Add)                    (None, 15, 15, 728)  0           block11_sepconv3_bn[0][0]        \n",
            "                                                                 add_56[0][0]                     \n",
            "__________________________________________________________________________________________________\n",
            "block12_sepconv1_act (Activatio (None, 15, 15, 728)  0           add_57[0][0]                     \n",
            "__________________________________________________________________________________________________\n",
            "block12_sepconv1 (SeparableConv (None, 15, 15, 728)  536536      block12_sepconv1_act[0][0]       \n",
            "__________________________________________________________________________________________________\n",
            "block12_sepconv1_bn (BatchNorma (None, 15, 15, 728)  2912        block12_sepconv1[0][0]           \n",
            "__________________________________________________________________________________________________\n",
            "block12_sepconv2_act (Activatio (None, 15, 15, 728)  0           block12_sepconv1_bn[0][0]        \n",
            "__________________________________________________________________________________________________\n",
            "block12_sepconv2 (SeparableConv (None, 15, 15, 728)  536536      block12_sepconv2_act[0][0]       \n",
            "__________________________________________________________________________________________________\n",
            "block12_sepconv2_bn (BatchNorma (None, 15, 15, 728)  2912        block12_sepconv2[0][0]           \n",
            "__________________________________________________________________________________________________\n",
            "block12_sepconv3_act (Activatio (None, 15, 15, 728)  0           block12_sepconv2_bn[0][0]        \n",
            "__________________________________________________________________________________________________\n",
            "block12_sepconv3 (SeparableConv (None, 15, 15, 728)  536536      block12_sepconv3_act[0][0]       \n",
            "__________________________________________________________________________________________________\n",
            "block12_sepconv3_bn (BatchNorma (None, 15, 15, 728)  2912        block12_sepconv3[0][0]           \n",
            "__________________________________________________________________________________________________\n",
            "add_58 (Add)                    (None, 15, 15, 728)  0           block12_sepconv3_bn[0][0]        \n",
            "                                                                 add_57[0][0]                     \n",
            "__________________________________________________________________________________________________\n",
            "block13_sepconv1_act (Activatio (None, 15, 15, 728)  0           add_58[0][0]                     \n",
            "__________________________________________________________________________________________________\n",
            "block13_sepconv1 (SeparableConv (None, 15, 15, 728)  536536      block13_sepconv1_act[0][0]       \n",
            "__________________________________________________________________________________________________\n",
            "block13_sepconv1_bn (BatchNorma (None, 15, 15, 728)  2912        block13_sepconv1[0][0]           \n",
            "__________________________________________________________________________________________________\n",
            "block13_sepconv2_act (Activatio (None, 15, 15, 728)  0           block13_sepconv1_bn[0][0]        \n",
            "__________________________________________________________________________________________________\n",
            "block13_sepconv2 (SeparableConv (None, 15, 15, 1024) 752024      block13_sepconv2_act[0][0]       \n",
            "__________________________________________________________________________________________________\n",
            "block13_sepconv2_bn (BatchNorma (None, 15, 15, 1024) 4096        block13_sepconv2[0][0]           \n",
            "__________________________________________________________________________________________________\n",
            "conv2d_19 (Conv2D)              (None, 8, 8, 1024)   745472      add_58[0][0]                     \n",
            "__________________________________________________________________________________________________\n",
            "block13_pool (MaxPooling2D)     (None, 8, 8, 1024)   0           block13_sepconv2_bn[0][0]        \n",
            "__________________________________________________________________________________________________\n",
            "batch_normalization_39 (BatchNo (None, 8, 8, 1024)   4096        conv2d_19[0][0]                  \n",
            "__________________________________________________________________________________________________\n",
            "add_59 (Add)                    (None, 8, 8, 1024)   0           block13_pool[0][0]               \n",
            "                                                                 batch_normalization_39[0][0]     \n",
            "__________________________________________________________________________________________________\n",
            "block14_sepconv1 (SeparableConv (None, 8, 8, 1536)   1582080     add_59[0][0]                     \n",
            "__________________________________________________________________________________________________\n",
            "block14_sepconv1_bn (BatchNorma (None, 8, 8, 1536)   6144        block14_sepconv1[0][0]           \n",
            "__________________________________________________________________________________________________\n",
            "block14_sepconv1_act (Activatio (None, 8, 8, 1536)   0           block14_sepconv1_bn[0][0]        \n",
            "__________________________________________________________________________________________________\n",
            "block14_sepconv2 (SeparableConv (None, 8, 8, 2048)   3159552     block14_sepconv1_act[0][0]       \n",
            "__________________________________________________________________________________________________\n",
            "block14_sepconv2_bn (BatchNorma (None, 8, 8, 2048)   8192        block14_sepconv2[0][0]           \n",
            "__________________________________________________________________________________________________\n",
            "block14_sepconv2_act (Activatio (None, 8, 8, 2048)   0           block14_sepconv2_bn[0][0]        \n",
            "==================================================================================================\n",
            "Total params: 20,861,480\n",
            "Trainable params: 0\n",
            "Non-trainable params: 20,861,480\n",
            "__________________________________________________________________________________________________\n"
          ],
          "name": "stdout"
        }
      ]
    },
    {
      "cell_type": "code",
      "metadata": {
        "id": "induced-nancy"
      },
      "source": [
        "x = layers.Flatten()(basemodel.output)\n",
        "x = layers.Dense(1024, activation='relu')(x)\n",
        "x = Dropout(0.35)(x)\n",
        "#x = GlobalAveragePooling2D()(x)\n",
        "x = Dense(512, activation='relu')(x)\n",
        "x = layers.Dropout(0.30)(x)\n",
        "#x = GlobalAveragePooling2D()(x)\n",
        "x = Dense(256, activation='relu')(x)\n",
        "x = layers.Dropout(0.25)(x)\n",
        "x = layers.Dense(27, activation='softmax')(x)\n",
        "\n",
        "model = tf.keras.models.Model(basemodel.input, x)\n",
        "model.compile(optimizer = opt, loss = 'sparse_categorical_crossentropy', metrics = ['acc'])"
      ],
      "id": "induced-nancy",
      "execution_count": null,
      "outputs": []
    },
    {
      "cell_type": "code",
      "metadata": {
        "id": "personalized-conservative"
      },
      "source": [
        "# implementation du callback checkpoint\n",
        "# Callback to save the Keras model or model weights at some frequency.\n",
        "from tensorflow.keras import callbacks\n",
        "import os\n",
        "cwd = os.getcwd()\n",
        "filepath = cwd\n",
        "checkpoint = callbacks.ModelCheckpoint(filepath = filepath, monitor = 'val_loss', save_best_only = True, save_weights_only = False,\n",
        "                                       mode = 'min', save_freq = 'epoch')"
      ],
      "id": "personalized-conservative",
      "execution_count": null,
      "outputs": []
    },
    {
      "cell_type": "code",
      "metadata": {
        "id": "employed-control"
      },
      "source": [
        "lr_plateau = callbacks.ReduceLROnPlateau(monitor='val_loss', patience=1, verbose=2, mode='min')"
      ],
      "id": "employed-control",
      "execution_count": null,
      "outputs": []
    },
    {
      "cell_type": "code",
      "metadata": {
        "id": "invalid-potato",
        "outputId": "058c5fed-bd90-4d2f-dad6-d393c883fe13"
      },
      "source": [
        "epoch = 2\n",
        "\n",
        "test_history = model.fit(train_generator, epochs = epoch,steps_per_epoch = len(X_train)//batch_size, validation_data = val_generator,\n",
        "                        validation_steps = len(X_val)//batch_size) #, callbacks = [lr_plateau , checkpoint])"
      ],
      "id": "invalid-potato",
      "execution_count": null,
      "outputs": [
        {
          "output_type": "stream",
          "text": [
            "Epoch 1/2\n",
            "955/955 [==============================] - 2921s 3s/step - loss: 2.3002 - acc: 0.3480 - val_loss: 2.0974 - val_acc: 0.3900\n",
            "Epoch 2/2\n",
            "955/955 [==============================] - 2920s 3s/step - loss: 2.0649 - acc: 0.3958 - val_loss: 1.9998 - val_acc: 0.4095\n"
          ],
          "name": "stdout"
        }
      ]
    },
    {
      "cell_type": "code",
      "metadata": {
        "id": "greatest-honey"
      },
      "source": [
        "for layer in base_model.layers[-5:]:\n",
        "    layer.trainable = True"
      ],
      "id": "greatest-honey",
      "execution_count": null,
      "outputs": []
    },
    {
      "cell_type": "code",
      "metadata": {
        "id": "recovered-scoop",
        "outputId": "966e6ac7-2bc9-45c5-9b31-ba5e80f63c99"
      },
      "source": [
        "model.compile(optimizer= opt , loss='sparse_categorical_crossentropy', metrics = ['accuracy'])\n",
        "hist_unfreeze = model.fit(train_generator, epochs = 3, steps_per_epoch = len(X_train)//batch_size, validation_data=test_generator,\n",
        "                                validation_steps=len(X_val)//batch_size)"
      ],
      "id": "recovered-scoop",
      "execution_count": null,
      "outputs": [
        {
          "output_type": "stream",
          "text": [
            "Epoch 1/3\n",
            "955/955 [==============================] - 2940s 3s/step - loss: 2.0181 - accuracy: 0.4055 - val_loss: 1.5805 - val_accuracy: 0.5268\n",
            "Epoch 2/3\n",
            "955/955 [==============================] - 2844s 3s/step - loss: 1.9776 - accuracy: 0.4153 - val_loss: 1.5672 - val_accuracy: 0.5370\n",
            "Epoch 3/3\n",
            "955/955 [==============================] - 2836s 3s/step - loss: 1.9402 - accuracy: 0.4263 - val_loss: 1.5398 - val_accuracy: 0.5397\n"
          ],
          "name": "stdout"
        }
      ]
    },
    {
      "cell_type": "code",
      "metadata": {
        "id": "loved-prayer",
        "outputId": "9896b92f-6bd6-4a44-801d-8f4ffa32f43e"
      },
      "source": [
        "import pandas as pd\n",
        "pd.DataFrame(hist_unfreeze.history).plot(figsize=(12, 8))\n",
        "plt.grid(True)\n",
        "plt.gca().set_ylim(0.2, 0.6) # set the vertical range to [0-1]\n",
        "plt.show()"
      ],
      "id": "loved-prayer",
      "execution_count": null,
      "outputs": [
        {
          "output_type": "display_data",
          "data": {
            "image/png": "[encoded data removed]",
            "text/plain": [
              "<Figure size 864x576 with 1 Axes>"
            ]
          },
          "metadata": {
            "tags": [],
            "needs_background": "light"
          }
        }
      ]
    },
    {
      "cell_type": "code",
      "metadata": {
        "id": "allied-ontario"
      },
      "source": [
        ""
      ],
      "id": "allied-ontario",
      "execution_count": null,
      "outputs": []
    },
    {
      "cell_type": "code",
      "metadata": {
        "id": "nutritional-broadway"
      },
      "source": [
        "# TEST COMPLEMENTAIRE EN AJUSTANT LA FN ACTIVATION"
      ],
      "id": "nutritional-broadway",
      "execution_count": null,
      "outputs": []
    },
    {
      "cell_type": "code",
      "metadata": {
        "id": "female-sugar"
      },
      "source": [
        "x = layers.Flatten()(basemodel.output)\n",
        "x = layers.Dense(1024, activation='swish')(x)\n",
        "x = Dropout(0.35)(x)\n",
        "#x = GlobalAveragePooling2D()(x)\n",
        "x = Dense(512, activation='swish')(x)\n",
        "x = layers.Dropout(0.30)(x)\n",
        "#x = GlobalAveragePooling2D()(x)\n",
        "x = Dense(256, activation='swish')(x)\n",
        "x = layers.Dropout(0.25)(x)\n",
        "x = layers.Dense(27, activation='softmax')(x)\n",
        "\n",
        "model = tf.keras.models.Model(basemodel.input, x)\n",
        "model.compile(optimizer = opt, loss = 'sparse_categorical_crossentropy', metrics = ['acc'])"
      ],
      "id": "female-sugar",
      "execution_count": null,
      "outputs": []
    },
    {
      "cell_type": "code",
      "metadata": {
        "id": "comic-longitude",
        "outputId": "5c0cf238-bc28-4d0d-82ea-453fa8f8299e"
      },
      "source": [
        "epoch = 3\n",
        "\n",
        "test_history2 = model.fit(train_generator, epochs = epoch,steps_per_epoch = len(X_train)//batch_size, validation_data = val_generator,\n",
        "                        validation_steps = len(X_val)//batch_size) #, callbacks = [lr_plateau , checkpoint])"
      ],
      "id": "comic-longitude",
      "execution_count": null,
      "outputs": [
        {
          "output_type": "stream",
          "text": [
            "Epoch 1/3\n",
            "955/955 [==============================] - 2806s 3s/step - loss: 2.4399 - acc: 0.3421 - val_loss: 2.0807 - val_acc: 0.3897\n",
            "Epoch 2/3\n",
            "955/955 [==============================] - 2788s 3s/step - loss: 2.0750 - acc: 0.3920 - val_loss: 2.0105 - val_acc: 0.4123\n",
            "Epoch 3/3\n",
            "955/955 [==============================] - 2814s 3s/step - loss: 2.0149 - acc: 0.4072 - val_loss: 1.9598 - val_acc: 0.4221\n"
          ],
          "name": "stdout"
        }
      ]
    },
    {
      "cell_type": "code",
      "metadata": {
        "id": "elementary-central"
      },
      "source": [
        "for layer in basemodel.layers[-4:]:\n",
        "    layer.trainable = True"
      ],
      "id": "elementary-central",
      "execution_count": null,
      "outputs": []
    },
    {
      "cell_type": "code",
      "metadata": {
        "id": "documented-arena",
        "outputId": "b49bd044-779d-4230-a178-b81feeca27d9"
      },
      "source": [
        "model.compile(optimizer= opt , loss='sparse_categorical_crossentropy', metrics = ['accuracy'])\n",
        "hist_unfreeze = model.fit(train_generator, epochs = 4, steps_per_epoch = len(X_train)//batch_size, validation_data=test_generator,\n",
        "                                validation_steps=len(X_val)//batch_size)"
      ],
      "id": "documented-arena",
      "execution_count": null,
      "outputs": [
        {
          "output_type": "stream",
          "text": [
            "Epoch 1/4\n",
            "955/955 [==============================] - 3393s 4s/step - loss: 1.9798 - accuracy: 0.4182 - val_loss: 1.5019 - val_accuracy: 0.5471\n",
            "Epoch 2/4\n",
            "955/955 [==============================] - 3376s 4s/step - loss: 1.8844 - accuracy: 0.4441 - val_loss: 1.4675 - val_accuracy: 0.5581\n",
            "Epoch 3/4\n",
            "955/955 [==============================] - 3328s 3s/step - loss: 1.8367 - accuracy: 0.4559 - val_loss: 1.4140 - val_accuracy: 0.5772\n",
            "Epoch 4/4\n",
            "955/955 [==============================] - 3397s 4s/step - loss: 1.7918 - accuracy: 0.4668 - val_loss: 1.3895 - val_accuracy: 0.5847\n"
          ],
          "name": "stdout"
        }
      ]
    },
    {
      "cell_type": "code",
      "metadata": {
        "id": "environmental-listing",
        "outputId": "968d6af9-5363-4e5a-dcfb-432a9556652c"
      },
      "source": [
        "import pandas as pd\n",
        "pd.DataFrame(hist_unfreeze.history).plot(figsize=(12, 8))\n",
        "plt.grid(True)\n",
        "plt.gca().set_ylim(0.2, 0.6) # set the vertical range to [0-1]\n",
        "plt.show()"
      ],
      "id": "environmental-listing",
      "execution_count": null,
      "outputs": [
        {
          "output_type": "display_data",
          "data": {
            "image/png": "[encoded data removed]",
            "text/plain": [
              "<Figure size 864x576 with 1 Axes>"
            ]
          },
          "metadata": {
            "tags": [],
            "needs_background": "light"
          }
        }
      ]
    },
    {
      "cell_type": "code",
      "metadata": {
        "id": "composed-miller"
      },
      "source": [
        ""
      ],
      "id": "composed-miller",
      "execution_count": null,
      "outputs": []
    },
    {
      "cell_type": "code",
      "metadata": {
        "id": "cardiovascular-gentleman"
      },
      "source": [
        ""
      ],
      "id": "cardiovascular-gentleman",
      "execution_count": null,
      "outputs": []
    },
    {
      "cell_type": "code",
      "metadata": {
        "id": "diagnostic-namibia"
      },
      "source": [
        ""
      ],
      "id": "diagnostic-namibia",
      "execution_count": null,
      "outputs": []
    },
    {
      "cell_type": "code",
      "metadata": {
        "id": "controversial-index"
      },
      "source": [
        ""
      ],
      "id": "controversial-index",
      "execution_count": null,
      "outputs": []
    }
  ]
}