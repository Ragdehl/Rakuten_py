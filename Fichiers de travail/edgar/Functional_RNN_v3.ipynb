{
 "cells": [
  {
   "cell_type": "markdown",
   "metadata": {},
   "source": [
    "# RNN Functional"
   ]
  },
  {
   "cell_type": "code",
   "execution_count": 1,
   "metadata": {},
   "outputs": [],
   "source": [
    "import glob\n",
    "import pandas as pd\n",
    "import tensorflow as tf\n",
    "\n",
    "\n",
    "from sklearn.model_selection import train_test_split\n",
    "from tqdm import tqdm\n",
    "import numpy as np\n",
    "\n",
    "import os #Miscellaneous operating system interfaces\n",
    "#https://docs.python.org/3/library/os.html\n",
    "#get current working directory\n",
    "path = os.getcwd() + '\\\\images\\\\image_train'\n",
    "path\n",
    "\n",
    "model_type = 'Functional'\n",
    "existing_model = 'RNN'\n",
    "version = 'v3'\n",
    "filename = existing_model + '_' +  version\n",
    "model_path = 'models_output\\\\' + existing_model + '\\\\' + version + '\\\\'"
   ]
  },
  {
   "cell_type": "code",
   "execution_count": 2,
   "metadata": {},
   "outputs": [],
   "source": [
    "classes = {'10':' Livres, Couvertures de livres ','40':' Jeux videos, CDs + mais aussi equipements, cables, etc. ','50':' Jeux Vidéos, Equipements ','60':' Consoles, Manettes, croix, boutons, ecrans ','1140':' Figurines, Personnages et objets, parfois dans des boites ','1160':' Cartes, Rectangles, beaucoup de couleurs ','1180':' Figurines et boites ','1280':' Jouets, poupées nounours, equipements enfants','1281':' Jeux enfants, Boites et autres, couleurs flashy','1300':' Jeux techniques, Equipement, petites machines ','1301':' Habits bébés, petites photos ','1302':' Equipements, Habits, outils, jouets, objets sur fond blanc','1320':' Matériel et meubles bébé poussettes, habits','1560':' Meubles, matelas canapés lampes, chaises','1920':' Oreillers, coussins, draps','1940':' Alimentations, conserves boites d gateaux','2060':' Décorations','2220':' Equipements divers pour animaux','2280':' Livres et revues anciennes','2403':' Livres et revues de collection','2462':' Equipement jeux, play stations','2522':' Cahiers, carnets, marque pages','2582':' Matériel, meubles et outils pour le jardin','2583':' Equipements technique pour la maison et exterieur (piscines), produits','2585':' Idem 2583:  Equipements technique pour la maison et exterieur (piscines), produits','2705':' Livres','2905':' Jeux vidéos'}"
   ]
  },
  {
   "cell_type": "markdown",
   "metadata": {},
   "source": [
    "Données textuelles:"
   ]
  },
  {
   "cell_type": "code",
   "execution_count": 3,
   "metadata": {},
   "outputs": [
    {
     "data": {
      "text/plain": [
       "0          10\n",
       "1        2280\n",
       "2          50\n",
       "3        1280\n",
       "4        2705\n",
       "         ... \n",
       "84911      40\n",
       "84912    2583\n",
       "84913    2280\n",
       "84914    1560\n",
       "84915    2522\n",
       "Name: prdtypecode, Length: 84916, dtype: object"
      ]
     },
     "execution_count": 3,
     "metadata": {},
     "output_type": "execute_result"
    }
   ],
   "source": [
    "#X = pd.read_csv(r'C:\\Users\\Edgar\\Documents\\Rakuten\\X_train_update.csv',index_col =0)\n",
    "X = pd.read_csv(r'C:\\Users\\Edgar\\Documents\\Rakuten\\X_train\\X_train_lemma-FR_stop_words-FR_no_num-FR_remove_accents-FR_no_special-FR_lemma-EN_stop_words-EN_stop_words-DE_lemma-DE_steem-FR_steem-EN_steem-DE.csv',index_col =0)\n",
    "y = pd.read_csv(r'C:\\Users\\Edgar\\Documents\\Rakuten\\Y_train_CVw08PX.csv',index_col=0).squeeze().map(str)\n",
    "y"
   ]
  },
  {
   "cell_type": "code",
   "execution_count": 4,
   "metadata": {},
   "outputs": [
    {
     "data": {
      "text/html": [
       "<div>\n",
       "<style scoped>\n",
       "    .dataframe tbody tr th:only-of-type {\n",
       "        vertical-align: middle;\n",
       "    }\n",
       "\n",
       "    .dataframe tbody tr th {\n",
       "        vertical-align: top;\n",
       "    }\n",
       "\n",
       "    .dataframe thead th {\n",
       "        text-align: right;\n",
       "    }\n",
       "</style>\n",
       "<table border=\"1\" class=\"dataframe\">\n",
       "  <thead>\n",
       "    <tr style=\"text-align: right;\">\n",
       "      <th></th>\n",
       "      <th>text</th>\n",
       "    </tr>\n",
       "  </thead>\n",
       "  <tbody>\n",
       "    <tr>\n",
       "      <th>0</th>\n",
       "      <td>olivi personalisi notizbuch seit punktrast ca ...</td>\n",
       "    </tr>\n",
       "    <tr>\n",
       "      <th>1</th>\n",
       "      <td>journal art numero art march salon art asiat a...</td>\n",
       "    </tr>\n",
       "    <tr>\n",
       "      <th>2</th>\n",
       "      <td>grand stylet ergonom bleu gamepad nintendo wii...</td>\n",
       "    </tr>\n",
       "    <tr>\n",
       "      <th>3</th>\n",
       "      <td>peluch donald europ disneyland marionnet doigt...</td>\n",
       "    </tr>\n",
       "    <tr>\n",
       "      <th>4</th>\n",
       "      <td>guerr tuqu luc avoir -pron- eacut e grandeur v...</td>\n",
       "    </tr>\n",
       "    <tr>\n",
       "      <th>...</th>\n",
       "      <td>...</td>\n",
       "    </tr>\n",
       "    <tr>\n",
       "      <th>84911</th>\n",
       "      <td>sim import anglai nan</td>\n",
       "    </tr>\n",
       "    <tr>\n",
       "      <th>84912</th>\n",
       "      <td>kit piscin aci nevad deco pierr x b descript c...</td>\n",
       "    </tr>\n",
       "    <tr>\n",
       "      <th>84913</th>\n",
       "      <td>journal officiel republ franc numero chang adr...</td>\n",
       "    </tr>\n",
       "    <tr>\n",
       "      <th>84914</th>\n",
       "      <td>tabl bas boi recup massif bas blanc xx cm p ta...</td>\n",
       "    </tr>\n",
       "    <tr>\n",
       "      <th>84915</th>\n",
       "      <td>gomm collect gomm pinguin glac vert orang nan</td>\n",
       "    </tr>\n",
       "  </tbody>\n",
       "</table>\n",
       "<p>84916 rows × 1 columns</p>\n",
       "</div>"
      ],
      "text/plain": [
       "                                                    text\n",
       "0      olivi personalisi notizbuch seit punktrast ca ...\n",
       "1      journal art numero art march salon art asiat a...\n",
       "2      grand stylet ergonom bleu gamepad nintendo wii...\n",
       "3      peluch donald europ disneyland marionnet doigt...\n",
       "4      guerr tuqu luc avoir -pron- eacut e grandeur v...\n",
       "...                                                  ...\n",
       "84911                             sim import anglai nan \n",
       "84912  kit piscin aci nevad deco pierr x b descript c...\n",
       "84913  journal officiel republ franc numero chang adr...\n",
       "84914  tabl bas boi recup massif bas blanc xx cm p ta...\n",
       "84915     gomm collect gomm pinguin glac vert orang nan \n",
       "\n",
       "[84916 rows x 1 columns]"
      ]
     },
     "execution_count": 4,
     "metadata": {},
     "output_type": "execute_result"
    }
   ],
   "source": [
    "X.rename(columns = {'0':'text'},inplace=True)\n",
    "X"
   ]
  },
  {
   "cell_type": "code",
   "execution_count": 5,
   "metadata": {},
   "outputs": [],
   "source": [
    "#X.fillna('',inplace=True)\n",
    "#X['text'] = X.apply(lambda line: line['designation'] + line['description'],axis=1)\n",
    "#X"
   ]
  },
  {
   "cell_type": "code",
   "execution_count": 6,
   "metadata": {},
   "outputs": [],
   "source": [
    "#df_y['label'] = df_y['prdtypecode'].replace(df_y.prdtypecode.unique(), [*range(len(df_y.prdtypecode.unique()))])\n",
    "#df_y"
   ]
  },
  {
   "cell_type": "markdown",
   "metadata": {},
   "source": [
    "Nombre de mots par texte:"
   ]
  },
  {
   "cell_type": "code",
   "execution_count": 7,
   "metadata": {},
   "outputs": [
    {
     "data": {
      "image/png": "[encoded data removed]",
      "text/plain": [
       "<Figure size 1440x360 with 1 Axes>"
      ]
     },
     "metadata": {
      "needs_background": "light"
     },
     "output_type": "display_data"
    }
   ],
   "source": [
    "import seaborn as sns\n",
    "from matplotlib import pyplot\n",
    "\n",
    "X[\"count_word\"] = X.text.apply(lambda x : len(x.split(' ')))\n",
    "\n",
    "fig, ax = pyplot.subplots(figsize=(20,5))\n",
    "\n",
    "sns.countplot(X[\"count_word\"],ax=ax);"
   ]
  },
  {
   "cell_type": "markdown",
   "metadata": {},
   "source": [
    "Pour éviter des séquences trop longue, le seuil maximum d'une phrase sera considéré à 40:"
   ]
  },
  {
   "cell_type": "code",
   "execution_count": 8,
   "metadata": {},
   "outputs": [],
   "source": [
    "#df_X = df_X[df_X.count_word<=20]\n",
    "\n",
    "#df_X[\"count_word\"] = df_X.text.apply(lambda x : len(x.split(' ')))\n",
    "#fig, ax = pyplot.subplots(figsize=(20,5))\n",
    "\n",
    "#sns.countplot(df_X[\"count_word\"],ax=ax)"
   ]
  },
  {
   "cell_type": "markdown",
   "metadata": {},
   "source": [
    "Tokenisation:"
   ]
  },
  {
   "cell_type": "code",
   "execution_count": 9,
   "metadata": {},
   "outputs": [],
   "source": [
    "#from sklearn.feature_extraction.text import TfidfVectorizer\n",
    "#from nltk.tokenize import word_tokenize\n",
    "\n",
    "#tfid = TfidfVectorizer(analyzer='word',\n",
    "#                       tokenizer=word_tokenize,\n",
    "#                       max_df=0.8,\n",
    "#                       min_df=2,\n",
    "#                       #ngram_range=(1,1),\n",
    "#                       use_idf=True,\n",
    "#                       smooth_idf=True,                       sublinear_tf=False,\n",
    "#                       binary=True,\n",
    "#                       max_features=10000\n",
    "#                      )\n",
    "\n",
    "#X = tfid.fit_transform(df_X['text'].squeeze()).todense()\n",
    "\n",
    "#X.shape"
   ]
  },
  {
   "cell_type": "markdown",
   "metadata": {},
   "source": [
    "Separer les données en train & text:"
   ]
  },
  {
   "cell_type": "code",
   "execution_count": 10,
   "metadata": {},
   "outputs": [
    {
     "data": {
      "text/html": [
       "<div>\n",
       "<style scoped>\n",
       "    .dataframe tbody tr th:only-of-type {\n",
       "        vertical-align: middle;\n",
       "    }\n",
       "\n",
       "    .dataframe tbody tr th {\n",
       "        vertical-align: top;\n",
       "    }\n",
       "\n",
       "    .dataframe thead th {\n",
       "        text-align: right;\n",
       "    }\n",
       "</style>\n",
       "<table border=\"1\" class=\"dataframe\">\n",
       "  <thead>\n",
       "    <tr style=\"text-align: right;\">\n",
       "      <th></th>\n",
       "      <th>text</th>\n",
       "      <th>count_word</th>\n",
       "    </tr>\n",
       "  </thead>\n",
       "  <tbody>\n",
       "    <tr>\n",
       "      <th>60735</th>\n",
       "      <td>cart postal typo aim kiub cart postal tendanc ...</td>\n",
       "      <td>38</td>\n",
       "    </tr>\n",
       "    <tr>\n",
       "      <th>9118</th>\n",
       "      <td>garcon jeu plateau avoir propo agit un jeu car...</td>\n",
       "      <td>61</td>\n",
       "    </tr>\n",
       "    <tr>\n",
       "      <th>55855</th>\n",
       "      <td>royaum anim ab asc nan</td>\n",
       "      <td>6</td>\n",
       "    </tr>\n",
       "    <tr>\n",
       "      <th>42138</th>\n",
       "      <td>piscin jeu adress x</td>\n",
       "      <td>5</td>\n",
       "    </tr>\n",
       "    <tr>\n",
       "      <th>10948</th>\n",
       "      <td>unit stat european union auditor indep regul nan</td>\n",
       "      <td>9</td>\n",
       "    </tr>\n",
       "    <tr>\n",
       "      <th>...</th>\n",
       "      <td>...</td>\n",
       "      <td>...</td>\n",
       "    </tr>\n",
       "    <tr>\n",
       "      <th>6265</th>\n",
       "      <td>griottin coffret cl griottin coffret cl ceri g...</td>\n",
       "      <td>62</td>\n",
       "    </tr>\n",
       "    <tr>\n",
       "      <th>54886</th>\n",
       "      <td>bouquet tet artificiel pivoin soi feuill fleur...</td>\n",
       "      <td>86</td>\n",
       "    </tr>\n",
       "    <tr>\n",
       "      <th>76820</th>\n",
       "      <td>happi east tai oreil lin coussin sof hom decor...</td>\n",
       "      <td>66</td>\n",
       "    </tr>\n",
       "    <tr>\n",
       "      <th>860</th>\n",
       "      <td>pratiqu chass camo camp imperm camouflag furti...</td>\n",
       "      <td>164</td>\n",
       "    </tr>\n",
       "    <tr>\n",
       "      <th>15795</th>\n",
       "      <td>cin liv numero wasab reno magazin light regard...</td>\n",
       "      <td>16</td>\n",
       "    </tr>\n",
       "  </tbody>\n",
       "</table>\n",
       "<p>67932 rows × 2 columns</p>\n",
       "</div>"
      ],
      "text/plain": [
       "                                                    text  count_word\n",
       "60735  cart postal typo aim kiub cart postal tendanc ...          38\n",
       "9118   garcon jeu plateau avoir propo agit un jeu car...          61\n",
       "55855                            royaum anim ab asc nan            6\n",
       "42138                               piscin jeu adress x            5\n",
       "10948  unit stat european union auditor indep regul nan            9\n",
       "...                                                  ...         ...\n",
       "6265   griottin coffret cl griottin coffret cl ceri g...          62\n",
       "54886  bouquet tet artificiel pivoin soi feuill fleur...          86\n",
       "76820  happi east tai oreil lin coussin sof hom decor...          66\n",
       "860    pratiqu chass camo camp imperm camouflag furti...         164\n",
       "15795  cin liv numero wasab reno magazin light regard...          16\n",
       "\n",
       "[67932 rows x 2 columns]"
      ]
     },
     "execution_count": 10,
     "metadata": {},
     "output_type": "execute_result"
    }
   ],
   "source": [
    "# Importer la classe train_test \n",
    "from sklearn.model_selection import train_test_split\n",
    "\n",
    "# Séparer le jeu de données en données d'entraînement et données test \n",
    "X_train_text, X_test_text, y_train, y_test = train_test_split(X, y, test_size=0.2,random_state=42)\n",
    "\n",
    "X_train_text"
   ]
  },
  {
   "cell_type": "markdown",
   "metadata": {},
   "source": [
    "Tokeniser: texte -> sequence entier (index dans un dictionaire):"
   ]
  },
  {
   "cell_type": "code",
   "execution_count": 11,
   "metadata": {},
   "outputs": [],
   "source": [
    "import tensorflow as tf\n",
    "# Définition du tokenizer\n",
    "tokenizer = tf.keras.preprocessing.text.Tokenizer(num_words=50000)\n",
    "\n",
    "# Mettre à jour le dictionnaire du tokenizer\n",
    "tokenizer.fit_on_texts(X_train_text.text)"
   ]
  },
  {
   "cell_type": "markdown",
   "metadata": {},
   "source": [
    "Stocker le dictionnaire de correspondance:"
   ]
  },
  {
   "cell_type": "code",
   "execution_count": 12,
   "metadata": {},
   "outputs": [],
   "source": [
    "# Définition des dictionnaires\n",
    "word2idx = tokenizer.word_index\n",
    "idx2word = tokenizer.index_word\n",
    "vocab_size = tokenizer.num_words\n"
   ]
  },
  {
   "cell_type": "markdown",
   "metadata": {},
   "source": [
    "• Transformer chaque review X_text_train en une séquence d'entiers à l'aide de la méthode texts_to_sequences"
   ]
  },
  {
   "cell_type": "code",
   "execution_count": 13,
   "metadata": {},
   "outputs": [],
   "source": [
    "X_train = tokenizer.texts_to_sequences(X_train_text.text)\n",
    "\n",
    "X_test = tokenizer.texts_to_sequences(X_test_text.text)"
   ]
  },
  {
   "cell_type": "markdown",
   "metadata": {},
   "source": [
    "• Transfomer la liste de sequence X_train en tableau numpy à l'aide de la fonction pad_sequences"
   ]
  },
  {
   "cell_type": "code",
   "execution_count": 14,
   "metadata": {},
   "outputs": [],
   "source": [
    "maxlen = 500\n",
    "X_train = tf.keras.preprocessing.sequence.pad_sequences(X_train, maxlen=maxlen, padding='post')\n",
    "X_test = tf.keras.preprocessing.sequence.pad_sequences(X_test, maxlen=maxlen, padding='post')"
   ]
  },
  {
   "cell_type": "code",
   "execution_count": 15,
   "metadata": {},
   "outputs": [
    {
     "data": {
      "text/plain": [
       "array([[  112,  2600, 20822, ...,     0,     0,     0],\n",
       "       [  679,    31,   754, ...,     0,     0,     0],\n",
       "       [ 2721,   195,   410, ...,     0,     0,     0],\n",
       "       ...,\n",
       "       [ 1335,  4387,    63, ...,     0,     0,     0],\n",
       "       [  208,   736,  4951, ...,     0,     0,     0],\n",
       "       [ 2665,  1985,   143, ...,     0,     0,     0]])"
      ]
     },
     "execution_count": 15,
     "metadata": {},
     "output_type": "execute_result"
    }
   ],
   "source": [
    "X_train"
   ]
  },
  {
   "cell_type": "code",
   "execution_count": 16,
   "metadata": {},
   "outputs": [],
   "source": [
    "import json \n",
    "\n",
    "with open('classes.json') as f:\n",
    "    categories = json.load(f)\n",
    "\n",
    "i = 0\n",
    "y_dict = {}\n",
    "for category in categories:\n",
    "    y_train = y_train.replace(category,categories[category])\n",
    "    y_test = y_test.replace(category,categories[category])\n",
    "    y_dict[i] = category\n",
    "    i+=1"
   ]
  },
  {
   "cell_type": "code",
   "execution_count": 17,
   "metadata": {},
   "outputs": [
    {
     "data": {
      "text/plain": [
       "60735     9\n",
       "9118      5\n",
       "55855    16\n",
       "42138     8\n",
       "10948     0\n",
       "         ..\n",
       "6265     12\n",
       "54886    13\n",
       "76820    11\n",
       "860       8\n",
       "15795     0\n",
       "Name: prdtypecode, Length: 67932, dtype: int64"
      ]
     },
     "execution_count": 17,
     "metadata": {},
     "output_type": "execute_result"
    }
   ],
   "source": [
    "y_train"
   ]
  },
  {
   "cell_type": "markdown",
   "metadata": {},
   "source": [
    "### Modèle RNN"
   ]
  },
  {
   "cell_type": "code",
   "execution_count": 18,
   "metadata": {},
   "outputs": [
    {
     "data": {
      "text/plain": [
       "78358"
      ]
     },
     "execution_count": 18,
     "metadata": {},
     "output_type": "execute_result"
    }
   ],
   "source": [
    " len(tokenizer.word_counts)+1"
   ]
  },
  {
   "cell_type": "code",
   "execution_count": 19,
   "metadata": {},
   "outputs": [
    {
     "name": "stdout",
     "output_type": "stream",
     "text": [
      "Model: \"model\"\n",
      "_________________________________________________________________\n",
      "Layer (type)                 Output Shape              Param #   \n",
      "=================================================================\n",
      "input (InputLayer)           [(None, None)]            0         \n",
      "_________________________________________________________________\n",
      "embed_RNN_v3 (Embedding)     (None, None, 256)         20059648  \n",
      "_________________________________________________________________\n",
      "GRU_RNN_v3 (GRU)             (None, None, 128)         148224    \n",
      "_________________________________________________________________\n",
      "dropout_1RNN_v3 (Dropout)    (None, None, 128)         0         \n",
      "_________________________________________________________________\n",
      "batchnormRNN_v3 (GlobalAvera (None, 128)               0         \n",
      "_________________________________________________________________\n",
      "dense_2_RNN_v3 (Dense)       (None, 256)               33024     \n",
      "_________________________________________________________________\n",
      "dropout_2_RNN_v3 (Dropout)   (None, 256)               0         \n",
      "_________________________________________________________________\n",
      "output_RNN_v3 (Dense)        (None, 27)                6939      \n",
      "=================================================================\n",
      "Total params: 20,247,835\n",
      "Trainable params: 20,247,835\n",
      "Non-trainable params: 0\n",
      "_________________________________________________________________\n"
     ]
    }
   ],
   "source": [
    "from tensorflow.keras.layers import Input, Embedding, GlobalAveragePooling1D, RNN, GRUCell, Dense, LSTM, Dropout, GRU\n",
    "from tensorflow.keras import Model\n",
    "\n",
    "embedding_dim = 256\n",
    "voc_size_inp = len(tokenizer.word_counts)+1\n",
    "\n",
    "\n",
    "text_inputs = Input(shape=(None,), dtype='int32',name='input')\n",
    "x = Embedding(voc_size_inp, embedding_dim, name= 'embed_' + filename)(text_inputs)\n",
    "#x = GRU(128, return_sequences=True, name='gru_' + filename)(x)\n",
    "x = GRU(128,return_sequences=True, name = 'GRU_' + filename)(x)\n",
    "#x = Dense(1024, activation='relu', name='dense_1_' + filename)(x)\n",
    "x = Dropout(0.3, name='dropout_1' + filename)(x)\n",
    "x = GlobalAveragePooling1D(name='batchnorm' + filename)(x)\n",
    "x = Dense(256, activation='relu', name='dense_2_' + filename)(x)\n",
    "x = Dropout(0.3, name='dropout_2_' + filename)(x)\n",
    "text_output = Dense(27, activation='softmax', name='output_' + filename)(x)\n",
    "\n",
    "model = Model(text_inputs, text_output)\n",
    "model.summary()"
   ]
  },
  {
   "cell_type": "code",
   "execution_count": 20,
   "metadata": {},
   "outputs": [],
   "source": [
    "#from tensorflow.keras import Sequential\n",
    "#from tensorflow.keras.layers import Embedding, Dense, GlobalAveragePooling1D, RNN, GRUCell, Dropout\n",
    "#embedding_dim = 200\n",
    "\n",
    "\n",
    "#model = Sequential()\n",
    "#model.add(Embedding(10000, embedding_dim))\n",
    "#model.add(RNN(GRUCell(128), return_sequences=True))\n",
    "#model.add(Dropout(0.3))\n",
    "#model.add(GlobalAveragePooling1D())\n",
    "#model.add(Dense(256, activation='relu'))\n",
    "#model.add(Dropout(0.3))\n",
    "#model.add(Dense(27, activation='softmax'))\n",
    "\n",
    "#model.summary()"
   ]
  },
  {
   "cell_type": "code",
   "execution_count": 21,
   "metadata": {},
   "outputs": [],
   "source": [
    "from tensorflow.keras.optimizers import Adam\n",
    "\n",
    "model.compile(optimizer='adam',loss='sparse_categorical_crossentropy',metrics=['accuracy'])\n",
    "\n",
    "#model.compile(optimizer='adam', loss='sparse_categorical_crossentropy',metrics=['accuracy'])"
   ]
  },
  {
   "cell_type": "code",
   "execution_count": 22,
   "metadata": {},
   "outputs": [],
   "source": [
    "from tensorflow.keras import callbacks\n",
    "\n",
    "early_stopping = callbacks.EarlyStopping(monitor='val_accuracy',\n",
    "                                         patience=3,\n",
    "                                         mode='max',\n",
    "                                         restore_best_weights=True)\n",
    "\n",
    "\n",
    "checkpoint = callbacks.ModelCheckpoint(filepath= model_path + filename + '.hdf5', \n",
    "                                       monitor='val_accuracy',\n",
    "                                       save_best_only=True,\n",
    "                                       save_weights_only=False,\n",
    "                                       mode='max',\n",
    "                                       save_freq='epoch')\n",
    "\n",
    "red_on_plateau = callbacks.ReduceLROnPlateau(monitor='val_accuracy', \n",
    "                                             patience=2, \n",
    "                                             factor=0.1,\n",
    "                                             verbose=1)"
   ]
  },
  {
   "cell_type": "code",
   "execution_count": 23,
   "metadata": {},
   "outputs": [
    {
     "name": "stdout",
     "output_type": "stream",
     "text": [
      "Epoch 1/30\n",
      "2123/2123 [==============================] - 1211s 569ms/step - loss: 0.1389 - accuracy: 0.9581 - val_loss: 1.1303 - val_accuracy: 0.7907\n",
      "Epoch 2/30\n",
      "2123/2123 [==============================] - 1186s 559ms/step - loss: 0.0964 - accuracy: 0.9700 - val_loss: 1.3332 - val_accuracy: 0.7910\n",
      "Epoch 3/30\n",
      "2123/2123 [==============================] - 1186s 559ms/step - loss: 0.0721 - accuracy: 0.9771 - val_loss: 1.5103 - val_accuracy: 0.7880\n",
      "Epoch 4/30\n",
      "2123/2123 [==============================] - 1185s 558ms/step - loss: 0.0590 - accuracy: 0.9813 - val_loss: 1.5844 - val_accuracy: 0.7857\n",
      "\n",
      "Epoch 00004: ReduceLROnPlateau reducing learning rate to 0.00010000000474974513.\n",
      "Epoch 5/30\n",
      "2123/2123 [==============================] - 1185s 558ms/step - loss: 0.0315 - accuracy: 0.9900 - val_loss: 1.6934 - val_accuracy: 0.7926\n",
      "Epoch 6/30\n",
      "2123/2123 [==============================] - 1185s 558ms/step - loss: 0.0211 - accuracy: 0.9929 - val_loss: 1.8390 - val_accuracy: 0.7919\n",
      "Epoch 7/30\n",
      "2123/2123 [==============================] - 1186s 559ms/step - loss: 0.0168 - accuracy: 0.9943 - val_loss: 1.9669 - val_accuracy: 0.7912\n",
      "\n",
      "Epoch 00007: ReduceLROnPlateau reducing learning rate to 1.0000000474974514e-05.\n",
      "Epoch 8/30\n",
      "2123/2123 [==============================] - 1208s 569ms/step - loss: 0.0133 - accuracy: 0.9956 - val_loss: 1.9891 - val_accuracy: 0.7913\n"
     ]
    }
   ],
   "source": [
    "model.load_weights(model_path + filename + '.hdf5')\n",
    "history = model.fit(X_train, y_train, batch_size = 32, epochs=30, validation_data = (X_test, y_test),callbacks=[early_stopping, checkpoint,red_on_plateau])"
   ]
  },
  {
   "cell_type": "code",
   "execution_count": 24,
   "metadata": {},
   "outputs": [
    {
     "name": "stderr",
     "output_type": "stream",
     "text": [
      "WARNING:absl:Found untraced functions such as gru_cell_layer_call_fn, gru_cell_layer_call_and_return_conditional_losses, gru_cell_layer_call_fn, gru_cell_layer_call_and_return_conditional_losses, gru_cell_layer_call_and_return_conditional_losses while saving (showing 5 of 5). These functions will not be directly callable after loading.\n"
     ]
    },
    {
     "name": "stdout",
     "output_type": "stream",
     "text": [
      "INFO:tensorflow:Assets written to: models_output\\RNN\\v3\\RNN_v3\\assets\n"
     ]
    },
    {
     "name": "stderr",
     "output_type": "stream",
     "text": [
      "INFO:tensorflow:Assets written to: models_output\\RNN\\v3\\RNN_v3\\assets\n"
     ]
    },
    {
     "name": "stdout",
     "output_type": "stream",
     "text": [
      "Model: \"model\"\n",
      "_________________________________________________________________\n",
      "Layer (type)                 Output Shape              Param #   \n",
      "=================================================================\n",
      "input (InputLayer)           [(None, None)]            0         \n",
      "_________________________________________________________________\n",
      "embed_RNN_v3 (Embedding)     (None, None, 256)         20059648  \n",
      "_________________________________________________________________\n",
      "GRU_RNN_v3 (GRU)             (None, None, 128)         148224    \n",
      "_________________________________________________________________\n",
      "dropout_1RNN_v3 (Dropout)    (None, None, 128)         0         \n",
      "_________________________________________________________________\n",
      "batchnormRNN_v3 (GlobalAvera (None, 128)               0         \n",
      "_________________________________________________________________\n",
      "dense_2_RNN_v3 (Dense)       (None, 256)               33024     \n",
      "_________________________________________________________________\n",
      "dropout_2_RNN_v3 (Dropout)   (None, 256)               0         \n",
      "_________________________________________________________________\n",
      "output_RNN_v3 (Dense)        (None, 27)                6939      \n",
      "=================================================================\n",
      "Total params: 20,247,835\n",
      "Trainable params: 20,247,835\n",
      "Non-trainable params: 0\n",
      "_________________________________________________________________\n"
     ]
    }
   ],
   "source": [
    "model.save(model_path + filename)\n",
    "saved_model = tf.keras.models.load_model(model_path + filename)\n",
    "saved_model.load_weights(model_path + filename + '.hdf5')\n",
    "saved_model.summary()"
   ]
  },
  {
   "cell_type": "code",
   "execution_count": 25,
   "metadata": {},
   "outputs": [],
   "source": [
    "y_pred_prob = model.predict(X_test)\n",
    "y_pred = [y_dict[i] for i in np.argmax(y_pred_prob, axis=1)]\n",
    "y_test_ = [y_dict[i] for i in y_test]"
   ]
  },
  {
   "cell_type": "code",
   "execution_count": 26,
   "metadata": {},
   "outputs": [
    {
     "name": "stdout",
     "output_type": "stream",
     "text": [
      "              precision    recall  f1-score   support\n",
      "\n",
      "          10       0.43      0.44      0.44       612\n",
      "        1140       0.68      0.67      0.67       539\n",
      "        1160       0.91      0.90      0.90       786\n",
      "        1180       0.53      0.55      0.54       146\n",
      "        1280       0.64      0.70      0.67       961\n",
      "        1281       0.59      0.56      0.57       424\n",
      "        1300       0.93      0.94      0.93       974\n",
      "        1301       0.91      0.92      0.91       169\n",
      "        1302       0.80      0.79      0.80       507\n",
      "        1320       0.78      0.71      0.74       672\n",
      "        1560       0.83      0.82      0.82      1013\n",
      "        1920       0.90      0.92      0.91       841\n",
      "        1940       0.87      0.80      0.83       137\n",
      "        2060       0.82      0.78      0.80      1029\n",
      "        2220       0.76      0.73      0.74       170\n",
      "        2280       0.76      0.79      0.77       942\n",
      "        2403       0.70      0.66      0.68       986\n",
      "        2462       0.71      0.75      0.72       306\n",
      "        2522       0.91      0.91      0.91       991\n",
      "        2582       0.68      0.77      0.72       462\n",
      "        2583       0.97      0.97      0.97      2047\n",
      "        2585       0.79      0.75      0.77       525\n",
      "        2705       0.67      0.66      0.66       517\n",
      "        2905       0.98      0.99      0.98       189\n",
      "          40       0.67      0.64      0.65       521\n",
      "          50       0.77      0.80      0.78       357\n",
      "          60       0.90      0.86      0.88       161\n",
      "\n",
      "    accuracy                           0.79     16984\n",
      "   macro avg       0.77      0.77      0.77     16984\n",
      "weighted avg       0.79      0.79      0.79     16984\n",
      "\n"
     ]
    }
   ],
   "source": [
    "from sklearn.metrics import f1_score, classification_report\n",
    "\n",
    "print(classification_report(y_test_,y_pred))"
   ]
  },
  {
   "cell_type": "code",
   "execution_count": 27,
   "metadata": {},
   "outputs": [
    {
     "data": {
      "image/png": "[encoded data removed]",
      "text/plain": [
       "<Figure size 1224x1224 with 2 Axes>"
      ]
     },
     "metadata": {
      "needs_background": "light"
     },
     "output_type": "display_data"
    }
   ],
   "source": [
    "from sklearn import metrics\n",
    "import matplotlib.pyplot as plt # Pour l'affichage d'images\n",
    "from matplotlib import cm # Pour importer de nouvelles cartes de couleur\n",
    "%matplotlib inline\n",
    "import itertools # Pour créer des iterateurs\n",
    "\n",
    "y_organised = ['10','2280','2403','2705','2522',\n",
    "               '40','50','2905','2462','60',\n",
    "               '1280','1281','1300','1180','1140','1160',\n",
    "               '1320','1560',\n",
    "               '2582','2583','2585','1302','2220',\n",
    "               '1920','2060',\n",
    "               '1301','1940'\n",
    "              ]\n",
    "\n",
    "def conf_matx(y_test,y_pred):\n",
    "    #Réponse valable:\n",
    "    #cnf_matrix = metrics.confusion_matrix(y_test,y_pred,labels=list(set(y_pred)))\n",
    "    cnf_matrix = metrics.confusion_matrix(y_test,y_pred,labels=y_organised)\n",
    "    y_organised\n",
    "\n",
    "    pond_matrix = []\n",
    "    for line in cnf_matrix:\n",
    "        pond_line = []\n",
    "        for cell in line:\n",
    "            pond_line.append(round(cell/sum(line),2))\n",
    "        pond_matrix.append(pond_line)\n",
    "        #print(sum(line))\n",
    "        #print(sum(pond_line))\n",
    "    cnf_matrix = np.array(pond_matrix)\n",
    "\n",
    "    ###Optionnel: Afficher une matrice de confusion sous forme de tableau coloré\n",
    "    #classes = set(y_pred)\n",
    "    classes = y_organised\n",
    "\n",
    "    plt.figure(figsize=(17,17))\n",
    "\n",
    "    plt.imshow(cnf_matrix, interpolation='nearest',cmap='Blues')\n",
    "    plt.title(\"Matrice de confusion\")\n",
    "    plt.colorbar()\n",
    "    tick_marks = np.arange(len(classes))\n",
    "    #tick_marks = set(y_test)\n",
    "    plt.xticks(tick_marks, classes)\n",
    "    plt.yticks(tick_marks, classes)\n",
    "\n",
    "    for i, j in itertools.product(range(cnf_matrix.shape[0]), range(cnf_matrix.shape[1])):\n",
    "        plt.text(j, i, cnf_matrix[i, j],\n",
    "                 horizontalalignment=\"center\",\n",
    "                 color=\"white\" if cnf_matrix[i, j] > ( cnf_matrix.max() / 2) else \"black\")\n",
    "\n",
    "    plt.ylabel('Vrais labels')\n",
    "    plt.xlabel('Labels prédits')\n",
    "    plt.show()\n",
    "    \n",
    "conf_matx(y_test_,y_pred)"
   ]
  },
  {
   "cell_type": "code",
   "execution_count": 28,
   "metadata": {},
   "outputs": [],
   "source": [
    "df_total = pd.DataFrame(index = y.index.to_list())\n",
    "df_real = pd.DataFrame(y.to_list(),index = y.index.to_list(),columns = ['real'])\n",
    "df_pred = pd.DataFrame(y_pred,index = y_test.index.to_list(),columns = [filename])"
   ]
  },
  {
   "cell_type": "code",
   "execution_count": 29,
   "metadata": {},
   "outputs": [
    {
     "data": {
      "text/html": [
       "<div>\n",
       "<style scoped>\n",
       "    .dataframe tbody tr th:only-of-type {\n",
       "        vertical-align: middle;\n",
       "    }\n",
       "\n",
       "    .dataframe tbody tr th {\n",
       "        vertical-align: top;\n",
       "    }\n",
       "\n",
       "    .dataframe thead th {\n",
       "        text-align: right;\n",
       "    }\n",
       "</style>\n",
       "<table border=\"1\" class=\"dataframe\">\n",
       "  <thead>\n",
       "    <tr style=\"text-align: right;\">\n",
       "      <th></th>\n",
       "      <th>RNN_v3</th>\n",
       "    </tr>\n",
       "  </thead>\n",
       "  <tbody>\n",
       "    <tr>\n",
       "      <th>0</th>\n",
       "      <td>NaN</td>\n",
       "    </tr>\n",
       "    <tr>\n",
       "      <th>1</th>\n",
       "      <td>NaN</td>\n",
       "    </tr>\n",
       "    <tr>\n",
       "      <th>2</th>\n",
       "      <td>NaN</td>\n",
       "    </tr>\n",
       "    <tr>\n",
       "      <th>3</th>\n",
       "      <td>NaN</td>\n",
       "    </tr>\n",
       "    <tr>\n",
       "      <th>4</th>\n",
       "      <td>NaN</td>\n",
       "    </tr>\n",
       "    <tr>\n",
       "      <th>...</th>\n",
       "      <td>...</td>\n",
       "    </tr>\n",
       "    <tr>\n",
       "      <th>84911</th>\n",
       "      <td>NaN</td>\n",
       "    </tr>\n",
       "    <tr>\n",
       "      <th>84912</th>\n",
       "      <td>NaN</td>\n",
       "    </tr>\n",
       "    <tr>\n",
       "      <th>84913</th>\n",
       "      <td>NaN</td>\n",
       "    </tr>\n",
       "    <tr>\n",
       "      <th>84914</th>\n",
       "      <td>NaN</td>\n",
       "    </tr>\n",
       "    <tr>\n",
       "      <th>84915</th>\n",
       "      <td>2522</td>\n",
       "    </tr>\n",
       "  </tbody>\n",
       "</table>\n",
       "<p>84916 rows × 1 columns</p>\n",
       "</div>"
      ],
      "text/plain": [
       "      RNN_v3\n",
       "0        NaN\n",
       "1        NaN\n",
       "2        NaN\n",
       "3        NaN\n",
       "4        NaN\n",
       "...      ...\n",
       "84911    NaN\n",
       "84912    NaN\n",
       "84913    NaN\n",
       "84914    NaN\n",
       "84915   2522\n",
       "\n",
       "[84916 rows x 1 columns]"
      ]
     },
     "execution_count": 29,
     "metadata": {},
     "output_type": "execute_result"
    }
   ],
   "source": [
    "df = pd.concat([df_total,df_pred],axis=1)\n",
    "df"
   ]
  },
  {
   "cell_type": "code",
   "execution_count": 30,
   "metadata": {},
   "outputs": [],
   "source": [
    "df.to_csv('predictionss.csv')"
   ]
  },
  {
   "cell_type": "code",
   "execution_count": 32,
   "metadata": {},
   "outputs": [
    {
     "name": "stdout",
     "output_type": "stream",
     "text": [
      "<tensorflow.python.keras.engine.input_layer.InputLayer object at 0x000001D8121B5DF0>\n",
      "<tensorflow.python.keras.layers.embeddings.Embedding object at 0x000001D8121C73A0>\n",
      "<tensorflow.python.keras.layers.recurrent_v2.GRU object at 0x000001D8121C7850>\n",
      "<tensorflow.python.keras.layers.core.Dropout object at 0x000001D8121E01C0>\n",
      "<tensorflow.python.keras.layers.pooling.GlobalAveragePooling1D object at 0x000001D8121E3100>\n",
      "<tensorflow.python.keras.layers.core.Dense object at 0x000001D8121E3460>\n",
      "<tensorflow.python.keras.layers.core.Dropout object at 0x000001D8121E3CD0>\n",
      "<tensorflow.python.keras.layers.core.Dense object at 0x000001D8121ED1C0>\n"
     ]
    }
   ],
   "source": [
    "for layer in saved_model.layers:\n",
    "    print(layer)"
   ]
  },
  {
   "cell_type": "code",
   "execution_count": null,
   "metadata": {},
   "outputs": [],
   "source": [
    "text_inputs = Input(shape=(None,), dtype='int32',name='input')\n",
    "x = Embedding(voc_size_inp, embedding_dim, name= 'embed_' + filename)(text_inputs)\n",
    "#x = GRU(128, return_sequences=True, name='gru_' + filename)(x)\n",
    "x = GRU(128,return_sequences=True, name = 'GRU_' + filename)(x)\n",
    "#x = Dense(1024, activation='relu', name='dense_1_' + filename)(x)\n",
    "x = Dropout(0.3, name='dropout_1' + filename)(x)\n",
    "x = GlobalAveragePooling1D(name='batchnorm' + filename)(x)\n",
    "x = Dense(256, activation='relu', name='dense_2_' + filename)(x)\n",
    "x = Dropout(0.3, name='dropout_2_' + filename)(x)\n",
    "text_output = Dense(27, activation='softmax', name='output_' + filename)(x)"
   ]
  },
  {
   "cell_type": "code",
   "execution_count": 47,
   "metadata": {},
   "outputs": [
    {
     "data": {
      "text/plain": [
       "<tensorflow.python.keras.layers.recurrent_v2.GRU at 0x1d8121c7850>"
      ]
     },
     "execution_count": 47,
     "metadata": {},
     "output_type": "execute_result"
    }
   ],
   "source": [
    "#text_inputs = saved_model.layers[0]\n",
    "#x = saved_model.layers[1](text_inputs)\n",
    "#x = saved_model.layers[2]\n",
    "#x = saved_model.layers[3](x)\n",
    "#x = saved_model.layers[4](x)\n",
    "#x = saved_model.layers[5](x)\n",
    "#x = saved_model.layers[6](x)\n",
    "\n",
    "x"
   ]
  },
  {
   "cell_type": "code",
   "execution_count": 58,
   "metadata": {},
   "outputs": [
    {
     "data": {
      "text/plain": [
       "{'_self_setattr_tracking': True,\n",
       " '_obj_reference_counts_dict': ObjectIdentityDictionary({<_ObjectIdentityWrapper wrapping 'int32'>: 1, <_ObjectIdentityWrapper wrapping False>: 2, <_ObjectIdentityWrapper wrapping True>: 3, <_ObjectIdentityWrapper wrapping (None, None)>: 1, <_ObjectIdentityWrapper wrapping TensorSpec(shape=(None, None), dtype=tf.int32, name='input')>: 1, <_ObjectIdentityWrapper wrapping 'input'>: 1, <_ObjectIdentityWrapper wrapping <Policy \"int32\">>: 1, <_ObjectIdentityWrapper wrapping DictWrapper({})>: 1, <_ObjectIdentityWrapper wrapping 58560>: 1}),\n",
       " '_init_input_shape': None,\n",
       " '_init_batch_size': None,\n",
       " '_init_dtype': 'int32',\n",
       " '_init_sparse': False,\n",
       " '_init_ragged': False,\n",
       " '_init_type_spec': None,\n",
       " '_instrumented_keras_api': True,\n",
       " '_instrumented_keras_layer_class': True,\n",
       " '_instrumented_keras_model_class': False,\n",
       " '_trainable': True,\n",
       " '_stateful': False,\n",
       " '_input_spec': None,\n",
       " '_build_input_shape': None,\n",
       " '_saved_model_inputs_spec': None,\n",
       " '_activity_regularizer': None,\n",
       " '_trainable_weights': [],\n",
       " '_non_trainable_weights': [],\n",
       " '_updates': [],\n",
       " '_thread_local': <_thread._local at 0x1d808548f90>,\n",
       " '_callable_losses': [],\n",
       " '_losses': [],\n",
       " '_metrics': [],\n",
       " '_metrics_lock': <unlocked _thread.lock object at 0x000001D8121B5B10>,\n",
       " '_autocast': True,\n",
       " '_self_tracked_trackables': [{}],\n",
       " '_inbound_nodes_value': [<tensorflow.python.keras.engine.node.Node at 0x1d8121b5dc0>],\n",
       " '_outbound_nodes_value': [<tensorflow.python.keras.engine.node.Node at 0x1d812bde6a0>],\n",
       " '_expects_training_arg': True,\n",
       " '_default_training_arg': None,\n",
       " '_expects_mask_arg': True,\n",
       " '_dynamic': False,\n",
       " '_initial_weights': None,\n",
       " '_auto_track_sub_layers': True,\n",
       " '_preserve_input_structure_in_config': False,\n",
       " 'sparse': False,\n",
       " 'ragged': False,\n",
       " 'batch_size': None,\n",
       " '_supports_masking': True,\n",
       " 'is_placeholder': True,\n",
       " '_batch_input_shape': (None, None),\n",
       " '_type_spec': TensorSpec(shape=(None, None), dtype=tf.int32, name='input'),\n",
       " '_name': 'input',\n",
       " '_dtype_policy': <Policy \"int32\">,\n",
       " '_compute_dtype_object': tf.int32,\n",
       " 'built': True,\n",
       " '_self_unconditional_checkpoint_dependencies': [TrackableReference(name='_self_saveable_object_factories', ref=DictWrapper({}))],\n",
       " '_self_unconditional_dependency_names': {'_self_saveable_object_factories': {}},\n",
       " '_self_unconditional_deferred_dependencies': {},\n",
       " '_self_name_based_restores': set(),\n",
       " '_serialized_attributes': {'metadata': {'class_name': 'InputLayer',\n",
       "   'name': 'input',\n",
       "   'dtype': 'int32',\n",
       "   'sparse': False,\n",
       "   'ragged': False,\n",
       "   'batch_input_shape': (None, None),\n",
       "   'config': {'batch_input_shape': (None, None),\n",
       "    'dtype': 'int32',\n",
       "    'sparse': False,\n",
       "    'ragged': False,\n",
       "    'name': 'input'}}},\n",
       " '_self_saveable_object_factories': {},\n",
       " '_self_update_uid': 58560}"
      ]
     },
     "execution_count": 58,
     "metadata": {},
     "output_type": "execute_result"
    }
   ],
   "source": [
    "saved_model.layers[0].__dict__"
   ]
  },
  {
   "cell_type": "code",
   "execution_count": 49,
   "metadata": {},
   "outputs": [
    {
     "data": {
      "text/plain": [
       "<KerasTensor: shape=(None, None) dtype=int32 (created by layer 'input')>"
      ]
     },
     "execution_count": 49,
     "metadata": {},
     "output_type": "execute_result"
    }
   ],
   "source": [
    "text_inputs_2 = Input(shape=(None,), dtype='int32',name='input')\n",
    "text_inputs_2"
   ]
  },
  {
   "cell_type": "code",
   "execution_count": 52,
   "metadata": {},
   "outputs": [
    {
     "data": {
      "text/plain": [
       "<KerasTensor: shape=(None, None, 256) dtype=float32 (created by layer 'embed_RNN_v3')>"
      ]
     },
     "execution_count": 52,
     "metadata": {},
     "output_type": "execute_result"
    }
   ],
   "source": [
    "x = Embedding(voc_size_inp, embedding_dim, name= 'embed_' + filename)(text_inputs_2)\n",
    "x"
   ]
  },
  {
   "cell_type": "code",
   "execution_count": 61,
   "metadata": {},
   "outputs": [
    {
     "ename": "AttributeError",
     "evalue": "'Functional' object has no attribute 'split'",
     "output_type": "error",
     "traceback": [
      "\u001b[1;31m---------------------------------------------------------------------------\u001b[0m",
      "\u001b[1;31mAttributeError\u001b[0m                            Traceback (most recent call last)",
      "\u001b[1;32m<ipython-input-61-40efef10d719>\u001b[0m in \u001b[0;36m<module>\u001b[1;34m\u001b[0m\n\u001b[1;32m----> 1\u001b[1;33m \u001b[0msaved_model\u001b[0m\u001b[1;33m.\u001b[0m\u001b[0msplit\u001b[0m\u001b[1;33m\u001b[0m\u001b[1;33m\u001b[0m\u001b[0m\n\u001b[0m",
      "\u001b[1;31mAttributeError\u001b[0m: 'Functional' object has no attribute 'split'"
     ]
    }
   ],
   "source": [
    "saved_model.split"
   ]
  }
 ],
 "metadata": {
  "kernelspec": {
   "display_name": "Python 3",
   "language": "python",
   "name": "python3"
  },
  "language_info": {
   "codemirror_mode": {
    "name": "ipython",
    "version": 3
   },
   "file_extension": ".py",
   "mimetype": "text/x-python",
   "name": "python",
   "nbconvert_exporter": "python",
   "pygments_lexer": "ipython3",
   "version": "3.8.3"
  }
 },
 "nbformat": 4,
 "nbformat_minor": 4
}
