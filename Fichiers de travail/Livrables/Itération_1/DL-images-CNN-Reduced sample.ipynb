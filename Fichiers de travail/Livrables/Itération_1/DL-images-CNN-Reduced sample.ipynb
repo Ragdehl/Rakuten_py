{
 "cells": [
  {
   "cell_type": "markdown",
   "metadata": {},
   "source": [
    "# DEEP LEARNING - Itération 1"
   ]
  },
  {
   "cell_type": "markdown",
   "metadata": {},
   "source": [
    "# Partie 1 : Images"
   ]
  },
  {
   "cell_type": "markdown",
   "metadata": {},
   "source": [
    "### Objectif à dépasser : weighted F1-score = 0.5534 (Resnet)"
   ]
  },
  {
   "cell_type": "markdown",
   "metadata": {},
   "source": [
    "Import libraries:"
   ]
  },
  {
   "cell_type": "code",
   "execution_count": 1,
   "metadata": {},
   "outputs": [],
   "source": [
    "import pandas as pd\n",
    "import numpy as np\n",
    "import seaborn as sns\n",
    "import matplotlib.pyplot as plt\n",
    "import numpy as np\n",
    "import glob\n",
    "import os\n",
    "os.chdir('C:\\\\Users\\\\barry\\\\OneDrive - CSTBGroup\\\\image_ds\\\\images')"
   ]
  },
  {
   "cell_type": "markdown",
   "metadata": {},
   "source": [
    "Récupérer les données:"
   ]
  },
  {
   "cell_type": "code",
   "execution_count": 2,
   "metadata": {},
   "outputs": [],
   "source": [
    "X = pd.read_csv('X_train_update.csv',index_col=0)\n",
    "y = pd.read_csv('Y_train_CVw08PX.csv',index_col=0)"
   ]
  },
  {
   "cell_type": "markdown",
   "metadata": {},
   "source": [
    "Liste des images:"
   ]
  },
  {
   "cell_type": "code",
   "execution_count": 3,
   "metadata": {},
   "outputs": [],
   "source": [
    "os.chdir('C:\\\\Users\\\\barry\\\\OneDrive - CSTBGroup\\\\image_ds')"
   ]
  },
  {
   "cell_type": "code",
   "execution_count": 4,
   "metadata": {},
   "outputs": [],
   "source": [
    "import os #Miscellaneous operating system interfaces\n",
    "#https://docs.python.org/3/library/os.html\n",
    "\n",
    "#get current working directory\n",
    "current_path = os.getcwd() \n",
    "\n",
    "#Training images path\n",
    "images_path = current_path + r'/images/image_train/'\n",
    "\n",
    "#List with the name of all training images\n",
    "images_list = os.listdir(images_path)"
   ]
  },
  {
   "cell_type": "markdown",
   "metadata": {},
   "source": [
    "Géneration nom des images:"
   ]
  },
  {
   "cell_type": "code",
   "execution_count": 5,
   "metadata": {
    "scrolled": true
   },
   "outputs": [
    {
     "data": {
      "text/plain": [
       "0        image_1263597046_product_3804725264.jpg\n",
       "1         image_1008141237_product_436067568.jpg\n",
       "2          image_938777978_product_201115110.jpg\n",
       "3           image_457047496_product_50418756.jpg\n",
       "4         image_1077757786_product_278535884.jpg\n",
       "                          ...                   \n",
       "84911      image_941495734_product_206719094.jpg\n",
       "84912    image_1188462883_product_3065095706.jpg\n",
       "84913     image_1009325617_product_440707564.jpg\n",
       "84914    image_1267353403_product_3942400296.jpg\n",
       "84915       image_684671297_product_57203227.jpg\n",
       "Name: image name, Length: 84916, dtype: object"
      ]
     },
     "execution_count": 5,
     "metadata": {},
     "output_type": "execute_result"
    }
   ],
   "source": [
    "#Create a column with the name of the picture\n",
    "X['image name'] = 'image_' + X['imageid'].map(str) + '_product_' + X['productid'].map(str) + '.jpg'\n",
    "X['image name']"
   ]
  },
  {
   "cell_type": "markdown",
   "metadata": {},
   "source": [
    "### Répartition des images dans les échantillons train, validation et test"
   ]
  },
  {
   "cell_type": "markdown",
   "metadata": {},
   "source": [
    "Répartion :"
   ]
  },
  {
   "cell_type": "code",
   "execution_count": 6,
   "metadata": {},
   "outputs": [],
   "source": [
    "from sklearn.model_selection import train_test_split\n",
    "X_train, X_test, y_train, y_test = train_test_split(X, y, test_size = 0.2, random_state = 123)\n",
    "X_train, X_val, y_train, y_val = train_test_split(X_train, y_train, test_size = 0.1, random_state = 123)\n"
   ]
  },
  {
   "cell_type": "code",
   "execution_count": 7,
   "metadata": {},
   "outputs": [],
   "source": [
    "X_val = X_train.iloc[:2400,:]\n",
    "y_val = y_train.iloc[:2400,:]\n",
    "\n",
    "X_train = X_train.iloc[:21600,:]\n",
    "y_train = y_train.iloc[:21600:,:]\n",
    "\n",
    "X_test = X_test.iloc[:6000,:]\n",
    "y_test = y_test.iloc[:6000,:]"
   ]
  },
  {
   "cell_type": "markdown",
   "metadata": {},
   "source": [
    "Qualité de la répartitioon"
   ]
  },
  {
   "cell_type": "code",
   "execution_count": 8,
   "metadata": {
    "scrolled": true
   },
   "outputs": [
    {
     "data": {
      "text/html": [
       "<div>\n",
       "<style scoped>\n",
       "    .dataframe tbody tr th:only-of-type {\n",
       "        vertical-align: middle;\n",
       "    }\n",
       "\n",
       "    .dataframe tbody tr th {\n",
       "        vertical-align: top;\n",
       "    }\n",
       "\n",
       "    .dataframe thead th {\n",
       "        text-align: right;\n",
       "    }\n",
       "</style>\n",
       "<table border=\"1\" class=\"dataframe\">\n",
       "  <thead>\n",
       "    <tr style=\"text-align: right;\">\n",
       "      <th></th>\n",
       "      <th>Nombre_images_train</th>\n",
       "      <th>Nombre_images_validation</th>\n",
       "      <th>Nombre_images_test</th>\n",
       "      <th>y</th>\n",
       "    </tr>\n",
       "    <tr>\n",
       "      <th>prdtypecode</th>\n",
       "      <th></th>\n",
       "      <th></th>\n",
       "      <th></th>\n",
       "      <th></th>\n",
       "    </tr>\n",
       "  </thead>\n",
       "  <tbody>\n",
       "    <tr>\n",
       "      <th>2583</th>\n",
       "      <td>2557</td>\n",
       "      <td>261</td>\n",
       "      <td>702</td>\n",
       "      <td>2583</td>\n",
       "    </tr>\n",
       "    <tr>\n",
       "      <th>1300</th>\n",
       "      <td>1313</td>\n",
       "      <td>142</td>\n",
       "      <td>356</td>\n",
       "      <td>1300</td>\n",
       "    </tr>\n",
       "    <tr>\n",
       "      <th>1560</th>\n",
       "      <td>1299</td>\n",
       "      <td>158</td>\n",
       "      <td>365</td>\n",
       "      <td>1560</td>\n",
       "    </tr>\n",
       "    <tr>\n",
       "      <th>1280</th>\n",
       "      <td>1280</td>\n",
       "      <td>142</td>\n",
       "      <td>338</td>\n",
       "      <td>1280</td>\n",
       "    </tr>\n",
       "    <tr>\n",
       "      <th>2060</th>\n",
       "      <td>1258</td>\n",
       "      <td>129</td>\n",
       "      <td>381</td>\n",
       "      <td>2060</td>\n",
       "    </tr>\n",
       "    <tr>\n",
       "      <th>2522</th>\n",
       "      <td>1239</td>\n",
       "      <td>131</td>\n",
       "      <td>347</td>\n",
       "      <td>2522</td>\n",
       "    </tr>\n",
       "    <tr>\n",
       "      <th>2280</th>\n",
       "      <td>1233</td>\n",
       "      <td>158</td>\n",
       "      <td>316</td>\n",
       "      <td>2280</td>\n",
       "    </tr>\n",
       "    <tr>\n",
       "      <th>2403</th>\n",
       "      <td>1216</td>\n",
       "      <td>131</td>\n",
       "      <td>363</td>\n",
       "      <td>2403</td>\n",
       "    </tr>\n",
       "    <tr>\n",
       "      <th>1920</th>\n",
       "      <td>1119</td>\n",
       "      <td>123</td>\n",
       "      <td>303</td>\n",
       "      <td>1920</td>\n",
       "    </tr>\n",
       "    <tr>\n",
       "      <th>1160</th>\n",
       "      <td>1008</td>\n",
       "      <td>123</td>\n",
       "      <td>270</td>\n",
       "      <td>1160</td>\n",
       "    </tr>\n",
       "    <tr>\n",
       "      <th>1320</th>\n",
       "      <td>821</td>\n",
       "      <td>90</td>\n",
       "      <td>212</td>\n",
       "      <td>1320</td>\n",
       "    </tr>\n",
       "    <tr>\n",
       "      <th>10</th>\n",
       "      <td>796</td>\n",
       "      <td>87</td>\n",
       "      <td>223</td>\n",
       "      <td>10</td>\n",
       "    </tr>\n",
       "    <tr>\n",
       "      <th>2705</th>\n",
       "      <td>690</td>\n",
       "      <td>85</td>\n",
       "      <td>195</td>\n",
       "      <td>2705</td>\n",
       "    </tr>\n",
       "    <tr>\n",
       "      <th>1140</th>\n",
       "      <td>686</td>\n",
       "      <td>75</td>\n",
       "      <td>195</td>\n",
       "      <td>1140</td>\n",
       "    </tr>\n",
       "    <tr>\n",
       "      <th>2582</th>\n",
       "      <td>662</td>\n",
       "      <td>67</td>\n",
       "      <td>200</td>\n",
       "      <td>2582</td>\n",
       "    </tr>\n",
       "    <tr>\n",
       "      <th>2585</th>\n",
       "      <td>658</td>\n",
       "      <td>85</td>\n",
       "      <td>171</td>\n",
       "      <td>2585</td>\n",
       "    </tr>\n",
       "    <tr>\n",
       "      <th>40</th>\n",
       "      <td>633</td>\n",
       "      <td>79</td>\n",
       "      <td>162</td>\n",
       "      <td>40</td>\n",
       "    </tr>\n",
       "    <tr>\n",
       "      <th>1302</th>\n",
       "      <td>617</td>\n",
       "      <td>73</td>\n",
       "      <td>183</td>\n",
       "      <td>1302</td>\n",
       "    </tr>\n",
       "    <tr>\n",
       "      <th>1281</th>\n",
       "      <td>509</td>\n",
       "      <td>42</td>\n",
       "      <td>156</td>\n",
       "      <td>1281</td>\n",
       "    </tr>\n",
       "    <tr>\n",
       "      <th>50</th>\n",
       "      <td>411</td>\n",
       "      <td>49</td>\n",
       "      <td>115</td>\n",
       "      <td>50</td>\n",
       "    </tr>\n",
       "    <tr>\n",
       "      <th>2462</th>\n",
       "      <td>340</td>\n",
       "      <td>43</td>\n",
       "      <td>111</td>\n",
       "      <td>2462</td>\n",
       "    </tr>\n",
       "    <tr>\n",
       "      <th>2905</th>\n",
       "      <td>240</td>\n",
       "      <td>21</td>\n",
       "      <td>63</td>\n",
       "      <td>2905</td>\n",
       "    </tr>\n",
       "    <tr>\n",
       "      <th>2220</th>\n",
       "      <td>229</td>\n",
       "      <td>17</td>\n",
       "      <td>48</td>\n",
       "      <td>2220</td>\n",
       "    </tr>\n",
       "    <tr>\n",
       "      <th>1180</th>\n",
       "      <td>224</td>\n",
       "      <td>26</td>\n",
       "      <td>53</td>\n",
       "      <td>1180</td>\n",
       "    </tr>\n",
       "    <tr>\n",
       "      <th>1940</th>\n",
       "      <td>192</td>\n",
       "      <td>24</td>\n",
       "      <td>56</td>\n",
       "      <td>1940</td>\n",
       "    </tr>\n",
       "    <tr>\n",
       "      <th>1301</th>\n",
       "      <td>185</td>\n",
       "      <td>22</td>\n",
       "      <td>57</td>\n",
       "      <td>1301</td>\n",
       "    </tr>\n",
       "    <tr>\n",
       "      <th>60</th>\n",
       "      <td>185</td>\n",
       "      <td>17</td>\n",
       "      <td>59</td>\n",
       "      <td>60</td>\n",
       "    </tr>\n",
       "  </tbody>\n",
       "</table>\n",
       "</div>"
      ],
      "text/plain": [
       "             Nombre_images_train  Nombre_images_validation  \\\n",
       "prdtypecode                                                  \n",
       "2583                        2557                       261   \n",
       "1300                        1313                       142   \n",
       "1560                        1299                       158   \n",
       "1280                        1280                       142   \n",
       "2060                        1258                       129   \n",
       "2522                        1239                       131   \n",
       "2280                        1233                       158   \n",
       "2403                        1216                       131   \n",
       "1920                        1119                       123   \n",
       "1160                        1008                       123   \n",
       "1320                         821                        90   \n",
       "10                           796                        87   \n",
       "2705                         690                        85   \n",
       "1140                         686                        75   \n",
       "2582                         662                        67   \n",
       "2585                         658                        85   \n",
       "40                           633                        79   \n",
       "1302                         617                        73   \n",
       "1281                         509                        42   \n",
       "50                           411                        49   \n",
       "2462                         340                        43   \n",
       "2905                         240                        21   \n",
       "2220                         229                        17   \n",
       "1180                         224                        26   \n",
       "1940                         192                        24   \n",
       "1301                         185                        22   \n",
       "60                           185                        17   \n",
       "\n",
       "             Nombre_images_test     y  \n",
       "prdtypecode                            \n",
       "2583                        702  2583  \n",
       "1300                        356  1300  \n",
       "1560                        365  1560  \n",
       "1280                        338  1280  \n",
       "2060                        381  2060  \n",
       "2522                        347  2522  \n",
       "2280                        316  2280  \n",
       "2403                        363  2403  \n",
       "1920                        303  1920  \n",
       "1160                        270  1160  \n",
       "1320                        212  1320  \n",
       "10                          223    10  \n",
       "2705                        195  2705  \n",
       "1140                        195  1140  \n",
       "2582                        200  2582  \n",
       "2585                        171  2585  \n",
       "40                          162    40  \n",
       "1302                        183  1302  \n",
       "1281                        156  1281  \n",
       "50                          115    50  \n",
       "2462                        111  2462  \n",
       "2905                         63  2905  \n",
       "2220                         48  2220  \n",
       "1180                         53  1180  \n",
       "1940                         56  1940  \n",
       "1301                         57  1301  \n",
       "60                           59    60  "
      ]
     },
     "execution_count": 8,
     "metadata": {},
     "output_type": "execute_result"
    }
   ],
   "source": [
    "trainy = pd.DataFrame(y_train.value_counts(), columns = ['Nombre_images_train'])\n",
    "validy = pd.DataFrame(y_val.value_counts(), columns = ['Nombre_images_validation'])\n",
    "testy = pd.DataFrame(y_test.value_counts(), columns = ['Nombre_images_test'])\n",
    "train_valid = trainy.merge(validy, right_index = True, left_index = True)\n",
    "train_valid_test = train_valid.merge(testy, right_index = True, left_index = True)\n",
    "train_valid_test['y'] = train_valid_test.index\n",
    "yval = []\n",
    "for i in train_valid_test['y']:\n",
    "    yval.append(i[0])\n",
    "train_valid_test['y'] = yval\n",
    "train_valid_test"
   ]
  },
  {
   "cell_type": "code",
   "execution_count": 9,
   "metadata": {},
   "outputs": [
    {
     "data": {
      "text/plain": [
       "(2583,)"
      ]
     },
     "execution_count": 9,
     "metadata": {},
     "output_type": "execute_result"
    }
   ],
   "source": [
    "train_valid_test.index.tolist()[0]"
   ]
  },
  {
   "cell_type": "code",
   "execution_count": 10,
   "metadata": {},
   "outputs": [
    {
     "data": {
      "text/plain": [
       "2557"
      ]
     },
     "execution_count": 10,
     "metadata": {},
     "output_type": "execute_result"
    }
   ],
   "source": [
    "np.max(train_valid_test.Nombre_images_train.tolist())"
   ]
  },
  {
   "cell_type": "code",
   "execution_count": 11,
   "metadata": {},
   "outputs": [
    {
     "data": {
      "text/plain": [
       "<AxesSubplot:xlabel='y'>"
      ]
     },
     "execution_count": 11,
     "metadata": {},
     "output_type": "execute_result"
    },
    {
     "data": {
      "image/png": "[encoded data removed]",
      "text/plain": [
       "<Figure size 432x288 with 1 Axes>"
      ]
     },
     "metadata": {
      "needs_background": "light"
     },
     "output_type": "display_data"
    },
    {
     "data": {
      "image/png": "[encoded data removed]",
      "text/plain": [
       "<Figure size 432x288 with 1 Axes>"
      ]
     },
     "metadata": {
      "needs_background": "light"
     },
     "output_type": "display_data"
    },
    {
     "data": {
      "image/png": "[encoded data removed]",
      "text/plain": [
       "<Figure size 432x288 with 1 Axes>"
      ]
     },
     "metadata": {
      "needs_background": "light"
     },
     "output_type": "display_data"
    }
   ],
   "source": [
    "train_valid_test.plot.bar(\"y\", \"Nombre_images_train\") \n",
    "train_valid_test.plot.bar(\"y\", \"Nombre_images_validation\")\n",
    "train_valid_test.plot.bar(\"y\", \"Nombre_images_test\")"
   ]
  },
  {
   "cell_type": "markdown",
   "metadata": {},
   "source": [
    "### Processus de génération des données"
   ]
  },
  {
   "cell_type": "markdown",
   "metadata": {},
   "source": [
    "#### APPLICATION CNN"
   ]
  },
  {
   "cell_type": "markdown",
   "metadata": {},
   "source": [
    "\"A rough rule of thumb is that you need at least 1,000 images from each class you are trying to classify… and more is always better\", https://medium.com/@bcwalraven/boost-your-cnn-with-the-keras-imagedatagenerator-99b1ef262f47"
   ]
  },
  {
   "cell_type": "code",
   "execution_count": 12,
   "metadata": {},
   "outputs": [
    {
     "data": {
      "text/plain": [
       "764"
      ]
     },
     "execution_count": 12,
     "metadata": {},
     "output_type": "execute_result"
    }
   ],
   "source": [
    "# On a pas dans la base de données complète (tous échantillons confondus) pour chaque classe 1000 images\n",
    "# ==> Augmentation des données\n",
    "y.value_counts().min()"
   ]
  },
  {
   "cell_type": "code",
   "execution_count": 13,
   "metadata": {
    "scrolled": true
   },
   "outputs": [],
   "source": [
    "from keras.utils import np_utils \n",
    "\n",
    "y_train_cnn = np_utils.to_categorical(y_train)\n",
    "y_val_cnn = np_utils.to_categorical(y_val)\n",
    "y_test_cnn = np_utils.to_categorical(y_test)"
   ]
  },
  {
   "cell_type": "code",
   "execution_count": 14,
   "metadata": {},
   "outputs": [],
   "source": [
    "X_train['class'] = y_train\n",
    "X_val['class'] = y_val\n",
    "X_test['class'] = y_test"
   ]
  },
  {
   "cell_type": "markdown",
   "metadata": {},
   "source": [
    "The generator will run through your image data and apply random transformations to each individual image as it is passed to the model so that it never sees the exact same image twice during training. These transformations are parameters on the generator that can be set when instantiated and can include rotations, shears, flips, and zooms. The benefit here is that the model will become more robust as it trains on images that are slightly distorted, and it helps to prevent the model from learning noise in your data such as where features are located in the image. "
   ]
  },
  {
   "cell_type": "markdown",
   "metadata": {},
   "source": [
    "Image Data Generator :"
   ]
  },
  {
   "cell_type": "code",
   "execution_count": 15,
   "metadata": {},
   "outputs": [],
   "source": [
    "from keras.preprocessing.image import ImageDataGenerator\n",
    "train_data_generator = ImageDataGenerator(rescale=1./255,\n",
    "                                   shear_range=0.2,\n",
    "                                   zoom_range=0.2,\n",
    "                                   rotation_range=45,\n",
    "                                   horizontal_flip=True,\n",
    "                                   vertical_flip=True,\n",
    "                                   validation_split = .2)\n",
    "val_data_generator = ImageDataGenerator(rescale=1./255,\n",
    "                                   shear_range=0.2,\n",
    "                                   zoom_range=0.2,\n",
    "                                   rotation_range=45,\n",
    "                                   horizontal_flip=True,\n",
    "                                   vertical_flip=True,\n",
    "                                   validation_split = .2) # Données sur lesquelles améliorer le modèle\n",
    "test_data_generator = ImageDataGenerator(rescale=1./255) # Données sans entraînement, juste pour test"
   ]
  },
  {
   "cell_type": "markdown",
   "metadata": {},
   "source": [
    "Directory's changement for the data access :"
   ]
  },
  {
   "cell_type": "code",
   "execution_count": 16,
   "metadata": {},
   "outputs": [],
   "source": [
    "path = os.chdir('C:\\\\Users\\\\barry\\\\OneDrive - CSTBGroup\\\\image_ds\\\\images\\\\image_train')"
   ]
  },
  {
   "cell_type": "markdown",
   "metadata": {},
   "source": [
    "Iteration process : "
   ]
  },
  {
   "cell_type": "code",
   "execution_count": 17,
   "metadata": {},
   "outputs": [
    {
     "name": "stdout",
     "output_type": "stream",
     "text": [
      "Found 21600 validated image filenames belonging to 27 classes.\n",
      "Found 2400 validated image filenames belonging to 27 classes.\n",
      "Found 6000 validated image filenames belonging to 27 classes.\n"
     ]
    }
   ],
   "source": [
    "batch_size = 32\n",
    "\n",
    "X_train[\"class\"] = X_train[\"class\"].astype(str)\n",
    "X_val[\"class\"] = X_val[\"class\"].astype(str)\n",
    "X_test[\"class\"] = X_test[\"class\"].astype(\"str\")\n",
    "\n",
    "train_generator = train_data_generator.flow_from_dataframe(dataframe=X_train,\n",
    "                                                          directory=path,\n",
    "                                                           x_col = \"image name\",\n",
    "                                                           y_col = \"class\",\n",
    "                                                           class_mode =\"sparse\",\n",
    "                                                          target_size = (128, 128), \n",
    "                                                          batch_size = batch_size)\n",
    "val_generator = train_data_generator.flow_from_dataframe(dataframe=X_val,\n",
    "                                                          directory=path,\n",
    "                                                           x_col = \"image name\",\n",
    "                                                           y_col = \"class\",\n",
    "                                                           class_mode =\"sparse\",\n",
    "                                                          target_size = (128, 128), \n",
    "                                                          batch_size = batch_size)\n",
    "\n",
    "# Remarque test à ne pas toucher jusqu'à l'évaluation finale du modèle, ajout shuffle = False ?\n",
    "\n",
    "test_generator = train_data_generator.flow_from_dataframe(dataframe=X_test,\n",
    "                                                          directory=path,\n",
    "                                                           x_col = \"image name\",\n",
    "                                                           y_col = \"class\",\n",
    "                                                           class_mode =\"sparse\",\n",
    "                                                          target_size = (128, 128), \n",
    "                                                          batch_size = batch_size)"
   ]
  },
  {
   "cell_type": "markdown",
   "metadata": {},
   "source": [
    "Résumé données image : "
   ]
  },
  {
   "cell_type": "code",
   "execution_count": 18,
   "metadata": {},
   "outputs": [
    {
     "name": "stdout",
     "output_type": "stream",
     "text": [
      "Batch shape (taille batch, shape image) = (32, 128, 128, 3), min=0.000, max=1.000\n"
     ]
    }
   ],
   "source": [
    "batchX, batchy = train_generator.next()\n",
    "print('Batch shape (taille batch, shape image) = %s, min=%.3f, max=%.3f' % (batchX.shape, batchX.min(), batchX.max()))"
   ]
  },
  {
   "cell_type": "markdown",
   "metadata": {},
   "source": [
    "# CNN"
   ]
  },
  {
   "cell_type": "markdown",
   "metadata": {},
   "source": [
    "Package modélisation CNN :"
   ]
  },
  {
   "cell_type": "code",
   "execution_count": 19,
   "metadata": {},
   "outputs": [],
   "source": [
    "from keras.models import Sequential\n",
    "from keras.layers import Dense\n",
    "from keras.layers import Dropout \n",
    "from keras.layers import Flatten\n",
    "from keras.layers.convolutional import Conv2D \n",
    "from keras.layers.convolutional import MaxPooling2D\n",
    "from keras.utils import np_utils "
   ]
  },
  {
   "cell_type": "markdown",
   "metadata": {},
   "source": [
    "(#) Remarque : on  peut inclure dans la métrique de la compilation le F1_WEIGHTED\n",
    "\n",
    "\n",
    "import keras.backend as K\n",
    "\n",
    "def f1_weighted(true, pred): #shapes (batch, 4)\n",
    "\n",
    "    #for metrics include these two lines, for loss, don't include them\n",
    "    #these are meant to round 'pred' to exactly zeros and ones\n",
    "    predLabels = K.argmax(pred, axis=-1)\n",
    "    pred = K.one_hot(predLabels, 4) \n",
    "\n",
    "\n",
    "    ground_positives = K.sum(true, axis=0) + K.epsilon()       # = TP + FN\n",
    "    pred_positives = K.sum(pred, axis=0) + K.epsilon()         # = TP + FP\n",
    "    true_positives = K.sum(true * pred, axis=0) + K.epsilon()  # = TP\n",
    "        #all with shape (4,)\n",
    "    \n",
    "    precision = true_positives / pred_positives \n",
    "    recall = true_positives / ground_positives\n",
    "        #both = 1 if ground_positives == 0 or pred_positives == 0\n",
    "        #shape (4,)\n",
    "\n",
    "    f1 = 2 * (precision * recall) / (precision + recall + K.epsilon())\n",
    "        #still with shape (4,)\n",
    "\n",
    "    weighted_f1 = f1 * ground_positives / K.sum(ground_positives) \n",
    "    weighted_f1 = K.sum(weighted_f1)\n",
    "\n",
    "    \n",
    "    return weighted_f1"
   ]
  },
  {
   "cell_type": "markdown",
   "metadata": {},
   "source": [
    "Création du modèle :"
   ]
  },
  {
   "cell_type": "code",
   "execution_count": 20,
   "metadata": {},
   "outputs": [],
   "source": [
    "model = Sequential()\n",
    "\n",
    "first_layer = Conv2D(filters = 32,\n",
    "                     kernel_size = (5, 5),\n",
    "                     padding = 'valid',\n",
    "                     input_shape = (128, 128, 3),\n",
    "                     activation = 'relu')\n",
    "\n",
    "second_layer = MaxPooling2D(pool_size = (2, 2))\n",
    "\n",
    "model.add(first_layer)\n",
    "model.add(second_layer)\n",
    "\n",
    "third_layer = Dropout(rate = 0.2)\n",
    "fourth_layer = Flatten()\n",
    "fifth_layer = Dense(units = 128, activation = \"relu\")\n",
    "output_layer = Dense(units = 27, activation = \"softmax\")\n",
    "model.add(third_layer)\n",
    "model.add(fourth_layer)\n",
    "model.add(fifth_layer)\n",
    "model.add(output_layer)\n",
    "model.compile(loss = \"sparse_categorical_crossentropy\", optimizer = \"adam\", metrics = [\"acc\"])"
   ]
  },
  {
   "cell_type": "markdown",
   "metadata": {},
   "source": [
    "Résumé du modèle :"
   ]
  },
  {
   "cell_type": "code",
   "execution_count": 21,
   "metadata": {},
   "outputs": [
    {
     "name": "stdout",
     "output_type": "stream",
     "text": [
      "Model: \"sequential\"\n",
      "_________________________________________________________________\n",
      "Layer (type)                 Output Shape              Param #   \n",
      "=================================================================\n",
      "conv2d (Conv2D)              (None, 124, 124, 32)      2432      \n",
      "_________________________________________________________________\n",
      "max_pooling2d (MaxPooling2D) (None, 62, 62, 32)        0         \n",
      "_________________________________________________________________\n",
      "dropout (Dropout)            (None, 62, 62, 32)        0         \n",
      "_________________________________________________________________\n",
      "flatten (Flatten)            (None, 123008)            0         \n",
      "_________________________________________________________________\n",
      "dense (Dense)                (None, 128)               15745152  \n",
      "_________________________________________________________________\n",
      "dense_1 (Dense)              (None, 27)                3483      \n",
      "=================================================================\n",
      "Total params: 15,751,067\n",
      "Trainable params: 15,751,067\n",
      "Non-trainable params: 0\n",
      "_________________________________________________________________\n"
     ]
    }
   ],
   "source": [
    "model.summary()"
   ]
  },
  {
   "cell_type": "markdown",
   "metadata": {},
   "source": [
    "Entrainement  (Epochs = 2) :"
   ]
  },
  {
   "cell_type": "code",
   "execution_count": 22,
   "metadata": {
    "scrolled": true
   },
   "outputs": [
    {
     "name": "stdout",
     "output_type": "stream",
     "text": [
      "Epoch 1/2\n",
      "675/675 [==============================] - ETA: 0s - loss: 3.4293 - acc: 0.1152WARNING:tensorflow:Your input ran out of data; interrupting training. Make sure that your dataset or generator can generate at least `steps_per_epoch * epochs` batches (in this case, 675 batches). You may need to use the repeat() function when building your dataset.\n",
      "675/675 [==============================] - 312s 462ms/step - loss: 3.4288 - acc: 0.1153 - val_loss: 2.9420 - val_acc: 0.1713\n",
      "Epoch 2/2\n",
      "675/675 [==============================] - 267s 396ms/step - loss: 2.9177 - acc: 0.1781\n"
     ]
    }
   ],
   "source": [
    "history = model.fit(train_generator, epochs = 2, steps_per_epoch = len(X_train)//batch_size, validation_steps = len(X_train)//32, validation_data = val_generator)"
   ]
  },
  {
   "cell_type": "markdown",
   "metadata": {},
   "source": [
    "Prédiction : "
   ]
  },
  {
   "cell_type": "code",
   "execution_count": 23,
   "metadata": {},
   "outputs": [
    {
     "name": "stdout",
     "output_type": "stream",
     "text": [
      "188/188 [==============================] - 58s 311ms/step\n"
     ]
    }
   ],
   "source": [
    "y_pred_2 = model.predict(test_generator, verbose = 1)\n",
    "y_pred_2 = y_pred_2.argmax(axis = 1)"
   ]
  },
  {
   "cell_type": "markdown",
   "metadata": {},
   "source": [
    "Evaluation (F1-score) :"
   ]
  },
  {
   "cell_type": "code",
   "execution_count": 26,
   "metadata": {},
   "outputs": [
    {
     "data": {
      "text/plain": [
       "0.04802152085610704"
      ]
     },
     "execution_count": 26,
     "metadata": {},
     "output_type": "execute_result"
    }
   ],
   "source": [
    "from sklearn.metrics import f1_score\n",
    "f1_score(test_generator.classes,y_pred_2, average = \"weighted\")"
   ]
  },
  {
   "cell_type": "markdown",
   "metadata": {},
   "source": [
    "Entrainement (Epochs = 10) :"
   ]
  },
  {
   "cell_type": "code",
   "execution_count": 27,
   "metadata": {},
   "outputs": [
    {
     "name": "stderr",
     "output_type": "stream",
     "text": [
      "C:\\Users\\barry\\Anaconda3\\lib\\site-packages\\tensorflow\\python\\keras\\engine\\training.py:1844: UserWarning: `Model.fit_generator` is deprecated and will be removed in a future version. Please use `Model.fit`, which supports generators.\n",
      "  warnings.warn('`Model.fit_generator` is deprecated and '\n"
     ]
    },
    {
     "name": "stdout",
     "output_type": "stream",
     "text": [
      "Epoch 1/10\n",
      "675/675 [==============================] - ETA: 0s - loss: 2.8335 - acc: 0.1945WARNING:tensorflow:Your input ran out of data; interrupting training. Make sure that your dataset or generator can generate at least `steps_per_epoch * epochs` batches (in this case, 675 batches). You may need to use the repeat() function when building your dataset.\n",
      "675/675 [==============================] - 289s 428ms/step - loss: 2.8335 - acc: 0.1945 - val_loss: 2.7938 - val_acc: 0.2021\n",
      "Epoch 2/10\n",
      "675/675 [==============================] - 243s 360ms/step - loss: 2.7733 - acc: 0.2070\n",
      "Epoch 3/10\n",
      "675/675 [==============================] - 251s 371ms/step - loss: 2.7058 - acc: 0.2239\n",
      "Epoch 4/10\n",
      "675/675 [==============================] - 266s 394ms/step - loss: 2.7554 - acc: 0.2136\n",
      "Epoch 5/10\n",
      "675/675 [==============================] - 247s 365ms/step - loss: 2.6579 - acc: 0.2380\n",
      "Epoch 6/10\n",
      "675/675 [==============================] - 245s 362ms/step - loss: 2.6413 - acc: 0.2436\n",
      "Epoch 7/10\n",
      "675/675 [==============================] - 247s 366ms/step - loss: 2.6234 - acc: 0.2480\n",
      "Epoch 8/10\n",
      "675/675 [==============================] - 252s 373ms/step - loss: 2.6216 - acc: 0.2498\n",
      "Epoch 9/10\n",
      "675/675 [==============================] - 251s 372ms/step - loss: 2.5743 - acc: 0.2638\n",
      "Epoch 10/10\n",
      "675/675 [==============================] - 279s 414ms/step - loss: 2.5452 - acc: 0.2695\n"
     ]
    }
   ],
   "source": [
    "history = model.fit_generator(generator = train_generator, epochs = 10, steps_per_epoch = len(X_train)//batch_size, validation_steps = len(X_train)//32, validation_data = val_generator)"
   ]
  },
  {
   "cell_type": "code",
   "execution_count": 41,
   "metadata": {},
   "outputs": [
    {
     "name": "stdout",
     "output_type": "stream",
     "text": [
      "188/188 [==============================] - 48s 256ms/step\n"
     ]
    }
   ],
   "source": [
    "y_pred_10 = model.predict(test_generator,verbose=1)\n",
    "y_pred_10 = np.argmax(y_pred_10, axis=1)"
   ]
  },
  {
   "cell_type": "markdown",
   "metadata": {},
   "source": [
    "Evaluation (F1-score) :"
   ]
  },
  {
   "cell_type": "code",
   "execution_count": 42,
   "metadata": {
    "scrolled": true
   },
   "outputs": [
    {
     "name": "stdout",
     "output_type": "stream",
     "text": [
      "[[  4   2  23   0   8   0  36   0   1   1  10  14   0   9   0  15   9   1\n",
      "    9   0  67   2   3   0   8   1   0]\n",
      " [  5   2  25   0  12   0  24   1   4   2  18   7   0   9   0   8   9   0\n",
      "    2   0  49   0   5   4   9   0   0]\n",
      " [  9   2  23   0  10   0  55   0   0   3  12  15   0  14   0   9  14   1\n",
      "    7   1  78   0   4   1  12   0   0]\n",
      " [  0   0   6   0   4   0   9   0   1   0   3   2   0   2   0   2   1   0\n",
      "    1   0  12   0   6   3   1   0   0]\n",
      " [  7   7  10   1  12   0  63   1   1   6  19  18   1  15   0  18  17   1\n",
      "   10   0 105   0  17   0   8   1   0]\n",
      " [  2   1   9   0   3   1  24   0   1   2   7   9   0  14   0   7  10   2\n",
      "    2   1  45   1   9   1   5   0   0]\n",
      " [  8   5  26   0  18   0  58   0   0   3  25  19   0  21   0  23  15   2\n",
      "    7   0  90   0  15  12   7   2   0]\n",
      " [  1   1   5   0   2   0   7   0   0   1   0   6   0   1   0   4   2   0\n",
      "    0   0  19   0   4   1   2   0   1]\n",
      " [  2   2  17   0  10   0  23   0   2   3   6  10   1   6   0  11  11   1\n",
      "    6   0  55   0   7   2   6   1   1]\n",
      " [  1   0  17   0  10   0  32   0   1   0  10  13   0  13   0  12  22   1\n",
      "    5   0  59   2   9   2   2   1   0]\n",
      " [  6   4  21   0  20   1  58   1   2   3  23  23   0  13   0  27  15   2\n",
      "   11   1 106   0  14   3   9   0   2]\n",
      " [  6   1  20   0  11   0  51   1   1   5  17  14   0  20   0  24  18   1\n",
      "    9   0  82   1  13   5   2   0   1]\n",
      " [  2   0   5   0   3   1   5   0   1   0   2   6   0   4   0   2   0   1\n",
      "    2   0  16   0   3   1   1   1   0]\n",
      " [  5   5  34   0  13   3  55   0   3   7  26  16   0  16   0  21  24   2\n",
      "    9   1  94   0  26   9   9   1   2]\n",
      " [  0   1   1   0   2   0   8   0   1   1   4   1   0   4   0   1   2   0\n",
      "    2   0  13   0   3   1   3   0   0]\n",
      " [ 10   1  22   0  12   2  52   0   2   0  30  17   1  11   0  23  19   2\n",
      "    6   0  83   1  10   7   5   0   0]\n",
      " [  4   7  28   0  19   0  60   2   1   3  21  22   0  10   0  22  14   2\n",
      "    1   0 115   3  13   8   7   1   0]\n",
      " [  3   2   8   0   2   0  16   0   2   0   7   9   0   8   0   6   5   0\n",
      "    1   0  29   0   7   0   6   0   0]\n",
      " [  7   4  32   0  16   0  56   2   2   4  22  12   0  17   0  21  12   5\n",
      "    4   0  96   2  14   9   8   1   1]\n",
      " [  7   3  21   0   7   0  34   0   1   2   9   9   0  11   0  11  10   1\n",
      "    8   0  54   0   3   4   5   0   0]\n",
      " [ 18   7  53   0  25   1 111   0   3  10  42  40   0  34   0  41  33   4\n",
      "   20   1 185   1  35  16  19   1   2]\n",
      " [  2   0  14   0   5   0  37   0   3   1  16   8   0  10   0  14   6   3\n",
      "    7   0  33   0   6   1   5   0   0]\n",
      " [  2   4  12   0   4   0  36   0   1   0  13  14   0  12   0  10  10   1\n",
      "    3   0  55   0   8   1   8   1   0]\n",
      " [  1   2   4   0   2   0   8   0   0   0   4   3   0   3   0   5   4   0\n",
      "    4   0  17   0   3   1   2   0   0]\n",
      " [  4   1  15   0   6   0  20   0   2   0  12   6   0   7   0  10  14   0\n",
      "    5   0  46   0   6   3   5   0   0]\n",
      " [  3   2   7   0   3   0  22   0   1   0  11   6   0   7   0   4   7   1\n",
      "    4   0  29   0   4   2   1   1   0]\n",
      " [  1   2   3   0   3   0   9   0   0   1   3   2   0   3   0   5   1   0\n",
      "    1   0  20   0   3   0   2   0   0]]\n"
     ]
    }
   ],
   "source": [
    "from sklearn.metrics import confusion_matrix\n",
    "print(confusion_matrix(test_generator.classes, y_pred_10))"
   ]
  },
  {
   "cell_type": "code",
   "execution_count": 43,
   "metadata": {},
   "outputs": [
    {
     "data": {
      "text/plain": [
       "0.04958041108929405"
      ]
     },
     "execution_count": 43,
     "metadata": {},
     "output_type": "execute_result"
    }
   ],
   "source": [
    "from sklearn.metrics import f1_score\n",
    "f1_score(test_generator.classes,y_pred_10, average = \"weighted\")"
   ]
  }
 ],
 "metadata": {
  "kernelspec": {
   "display_name": "Python 3",
   "language": "python",
   "name": "python3"
  },
  "language_info": {
   "codemirror_mode": {
    "name": "ipython",
    "version": 3
   },
   "file_extension": ".py",
   "mimetype": "text/x-python",
   "name": "python",
   "nbconvert_exporter": "python",
   "pygments_lexer": "ipython3",
   "version": "3.8.5"
  }
 },
 "nbformat": 4,
 "nbformat_minor": 4
}
