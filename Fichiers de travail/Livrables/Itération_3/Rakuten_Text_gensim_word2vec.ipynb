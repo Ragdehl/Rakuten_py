{
 "cells": [
  {
   "cell_type": "markdown",
   "id": "01bb6e66",
   "metadata": {},
   "source": [
    "Essais de text mining avec **gensim.Word2Vec**, résulat pas très probant (0.73 pour 20000 échantillons)\n"
   ]
  },
  {
   "cell_type": "code",
   "execution_count": 32,
   "id": "5159d6c4",
   "metadata": {},
   "outputs": [],
   "source": [
    "import matplotlib.pyplot as plt\n",
    "import seaborn as sns\n",
    "import pandas as pd\n",
    "import numpy as np\n",
    "import datetime\n",
    "import pickle\n",
    "import time\n",
    "import html\n",
    "import os\n",
    "import re\n",
    "\n",
    "import spacy\n",
    "import nltk\n",
    "from nltk.corpus import stopwords\n",
    "\n",
    "from tqdm import tqdm\n",
    "from sklearn.utils import shuffle\n",
    "from sklearn.model_selection import train_test_split\n",
    "\n",
    "from gensim.models import Word2Vec\n",
    "from gensim.models import doc2vec\n",
    "\n",
    "def X_text(X):\n",
    "    \"\"\"\n",
    "    A partir d'un dataframe X retourne une liste de textes (un par échantillon\n",
    "    du dataframe X)\n",
    "    \"\"\"\n",
    "    lst = []\n",
    "    for desc, desi in zip(X.description, X.designation):\n",
    "        descstr = desc if type(desc) == str else ''\n",
    "        desistr = desi if type(desi) == str else ''\n",
    "        sep = ' ' if type(desc) == str and type(desi) == str else ''\n",
    "        s = descstr + sep + desistr\n",
    "        #s = reclean.sub(' ', s)\n",
    "        #s = html.unescape(s)\n",
    "        #s = re.sub(r\"(\\<)\", \" \\1\",s)\n",
    "        #s = re.sub(r\"(\\>)\", \"\\1 \",s)\n",
    "        s = s.lower() + ' ' + re.sub(r\"([^A-Z0-9°\\+\\*\\=]+)\",\"\",s).lower()\n",
    "        lst.append(s)\n",
    "    return lst\n",
    "\n",
    "\n",
    "def read_X_y(nb=10000):\n",
    "    \"\"\"\n",
    "    Lecture d'un fichier de données (dataframe) X et petit nettoyage\n",
    "\n",
    "    \"\"\"\n",
    "    X = pd.read_csv(\"X_train_update.csv\")[:nb]\n",
    "    X = X.drop(\"Unnamed: 0\", axis=1)\n",
    "    X.designation = X.designation.astype('string')\n",
    "    X.description = X.description.astype('string')\n",
    "    y = pd.read_csv(\"Y_train_CVw08PX.csv\")[:nb]\n",
    "    y = y.drop(\"Unnamed: 0\", axis=1)[\"prdtypecode\"].astype(int)\n",
    "    return X, y\n"
   ]
  },
  {
   "cell_type": "code",
   "execution_count": 54,
   "id": "6fd44c3c",
   "metadata": {},
   "outputs": [
    {
     "name": "stdout",
     "output_type": "stream",
     "text": [
      "Weighted F1 score: 0.7293347182948642\n"
     ]
    }
   ],
   "source": [
    "def get_tagged(X, y):\n",
    "    return [doc2vec.TaggedDocument(words=x.split(), tags=[y]) for x, y in zip(X, y)]\n",
    "\n",
    "def get_infer_X_y(model, X):\n",
    "    return zip(*[(model.infer_vector(x.words, steps=20), x.tags[0]) for x in X])\n",
    "\n",
    "X, y = read_X_y(nb=20000)\n",
    "X = X_text(X)\n",
    "\n",
    "X_train, X_test, y_train, y_test = train_test_split(X, y, test_size=0.2, shuffle=True)\n",
    "\n",
    "train_tagged = get_tagged(X_train, y_train)\n",
    "test_tagged = get_tagged(X_test, y_test)\n",
    "\n",
    "model = doc2vec.Doc2Vec(vector_size=300, min_count=2, dm=0)\n",
    "model.build_vocab([x for x in train_tagged])\n",
    "model.train(train_tagged, total_examples=len(train_tagged), epochs=100)\n",
    "\n",
    "\n",
    "\n",
    "X_train, y_train = get_infer_X_y(model, train_tagged)\n",
    "X_test, y_test = get_infer_X_y(model, test_tagged)\n",
    "\n",
    "from sklearn.metrics import f1_score, classification_report\n",
    "from lightgbm import LGBMClassifier\n",
    "\n",
    "#def f1_score_w(y_true, y_pred, **kwargs):\n",
    "#    return round(f1_score(y_true, y_pred, average='weighted'),4)\n",
    "\n",
    "clf = LGBMClassifier(n_estimators=150, learning_rate=0.07,\n",
    "                     boosting_type='gbdt', class_weight='balanced')\n",
    "\n",
    "clf.fit(X_train, y_train)\n",
    "y_pred = clf.predict(X_test)\n",
    "print('Weighted F1 score: {}'.format(f1_score(y_test, y_pred, average='weighted')))\n",
    "\n",
    "# 20000\n",
    "# dm default, vec=200, epoch=50 => 0.53\n",
    "# dm=1 vec=200 epoch=1000 => 0.48\n",
    "# dm=0 vec=300  epoch=100, min_count=2 "
   ]
  }
 ],
 "metadata": {
  "kernelspec": {
   "display_name": "Python 3",
   "language": "python",
   "name": "python3"
  },
  "language_info": {
   "codemirror_mode": {
    "name": "ipython",
    "version": 3
   },
   "file_extension": ".py",
   "mimetype": "text/x-python",
   "name": "python",
   "nbconvert_exporter": "python",
   "pygments_lexer": "ipython3",
   "version": "3.7.10"
  }
 },
 "nbformat": 4,
 "nbformat_minor": 5
}
