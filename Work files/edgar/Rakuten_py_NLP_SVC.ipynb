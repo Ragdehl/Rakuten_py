{
 "cells": [
  {
   "cell_type": "markdown",
   "metadata": {},
   "source": [
    "# CHOIX HYPERPARAMETRES Light SVC"
   ]
  },
  {
   "cell_type": "markdown",
   "metadata": {},
   "source": [
    "LigthSVC est une modèle rapide et avec des tres bonnes performances.\n",
    "\n",
    "On va essayer de trouver les meilleurs hyperparamettres en faisant un GridSearchCV"
   ]
  },
  {
   "cell_type": "code",
   "execution_count": 1,
   "metadata": {},
   "outputs": [],
   "source": [
    "import pandas as pd"
   ]
  },
  {
   "cell_type": "markdown",
   "metadata": {},
   "source": [
    "Importer les données:"
   ]
  },
  {
   "cell_type": "code",
   "execution_count": 2,
   "metadata": {},
   "outputs": [],
   "source": [
    "df_X = pd.read_csv(r'C:\\Users\\Edgar\\Documents\\Rakuten\\X_train\\X_train_lemma-FR_stop_words-FR_no_num-FR_remove_accents-FR_no_special-FR_lemma-EN_stop_words-EN_stop_words-DE_lemma-DE_steem-FR_steem-EN_steem-DE.csv',index_col =0).squeeze()\n",
    "df_y = pd.read_csv(r'C:\\Users\\Edgar\\Documents\\Rakuten\\Y_train_CVw08PX.csv')"
   ]
  },
  {
   "cell_type": "markdown",
   "metadata": {},
   "source": [
    "Transformer les categories target en numeros de 0 à 26:"
   ]
  },
  {
   "cell_type": "code",
   "execution_count": 3,
   "metadata": {},
   "outputs": [
    {
     "data": {
      "text/plain": [
       "0         4\n",
       "1        25\n",
       "2        20\n",
       "3         0\n",
       "4         6\n",
       "         ..\n",
       "84911    17\n",
       "84912    10\n",
       "84913    25\n",
       "84914    11\n",
       "84915    23\n",
       "Name: prdtypecode, Length: 84916, dtype: int64"
      ]
     },
     "execution_count": 3,
     "metadata": {},
     "output_type": "execute_result"
    }
   ],
   "source": [
    "y = df_y.prdtypecode\n",
    "categories = list(set(y.to_list()))\n",
    "y_trans = y\n",
    "i = 0\n",
    "for category in categories:\n",
    "    y_trans = y_trans.replace(category,i)\n",
    "    i+=1\n",
    "\n",
    "y_trans"
   ]
  },
  {
   "cell_type": "markdown",
   "metadata": {},
   "source": [
    "Definition fonction qui calcule les nombre de mots uniques:"
   ]
  },
  {
   "cell_type": "code",
   "execution_count": 4,
   "metadata": {},
   "outputs": [],
   "source": [
    "def number_unique_words(text_series): #count unique words in Series\n",
    "    words = []\n",
    "    for sentence in text_series.str.split():\n",
    "        for word in sentence:\n",
    "            words.append(word)\n",
    "            \n",
    "    return len(list(set(words)))"
   ]
  },
  {
   "cell_type": "markdown",
   "metadata": {},
   "source": [
    "Separer les données en train et test:"
   ]
  },
  {
   "cell_type": "code",
   "execution_count": 5,
   "metadata": {},
   "outputs": [
    {
     "name": "stdout",
     "output_type": "stream",
     "text": [
      "Validation size is 67932 test size is 16984\n",
      "78147\n"
     ]
    }
   ],
   "source": [
    "# Importer la classe train_test \n",
    "from sklearn.model_selection import train_test_split\n",
    "\n",
    "# Séparer le jeu de données en données d'entraînement et données test \n",
    "X_train, X_test, y_train, y_test = train_test_split(df_X, y_trans, test_size=0.2)\n",
    "\n",
    "print('Validation size is',y_train.size ,'test size is', y_test.size)\n",
    "print(number_unique_words(X_train))"
   ]
  },
  {
   "cell_type": "markdown",
   "metadata": {},
   "source": [
    "Transformer les données en vecteurs:"
   ]
  },
  {
   "cell_type": "code",
   "execution_count": 6,
   "metadata": {},
   "outputs": [
    {
     "data": {
      "text/plain": [
       "(67932, 20936)"
      ]
     },
     "execution_count": 6,
     "metadata": {},
     "output_type": "execute_result"
    }
   ],
   "source": [
    "from sklearn.feature_extraction.text import TfidfVectorizer\n",
    "from nltk.tokenize import word_tokenize\n",
    "\n",
    "tfid = TfidfVectorizer(analyzer='word',\n",
    "                       tokenizer=word_tokenize,\n",
    "                       max_df=0.8,\n",
    "                       min_df=4,\n",
    "                       #ngram_range=(1,1),\n",
    "                       use_idf=True,\n",
    "                       smooth_idf=True,\n",
    "                       sublinear_tf=False,\n",
    "                       binary=True,\n",
    "                      )\n",
    "\n",
    "X_train_tf = tfid.fit_transform(X_train).todense()\n",
    "X_test_tf = tfid.transform(X_test).todense()\n",
    "\n",
    "X_train_tf.shape"
   ]
  },
  {
   "cell_type": "markdown",
   "metadata": {},
   "source": [
    "Creer la focntion pipeline qui va gérer la recherche d'hyperparamettres:"
   ]
  },
  {
   "cell_type": "code",
   "execution_count": 7,
   "metadata": {},
   "outputs": [],
   "source": [
    "from sklearn.model_selection import GridSearchCV\n",
    "\n",
    "#https://mlfromscratch.com/gridsearch-keras-sklearn/#/\n",
    "\n",
    "def algorithm_pipeline(X_train_data, X_test_data, y_train_data, y_test_data, \n",
    "                       model, param_grid, cv=3, scoring_fit='f1_weighted',\n",
    "                       do_probabilities = False):\n",
    "    gs = GridSearchCV(\n",
    "        estimator=model,\n",
    "        param_grid=param_grid, \n",
    "        cv=cv, \n",
    "       # n_jobs=-1, \n",
    "        scoring=scoring_fit,\n",
    "        verbose=3\n",
    "    )\n",
    "    fitted_model = gs.fit(X_train_data, y_train_data)\n",
    "    \n",
    "    if do_probabilities:\n",
    "        pred = fitted_model.predict_proba(X_test_data)\n",
    "    else:\n",
    "        pred = fitted_model.predict(X_test_data)\n",
    "    \n",
    "    return fitted_model, pred"
   ]
  },
  {
   "cell_type": "markdown",
   "metadata": {},
   "source": [
    "LAncer le modèle choisi avec tous les possibles paramettres:"
   ]
  },
  {
   "cell_type": "code",
   "execution_count": 8,
   "metadata": {},
   "outputs": [
    {
     "name": "stdout",
     "output_type": "stream",
     "text": [
      "Fitting 3 folds for each of 96 candidates, totalling 288 fits\n",
      "[CV] C=0.01, class_weight=balanced, dual=False, max_iter=50, multi_class=ovr \n"
     ]
    },
    {
     "name": "stderr",
     "output_type": "stream",
     "text": [
      "[Parallel(n_jobs=1)]: Using backend SequentialBackend with 1 concurrent workers.\n"
     ]
    },
    {
     "name": "stdout",
     "output_type": "stream",
     "text": [
      "[CV]  C=0.01, class_weight=balanced, dual=False, max_iter=50, multi_class=ovr, score=0.752, total= 2.6min\n"
     ]
    },
    {
     "name": "stderr",
     "output_type": "stream",
     "text": [
      "[Parallel(n_jobs=1)]: Done   1 out of   1 | elapsed:  2.6min remaining:    0.0s\n"
     ]
    },
    {
     "name": "stdout",
     "output_type": "stream",
     "text": [
      "[CV] C=0.01, class_weight=balanced, dual=False, max_iter=50, multi_class=ovr \n",
      "[CV]  C=0.01, class_weight=balanced, dual=False, max_iter=50, multi_class=ovr, score=0.751, total= 2.4min\n",
      "[CV] C=0.01, class_weight=balanced, dual=False, max_iter=50, multi_class=ovr \n"
     ]
    },
    {
     "name": "stderr",
     "output_type": "stream",
     "text": [
      "[Parallel(n_jobs=1)]: Done   2 out of   2 | elapsed:  5.0min remaining:    0.0s\n"
     ]
    },
    {
     "name": "stdout",
     "output_type": "stream",
     "text": [
      "[CV]  C=0.01, class_weight=balanced, dual=False, max_iter=50, multi_class=ovr, score=0.754, total= 2.4min\n",
      "[CV] C=0.01, class_weight=balanced, dual=False, max_iter=50, multi_class=crammer_singer \n"
     ]
    },
    {
     "name": "stderr",
     "output_type": "stream",
     "text": [
      "C:\\Users\\Edgar\\anaconda3\\lib\\site-packages\\sklearn\\svm\\_base.py:976: ConvergenceWarning: Liblinear failed to converge, increase the number of iterations.\n",
      "  warnings.warn(\"Liblinear failed to converge, increase \"\n"
     ]
    },
    {
     "name": "stdout",
     "output_type": "stream",
     "text": [
      "[CV]  C=0.01, class_weight=balanced, dual=False, max_iter=50, multi_class=crammer_singer, score=0.714, total= 2.3min\n",
      "[CV] C=0.01, class_weight=balanced, dual=False, max_iter=50, multi_class=crammer_singer \n"
     ]
    },
    {
     "name": "stderr",
     "output_type": "stream",
     "text": [
      "C:\\Users\\Edgar\\anaconda3\\lib\\site-packages\\sklearn\\svm\\_base.py:976: ConvergenceWarning: Liblinear failed to converge, increase the number of iterations.\n",
      "  warnings.warn(\"Liblinear failed to converge, increase \"\n"
     ]
    },
    {
     "name": "stdout",
     "output_type": "stream",
     "text": [
      "[CV]  C=0.01, class_weight=balanced, dual=False, max_iter=50, multi_class=crammer_singer, score=0.714, total= 2.3min\n",
      "[CV] C=0.01, class_weight=balanced, dual=False, max_iter=50, multi_class=crammer_singer \n"
     ]
    },
    {
     "name": "stderr",
     "output_type": "stream",
     "text": [
      "C:\\Users\\Edgar\\anaconda3\\lib\\site-packages\\sklearn\\svm\\_base.py:976: ConvergenceWarning: Liblinear failed to converge, increase the number of iterations.\n",
      "  warnings.warn(\"Liblinear failed to converge, increase \"\n"
     ]
    },
    {
     "name": "stdout",
     "output_type": "stream",
     "text": [
      "[CV]  C=0.01, class_weight=balanced, dual=False, max_iter=50, multi_class=crammer_singer, score=0.719, total= 2.4min\n",
      "[CV] C=0.01, class_weight=balanced, dual=False, max_iter=100, multi_class=ovr \n",
      "[CV]  C=0.01, class_weight=balanced, dual=False, max_iter=100, multi_class=ovr, score=0.752, total= 2.4min\n",
      "[CV] C=0.01, class_weight=balanced, dual=False, max_iter=100, multi_class=ovr \n",
      "[CV]  C=0.01, class_weight=balanced, dual=False, max_iter=100, multi_class=ovr, score=0.751, total= 2.4min\n",
      "[CV] C=0.01, class_weight=balanced, dual=False, max_iter=100, multi_class=ovr \n",
      "[CV]  C=0.01, class_weight=balanced, dual=False, max_iter=100, multi_class=ovr, score=0.754, total= 2.4min\n",
      "[CV] C=0.01, class_weight=balanced, dual=False, max_iter=100, multi_class=crammer_singer \n"
     ]
    },
    {
     "name": "stderr",
     "output_type": "stream",
     "text": [
      "C:\\Users\\Edgar\\anaconda3\\lib\\site-packages\\sklearn\\svm\\_base.py:976: ConvergenceWarning: Liblinear failed to converge, increase the number of iterations.\n",
      "  warnings.warn(\"Liblinear failed to converge, increase \"\n"
     ]
    },
    {
     "name": "stdout",
     "output_type": "stream",
     "text": [
      "[CV]  C=0.01, class_weight=balanced, dual=False, max_iter=100, multi_class=crammer_singer, score=0.714, total= 2.3min\n",
      "[CV] C=0.01, class_weight=balanced, dual=False, max_iter=100, multi_class=crammer_singer \n"
     ]
    },
    {
     "name": "stderr",
     "output_type": "stream",
     "text": [
      "C:\\Users\\Edgar\\anaconda3\\lib\\site-packages\\sklearn\\svm\\_base.py:976: ConvergenceWarning: Liblinear failed to converge, increase the number of iterations.\n",
      "  warnings.warn(\"Liblinear failed to converge, increase \"\n"
     ]
    },
    {
     "name": "stdout",
     "output_type": "stream",
     "text": [
      "[CV]  C=0.01, class_weight=balanced, dual=False, max_iter=100, multi_class=crammer_singer, score=0.714, total= 2.4min\n",
      "[CV] C=0.01, class_weight=balanced, dual=False, max_iter=100, multi_class=crammer_singer \n"
     ]
    },
    {
     "name": "stderr",
     "output_type": "stream",
     "text": [
      "C:\\Users\\Edgar\\anaconda3\\lib\\site-packages\\sklearn\\svm\\_base.py:976: ConvergenceWarning: Liblinear failed to converge, increase the number of iterations.\n",
      "  warnings.warn(\"Liblinear failed to converge, increase \"\n"
     ]
    },
    {
     "name": "stdout",
     "output_type": "stream",
     "text": [
      "[CV]  C=0.01, class_weight=balanced, dual=False, max_iter=100, multi_class=crammer_singer, score=0.719, total= 2.4min\n",
      "[CV] C=0.01, class_weight=balanced, dual=False, max_iter=500, multi_class=ovr \n",
      "[CV]  C=0.01, class_weight=balanced, dual=False, max_iter=500, multi_class=ovr, score=0.752, total= 2.4min\n",
      "[CV] C=0.01, class_weight=balanced, dual=False, max_iter=500, multi_class=ovr \n",
      "[CV]  C=0.01, class_weight=balanced, dual=False, max_iter=500, multi_class=ovr, score=0.751, total= 2.5min\n",
      "[CV] C=0.01, class_weight=balanced, dual=False, max_iter=500, multi_class=ovr \n",
      "[CV]  C=0.01, class_weight=balanced, dual=False, max_iter=500, multi_class=ovr, score=0.754, total= 2.4min\n",
      "[CV] C=0.01, class_weight=balanced, dual=False, max_iter=500, multi_class=crammer_singer \n"
     ]
    },
    {
     "name": "stderr",
     "output_type": "stream",
     "text": [
      "C:\\Users\\Edgar\\anaconda3\\lib\\site-packages\\sklearn\\svm\\_base.py:976: ConvergenceWarning: Liblinear failed to converge, increase the number of iterations.\n",
      "  warnings.warn(\"Liblinear failed to converge, increase \"\n"
     ]
    },
    {
     "name": "stdout",
     "output_type": "stream",
     "text": [
      "[CV]  C=0.01, class_weight=balanced, dual=False, max_iter=500, multi_class=crammer_singer, score=0.714, total= 2.3min\n",
      "[CV] C=0.01, class_weight=balanced, dual=False, max_iter=500, multi_class=crammer_singer \n"
     ]
    },
    {
     "name": "stderr",
     "output_type": "stream",
     "text": [
      "C:\\Users\\Edgar\\anaconda3\\lib\\site-packages\\sklearn\\svm\\_base.py:976: ConvergenceWarning: Liblinear failed to converge, increase the number of iterations.\n",
      "  warnings.warn(\"Liblinear failed to converge, increase \"\n"
     ]
    },
    {
     "name": "stdout",
     "output_type": "stream",
     "text": [
      "[CV]  C=0.01, class_weight=balanced, dual=False, max_iter=500, multi_class=crammer_singer, score=0.714, total= 2.4min\n",
      "[CV] C=0.01, class_weight=balanced, dual=False, max_iter=500, multi_class=crammer_singer \n"
     ]
    },
    {
     "name": "stderr",
     "output_type": "stream",
     "text": [
      "C:\\Users\\Edgar\\anaconda3\\lib\\site-packages\\sklearn\\svm\\_base.py:976: ConvergenceWarning: Liblinear failed to converge, increase the number of iterations.\n",
      "  warnings.warn(\"Liblinear failed to converge, increase \"\n"
     ]
    },
    {
     "name": "stdout",
     "output_type": "stream",
     "text": [
      "[CV]  C=0.01, class_weight=balanced, dual=False, max_iter=500, multi_class=crammer_singer, score=0.719, total= 2.4min\n",
      "[CV] C=0.01, class_weight=balanced, dual=False, max_iter=1000, multi_class=ovr \n",
      "[CV]  C=0.01, class_weight=balanced, dual=False, max_iter=1000, multi_class=ovr, score=0.752, total= 2.4min\n",
      "[CV] C=0.01, class_weight=balanced, dual=False, max_iter=1000, multi_class=ovr \n",
      "[CV]  C=0.01, class_weight=balanced, dual=False, max_iter=1000, multi_class=ovr, score=0.751, total= 2.5min\n",
      "[CV] C=0.01, class_weight=balanced, dual=False, max_iter=1000, multi_class=ovr \n",
      "[CV]  C=0.01, class_weight=balanced, dual=False, max_iter=1000, multi_class=ovr, score=0.754, total= 2.4min\n",
      "[CV] C=0.01, class_weight=balanced, dual=False, max_iter=1000, multi_class=crammer_singer \n"
     ]
    },
    {
     "name": "stderr",
     "output_type": "stream",
     "text": [
      "C:\\Users\\Edgar\\anaconda3\\lib\\site-packages\\sklearn\\svm\\_base.py:976: ConvergenceWarning: Liblinear failed to converge, increase the number of iterations.\n",
      "  warnings.warn(\"Liblinear failed to converge, increase \"\n"
     ]
    },
    {
     "name": "stdout",
     "output_type": "stream",
     "text": [
      "[CV]  C=0.01, class_weight=balanced, dual=False, max_iter=1000, multi_class=crammer_singer, score=0.714, total= 2.4min\n",
      "[CV] C=0.01, class_weight=balanced, dual=False, max_iter=1000, multi_class=crammer_singer \n"
     ]
    },
    {
     "name": "stderr",
     "output_type": "stream",
     "text": [
      "C:\\Users\\Edgar\\anaconda3\\lib\\site-packages\\sklearn\\svm\\_base.py:976: ConvergenceWarning: Liblinear failed to converge, increase the number of iterations.\n",
      "  warnings.warn(\"Liblinear failed to converge, increase \"\n"
     ]
    },
    {
     "name": "stdout",
     "output_type": "stream",
     "text": [
      "[CV]  C=0.01, class_weight=balanced, dual=False, max_iter=1000, multi_class=crammer_singer, score=0.714, total= 2.4min\n",
      "[CV] C=0.01, class_weight=balanced, dual=False, max_iter=1000, multi_class=crammer_singer \n"
     ]
    },
    {
     "name": "stderr",
     "output_type": "stream",
     "text": [
      "C:\\Users\\Edgar\\anaconda3\\lib\\site-packages\\sklearn\\svm\\_base.py:976: ConvergenceWarning: Liblinear failed to converge, increase the number of iterations.\n",
      "  warnings.warn(\"Liblinear failed to converge, increase \"\n"
     ]
    },
    {
     "name": "stdout",
     "output_type": "stream",
     "text": [
      "[CV]  C=0.01, class_weight=balanced, dual=False, max_iter=1000, multi_class=crammer_singer, score=0.719, total= 2.4min\n",
      "[CV] C=0.01, class_weight=balanced, dual=True, max_iter=50, multi_class=ovr \n",
      "[CV]  C=0.01, class_weight=balanced, dual=True, max_iter=50, multi_class=ovr, score=0.752, total= 2.5min\n",
      "[CV] C=0.01, class_weight=balanced, dual=True, max_iter=50, multi_class=ovr \n",
      "[CV]  C=0.01, class_weight=balanced, dual=True, max_iter=50, multi_class=ovr, score=0.751, total= 2.4min\n",
      "[CV] C=0.01, class_weight=balanced, dual=True, max_iter=50, multi_class=ovr \n",
      "[CV]  C=0.01, class_weight=balanced, dual=True, max_iter=50, multi_class=ovr, score=0.754, total= 2.4min\n",
      "[CV] C=0.01, class_weight=balanced, dual=True, max_iter=50, multi_class=crammer_singer \n"
     ]
    },
    {
     "name": "stderr",
     "output_type": "stream",
     "text": [
      "C:\\Users\\Edgar\\anaconda3\\lib\\site-packages\\sklearn\\svm\\_base.py:976: ConvergenceWarning: Liblinear failed to converge, increase the number of iterations.\n",
      "  warnings.warn(\"Liblinear failed to converge, increase \"\n"
     ]
    },
    {
     "name": "stdout",
     "output_type": "stream",
     "text": [
      "[CV]  C=0.01, class_weight=balanced, dual=True, max_iter=50, multi_class=crammer_singer, score=0.714, total= 2.3min\n",
      "[CV] C=0.01, class_weight=balanced, dual=True, max_iter=50, multi_class=crammer_singer \n"
     ]
    },
    {
     "name": "stderr",
     "output_type": "stream",
     "text": [
      "C:\\Users\\Edgar\\anaconda3\\lib\\site-packages\\sklearn\\svm\\_base.py:976: ConvergenceWarning: Liblinear failed to converge, increase the number of iterations.\n",
      "  warnings.warn(\"Liblinear failed to converge, increase \"\n"
     ]
    },
    {
     "name": "stdout",
     "output_type": "stream",
     "text": [
      "[CV]  C=0.01, class_weight=balanced, dual=True, max_iter=50, multi_class=crammer_singer, score=0.714, total= 2.5min\n",
      "[CV] C=0.01, class_weight=balanced, dual=True, max_iter=50, multi_class=crammer_singer \n"
     ]
    },
    {
     "name": "stderr",
     "output_type": "stream",
     "text": [
      "C:\\Users\\Edgar\\anaconda3\\lib\\site-packages\\sklearn\\svm\\_base.py:976: ConvergenceWarning: Liblinear failed to converge, increase the number of iterations.\n",
      "  warnings.warn(\"Liblinear failed to converge, increase \"\n"
     ]
    },
    {
     "name": "stdout",
     "output_type": "stream",
     "text": [
      "[CV]  C=0.01, class_weight=balanced, dual=True, max_iter=50, multi_class=crammer_singer, score=0.719, total= 2.3min\n",
      "[CV] C=0.01, class_weight=balanced, dual=True, max_iter=100, multi_class=ovr \n",
      "[CV]  C=0.01, class_weight=balanced, dual=True, max_iter=100, multi_class=ovr, score=0.752, total= 2.3min\n",
      "[CV] C=0.01, class_weight=balanced, dual=True, max_iter=100, multi_class=ovr \n",
      "[CV]  C=0.01, class_weight=balanced, dual=True, max_iter=100, multi_class=ovr, score=0.751, total= 2.3min\n",
      "[CV] C=0.01, class_weight=balanced, dual=True, max_iter=100, multi_class=ovr \n",
      "[CV]  C=0.01, class_weight=balanced, dual=True, max_iter=100, multi_class=ovr, score=0.754, total= 2.3min\n",
      "[CV] C=0.01, class_weight=balanced, dual=True, max_iter=100, multi_class=crammer_singer \n"
     ]
    },
    {
     "name": "stderr",
     "output_type": "stream",
     "text": [
      "C:\\Users\\Edgar\\anaconda3\\lib\\site-packages\\sklearn\\svm\\_base.py:976: ConvergenceWarning: Liblinear failed to converge, increase the number of iterations.\n",
      "  warnings.warn(\"Liblinear failed to converge, increase \"\n"
     ]
    },
    {
     "name": "stdout",
     "output_type": "stream",
     "text": [
      "[CV]  C=0.01, class_weight=balanced, dual=True, max_iter=100, multi_class=crammer_singer, score=0.714, total= 2.3min\n",
      "[CV] C=0.01, class_weight=balanced, dual=True, max_iter=100, multi_class=crammer_singer \n"
     ]
    },
    {
     "name": "stderr",
     "output_type": "stream",
     "text": [
      "C:\\Users\\Edgar\\anaconda3\\lib\\site-packages\\sklearn\\svm\\_base.py:976: ConvergenceWarning: Liblinear failed to converge, increase the number of iterations.\n",
      "  warnings.warn(\"Liblinear failed to converge, increase \"\n"
     ]
    },
    {
     "name": "stdout",
     "output_type": "stream",
     "text": [
      "[CV]  C=0.01, class_weight=balanced, dual=True, max_iter=100, multi_class=crammer_singer, score=0.714, total= 2.3min\n",
      "[CV] C=0.01, class_weight=balanced, dual=True, max_iter=100, multi_class=crammer_singer \n"
     ]
    },
    {
     "name": "stderr",
     "output_type": "stream",
     "text": [
      "C:\\Users\\Edgar\\anaconda3\\lib\\site-packages\\sklearn\\svm\\_base.py:976: ConvergenceWarning: Liblinear failed to converge, increase the number of iterations.\n",
      "  warnings.warn(\"Liblinear failed to converge, increase \"\n"
     ]
    },
    {
     "name": "stdout",
     "output_type": "stream",
     "text": [
      "[CV]  C=0.01, class_weight=balanced, dual=True, max_iter=100, multi_class=crammer_singer, score=0.719, total= 2.8min\n",
      "[CV] C=0.01, class_weight=balanced, dual=True, max_iter=500, multi_class=ovr \n",
      "[CV]  C=0.01, class_weight=balanced, dual=True, max_iter=500, multi_class=ovr, score=0.752, total= 2.3min\n",
      "[CV] C=0.01, class_weight=balanced, dual=True, max_iter=500, multi_class=ovr \n",
      "[CV]  C=0.01, class_weight=balanced, dual=True, max_iter=500, multi_class=ovr, score=0.751, total= 2.3min\n",
      "[CV] C=0.01, class_weight=balanced, dual=True, max_iter=500, multi_class=ovr \n",
      "[CV]  C=0.01, class_weight=balanced, dual=True, max_iter=500, multi_class=ovr, score=0.754, total= 2.3min\n",
      "[CV] C=0.01, class_weight=balanced, dual=True, max_iter=500, multi_class=crammer_singer \n"
     ]
    },
    {
     "name": "stderr",
     "output_type": "stream",
     "text": [
      "C:\\Users\\Edgar\\anaconda3\\lib\\site-packages\\sklearn\\svm\\_base.py:976: ConvergenceWarning: Liblinear failed to converge, increase the number of iterations.\n",
      "  warnings.warn(\"Liblinear failed to converge, increase \"\n"
     ]
    },
    {
     "name": "stdout",
     "output_type": "stream",
     "text": [
      "[CV]  C=0.01, class_weight=balanced, dual=True, max_iter=500, multi_class=crammer_singer, score=0.714, total= 2.3min\n",
      "[CV] C=0.01, class_weight=balanced, dual=True, max_iter=500, multi_class=crammer_singer \n"
     ]
    },
    {
     "name": "stderr",
     "output_type": "stream",
     "text": [
      "C:\\Users\\Edgar\\anaconda3\\lib\\site-packages\\sklearn\\svm\\_base.py:976: ConvergenceWarning: Liblinear failed to converge, increase the number of iterations.\n",
      "  warnings.warn(\"Liblinear failed to converge, increase \"\n"
     ]
    },
    {
     "name": "stdout",
     "output_type": "stream",
     "text": [
      "[CV]  C=0.01, class_weight=balanced, dual=True, max_iter=500, multi_class=crammer_singer, score=0.714, total= 2.4min\n",
      "[CV] C=0.01, class_weight=balanced, dual=True, max_iter=500, multi_class=crammer_singer \n"
     ]
    },
    {
     "name": "stderr",
     "output_type": "stream",
     "text": [
      "C:\\Users\\Edgar\\anaconda3\\lib\\site-packages\\sklearn\\svm\\_base.py:976: ConvergenceWarning: Liblinear failed to converge, increase the number of iterations.\n",
      "  warnings.warn(\"Liblinear failed to converge, increase \"\n"
     ]
    },
    {
     "name": "stdout",
     "output_type": "stream",
     "text": [
      "[CV]  C=0.01, class_weight=balanced, dual=True, max_iter=500, multi_class=crammer_singer, score=0.719, total= 3.2min\n",
      "[CV] C=0.01, class_weight=balanced, dual=True, max_iter=1000, multi_class=ovr \n",
      "[CV]  C=0.01, class_weight=balanced, dual=True, max_iter=1000, multi_class=ovr, score=0.752, total= 2.4min\n",
      "[CV] C=0.01, class_weight=balanced, dual=True, max_iter=1000, multi_class=ovr \n",
      "[CV]  C=0.01, class_weight=balanced, dual=True, max_iter=1000, multi_class=ovr, score=0.751, total= 2.3min\n",
      "[CV] C=0.01, class_weight=balanced, dual=True, max_iter=1000, multi_class=ovr \n",
      "[CV]  C=0.01, class_weight=balanced, dual=True, max_iter=1000, multi_class=ovr, score=0.754, total= 2.3min\n",
      "[CV] C=0.01, class_weight=balanced, dual=True, max_iter=1000, multi_class=crammer_singer \n"
     ]
    },
    {
     "name": "stderr",
     "output_type": "stream",
     "text": [
      "C:\\Users\\Edgar\\anaconda3\\lib\\site-packages\\sklearn\\svm\\_base.py:976: ConvergenceWarning: Liblinear failed to converge, increase the number of iterations.\n",
      "  warnings.warn(\"Liblinear failed to converge, increase \"\n"
     ]
    },
    {
     "name": "stdout",
     "output_type": "stream",
     "text": [
      "[CV]  C=0.01, class_weight=balanced, dual=True, max_iter=1000, multi_class=crammer_singer, score=0.714, total= 2.4min\n",
      "[CV] C=0.01, class_weight=balanced, dual=True, max_iter=1000, multi_class=crammer_singer \n"
     ]
    },
    {
     "name": "stderr",
     "output_type": "stream",
     "text": [
      "C:\\Users\\Edgar\\anaconda3\\lib\\site-packages\\sklearn\\svm\\_base.py:976: ConvergenceWarning: Liblinear failed to converge, increase the number of iterations.\n",
      "  warnings.warn(\"Liblinear failed to converge, increase \"\n"
     ]
    },
    {
     "name": "stdout",
     "output_type": "stream",
     "text": [
      "[CV]  C=0.01, class_weight=balanced, dual=True, max_iter=1000, multi_class=crammer_singer, score=0.714, total= 2.4min\n",
      "[CV] C=0.01, class_weight=balanced, dual=True, max_iter=1000, multi_class=crammer_singer \n"
     ]
    },
    {
     "name": "stderr",
     "output_type": "stream",
     "text": [
      "C:\\Users\\Edgar\\anaconda3\\lib\\site-packages\\sklearn\\svm\\_base.py:976: ConvergenceWarning: Liblinear failed to converge, increase the number of iterations.\n",
      "  warnings.warn(\"Liblinear failed to converge, increase \"\n"
     ]
    },
    {
     "name": "stdout",
     "output_type": "stream",
     "text": [
      "[CV]  C=0.01, class_weight=balanced, dual=True, max_iter=1000, multi_class=crammer_singer, score=0.719, total= 2.5min\n",
      "[CV] C=0.01, class_weight=None, dual=False, max_iter=50, multi_class=ovr \n",
      "[CV]  C=0.01, class_weight=None, dual=False, max_iter=50, multi_class=ovr, score=0.732, total= 2.3min\n",
      "[CV] C=0.01, class_weight=None, dual=False, max_iter=50, multi_class=ovr \n",
      "[CV]  C=0.01, class_weight=None, dual=False, max_iter=50, multi_class=ovr, score=0.727, total= 2.4min\n",
      "[CV] C=0.01, class_weight=None, dual=False, max_iter=50, multi_class=ovr \n",
      "[CV]  C=0.01, class_weight=None, dual=False, max_iter=50, multi_class=ovr, score=0.732, total= 2.5min\n",
      "[CV] C=0.01, class_weight=None, dual=False, max_iter=50, multi_class=crammer_singer \n"
     ]
    },
    {
     "name": "stderr",
     "output_type": "stream",
     "text": [
      "C:\\Users\\Edgar\\anaconda3\\lib\\site-packages\\sklearn\\svm\\_base.py:976: ConvergenceWarning: Liblinear failed to converge, increase the number of iterations.\n",
      "  warnings.warn(\"Liblinear failed to converge, increase \"\n"
     ]
    },
    {
     "name": "stdout",
     "output_type": "stream",
     "text": [
      "[CV]  C=0.01, class_weight=None, dual=False, max_iter=50, multi_class=crammer_singer, score=0.707, total= 2.4min\n",
      "[CV] C=0.01, class_weight=None, dual=False, max_iter=50, multi_class=crammer_singer \n"
     ]
    },
    {
     "name": "stderr",
     "output_type": "stream",
     "text": [
      "C:\\Users\\Edgar\\anaconda3\\lib\\site-packages\\sklearn\\svm\\_base.py:976: ConvergenceWarning: Liblinear failed to converge, increase the number of iterations.\n",
      "  warnings.warn(\"Liblinear failed to converge, increase \"\n"
     ]
    },
    {
     "name": "stdout",
     "output_type": "stream",
     "text": [
      "[CV]  C=0.01, class_weight=None, dual=False, max_iter=50, multi_class=crammer_singer, score=0.703, total= 2.4min\n",
      "[CV] C=0.01, class_weight=None, dual=False, max_iter=50, multi_class=crammer_singer \n"
     ]
    },
    {
     "name": "stderr",
     "output_type": "stream",
     "text": [
      "C:\\Users\\Edgar\\anaconda3\\lib\\site-packages\\sklearn\\svm\\_base.py:976: ConvergenceWarning: Liblinear failed to converge, increase the number of iterations.\n",
      "  warnings.warn(\"Liblinear failed to converge, increase \"\n"
     ]
    },
    {
     "name": "stdout",
     "output_type": "stream",
     "text": [
      "[CV]  C=0.01, class_weight=None, dual=False, max_iter=50, multi_class=crammer_singer, score=0.709, total= 2.5min\n",
      "[CV] C=0.01, class_weight=None, dual=False, max_iter=100, multi_class=ovr \n",
      "[CV]  C=0.01, class_weight=None, dual=False, max_iter=100, multi_class=ovr, score=0.732, total= 2.5min\n",
      "[CV] C=0.01, class_weight=None, dual=False, max_iter=100, multi_class=ovr \n",
      "[CV]  C=0.01, class_weight=None, dual=False, max_iter=100, multi_class=ovr, score=0.727, total= 2.5min\n",
      "[CV] C=0.01, class_weight=None, dual=False, max_iter=100, multi_class=ovr \n",
      "[CV]  C=0.01, class_weight=None, dual=False, max_iter=100, multi_class=ovr, score=0.732, total= 2.5min\n",
      "[CV] C=0.01, class_weight=None, dual=False, max_iter=100, multi_class=crammer_singer \n"
     ]
    },
    {
     "name": "stderr",
     "output_type": "stream",
     "text": [
      "C:\\Users\\Edgar\\anaconda3\\lib\\site-packages\\sklearn\\svm\\_base.py:976: ConvergenceWarning: Liblinear failed to converge, increase the number of iterations.\n",
      "  warnings.warn(\"Liblinear failed to converge, increase \"\n"
     ]
    },
    {
     "name": "stdout",
     "output_type": "stream",
     "text": [
      "[CV]  C=0.01, class_weight=None, dual=False, max_iter=100, multi_class=crammer_singer, score=0.707, total= 2.2min\n",
      "[CV] C=0.01, class_weight=None, dual=False, max_iter=100, multi_class=crammer_singer \n"
     ]
    },
    {
     "name": "stderr",
     "output_type": "stream",
     "text": [
      "C:\\Users\\Edgar\\anaconda3\\lib\\site-packages\\sklearn\\svm\\_base.py:976: ConvergenceWarning: Liblinear failed to converge, increase the number of iterations.\n",
      "  warnings.warn(\"Liblinear failed to converge, increase \"\n"
     ]
    },
    {
     "name": "stdout",
     "output_type": "stream",
     "text": [
      "[CV]  C=0.01, class_weight=None, dual=False, max_iter=100, multi_class=crammer_singer, score=0.703, total= 2.3min\n",
      "[CV] C=0.01, class_weight=None, dual=False, max_iter=100, multi_class=crammer_singer \n"
     ]
    },
    {
     "name": "stderr",
     "output_type": "stream",
     "text": [
      "C:\\Users\\Edgar\\anaconda3\\lib\\site-packages\\sklearn\\svm\\_base.py:976: ConvergenceWarning: Liblinear failed to converge, increase the number of iterations.\n",
      "  warnings.warn(\"Liblinear failed to converge, increase \"\n"
     ]
    },
    {
     "name": "stdout",
     "output_type": "stream",
     "text": [
      "[CV]  C=0.01, class_weight=None, dual=False, max_iter=100, multi_class=crammer_singer, score=0.709, total= 2.4min\n",
      "[CV] C=0.01, class_weight=None, dual=False, max_iter=500, multi_class=ovr \n",
      "[CV]  C=0.01, class_weight=None, dual=False, max_iter=500, multi_class=ovr, score=0.732, total= 2.4min\n",
      "[CV] C=0.01, class_weight=None, dual=False, max_iter=500, multi_class=ovr \n",
      "[CV]  C=0.01, class_weight=None, dual=False, max_iter=500, multi_class=ovr, score=0.727, total= 2.4min\n",
      "[CV] C=0.01, class_weight=None, dual=False, max_iter=500, multi_class=ovr \n",
      "[CV]  C=0.01, class_weight=None, dual=False, max_iter=500, multi_class=ovr, score=0.732, total= 2.5min\n",
      "[CV] C=0.01, class_weight=None, dual=False, max_iter=500, multi_class=crammer_singer \n"
     ]
    },
    {
     "name": "stderr",
     "output_type": "stream",
     "text": [
      "C:\\Users\\Edgar\\anaconda3\\lib\\site-packages\\sklearn\\svm\\_base.py:976: ConvergenceWarning: Liblinear failed to converge, increase the number of iterations.\n",
      "  warnings.warn(\"Liblinear failed to converge, increase \"\n"
     ]
    },
    {
     "name": "stdout",
     "output_type": "stream",
     "text": [
      "[CV]  C=0.01, class_weight=None, dual=False, max_iter=500, multi_class=crammer_singer, score=0.707, total= 2.3min\n",
      "[CV] C=0.01, class_weight=None, dual=False, max_iter=500, multi_class=crammer_singer \n"
     ]
    },
    {
     "name": "stderr",
     "output_type": "stream",
     "text": [
      "C:\\Users\\Edgar\\anaconda3\\lib\\site-packages\\sklearn\\svm\\_base.py:976: ConvergenceWarning: Liblinear failed to converge, increase the number of iterations.\n",
      "  warnings.warn(\"Liblinear failed to converge, increase \"\n"
     ]
    },
    {
     "name": "stdout",
     "output_type": "stream",
     "text": [
      "[CV]  C=0.01, class_weight=None, dual=False, max_iter=500, multi_class=crammer_singer, score=0.703, total= 2.3min\n",
      "[CV] C=0.01, class_weight=None, dual=False, max_iter=500, multi_class=crammer_singer \n"
     ]
    },
    {
     "name": "stderr",
     "output_type": "stream",
     "text": [
      "C:\\Users\\Edgar\\anaconda3\\lib\\site-packages\\sklearn\\svm\\_base.py:976: ConvergenceWarning: Liblinear failed to converge, increase the number of iterations.\n",
      "  warnings.warn(\"Liblinear failed to converge, increase \"\n"
     ]
    },
    {
     "name": "stdout",
     "output_type": "stream",
     "text": [
      "[CV]  C=0.01, class_weight=None, dual=False, max_iter=500, multi_class=crammer_singer, score=0.709, total= 2.3min\n",
      "[CV] C=0.01, class_weight=None, dual=False, max_iter=1000, multi_class=ovr \n",
      "[CV]  C=0.01, class_weight=None, dual=False, max_iter=1000, multi_class=ovr, score=0.732, total= 2.8min\n",
      "[CV] C=0.01, class_weight=None, dual=False, max_iter=1000, multi_class=ovr \n",
      "[CV]  C=0.01, class_weight=None, dual=False, max_iter=1000, multi_class=ovr, score=0.727, total= 2.5min\n",
      "[CV] C=0.01, class_weight=None, dual=False, max_iter=1000, multi_class=ovr \n",
      "[CV]  C=0.01, class_weight=None, dual=False, max_iter=1000, multi_class=ovr, score=0.732, total= 2.4min\n",
      "[CV] C=0.01, class_weight=None, dual=False, max_iter=1000, multi_class=crammer_singer \n"
     ]
    },
    {
     "name": "stderr",
     "output_type": "stream",
     "text": [
      "C:\\Users\\Edgar\\anaconda3\\lib\\site-packages\\sklearn\\svm\\_base.py:976: ConvergenceWarning: Liblinear failed to converge, increase the number of iterations.\n",
      "  warnings.warn(\"Liblinear failed to converge, increase \"\n"
     ]
    },
    {
     "name": "stdout",
     "output_type": "stream",
     "text": [
      "[CV]  C=0.01, class_weight=None, dual=False, max_iter=1000, multi_class=crammer_singer, score=0.707, total= 2.3min\n",
      "[CV] C=0.01, class_weight=None, dual=False, max_iter=1000, multi_class=crammer_singer \n"
     ]
    },
    {
     "name": "stderr",
     "output_type": "stream",
     "text": [
      "C:\\Users\\Edgar\\anaconda3\\lib\\site-packages\\sklearn\\svm\\_base.py:976: ConvergenceWarning: Liblinear failed to converge, increase the number of iterations.\n",
      "  warnings.warn(\"Liblinear failed to converge, increase \"\n"
     ]
    },
    {
     "name": "stdout",
     "output_type": "stream",
     "text": [
      "[CV]  C=0.01, class_weight=None, dual=False, max_iter=1000, multi_class=crammer_singer, score=0.703, total= 2.5min\n",
      "[CV] C=0.01, class_weight=None, dual=False, max_iter=1000, multi_class=crammer_singer \n"
     ]
    },
    {
     "name": "stderr",
     "output_type": "stream",
     "text": [
      "C:\\Users\\Edgar\\anaconda3\\lib\\site-packages\\sklearn\\svm\\_base.py:976: ConvergenceWarning: Liblinear failed to converge, increase the number of iterations.\n",
      "  warnings.warn(\"Liblinear failed to converge, increase \"\n"
     ]
    },
    {
     "name": "stdout",
     "output_type": "stream",
     "text": [
      "[CV]  C=0.01, class_weight=None, dual=False, max_iter=1000, multi_class=crammer_singer, score=0.709, total= 2.4min\n",
      "[CV] C=0.01, class_weight=None, dual=True, max_iter=50, multi_class=ovr \n",
      "[CV]  C=0.01, class_weight=None, dual=True, max_iter=50, multi_class=ovr, score=0.732, total= 2.7min\n",
      "[CV] C=0.01, class_weight=None, dual=True, max_iter=50, multi_class=ovr \n",
      "[CV]  C=0.01, class_weight=None, dual=True, max_iter=50, multi_class=ovr, score=0.727, total= 2.4min\n",
      "[CV] C=0.01, class_weight=None, dual=True, max_iter=50, multi_class=ovr \n",
      "[CV]  C=0.01, class_weight=None, dual=True, max_iter=50, multi_class=ovr, score=0.732, total= 2.3min\n",
      "[CV] C=0.01, class_weight=None, dual=True, max_iter=50, multi_class=crammer_singer \n"
     ]
    },
    {
     "name": "stderr",
     "output_type": "stream",
     "text": [
      "C:\\Users\\Edgar\\anaconda3\\lib\\site-packages\\sklearn\\svm\\_base.py:976: ConvergenceWarning: Liblinear failed to converge, increase the number of iterations.\n",
      "  warnings.warn(\"Liblinear failed to converge, increase \"\n"
     ]
    },
    {
     "name": "stdout",
     "output_type": "stream",
     "text": [
      "[CV]  C=0.01, class_weight=None, dual=True, max_iter=50, multi_class=crammer_singer, score=0.707, total= 2.3min\n",
      "[CV] C=0.01, class_weight=None, dual=True, max_iter=50, multi_class=crammer_singer \n"
     ]
    },
    {
     "name": "stderr",
     "output_type": "stream",
     "text": [
      "C:\\Users\\Edgar\\anaconda3\\lib\\site-packages\\sklearn\\svm\\_base.py:976: ConvergenceWarning: Liblinear failed to converge, increase the number of iterations.\n",
      "  warnings.warn(\"Liblinear failed to converge, increase \"\n"
     ]
    },
    {
     "name": "stdout",
     "output_type": "stream",
     "text": [
      "[CV]  C=0.01, class_weight=None, dual=True, max_iter=50, multi_class=crammer_singer, score=0.703, total= 2.4min\n",
      "[CV] C=0.01, class_weight=None, dual=True, max_iter=50, multi_class=crammer_singer \n"
     ]
    },
    {
     "name": "stderr",
     "output_type": "stream",
     "text": [
      "C:\\Users\\Edgar\\anaconda3\\lib\\site-packages\\sklearn\\svm\\_base.py:976: ConvergenceWarning: Liblinear failed to converge, increase the number of iterations.\n",
      "  warnings.warn(\"Liblinear failed to converge, increase \"\n"
     ]
    },
    {
     "name": "stdout",
     "output_type": "stream",
     "text": [
      "[CV]  C=0.01, class_weight=None, dual=True, max_iter=50, multi_class=crammer_singer, score=0.709, total= 2.4min\n",
      "[CV] C=0.01, class_weight=None, dual=True, max_iter=100, multi_class=ovr \n",
      "[CV]  C=0.01, class_weight=None, dual=True, max_iter=100, multi_class=ovr, score=0.732, total= 2.3min\n",
      "[CV] C=0.01, class_weight=None, dual=True, max_iter=100, multi_class=ovr \n",
      "[CV]  C=0.01, class_weight=None, dual=True, max_iter=100, multi_class=ovr, score=0.727, total= 2.4min\n",
      "[CV] C=0.01, class_weight=None, dual=True, max_iter=100, multi_class=ovr \n",
      "[CV]  C=0.01, class_weight=None, dual=True, max_iter=100, multi_class=ovr, score=0.732, total= 2.4min\n",
      "[CV] C=0.01, class_weight=None, dual=True, max_iter=100, multi_class=crammer_singer \n"
     ]
    },
    {
     "name": "stderr",
     "output_type": "stream",
     "text": [
      "C:\\Users\\Edgar\\anaconda3\\lib\\site-packages\\sklearn\\svm\\_base.py:976: ConvergenceWarning: Liblinear failed to converge, increase the number of iterations.\n",
      "  warnings.warn(\"Liblinear failed to converge, increase \"\n"
     ]
    },
    {
     "name": "stdout",
     "output_type": "stream",
     "text": [
      "[CV]  C=0.01, class_weight=None, dual=True, max_iter=100, multi_class=crammer_singer, score=0.707, total= 2.3min\n",
      "[CV] C=0.01, class_weight=None, dual=True, max_iter=100, multi_class=crammer_singer \n"
     ]
    },
    {
     "name": "stderr",
     "output_type": "stream",
     "text": [
      "C:\\Users\\Edgar\\anaconda3\\lib\\site-packages\\sklearn\\svm\\_base.py:976: ConvergenceWarning: Liblinear failed to converge, increase the number of iterations.\n",
      "  warnings.warn(\"Liblinear failed to converge, increase \"\n"
     ]
    },
    {
     "name": "stdout",
     "output_type": "stream",
     "text": [
      "[CV]  C=0.01, class_weight=None, dual=True, max_iter=100, multi_class=crammer_singer, score=0.703, total= 2.4min\n",
      "[CV] C=0.01, class_weight=None, dual=True, max_iter=100, multi_class=crammer_singer \n"
     ]
    },
    {
     "name": "stderr",
     "output_type": "stream",
     "text": [
      "C:\\Users\\Edgar\\anaconda3\\lib\\site-packages\\sklearn\\svm\\_base.py:976: ConvergenceWarning: Liblinear failed to converge, increase the number of iterations.\n",
      "  warnings.warn(\"Liblinear failed to converge, increase \"\n"
     ]
    },
    {
     "name": "stdout",
     "output_type": "stream",
     "text": [
      "[CV]  C=0.01, class_weight=None, dual=True, max_iter=100, multi_class=crammer_singer, score=0.709, total= 2.4min\n",
      "[CV] C=0.01, class_weight=None, dual=True, max_iter=500, multi_class=ovr \n",
      "[CV]  C=0.01, class_weight=None, dual=True, max_iter=500, multi_class=ovr, score=0.732, total= 4.1min\n",
      "[CV] C=0.01, class_weight=None, dual=True, max_iter=500, multi_class=ovr \n",
      "[CV]  C=0.01, class_weight=None, dual=True, max_iter=500, multi_class=ovr, score=0.727, total= 2.4min\n",
      "[CV] C=0.01, class_weight=None, dual=True, max_iter=500, multi_class=ovr \n",
      "[CV]  C=0.01, class_weight=None, dual=True, max_iter=500, multi_class=ovr, score=0.732, total= 2.4min\n",
      "[CV] C=0.01, class_weight=None, dual=True, max_iter=500, multi_class=crammer_singer \n"
     ]
    },
    {
     "name": "stderr",
     "output_type": "stream",
     "text": [
      "C:\\Users\\Edgar\\anaconda3\\lib\\site-packages\\sklearn\\svm\\_base.py:976: ConvergenceWarning: Liblinear failed to converge, increase the number of iterations.\n",
      "  warnings.warn(\"Liblinear failed to converge, increase \"\n"
     ]
    },
    {
     "name": "stdout",
     "output_type": "stream",
     "text": [
      "[CV]  C=0.01, class_weight=None, dual=True, max_iter=500, multi_class=crammer_singer, score=0.707, total= 2.2min\n",
      "[CV] C=0.01, class_weight=None, dual=True, max_iter=500, multi_class=crammer_singer \n"
     ]
    },
    {
     "name": "stderr",
     "output_type": "stream",
     "text": [
      "C:\\Users\\Edgar\\anaconda3\\lib\\site-packages\\sklearn\\svm\\_base.py:976: ConvergenceWarning: Liblinear failed to converge, increase the number of iterations.\n",
      "  warnings.warn(\"Liblinear failed to converge, increase \"\n"
     ]
    },
    {
     "name": "stdout",
     "output_type": "stream",
     "text": [
      "[CV]  C=0.01, class_weight=None, dual=True, max_iter=500, multi_class=crammer_singer, score=0.703, total= 2.4min\n",
      "[CV] C=0.01, class_weight=None, dual=True, max_iter=500, multi_class=crammer_singer \n"
     ]
    },
    {
     "name": "stderr",
     "output_type": "stream",
     "text": [
      "C:\\Users\\Edgar\\anaconda3\\lib\\site-packages\\sklearn\\svm\\_base.py:976: ConvergenceWarning: Liblinear failed to converge, increase the number of iterations.\n",
      "  warnings.warn(\"Liblinear failed to converge, increase \"\n"
     ]
    },
    {
     "name": "stdout",
     "output_type": "stream",
     "text": [
      "[CV]  C=0.01, class_weight=None, dual=True, max_iter=500, multi_class=crammer_singer, score=0.709, total= 2.4min\n",
      "[CV] C=0.01, class_weight=None, dual=True, max_iter=1000, multi_class=ovr \n",
      "[CV]  C=0.01, class_weight=None, dual=True, max_iter=1000, multi_class=ovr, score=0.732, total= 2.3min\n",
      "[CV] C=0.01, class_weight=None, dual=True, max_iter=1000, multi_class=ovr \n",
      "[CV]  C=0.01, class_weight=None, dual=True, max_iter=1000, multi_class=ovr, score=0.727, total= 2.4min\n",
      "[CV] C=0.01, class_weight=None, dual=True, max_iter=1000, multi_class=ovr \n",
      "[CV]  C=0.01, class_weight=None, dual=True, max_iter=1000, multi_class=ovr, score=0.732, total= 2.3min\n",
      "[CV] C=0.01, class_weight=None, dual=True, max_iter=1000, multi_class=crammer_singer \n"
     ]
    },
    {
     "name": "stderr",
     "output_type": "stream",
     "text": [
      "C:\\Users\\Edgar\\anaconda3\\lib\\site-packages\\sklearn\\svm\\_base.py:976: ConvergenceWarning: Liblinear failed to converge, increase the number of iterations.\n",
      "  warnings.warn(\"Liblinear failed to converge, increase \"\n"
     ]
    },
    {
     "name": "stdout",
     "output_type": "stream",
     "text": [
      "[CV]  C=0.01, class_weight=None, dual=True, max_iter=1000, multi_class=crammer_singer, score=0.707, total= 2.3min\n",
      "[CV] C=0.01, class_weight=None, dual=True, max_iter=1000, multi_class=crammer_singer \n"
     ]
    },
    {
     "name": "stderr",
     "output_type": "stream",
     "text": [
      "C:\\Users\\Edgar\\anaconda3\\lib\\site-packages\\sklearn\\svm\\_base.py:976: ConvergenceWarning: Liblinear failed to converge, increase the number of iterations.\n",
      "  warnings.warn(\"Liblinear failed to converge, increase \"\n"
     ]
    },
    {
     "name": "stdout",
     "output_type": "stream",
     "text": [
      "[CV]  C=0.01, class_weight=None, dual=True, max_iter=1000, multi_class=crammer_singer, score=0.703, total= 2.7min\n",
      "[CV] C=0.01, class_weight=None, dual=True, max_iter=1000, multi_class=crammer_singer \n"
     ]
    },
    {
     "name": "stderr",
     "output_type": "stream",
     "text": [
      "C:\\Users\\Edgar\\anaconda3\\lib\\site-packages\\sklearn\\svm\\_base.py:976: ConvergenceWarning: Liblinear failed to converge, increase the number of iterations.\n",
      "  warnings.warn(\"Liblinear failed to converge, increase \"\n"
     ]
    },
    {
     "name": "stdout",
     "output_type": "stream",
     "text": [
      "[CV]  C=0.01, class_weight=None, dual=True, max_iter=1000, multi_class=crammer_singer, score=0.709, total= 2.5min\n",
      "[CV] C=0.1, class_weight=balanced, dual=False, max_iter=50, multi_class=ovr \n",
      "[CV]  C=0.1, class_weight=balanced, dual=False, max_iter=50, multi_class=ovr, score=0.806, total= 2.4min\n",
      "[CV] C=0.1, class_weight=balanced, dual=False, max_iter=50, multi_class=ovr \n",
      "[CV]  C=0.1, class_weight=balanced, dual=False, max_iter=50, multi_class=ovr, score=0.805, total= 2.4min\n",
      "[CV] C=0.1, class_weight=balanced, dual=False, max_iter=50, multi_class=ovr \n",
      "[CV]  C=0.1, class_weight=balanced, dual=False, max_iter=50, multi_class=ovr, score=0.805, total= 2.4min\n",
      "[CV] C=0.1, class_weight=balanced, dual=False, max_iter=50, multi_class=crammer_singer \n"
     ]
    },
    {
     "name": "stderr",
     "output_type": "stream",
     "text": [
      "C:\\Users\\Edgar\\anaconda3\\lib\\site-packages\\sklearn\\svm\\_base.py:976: ConvergenceWarning: Liblinear failed to converge, increase the number of iterations.\n",
      "  warnings.warn(\"Liblinear failed to converge, increase \"\n"
     ]
    },
    {
     "name": "stdout",
     "output_type": "stream",
     "text": [
      "[CV]  C=0.1, class_weight=balanced, dual=False, max_iter=50, multi_class=crammer_singer, score=0.778, total= 2.6min\n",
      "[CV] C=0.1, class_weight=balanced, dual=False, max_iter=50, multi_class=crammer_singer \n"
     ]
    },
    {
     "name": "stderr",
     "output_type": "stream",
     "text": [
      "C:\\Users\\Edgar\\anaconda3\\lib\\site-packages\\sklearn\\svm\\_base.py:976: ConvergenceWarning: Liblinear failed to converge, increase the number of iterations.\n",
      "  warnings.warn(\"Liblinear failed to converge, increase \"\n"
     ]
    },
    {
     "name": "stdout",
     "output_type": "stream",
     "text": [
      "[CV]  C=0.1, class_weight=balanced, dual=False, max_iter=50, multi_class=crammer_singer, score=0.777, total= 2.7min\n",
      "[CV] C=0.1, class_weight=balanced, dual=False, max_iter=50, multi_class=crammer_singer \n"
     ]
    },
    {
     "name": "stderr",
     "output_type": "stream",
     "text": [
      "C:\\Users\\Edgar\\anaconda3\\lib\\site-packages\\sklearn\\svm\\_base.py:976: ConvergenceWarning: Liblinear failed to converge, increase the number of iterations.\n",
      "  warnings.warn(\"Liblinear failed to converge, increase \"\n"
     ]
    },
    {
     "name": "stdout",
     "output_type": "stream",
     "text": [
      "[CV]  C=0.1, class_weight=balanced, dual=False, max_iter=50, multi_class=crammer_singer, score=0.781, total= 2.6min\n",
      "[CV] C=0.1, class_weight=balanced, dual=False, max_iter=100, multi_class=ovr \n",
      "[CV]  C=0.1, class_weight=balanced, dual=False, max_iter=100, multi_class=ovr, score=0.806, total= 2.4min\n",
      "[CV] C=0.1, class_weight=balanced, dual=False, max_iter=100, multi_class=ovr \n",
      "[CV]  C=0.1, class_weight=balanced, dual=False, max_iter=100, multi_class=ovr, score=0.805, total= 2.5min\n",
      "[CV] C=0.1, class_weight=balanced, dual=False, max_iter=100, multi_class=ovr \n",
      "[CV]  C=0.1, class_weight=balanced, dual=False, max_iter=100, multi_class=ovr, score=0.805, total= 2.5min\n",
      "[CV] C=0.1, class_weight=balanced, dual=False, max_iter=100, multi_class=crammer_singer \n"
     ]
    },
    {
     "name": "stderr",
     "output_type": "stream",
     "text": [
      "C:\\Users\\Edgar\\anaconda3\\lib\\site-packages\\sklearn\\svm\\_base.py:976: ConvergenceWarning: Liblinear failed to converge, increase the number of iterations.\n",
      "  warnings.warn(\"Liblinear failed to converge, increase \"\n"
     ]
    },
    {
     "name": "stdout",
     "output_type": "stream",
     "text": [
      "[CV]  C=0.1, class_weight=balanced, dual=False, max_iter=100, multi_class=crammer_singer, score=0.778, total= 2.6min\n",
      "[CV] C=0.1, class_weight=balanced, dual=False, max_iter=100, multi_class=crammer_singer \n"
     ]
    },
    {
     "name": "stderr",
     "output_type": "stream",
     "text": [
      "C:\\Users\\Edgar\\anaconda3\\lib\\site-packages\\sklearn\\svm\\_base.py:976: ConvergenceWarning: Liblinear failed to converge, increase the number of iterations.\n",
      "  warnings.warn(\"Liblinear failed to converge, increase \"\n"
     ]
    },
    {
     "name": "stdout",
     "output_type": "stream",
     "text": [
      "[CV]  C=0.1, class_weight=balanced, dual=False, max_iter=100, multi_class=crammer_singer, score=0.777, total= 2.8min\n",
      "[CV] C=0.1, class_weight=balanced, dual=False, max_iter=100, multi_class=crammer_singer \n"
     ]
    },
    {
     "name": "stderr",
     "output_type": "stream",
     "text": [
      "C:\\Users\\Edgar\\anaconda3\\lib\\site-packages\\sklearn\\svm\\_base.py:976: ConvergenceWarning: Liblinear failed to converge, increase the number of iterations.\n",
      "  warnings.warn(\"Liblinear failed to converge, increase \"\n"
     ]
    },
    {
     "name": "stdout",
     "output_type": "stream",
     "text": [
      "[CV]  C=0.1, class_weight=balanced, dual=False, max_iter=100, multi_class=crammer_singer, score=0.781, total= 2.7min\n",
      "[CV] C=0.1, class_weight=balanced, dual=False, max_iter=500, multi_class=ovr \n",
      "[CV]  C=0.1, class_weight=balanced, dual=False, max_iter=500, multi_class=ovr, score=0.806, total= 2.5min\n",
      "[CV] C=0.1, class_weight=balanced, dual=False, max_iter=500, multi_class=ovr \n",
      "[CV]  C=0.1, class_weight=balanced, dual=False, max_iter=500, multi_class=ovr, score=0.805, total= 2.4min\n",
      "[CV] C=0.1, class_weight=balanced, dual=False, max_iter=500, multi_class=ovr \n",
      "[CV]  C=0.1, class_weight=balanced, dual=False, max_iter=500, multi_class=ovr, score=0.805, total= 2.5min\n",
      "[CV] C=0.1, class_weight=balanced, dual=False, max_iter=500, multi_class=crammer_singer \n"
     ]
    },
    {
     "name": "stderr",
     "output_type": "stream",
     "text": [
      "C:\\Users\\Edgar\\anaconda3\\lib\\site-packages\\sklearn\\svm\\_base.py:976: ConvergenceWarning: Liblinear failed to converge, increase the number of iterations.\n",
      "  warnings.warn(\"Liblinear failed to converge, increase \"\n"
     ]
    },
    {
     "name": "stdout",
     "output_type": "stream",
     "text": [
      "[CV]  C=0.1, class_weight=balanced, dual=False, max_iter=500, multi_class=crammer_singer, score=0.778, total= 2.5min\n",
      "[CV] C=0.1, class_weight=balanced, dual=False, max_iter=500, multi_class=crammer_singer \n"
     ]
    },
    {
     "name": "stderr",
     "output_type": "stream",
     "text": [
      "C:\\Users\\Edgar\\anaconda3\\lib\\site-packages\\sklearn\\svm\\_base.py:976: ConvergenceWarning: Liblinear failed to converge, increase the number of iterations.\n",
      "  warnings.warn(\"Liblinear failed to converge, increase \"\n"
     ]
    },
    {
     "name": "stdout",
     "output_type": "stream",
     "text": [
      "[CV]  C=0.1, class_weight=balanced, dual=False, max_iter=500, multi_class=crammer_singer, score=0.777, total= 2.7min\n",
      "[CV] C=0.1, class_weight=balanced, dual=False, max_iter=500, multi_class=crammer_singer \n"
     ]
    },
    {
     "name": "stderr",
     "output_type": "stream",
     "text": [
      "C:\\Users\\Edgar\\anaconda3\\lib\\site-packages\\sklearn\\svm\\_base.py:976: ConvergenceWarning: Liblinear failed to converge, increase the number of iterations.\n",
      "  warnings.warn(\"Liblinear failed to converge, increase \"\n"
     ]
    },
    {
     "name": "stdout",
     "output_type": "stream",
     "text": [
      "[CV]  C=0.1, class_weight=balanced, dual=False, max_iter=500, multi_class=crammer_singer, score=0.781, total= 2.7min\n",
      "[CV] C=0.1, class_weight=balanced, dual=False, max_iter=1000, multi_class=ovr \n",
      "[CV]  C=0.1, class_weight=balanced, dual=False, max_iter=1000, multi_class=ovr, score=0.806, total= 2.6min\n",
      "[CV] C=0.1, class_weight=balanced, dual=False, max_iter=1000, multi_class=ovr \n",
      "[CV]  C=0.1, class_weight=balanced, dual=False, max_iter=1000, multi_class=ovr, score=0.805, total= 2.4min\n",
      "[CV] C=0.1, class_weight=balanced, dual=False, max_iter=1000, multi_class=ovr \n",
      "[CV]  C=0.1, class_weight=balanced, dual=False, max_iter=1000, multi_class=ovr, score=0.805, total= 2.5min\n",
      "[CV] C=0.1, class_weight=balanced, dual=False, max_iter=1000, multi_class=crammer_singer \n"
     ]
    },
    {
     "name": "stderr",
     "output_type": "stream",
     "text": [
      "C:\\Users\\Edgar\\anaconda3\\lib\\site-packages\\sklearn\\svm\\_base.py:976: ConvergenceWarning: Liblinear failed to converge, increase the number of iterations.\n",
      "  warnings.warn(\"Liblinear failed to converge, increase \"\n"
     ]
    },
    {
     "name": "stdout",
     "output_type": "stream",
     "text": [
      "[CV]  C=0.1, class_weight=balanced, dual=False, max_iter=1000, multi_class=crammer_singer, score=0.778, total= 2.6min\n",
      "[CV] C=0.1, class_weight=balanced, dual=False, max_iter=1000, multi_class=crammer_singer \n"
     ]
    },
    {
     "name": "stderr",
     "output_type": "stream",
     "text": [
      "C:\\Users\\Edgar\\anaconda3\\lib\\site-packages\\sklearn\\svm\\_base.py:976: ConvergenceWarning: Liblinear failed to converge, increase the number of iterations.\n",
      "  warnings.warn(\"Liblinear failed to converge, increase \"\n"
     ]
    },
    {
     "name": "stdout",
     "output_type": "stream",
     "text": [
      "[CV]  C=0.1, class_weight=balanced, dual=False, max_iter=1000, multi_class=crammer_singer, score=0.777, total= 2.7min\n",
      "[CV] C=0.1, class_weight=balanced, dual=False, max_iter=1000, multi_class=crammer_singer \n"
     ]
    },
    {
     "name": "stderr",
     "output_type": "stream",
     "text": [
      "C:\\Users\\Edgar\\anaconda3\\lib\\site-packages\\sklearn\\svm\\_base.py:976: ConvergenceWarning: Liblinear failed to converge, increase the number of iterations.\n",
      "  warnings.warn(\"Liblinear failed to converge, increase \"\n"
     ]
    },
    {
     "name": "stdout",
     "output_type": "stream",
     "text": [
      "[CV]  C=0.1, class_weight=balanced, dual=False, max_iter=1000, multi_class=crammer_singer, score=0.781, total= 2.5min\n",
      "[CV] C=0.1, class_weight=balanced, dual=True, max_iter=50, multi_class=ovr \n",
      "[CV]  C=0.1, class_weight=balanced, dual=True, max_iter=50, multi_class=ovr, score=0.806, total= 2.6min\n",
      "[CV] C=0.1, class_weight=balanced, dual=True, max_iter=50, multi_class=ovr \n",
      "[CV]  C=0.1, class_weight=balanced, dual=True, max_iter=50, multi_class=ovr, score=0.805, total= 2.4min\n",
      "[CV] C=0.1, class_weight=balanced, dual=True, max_iter=50, multi_class=ovr \n",
      "[CV]  C=0.1, class_weight=balanced, dual=True, max_iter=50, multi_class=ovr, score=0.805, total= 2.3min\n",
      "[CV] C=0.1, class_weight=balanced, dual=True, max_iter=50, multi_class=crammer_singer \n"
     ]
    },
    {
     "name": "stderr",
     "output_type": "stream",
     "text": [
      "C:\\Users\\Edgar\\anaconda3\\lib\\site-packages\\sklearn\\svm\\_base.py:976: ConvergenceWarning: Liblinear failed to converge, increase the number of iterations.\n",
      "  warnings.warn(\"Liblinear failed to converge, increase \"\n"
     ]
    },
    {
     "name": "stdout",
     "output_type": "stream",
     "text": [
      "[CV]  C=0.1, class_weight=balanced, dual=True, max_iter=50, multi_class=crammer_singer, score=0.778, total= 2.6min\n",
      "[CV] C=0.1, class_weight=balanced, dual=True, max_iter=50, multi_class=crammer_singer \n"
     ]
    },
    {
     "name": "stderr",
     "output_type": "stream",
     "text": [
      "C:\\Users\\Edgar\\anaconda3\\lib\\site-packages\\sklearn\\svm\\_base.py:976: ConvergenceWarning: Liblinear failed to converge, increase the number of iterations.\n",
      "  warnings.warn(\"Liblinear failed to converge, increase \"\n"
     ]
    },
    {
     "name": "stdout",
     "output_type": "stream",
     "text": [
      "[CV]  C=0.1, class_weight=balanced, dual=True, max_iter=50, multi_class=crammer_singer, score=0.777, total= 2.7min\n",
      "[CV] C=0.1, class_weight=balanced, dual=True, max_iter=50, multi_class=crammer_singer \n"
     ]
    },
    {
     "name": "stderr",
     "output_type": "stream",
     "text": [
      "C:\\Users\\Edgar\\anaconda3\\lib\\site-packages\\sklearn\\svm\\_base.py:976: ConvergenceWarning: Liblinear failed to converge, increase the number of iterations.\n",
      "  warnings.warn(\"Liblinear failed to converge, increase \"\n"
     ]
    },
    {
     "name": "stdout",
     "output_type": "stream",
     "text": [
      "[CV]  C=0.1, class_weight=balanced, dual=True, max_iter=50, multi_class=crammer_singer, score=0.781, total= 2.6min\n",
      "[CV] C=0.1, class_weight=balanced, dual=True, max_iter=100, multi_class=ovr \n",
      "[CV]  C=0.1, class_weight=balanced, dual=True, max_iter=100, multi_class=ovr, score=0.806, total= 2.3min\n",
      "[CV] C=0.1, class_weight=balanced, dual=True, max_iter=100, multi_class=ovr \n",
      "[CV]  C=0.1, class_weight=balanced, dual=True, max_iter=100, multi_class=ovr, score=0.805, total= 2.3min\n",
      "[CV] C=0.1, class_weight=balanced, dual=True, max_iter=100, multi_class=ovr \n",
      "[CV]  C=0.1, class_weight=balanced, dual=True, max_iter=100, multi_class=ovr, score=0.805, total= 2.4min\n",
      "[CV] C=0.1, class_weight=balanced, dual=True, max_iter=100, multi_class=crammer_singer \n"
     ]
    },
    {
     "name": "stderr",
     "output_type": "stream",
     "text": [
      "C:\\Users\\Edgar\\anaconda3\\lib\\site-packages\\sklearn\\svm\\_base.py:976: ConvergenceWarning: Liblinear failed to converge, increase the number of iterations.\n",
      "  warnings.warn(\"Liblinear failed to converge, increase \"\n"
     ]
    },
    {
     "name": "stdout",
     "output_type": "stream",
     "text": [
      "[CV]  C=0.1, class_weight=balanced, dual=True, max_iter=100, multi_class=crammer_singer, score=0.779, total= 2.7min\n",
      "[CV] C=0.1, class_weight=balanced, dual=True, max_iter=100, multi_class=crammer_singer \n"
     ]
    },
    {
     "name": "stderr",
     "output_type": "stream",
     "text": [
      "C:\\Users\\Edgar\\anaconda3\\lib\\site-packages\\sklearn\\svm\\_base.py:976: ConvergenceWarning: Liblinear failed to converge, increase the number of iterations.\n",
      "  warnings.warn(\"Liblinear failed to converge, increase \"\n"
     ]
    },
    {
     "name": "stdout",
     "output_type": "stream",
     "text": [
      "[CV]  C=0.1, class_weight=balanced, dual=True, max_iter=100, multi_class=crammer_singer, score=0.777, total= 2.6min\n",
      "[CV] C=0.1, class_weight=balanced, dual=True, max_iter=100, multi_class=crammer_singer \n"
     ]
    },
    {
     "name": "stderr",
     "output_type": "stream",
     "text": [
      "C:\\Users\\Edgar\\anaconda3\\lib\\site-packages\\sklearn\\svm\\_base.py:976: ConvergenceWarning: Liblinear failed to converge, increase the number of iterations.\n",
      "  warnings.warn(\"Liblinear failed to converge, increase \"\n"
     ]
    },
    {
     "name": "stdout",
     "output_type": "stream",
     "text": [
      "[CV]  C=0.1, class_weight=balanced, dual=True, max_iter=100, multi_class=crammer_singer, score=0.781, total= 2.6min\n",
      "[CV] C=0.1, class_weight=balanced, dual=True, max_iter=500, multi_class=ovr \n",
      "[CV]  C=0.1, class_weight=balanced, dual=True, max_iter=500, multi_class=ovr, score=0.806, total= 2.7min\n",
      "[CV] C=0.1, class_weight=balanced, dual=True, max_iter=500, multi_class=ovr \n",
      "[CV]  C=0.1, class_weight=balanced, dual=True, max_iter=500, multi_class=ovr, score=0.805, total= 2.4min\n",
      "[CV] C=0.1, class_weight=balanced, dual=True, max_iter=500, multi_class=ovr \n",
      "[CV]  C=0.1, class_weight=balanced, dual=True, max_iter=500, multi_class=ovr, score=0.805, total= 2.4min\n",
      "[CV] C=0.1, class_weight=balanced, dual=True, max_iter=500, multi_class=crammer_singer \n"
     ]
    },
    {
     "name": "stderr",
     "output_type": "stream",
     "text": [
      "C:\\Users\\Edgar\\anaconda3\\lib\\site-packages\\sklearn\\svm\\_base.py:976: ConvergenceWarning: Liblinear failed to converge, increase the number of iterations.\n",
      "  warnings.warn(\"Liblinear failed to converge, increase \"\n"
     ]
    },
    {
     "name": "stdout",
     "output_type": "stream",
     "text": [
      "[CV]  C=0.1, class_weight=balanced, dual=True, max_iter=500, multi_class=crammer_singer, score=0.779, total= 2.6min\n",
      "[CV] C=0.1, class_weight=balanced, dual=True, max_iter=500, multi_class=crammer_singer \n"
     ]
    },
    {
     "name": "stderr",
     "output_type": "stream",
     "text": [
      "C:\\Users\\Edgar\\anaconda3\\lib\\site-packages\\sklearn\\svm\\_base.py:976: ConvergenceWarning: Liblinear failed to converge, increase the number of iterations.\n",
      "  warnings.warn(\"Liblinear failed to converge, increase \"\n"
     ]
    },
    {
     "name": "stdout",
     "output_type": "stream",
     "text": [
      "[CV]  C=0.1, class_weight=balanced, dual=True, max_iter=500, multi_class=crammer_singer, score=0.777, total= 2.7min\n",
      "[CV] C=0.1, class_weight=balanced, dual=True, max_iter=500, multi_class=crammer_singer \n"
     ]
    },
    {
     "name": "stderr",
     "output_type": "stream",
     "text": [
      "C:\\Users\\Edgar\\anaconda3\\lib\\site-packages\\sklearn\\svm\\_base.py:976: ConvergenceWarning: Liblinear failed to converge, increase the number of iterations.\n",
      "  warnings.warn(\"Liblinear failed to converge, increase \"\n"
     ]
    },
    {
     "name": "stdout",
     "output_type": "stream",
     "text": [
      "[CV]  C=0.1, class_weight=balanced, dual=True, max_iter=500, multi_class=crammer_singer, score=0.781, total= 2.6min\n",
      "[CV] C=0.1, class_weight=balanced, dual=True, max_iter=1000, multi_class=ovr \n",
      "[CV]  C=0.1, class_weight=balanced, dual=True, max_iter=1000, multi_class=ovr, score=0.806, total= 2.4min\n",
      "[CV] C=0.1, class_weight=balanced, dual=True, max_iter=1000, multi_class=ovr \n",
      "[CV]  C=0.1, class_weight=balanced, dual=True, max_iter=1000, multi_class=ovr, score=0.805, total= 2.4min\n",
      "[CV] C=0.1, class_weight=balanced, dual=True, max_iter=1000, multi_class=ovr \n",
      "[CV]  C=0.1, class_weight=balanced, dual=True, max_iter=1000, multi_class=ovr, score=0.805, total= 2.4min\n",
      "[CV] C=0.1, class_weight=balanced, dual=True, max_iter=1000, multi_class=crammer_singer \n"
     ]
    },
    {
     "name": "stderr",
     "output_type": "stream",
     "text": [
      "C:\\Users\\Edgar\\anaconda3\\lib\\site-packages\\sklearn\\svm\\_base.py:976: ConvergenceWarning: Liblinear failed to converge, increase the number of iterations.\n",
      "  warnings.warn(\"Liblinear failed to converge, increase \"\n"
     ]
    },
    {
     "name": "stdout",
     "output_type": "stream",
     "text": [
      "[CV]  C=0.1, class_weight=balanced, dual=True, max_iter=1000, multi_class=crammer_singer, score=0.778, total= 2.7min\n",
      "[CV] C=0.1, class_weight=balanced, dual=True, max_iter=1000, multi_class=crammer_singer \n"
     ]
    },
    {
     "name": "stderr",
     "output_type": "stream",
     "text": [
      "C:\\Users\\Edgar\\anaconda3\\lib\\site-packages\\sklearn\\svm\\_base.py:976: ConvergenceWarning: Liblinear failed to converge, increase the number of iterations.\n",
      "  warnings.warn(\"Liblinear failed to converge, increase \"\n"
     ]
    },
    {
     "name": "stdout",
     "output_type": "stream",
     "text": [
      "[CV]  C=0.1, class_weight=balanced, dual=True, max_iter=1000, multi_class=crammer_singer, score=0.777, total= 2.8min\n",
      "[CV] C=0.1, class_weight=balanced, dual=True, max_iter=1000, multi_class=crammer_singer \n"
     ]
    },
    {
     "name": "stderr",
     "output_type": "stream",
     "text": [
      "C:\\Users\\Edgar\\anaconda3\\lib\\site-packages\\sklearn\\svm\\_base.py:976: ConvergenceWarning: Liblinear failed to converge, increase the number of iterations.\n",
      "  warnings.warn(\"Liblinear failed to converge, increase \"\n"
     ]
    },
    {
     "name": "stdout",
     "output_type": "stream",
     "text": [
      "[CV]  C=0.1, class_weight=balanced, dual=True, max_iter=1000, multi_class=crammer_singer, score=0.781, total= 2.7min\n",
      "[CV] C=0.1, class_weight=None, dual=False, max_iter=50, multi_class=ovr \n",
      "[CV]  C=0.1, class_weight=None, dual=False, max_iter=50, multi_class=ovr, score=0.806, total= 2.5min\n",
      "[CV] C=0.1, class_weight=None, dual=False, max_iter=50, multi_class=ovr \n",
      "[CV]  C=0.1, class_weight=None, dual=False, max_iter=50, multi_class=ovr, score=0.803, total= 2.6min\n",
      "[CV] C=0.1, class_weight=None, dual=False, max_iter=50, multi_class=ovr \n",
      "[CV]  C=0.1, class_weight=None, dual=False, max_iter=50, multi_class=ovr, score=0.804, total= 2.5min\n",
      "[CV] C=0.1, class_weight=None, dual=False, max_iter=50, multi_class=crammer_singer \n"
     ]
    },
    {
     "name": "stderr",
     "output_type": "stream",
     "text": [
      "C:\\Users\\Edgar\\anaconda3\\lib\\site-packages\\sklearn\\svm\\_base.py:976: ConvergenceWarning: Liblinear failed to converge, increase the number of iterations.\n",
      "  warnings.warn(\"Liblinear failed to converge, increase \"\n"
     ]
    },
    {
     "name": "stdout",
     "output_type": "stream",
     "text": [
      "[CV]  C=0.1, class_weight=None, dual=False, max_iter=50, multi_class=crammer_singer, score=0.789, total= 2.9min\n",
      "[CV] C=0.1, class_weight=None, dual=False, max_iter=50, multi_class=crammer_singer \n"
     ]
    },
    {
     "name": "stderr",
     "output_type": "stream",
     "text": [
      "C:\\Users\\Edgar\\anaconda3\\lib\\site-packages\\sklearn\\svm\\_base.py:976: ConvergenceWarning: Liblinear failed to converge, increase the number of iterations.\n",
      "  warnings.warn(\"Liblinear failed to converge, increase \"\n"
     ]
    },
    {
     "name": "stdout",
     "output_type": "stream",
     "text": [
      "[CV]  C=0.1, class_weight=None, dual=False, max_iter=50, multi_class=crammer_singer, score=0.785, total= 2.7min\n",
      "[CV] C=0.1, class_weight=None, dual=False, max_iter=50, multi_class=crammer_singer \n"
     ]
    },
    {
     "name": "stderr",
     "output_type": "stream",
     "text": [
      "C:\\Users\\Edgar\\anaconda3\\lib\\site-packages\\sklearn\\svm\\_base.py:976: ConvergenceWarning: Liblinear failed to converge, increase the number of iterations.\n",
      "  warnings.warn(\"Liblinear failed to converge, increase \"\n"
     ]
    },
    {
     "name": "stdout",
     "output_type": "stream",
     "text": [
      "[CV]  C=0.1, class_weight=None, dual=False, max_iter=50, multi_class=crammer_singer, score=0.785, total= 6.2min\n",
      "[CV] C=0.1, class_weight=None, dual=False, max_iter=100, multi_class=ovr \n",
      "[CV]  C=0.1, class_weight=None, dual=False, max_iter=100, multi_class=ovr, score=0.806, total= 3.2min\n",
      "[CV] C=0.1, class_weight=None, dual=False, max_iter=100, multi_class=ovr \n",
      "[CV]  C=0.1, class_weight=None, dual=False, max_iter=100, multi_class=ovr, score=0.803, total= 2.6min\n",
      "[CV] C=0.1, class_weight=None, dual=False, max_iter=100, multi_class=ovr \n",
      "[CV]  C=0.1, class_weight=None, dual=False, max_iter=100, multi_class=ovr, score=0.804, total= 2.5min\n",
      "[CV] C=0.1, class_weight=None, dual=False, max_iter=100, multi_class=crammer_singer \n"
     ]
    },
    {
     "name": "stderr",
     "output_type": "stream",
     "text": [
      "C:\\Users\\Edgar\\anaconda3\\lib\\site-packages\\sklearn\\svm\\_base.py:976: ConvergenceWarning: Liblinear failed to converge, increase the number of iterations.\n",
      "  warnings.warn(\"Liblinear failed to converge, increase \"\n"
     ]
    },
    {
     "name": "stdout",
     "output_type": "stream",
     "text": [
      "[CV]  C=0.1, class_weight=None, dual=False, max_iter=100, multi_class=crammer_singer, score=0.789, total= 2.6min\n",
      "[CV] C=0.1, class_weight=None, dual=False, max_iter=100, multi_class=crammer_singer \n"
     ]
    },
    {
     "name": "stderr",
     "output_type": "stream",
     "text": [
      "C:\\Users\\Edgar\\anaconda3\\lib\\site-packages\\sklearn\\svm\\_base.py:976: ConvergenceWarning: Liblinear failed to converge, increase the number of iterations.\n",
      "  warnings.warn(\"Liblinear failed to converge, increase \"\n"
     ]
    },
    {
     "name": "stdout",
     "output_type": "stream",
     "text": [
      "[CV]  C=0.1, class_weight=None, dual=False, max_iter=100, multi_class=crammer_singer, score=0.785, total= 2.6min\n",
      "[CV] C=0.1, class_weight=None, dual=False, max_iter=100, multi_class=crammer_singer \n"
     ]
    },
    {
     "name": "stderr",
     "output_type": "stream",
     "text": [
      "C:\\Users\\Edgar\\anaconda3\\lib\\site-packages\\sklearn\\svm\\_base.py:976: ConvergenceWarning: Liblinear failed to converge, increase the number of iterations.\n",
      "  warnings.warn(\"Liblinear failed to converge, increase \"\n"
     ]
    },
    {
     "name": "stdout",
     "output_type": "stream",
     "text": [
      "[CV]  C=0.1, class_weight=None, dual=False, max_iter=100, multi_class=crammer_singer, score=0.785, total= 2.8min\n",
      "[CV] C=0.1, class_weight=None, dual=False, max_iter=500, multi_class=ovr \n",
      "[CV]  C=0.1, class_weight=None, dual=False, max_iter=500, multi_class=ovr, score=0.806, total= 2.6min\n",
      "[CV] C=0.1, class_weight=None, dual=False, max_iter=500, multi_class=ovr \n",
      "[CV]  C=0.1, class_weight=None, dual=False, max_iter=500, multi_class=ovr, score=0.803, total= 2.6min\n",
      "[CV] C=0.1, class_weight=None, dual=False, max_iter=500, multi_class=ovr \n",
      "[CV]  C=0.1, class_weight=None, dual=False, max_iter=500, multi_class=ovr, score=0.804, total= 2.6min\n",
      "[CV] C=0.1, class_weight=None, dual=False, max_iter=500, multi_class=crammer_singer \n"
     ]
    },
    {
     "name": "stderr",
     "output_type": "stream",
     "text": [
      "C:\\Users\\Edgar\\anaconda3\\lib\\site-packages\\sklearn\\svm\\_base.py:976: ConvergenceWarning: Liblinear failed to converge, increase the number of iterations.\n",
      "  warnings.warn(\"Liblinear failed to converge, increase \"\n"
     ]
    },
    {
     "name": "stdout",
     "output_type": "stream",
     "text": [
      "[CV]  C=0.1, class_weight=None, dual=False, max_iter=500, multi_class=crammer_singer, score=0.788, total= 2.6min\n",
      "[CV] C=0.1, class_weight=None, dual=False, max_iter=500, multi_class=crammer_singer \n"
     ]
    },
    {
     "name": "stderr",
     "output_type": "stream",
     "text": [
      "C:\\Users\\Edgar\\anaconda3\\lib\\site-packages\\sklearn\\svm\\_base.py:976: ConvergenceWarning: Liblinear failed to converge, increase the number of iterations.\n",
      "  warnings.warn(\"Liblinear failed to converge, increase \"\n"
     ]
    },
    {
     "name": "stdout",
     "output_type": "stream",
     "text": [
      "[CV]  C=0.1, class_weight=None, dual=False, max_iter=500, multi_class=crammer_singer, score=0.785, total= 2.6min\n",
      "[CV] C=0.1, class_weight=None, dual=False, max_iter=500, multi_class=crammer_singer \n"
     ]
    },
    {
     "name": "stderr",
     "output_type": "stream",
     "text": [
      "C:\\Users\\Edgar\\anaconda3\\lib\\site-packages\\sklearn\\svm\\_base.py:976: ConvergenceWarning: Liblinear failed to converge, increase the number of iterations.\n",
      "  warnings.warn(\"Liblinear failed to converge, increase \"\n"
     ]
    },
    {
     "name": "stdout",
     "output_type": "stream",
     "text": [
      "[CV]  C=0.1, class_weight=None, dual=False, max_iter=500, multi_class=crammer_singer, score=0.785, total= 2.7min\n",
      "[CV] C=0.1, class_weight=None, dual=False, max_iter=1000, multi_class=ovr \n",
      "[CV]  C=0.1, class_weight=None, dual=False, max_iter=1000, multi_class=ovr, score=0.806, total= 2.6min\n",
      "[CV] C=0.1, class_weight=None, dual=False, max_iter=1000, multi_class=ovr \n",
      "[CV]  C=0.1, class_weight=None, dual=False, max_iter=1000, multi_class=ovr, score=0.803, total= 2.6min\n",
      "[CV] C=0.1, class_weight=None, dual=False, max_iter=1000, multi_class=ovr \n",
      "[CV]  C=0.1, class_weight=None, dual=False, max_iter=1000, multi_class=ovr, score=0.804, total= 2.5min\n",
      "[CV] C=0.1, class_weight=None, dual=False, max_iter=1000, multi_class=crammer_singer \n"
     ]
    },
    {
     "name": "stderr",
     "output_type": "stream",
     "text": [
      "C:\\Users\\Edgar\\anaconda3\\lib\\site-packages\\sklearn\\svm\\_base.py:976: ConvergenceWarning: Liblinear failed to converge, increase the number of iterations.\n",
      "  warnings.warn(\"Liblinear failed to converge, increase \"\n"
     ]
    },
    {
     "name": "stdout",
     "output_type": "stream",
     "text": [
      "[CV]  C=0.1, class_weight=None, dual=False, max_iter=1000, multi_class=crammer_singer, score=0.788, total= 3.0min\n",
      "[CV] C=0.1, class_weight=None, dual=False, max_iter=1000, multi_class=crammer_singer \n"
     ]
    },
    {
     "name": "stderr",
     "output_type": "stream",
     "text": [
      "C:\\Users\\Edgar\\anaconda3\\lib\\site-packages\\sklearn\\svm\\_base.py:976: ConvergenceWarning: Liblinear failed to converge, increase the number of iterations.\n",
      "  warnings.warn(\"Liblinear failed to converge, increase \"\n"
     ]
    },
    {
     "name": "stdout",
     "output_type": "stream",
     "text": [
      "[CV]  C=0.1, class_weight=None, dual=False, max_iter=1000, multi_class=crammer_singer, score=0.785, total= 2.7min\n",
      "[CV] C=0.1, class_weight=None, dual=False, max_iter=1000, multi_class=crammer_singer \n"
     ]
    },
    {
     "name": "stderr",
     "output_type": "stream",
     "text": [
      "C:\\Users\\Edgar\\anaconda3\\lib\\site-packages\\sklearn\\svm\\_base.py:976: ConvergenceWarning: Liblinear failed to converge, increase the number of iterations.\n",
      "  warnings.warn(\"Liblinear failed to converge, increase \"\n"
     ]
    },
    {
     "name": "stdout",
     "output_type": "stream",
     "text": [
      "[CV]  C=0.1, class_weight=None, dual=False, max_iter=1000, multi_class=crammer_singer, score=0.785, total= 2.9min\n",
      "[CV] C=0.1, class_weight=None, dual=True, max_iter=50, multi_class=ovr \n",
      "[CV]  C=0.1, class_weight=None, dual=True, max_iter=50, multi_class=ovr, score=0.806, total= 2.5min\n",
      "[CV] C=0.1, class_weight=None, dual=True, max_iter=50, multi_class=ovr \n",
      "[CV]  C=0.1, class_weight=None, dual=True, max_iter=50, multi_class=ovr, score=0.803, total= 2.7min\n",
      "[CV] C=0.1, class_weight=None, dual=True, max_iter=50, multi_class=ovr \n",
      "[CV]  C=0.1, class_weight=None, dual=True, max_iter=50, multi_class=ovr, score=0.804, total= 2.7min\n",
      "[CV] C=0.1, class_weight=None, dual=True, max_iter=50, multi_class=crammer_singer \n"
     ]
    },
    {
     "name": "stderr",
     "output_type": "stream",
     "text": [
      "C:\\Users\\Edgar\\anaconda3\\lib\\site-packages\\sklearn\\svm\\_base.py:976: ConvergenceWarning: Liblinear failed to converge, increase the number of iterations.\n",
      "  warnings.warn(\"Liblinear failed to converge, increase \"\n"
     ]
    },
    {
     "name": "stdout",
     "output_type": "stream",
     "text": [
      "[CV]  C=0.1, class_weight=None, dual=True, max_iter=50, multi_class=crammer_singer, score=0.788, total= 2.7min\n",
      "[CV] C=0.1, class_weight=None, dual=True, max_iter=50, multi_class=crammer_singer \n"
     ]
    },
    {
     "name": "stderr",
     "output_type": "stream",
     "text": [
      "C:\\Users\\Edgar\\anaconda3\\lib\\site-packages\\sklearn\\svm\\_base.py:976: ConvergenceWarning: Liblinear failed to converge, increase the number of iterations.\n",
      "  warnings.warn(\"Liblinear failed to converge, increase \"\n"
     ]
    },
    {
     "name": "stdout",
     "output_type": "stream",
     "text": [
      "[CV]  C=0.1, class_weight=None, dual=True, max_iter=50, multi_class=crammer_singer, score=0.785, total= 2.8min\n",
      "[CV] C=0.1, class_weight=None, dual=True, max_iter=50, multi_class=crammer_singer \n"
     ]
    },
    {
     "name": "stderr",
     "output_type": "stream",
     "text": [
      "C:\\Users\\Edgar\\anaconda3\\lib\\site-packages\\sklearn\\svm\\_base.py:976: ConvergenceWarning: Liblinear failed to converge, increase the number of iterations.\n",
      "  warnings.warn(\"Liblinear failed to converge, increase \"\n"
     ]
    },
    {
     "name": "stdout",
     "output_type": "stream",
     "text": [
      "[CV]  C=0.1, class_weight=None, dual=True, max_iter=50, multi_class=crammer_singer, score=0.785, total= 2.9min\n",
      "[CV] C=0.1, class_weight=None, dual=True, max_iter=100, multi_class=ovr \n",
      "[CV]  C=0.1, class_weight=None, dual=True, max_iter=100, multi_class=ovr, score=0.806, total= 2.5min\n",
      "[CV] C=0.1, class_weight=None, dual=True, max_iter=100, multi_class=ovr \n",
      "[CV]  C=0.1, class_weight=None, dual=True, max_iter=100, multi_class=ovr, score=0.803, total= 2.4min\n",
      "[CV] C=0.1, class_weight=None, dual=True, max_iter=100, multi_class=ovr \n",
      "[CV]  C=0.1, class_weight=None, dual=True, max_iter=100, multi_class=ovr, score=0.804, total= 2.5min\n",
      "[CV] C=0.1, class_weight=None, dual=True, max_iter=100, multi_class=crammer_singer \n"
     ]
    },
    {
     "name": "stderr",
     "output_type": "stream",
     "text": [
      "C:\\Users\\Edgar\\anaconda3\\lib\\site-packages\\sklearn\\svm\\_base.py:976: ConvergenceWarning: Liblinear failed to converge, increase the number of iterations.\n",
      "  warnings.warn(\"Liblinear failed to converge, increase \"\n"
     ]
    },
    {
     "name": "stdout",
     "output_type": "stream",
     "text": [
      "[CV]  C=0.1, class_weight=None, dual=True, max_iter=100, multi_class=crammer_singer, score=0.788, total= 2.9min\n",
      "[CV] C=0.1, class_weight=None, dual=True, max_iter=100, multi_class=crammer_singer \n"
     ]
    },
    {
     "name": "stderr",
     "output_type": "stream",
     "text": [
      "C:\\Users\\Edgar\\anaconda3\\lib\\site-packages\\sklearn\\svm\\_base.py:976: ConvergenceWarning: Liblinear failed to converge, increase the number of iterations.\n",
      "  warnings.warn(\"Liblinear failed to converge, increase \"\n"
     ]
    },
    {
     "name": "stdout",
     "output_type": "stream",
     "text": [
      "[CV]  C=0.1, class_weight=None, dual=True, max_iter=100, multi_class=crammer_singer, score=0.785, total= 3.2min\n",
      "[CV] C=0.1, class_weight=None, dual=True, max_iter=100, multi_class=crammer_singer \n"
     ]
    },
    {
     "name": "stderr",
     "output_type": "stream",
     "text": [
      "C:\\Users\\Edgar\\anaconda3\\lib\\site-packages\\sklearn\\svm\\_base.py:976: ConvergenceWarning: Liblinear failed to converge, increase the number of iterations.\n",
      "  warnings.warn(\"Liblinear failed to converge, increase \"\n"
     ]
    },
    {
     "name": "stdout",
     "output_type": "stream",
     "text": [
      "[CV]  C=0.1, class_weight=None, dual=True, max_iter=100, multi_class=crammer_singer, score=0.785, total= 2.7min\n",
      "[CV] C=0.1, class_weight=None, dual=True, max_iter=500, multi_class=ovr \n",
      "[CV]  C=0.1, class_weight=None, dual=True, max_iter=500, multi_class=ovr, score=0.806, total= 2.4min\n",
      "[CV] C=0.1, class_weight=None, dual=True, max_iter=500, multi_class=ovr \n",
      "[CV]  C=0.1, class_weight=None, dual=True, max_iter=500, multi_class=ovr, score=0.803, total= 2.5min\n",
      "[CV] C=0.1, class_weight=None, dual=True, max_iter=500, multi_class=ovr \n",
      "[CV]  C=0.1, class_weight=None, dual=True, max_iter=500, multi_class=ovr, score=0.804, total= 2.4min\n",
      "[CV] C=0.1, class_weight=None, dual=True, max_iter=500, multi_class=crammer_singer \n"
     ]
    },
    {
     "name": "stderr",
     "output_type": "stream",
     "text": [
      "C:\\Users\\Edgar\\anaconda3\\lib\\site-packages\\sklearn\\svm\\_base.py:976: ConvergenceWarning: Liblinear failed to converge, increase the number of iterations.\n",
      "  warnings.warn(\"Liblinear failed to converge, increase \"\n"
     ]
    },
    {
     "name": "stdout",
     "output_type": "stream",
     "text": [
      "[CV]  C=0.1, class_weight=None, dual=True, max_iter=500, multi_class=crammer_singer, score=0.789, total= 2.8min\n",
      "[CV] C=0.1, class_weight=None, dual=True, max_iter=500, multi_class=crammer_singer \n"
     ]
    },
    {
     "name": "stderr",
     "output_type": "stream",
     "text": [
      "C:\\Users\\Edgar\\anaconda3\\lib\\site-packages\\sklearn\\svm\\_base.py:976: ConvergenceWarning: Liblinear failed to converge, increase the number of iterations.\n",
      "  warnings.warn(\"Liblinear failed to converge, increase \"\n"
     ]
    },
    {
     "name": "stdout",
     "output_type": "stream",
     "text": [
      "[CV]  C=0.1, class_weight=None, dual=True, max_iter=500, multi_class=crammer_singer, score=0.785, total= 2.9min\n",
      "[CV] C=0.1, class_weight=None, dual=True, max_iter=500, multi_class=crammer_singer \n"
     ]
    },
    {
     "name": "stderr",
     "output_type": "stream",
     "text": [
      "C:\\Users\\Edgar\\anaconda3\\lib\\site-packages\\sklearn\\svm\\_base.py:976: ConvergenceWarning: Liblinear failed to converge, increase the number of iterations.\n",
      "  warnings.warn(\"Liblinear failed to converge, increase \"\n"
     ]
    },
    {
     "name": "stdout",
     "output_type": "stream",
     "text": [
      "[CV]  C=0.1, class_weight=None, dual=True, max_iter=500, multi_class=crammer_singer, score=0.785, total= 2.8min\n",
      "[CV] C=0.1, class_weight=None, dual=True, max_iter=1000, multi_class=ovr \n",
      "[CV]  C=0.1, class_weight=None, dual=True, max_iter=1000, multi_class=ovr, score=0.806, total= 2.5min\n",
      "[CV] C=0.1, class_weight=None, dual=True, max_iter=1000, multi_class=ovr \n",
      "[CV]  C=0.1, class_weight=None, dual=True, max_iter=1000, multi_class=ovr, score=0.803, total= 2.6min\n",
      "[CV] C=0.1, class_weight=None, dual=True, max_iter=1000, multi_class=ovr \n",
      "[CV]  C=0.1, class_weight=None, dual=True, max_iter=1000, multi_class=ovr, score=0.804, total= 2.6min\n",
      "[CV] C=0.1, class_weight=None, dual=True, max_iter=1000, multi_class=crammer_singer \n"
     ]
    },
    {
     "name": "stderr",
     "output_type": "stream",
     "text": [
      "C:\\Users\\Edgar\\anaconda3\\lib\\site-packages\\sklearn\\svm\\_base.py:976: ConvergenceWarning: Liblinear failed to converge, increase the number of iterations.\n",
      "  warnings.warn(\"Liblinear failed to converge, increase \"\n"
     ]
    },
    {
     "name": "stdout",
     "output_type": "stream",
     "text": [
      "[CV]  C=0.1, class_weight=None, dual=True, max_iter=1000, multi_class=crammer_singer, score=0.789, total= 2.9min\n",
      "[CV] C=0.1, class_weight=None, dual=True, max_iter=1000, multi_class=crammer_singer \n"
     ]
    },
    {
     "name": "stderr",
     "output_type": "stream",
     "text": [
      "C:\\Users\\Edgar\\anaconda3\\lib\\site-packages\\sklearn\\svm\\_base.py:976: ConvergenceWarning: Liblinear failed to converge, increase the number of iterations.\n",
      "  warnings.warn(\"Liblinear failed to converge, increase \"\n"
     ]
    },
    {
     "name": "stdout",
     "output_type": "stream",
     "text": [
      "[CV]  C=0.1, class_weight=None, dual=True, max_iter=1000, multi_class=crammer_singer, score=0.785, total= 2.7min\n",
      "[CV] C=0.1, class_weight=None, dual=True, max_iter=1000, multi_class=crammer_singer \n"
     ]
    },
    {
     "name": "stderr",
     "output_type": "stream",
     "text": [
      "C:\\Users\\Edgar\\anaconda3\\lib\\site-packages\\sklearn\\svm\\_base.py:976: ConvergenceWarning: Liblinear failed to converge, increase the number of iterations.\n",
      "  warnings.warn(\"Liblinear failed to converge, increase \"\n"
     ]
    },
    {
     "name": "stdout",
     "output_type": "stream",
     "text": [
      "[CV]  C=0.1, class_weight=None, dual=True, max_iter=1000, multi_class=crammer_singer, score=0.785, total= 2.9min\n",
      "[CV] C=0.5, class_weight=balanced, dual=False, max_iter=50, multi_class=ovr \n",
      "[CV]  C=0.5, class_weight=balanced, dual=False, max_iter=50, multi_class=ovr, score=0.821, total= 2.6min\n",
      "[CV] C=0.5, class_weight=balanced, dual=False, max_iter=50, multi_class=ovr \n",
      "[CV]  C=0.5, class_weight=balanced, dual=False, max_iter=50, multi_class=ovr, score=0.820, total= 2.7min\n",
      "[CV] C=0.5, class_weight=balanced, dual=False, max_iter=50, multi_class=ovr \n",
      "[CV]  C=0.5, class_weight=balanced, dual=False, max_iter=50, multi_class=ovr, score=0.819, total= 2.6min\n",
      "[CV] C=0.5, class_weight=balanced, dual=False, max_iter=50, multi_class=crammer_singer \n"
     ]
    },
    {
     "name": "stderr",
     "output_type": "stream",
     "text": [
      "C:\\Users\\Edgar\\anaconda3\\lib\\site-packages\\sklearn\\svm\\_base.py:976: ConvergenceWarning: Liblinear failed to converge, increase the number of iterations.\n",
      "  warnings.warn(\"Liblinear failed to converge, increase \"\n"
     ]
    },
    {
     "name": "stdout",
     "output_type": "stream",
     "text": [
      "[CV]  C=0.5, class_weight=balanced, dual=False, max_iter=50, multi_class=crammer_singer, score=0.811, total= 3.7min\n",
      "[CV] C=0.5, class_weight=balanced, dual=False, max_iter=50, multi_class=crammer_singer \n"
     ]
    },
    {
     "name": "stderr",
     "output_type": "stream",
     "text": [
      "C:\\Users\\Edgar\\anaconda3\\lib\\site-packages\\sklearn\\svm\\_base.py:976: ConvergenceWarning: Liblinear failed to converge, increase the number of iterations.\n",
      "  warnings.warn(\"Liblinear failed to converge, increase \"\n"
     ]
    },
    {
     "name": "stdout",
     "output_type": "stream",
     "text": [
      "[CV]  C=0.5, class_weight=balanced, dual=False, max_iter=50, multi_class=crammer_singer, score=0.811, total= 3.4min\n",
      "[CV] C=0.5, class_weight=balanced, dual=False, max_iter=50, multi_class=crammer_singer \n"
     ]
    },
    {
     "name": "stderr",
     "output_type": "stream",
     "text": [
      "C:\\Users\\Edgar\\anaconda3\\lib\\site-packages\\sklearn\\svm\\_base.py:976: ConvergenceWarning: Liblinear failed to converge, increase the number of iterations.\n",
      "  warnings.warn(\"Liblinear failed to converge, increase \"\n"
     ]
    },
    {
     "name": "stdout",
     "output_type": "stream",
     "text": [
      "[CV]  C=0.5, class_weight=balanced, dual=False, max_iter=50, multi_class=crammer_singer, score=0.809, total= 3.3min\n",
      "[CV] C=0.5, class_weight=balanced, dual=False, max_iter=100, multi_class=ovr \n",
      "[CV]  C=0.5, class_weight=balanced, dual=False, max_iter=100, multi_class=ovr, score=0.821, total= 2.6min\n",
      "[CV] C=0.5, class_weight=balanced, dual=False, max_iter=100, multi_class=ovr \n",
      "[CV]  C=0.5, class_weight=balanced, dual=False, max_iter=100, multi_class=ovr, score=0.820, total= 2.7min\n",
      "[CV] C=0.5, class_weight=balanced, dual=False, max_iter=100, multi_class=ovr \n",
      "[CV]  C=0.5, class_weight=balanced, dual=False, max_iter=100, multi_class=ovr, score=0.819, total= 2.7min\n",
      "[CV] C=0.5, class_weight=balanced, dual=False, max_iter=100, multi_class=crammer_singer \n"
     ]
    },
    {
     "name": "stderr",
     "output_type": "stream",
     "text": [
      "C:\\Users\\Edgar\\anaconda3\\lib\\site-packages\\sklearn\\svm\\_base.py:976: ConvergenceWarning: Liblinear failed to converge, increase the number of iterations.\n",
      "  warnings.warn(\"Liblinear failed to converge, increase \"\n"
     ]
    },
    {
     "name": "stdout",
     "output_type": "stream",
     "text": [
      "[CV]  C=0.5, class_weight=balanced, dual=False, max_iter=100, multi_class=crammer_singer, score=0.811, total= 3.8min\n",
      "[CV] C=0.5, class_weight=balanced, dual=False, max_iter=100, multi_class=crammer_singer \n"
     ]
    },
    {
     "name": "stderr",
     "output_type": "stream",
     "text": [
      "C:\\Users\\Edgar\\anaconda3\\lib\\site-packages\\sklearn\\svm\\_base.py:976: ConvergenceWarning: Liblinear failed to converge, increase the number of iterations.\n",
      "  warnings.warn(\"Liblinear failed to converge, increase \"\n"
     ]
    },
    {
     "name": "stdout",
     "output_type": "stream",
     "text": [
      "[CV]  C=0.5, class_weight=balanced, dual=False, max_iter=100, multi_class=crammer_singer, score=0.811, total= 4.1min\n",
      "[CV] C=0.5, class_weight=balanced, dual=False, max_iter=100, multi_class=crammer_singer \n"
     ]
    },
    {
     "name": "stderr",
     "output_type": "stream",
     "text": [
      "C:\\Users\\Edgar\\anaconda3\\lib\\site-packages\\sklearn\\svm\\_base.py:976: ConvergenceWarning: Liblinear failed to converge, increase the number of iterations.\n",
      "  warnings.warn(\"Liblinear failed to converge, increase \"\n"
     ]
    },
    {
     "name": "stdout",
     "output_type": "stream",
     "text": [
      "[CV]  C=0.5, class_weight=balanced, dual=False, max_iter=100, multi_class=crammer_singer, score=0.809, total= 3.0min\n",
      "[CV] C=0.5, class_weight=balanced, dual=False, max_iter=500, multi_class=ovr \n",
      "[CV]  C=0.5, class_weight=balanced, dual=False, max_iter=500, multi_class=ovr, score=0.821, total= 2.6min\n",
      "[CV] C=0.5, class_weight=balanced, dual=False, max_iter=500, multi_class=ovr \n",
      "[CV]  C=0.5, class_weight=balanced, dual=False, max_iter=500, multi_class=ovr, score=0.820, total= 2.5min\n",
      "[CV] C=0.5, class_weight=balanced, dual=False, max_iter=500, multi_class=ovr \n",
      "[CV]  C=0.5, class_weight=balanced, dual=False, max_iter=500, multi_class=ovr, score=0.819, total= 2.6min\n",
      "[CV] C=0.5, class_weight=balanced, dual=False, max_iter=500, multi_class=crammer_singer \n"
     ]
    },
    {
     "name": "stderr",
     "output_type": "stream",
     "text": [
      "C:\\Users\\Edgar\\anaconda3\\lib\\site-packages\\sklearn\\svm\\_base.py:976: ConvergenceWarning: Liblinear failed to converge, increase the number of iterations.\n",
      "  warnings.warn(\"Liblinear failed to converge, increase \"\n"
     ]
    },
    {
     "name": "stdout",
     "output_type": "stream",
     "text": [
      "[CV]  C=0.5, class_weight=balanced, dual=False, max_iter=500, multi_class=crammer_singer, score=0.811, total= 5.5min\n",
      "[CV] C=0.5, class_weight=balanced, dual=False, max_iter=500, multi_class=crammer_singer \n"
     ]
    },
    {
     "name": "stderr",
     "output_type": "stream",
     "text": [
      "C:\\Users\\Edgar\\anaconda3\\lib\\site-packages\\sklearn\\svm\\_base.py:976: ConvergenceWarning: Liblinear failed to converge, increase the number of iterations.\n",
      "  warnings.warn(\"Liblinear failed to converge, increase \"\n"
     ]
    },
    {
     "name": "stdout",
     "output_type": "stream",
     "text": [
      "[CV]  C=0.5, class_weight=balanced, dual=False, max_iter=500, multi_class=crammer_singer, score=0.811, total= 3.5min\n",
      "[CV] C=0.5, class_weight=balanced, dual=False, max_iter=500, multi_class=crammer_singer \n"
     ]
    },
    {
     "name": "stderr",
     "output_type": "stream",
     "text": [
      "C:\\Users\\Edgar\\anaconda3\\lib\\site-packages\\sklearn\\svm\\_base.py:976: ConvergenceWarning: Liblinear failed to converge, increase the number of iterations.\n",
      "  warnings.warn(\"Liblinear failed to converge, increase \"\n"
     ]
    },
    {
     "name": "stdout",
     "output_type": "stream",
     "text": [
      "[CV]  C=0.5, class_weight=balanced, dual=False, max_iter=500, multi_class=crammer_singer, score=0.809, total= 3.0min\n",
      "[CV] C=0.5, class_weight=balanced, dual=False, max_iter=1000, multi_class=ovr \n",
      "[CV]  C=0.5, class_weight=balanced, dual=False, max_iter=1000, multi_class=ovr, score=0.821, total= 2.6min\n",
      "[CV] C=0.5, class_weight=balanced, dual=False, max_iter=1000, multi_class=ovr \n",
      "[CV]  C=0.5, class_weight=balanced, dual=False, max_iter=1000, multi_class=ovr, score=0.820, total= 2.8min\n",
      "[CV] C=0.5, class_weight=balanced, dual=False, max_iter=1000, multi_class=ovr \n",
      "[CV]  C=0.5, class_weight=balanced, dual=False, max_iter=1000, multi_class=ovr, score=0.819, total= 2.7min\n",
      "[CV] C=0.5, class_weight=balanced, dual=False, max_iter=1000, multi_class=crammer_singer \n"
     ]
    },
    {
     "name": "stderr",
     "output_type": "stream",
     "text": [
      "C:\\Users\\Edgar\\anaconda3\\lib\\site-packages\\sklearn\\svm\\_base.py:976: ConvergenceWarning: Liblinear failed to converge, increase the number of iterations.\n",
      "  warnings.warn(\"Liblinear failed to converge, increase \"\n"
     ]
    },
    {
     "name": "stdout",
     "output_type": "stream",
     "text": [
      "[CV]  C=0.5, class_weight=balanced, dual=False, max_iter=1000, multi_class=crammer_singer, score=0.811, total= 3.5min\n",
      "[CV] C=0.5, class_weight=balanced, dual=False, max_iter=1000, multi_class=crammer_singer \n"
     ]
    },
    {
     "name": "stderr",
     "output_type": "stream",
     "text": [
      "C:\\Users\\Edgar\\anaconda3\\lib\\site-packages\\sklearn\\svm\\_base.py:976: ConvergenceWarning: Liblinear failed to converge, increase the number of iterations.\n",
      "  warnings.warn(\"Liblinear failed to converge, increase \"\n"
     ]
    },
    {
     "name": "stdout",
     "output_type": "stream",
     "text": [
      "[CV]  C=0.5, class_weight=balanced, dual=False, max_iter=1000, multi_class=crammer_singer, score=0.811, total= 4.5min\n",
      "[CV] C=0.5, class_weight=balanced, dual=False, max_iter=1000, multi_class=crammer_singer \n"
     ]
    },
    {
     "name": "stderr",
     "output_type": "stream",
     "text": [
      "C:\\Users\\Edgar\\anaconda3\\lib\\site-packages\\sklearn\\svm\\_base.py:976: ConvergenceWarning: Liblinear failed to converge, increase the number of iterations.\n",
      "  warnings.warn(\"Liblinear failed to converge, increase \"\n"
     ]
    },
    {
     "name": "stdout",
     "output_type": "stream",
     "text": [
      "[CV]  C=0.5, class_weight=balanced, dual=False, max_iter=1000, multi_class=crammer_singer, score=0.809, total= 3.1min\n",
      "[CV] C=0.5, class_weight=balanced, dual=True, max_iter=50, multi_class=ovr \n"
     ]
    },
    {
     "name": "stderr",
     "output_type": "stream",
     "text": [
      "C:\\Users\\Edgar\\anaconda3\\lib\\site-packages\\sklearn\\svm\\_base.py:976: ConvergenceWarning: Liblinear failed to converge, increase the number of iterations.\n",
      "  warnings.warn(\"Liblinear failed to converge, increase \"\n"
     ]
    },
    {
     "name": "stdout",
     "output_type": "stream",
     "text": [
      "[CV]  C=0.5, class_weight=balanced, dual=True, max_iter=50, multi_class=ovr, score=0.821, total= 2.5min\n",
      "[CV] C=0.5, class_weight=balanced, dual=True, max_iter=50, multi_class=ovr \n"
     ]
    },
    {
     "name": "stderr",
     "output_type": "stream",
     "text": [
      "C:\\Users\\Edgar\\anaconda3\\lib\\site-packages\\sklearn\\svm\\_base.py:976: ConvergenceWarning: Liblinear failed to converge, increase the number of iterations.\n",
      "  warnings.warn(\"Liblinear failed to converge, increase \"\n"
     ]
    },
    {
     "name": "stdout",
     "output_type": "stream",
     "text": [
      "[CV]  C=0.5, class_weight=balanced, dual=True, max_iter=50, multi_class=ovr, score=0.820, total= 2.6min\n",
      "[CV] C=0.5, class_weight=balanced, dual=True, max_iter=50, multi_class=ovr \n"
     ]
    },
    {
     "name": "stderr",
     "output_type": "stream",
     "text": [
      "C:\\Users\\Edgar\\anaconda3\\lib\\site-packages\\sklearn\\svm\\_base.py:976: ConvergenceWarning: Liblinear failed to converge, increase the number of iterations.\n",
      "  warnings.warn(\"Liblinear failed to converge, increase \"\n"
     ]
    },
    {
     "name": "stdout",
     "output_type": "stream",
     "text": [
      "[CV]  C=0.5, class_weight=balanced, dual=True, max_iter=50, multi_class=ovr, score=0.819, total= 2.5min\n",
      "[CV] C=0.5, class_weight=balanced, dual=True, max_iter=50, multi_class=crammer_singer \n"
     ]
    },
    {
     "name": "stderr",
     "output_type": "stream",
     "text": [
      "C:\\Users\\Edgar\\anaconda3\\lib\\site-packages\\sklearn\\svm\\_base.py:976: ConvergenceWarning: Liblinear failed to converge, increase the number of iterations.\n",
      "  warnings.warn(\"Liblinear failed to converge, increase \"\n"
     ]
    },
    {
     "name": "stdout",
     "output_type": "stream",
     "text": [
      "[CV]  C=0.5, class_weight=balanced, dual=True, max_iter=50, multi_class=crammer_singer, score=0.811, total= 3.2min\n",
      "[CV] C=0.5, class_weight=balanced, dual=True, max_iter=50, multi_class=crammer_singer \n"
     ]
    },
    {
     "name": "stderr",
     "output_type": "stream",
     "text": [
      "C:\\Users\\Edgar\\anaconda3\\lib\\site-packages\\sklearn\\svm\\_base.py:976: ConvergenceWarning: Liblinear failed to converge, increase the number of iterations.\n",
      "  warnings.warn(\"Liblinear failed to converge, increase \"\n"
     ]
    },
    {
     "name": "stdout",
     "output_type": "stream",
     "text": [
      "[CV]  C=0.5, class_weight=balanced, dual=True, max_iter=50, multi_class=crammer_singer, score=0.811, total= 4.3min\n",
      "[CV] C=0.5, class_weight=balanced, dual=True, max_iter=50, multi_class=crammer_singer \n"
     ]
    },
    {
     "name": "stderr",
     "output_type": "stream",
     "text": [
      "C:\\Users\\Edgar\\anaconda3\\lib\\site-packages\\sklearn\\svm\\_base.py:976: ConvergenceWarning: Liblinear failed to converge, increase the number of iterations.\n",
      "  warnings.warn(\"Liblinear failed to converge, increase \"\n"
     ]
    },
    {
     "name": "stdout",
     "output_type": "stream",
     "text": [
      "[CV]  C=0.5, class_weight=balanced, dual=True, max_iter=50, multi_class=crammer_singer, score=0.809, total= 3.4min\n",
      "[CV] C=0.5, class_weight=balanced, dual=True, max_iter=100, multi_class=ovr \n",
      "[CV]  C=0.5, class_weight=balanced, dual=True, max_iter=100, multi_class=ovr, score=0.821, total= 2.6min\n",
      "[CV] C=0.5, class_weight=balanced, dual=True, max_iter=100, multi_class=ovr \n",
      "[CV]  C=0.5, class_weight=balanced, dual=True, max_iter=100, multi_class=ovr, score=0.820, total= 2.6min\n",
      "[CV] C=0.5, class_weight=balanced, dual=True, max_iter=100, multi_class=ovr \n",
      "[CV]  C=0.5, class_weight=balanced, dual=True, max_iter=100, multi_class=ovr, score=0.819, total= 2.6min\n",
      "[CV] C=0.5, class_weight=balanced, dual=True, max_iter=100, multi_class=crammer_singer \n"
     ]
    },
    {
     "name": "stderr",
     "output_type": "stream",
     "text": [
      "C:\\Users\\Edgar\\anaconda3\\lib\\site-packages\\sklearn\\svm\\_base.py:976: ConvergenceWarning: Liblinear failed to converge, increase the number of iterations.\n",
      "  warnings.warn(\"Liblinear failed to converge, increase \"\n"
     ]
    },
    {
     "name": "stdout",
     "output_type": "stream",
     "text": [
      "[CV]  C=0.5, class_weight=balanced, dual=True, max_iter=100, multi_class=crammer_singer, score=0.811, total= 3.5min\n",
      "[CV] C=0.5, class_weight=balanced, dual=True, max_iter=100, multi_class=crammer_singer \n"
     ]
    },
    {
     "name": "stderr",
     "output_type": "stream",
     "text": [
      "C:\\Users\\Edgar\\anaconda3\\lib\\site-packages\\sklearn\\svm\\_base.py:976: ConvergenceWarning: Liblinear failed to converge, increase the number of iterations.\n",
      "  warnings.warn(\"Liblinear failed to converge, increase \"\n"
     ]
    },
    {
     "name": "stdout",
     "output_type": "stream",
     "text": [
      "[CV]  C=0.5, class_weight=balanced, dual=True, max_iter=100, multi_class=crammer_singer, score=0.811, total=48.6min\n",
      "[CV] C=0.5, class_weight=balanced, dual=True, max_iter=100, multi_class=crammer_singer \n"
     ]
    },
    {
     "name": "stderr",
     "output_type": "stream",
     "text": [
      "C:\\Users\\Edgar\\anaconda3\\lib\\site-packages\\sklearn\\svm\\_base.py:976: ConvergenceWarning: Liblinear failed to converge, increase the number of iterations.\n",
      "  warnings.warn(\"Liblinear failed to converge, increase \"\n"
     ]
    },
    {
     "name": "stdout",
     "output_type": "stream",
     "text": [
      "[CV]  C=0.5, class_weight=balanced, dual=True, max_iter=100, multi_class=crammer_singer, score=0.809, total=53.8min\n",
      "[CV] C=0.5, class_weight=balanced, dual=True, max_iter=500, multi_class=ovr \n",
      "[CV]  C=0.5, class_weight=balanced, dual=True, max_iter=500, multi_class=ovr, score=0.821, total=16.2min\n",
      "[CV] C=0.5, class_weight=balanced, dual=True, max_iter=500, multi_class=ovr \n",
      "[CV]  C=0.5, class_weight=balanced, dual=True, max_iter=500, multi_class=ovr, score=0.820, total= 2.4min\n",
      "[CV] C=0.5, class_weight=balanced, dual=True, max_iter=500, multi_class=ovr \n",
      "[CV]  C=0.5, class_weight=balanced, dual=True, max_iter=500, multi_class=ovr, score=0.819, total= 2.5min\n",
      "[CV] C=0.5, class_weight=balanced, dual=True, max_iter=500, multi_class=crammer_singer \n"
     ]
    },
    {
     "name": "stderr",
     "output_type": "stream",
     "text": [
      "C:\\Users\\Edgar\\anaconda3\\lib\\site-packages\\sklearn\\svm\\_base.py:976: ConvergenceWarning: Liblinear failed to converge, increase the number of iterations.\n",
      "  warnings.warn(\"Liblinear failed to converge, increase \"\n"
     ]
    },
    {
     "name": "stdout",
     "output_type": "stream",
     "text": [
      "[CV]  C=0.5, class_weight=balanced, dual=True, max_iter=500, multi_class=crammer_singer, score=0.811, total= 3.9min\n",
      "[CV] C=0.5, class_weight=balanced, dual=True, max_iter=500, multi_class=crammer_singer \n"
     ]
    },
    {
     "name": "stderr",
     "output_type": "stream",
     "text": [
      "C:\\Users\\Edgar\\anaconda3\\lib\\site-packages\\sklearn\\svm\\_base.py:976: ConvergenceWarning: Liblinear failed to converge, increase the number of iterations.\n",
      "  warnings.warn(\"Liblinear failed to converge, increase \"\n"
     ]
    },
    {
     "name": "stdout",
     "output_type": "stream",
     "text": [
      "[CV]  C=0.5, class_weight=balanced, dual=True, max_iter=500, multi_class=crammer_singer, score=0.811, total= 4.0min\n",
      "[CV] C=0.5, class_weight=balanced, dual=True, max_iter=500, multi_class=crammer_singer \n"
     ]
    },
    {
     "name": "stderr",
     "output_type": "stream",
     "text": [
      "C:\\Users\\Edgar\\anaconda3\\lib\\site-packages\\sklearn\\svm\\_base.py:976: ConvergenceWarning: Liblinear failed to converge, increase the number of iterations.\n",
      "  warnings.warn(\"Liblinear failed to converge, increase \"\n"
     ]
    },
    {
     "name": "stdout",
     "output_type": "stream",
     "text": [
      "[CV]  C=0.5, class_weight=balanced, dual=True, max_iter=500, multi_class=crammer_singer, score=0.809, total= 3.4min\n",
      "[CV] C=0.5, class_weight=balanced, dual=True, max_iter=1000, multi_class=ovr \n",
      "[CV]  C=0.5, class_weight=balanced, dual=True, max_iter=1000, multi_class=ovr, score=0.821, total= 2.8min\n",
      "[CV] C=0.5, class_weight=balanced, dual=True, max_iter=1000, multi_class=ovr \n",
      "[CV]  C=0.5, class_weight=balanced, dual=True, max_iter=1000, multi_class=ovr, score=0.820, total= 2.5min\n",
      "[CV] C=0.5, class_weight=balanced, dual=True, max_iter=1000, multi_class=ovr \n",
      "[CV]  C=0.5, class_weight=balanced, dual=True, max_iter=1000, multi_class=ovr, score=0.819, total= 2.5min\n",
      "[CV] C=0.5, class_weight=balanced, dual=True, max_iter=1000, multi_class=crammer_singer \n"
     ]
    },
    {
     "name": "stderr",
     "output_type": "stream",
     "text": [
      "C:\\Users\\Edgar\\anaconda3\\lib\\site-packages\\sklearn\\svm\\_base.py:976: ConvergenceWarning: Liblinear failed to converge, increase the number of iterations.\n",
      "  warnings.warn(\"Liblinear failed to converge, increase \"\n"
     ]
    },
    {
     "name": "stdout",
     "output_type": "stream",
     "text": [
      "[CV]  C=0.5, class_weight=balanced, dual=True, max_iter=1000, multi_class=crammer_singer, score=0.811, total= 3.5min\n",
      "[CV] C=0.5, class_weight=balanced, dual=True, max_iter=1000, multi_class=crammer_singer \n"
     ]
    },
    {
     "name": "stderr",
     "output_type": "stream",
     "text": [
      "C:\\Users\\Edgar\\anaconda3\\lib\\site-packages\\sklearn\\svm\\_base.py:976: ConvergenceWarning: Liblinear failed to converge, increase the number of iterations.\n",
      "  warnings.warn(\"Liblinear failed to converge, increase \"\n"
     ]
    },
    {
     "name": "stdout",
     "output_type": "stream",
     "text": [
      "[CV]  C=0.5, class_weight=balanced, dual=True, max_iter=1000, multi_class=crammer_singer, score=0.811, total= 3.6min\n",
      "[CV] C=0.5, class_weight=balanced, dual=True, max_iter=1000, multi_class=crammer_singer \n"
     ]
    },
    {
     "name": "stderr",
     "output_type": "stream",
     "text": [
      "C:\\Users\\Edgar\\anaconda3\\lib\\site-packages\\sklearn\\svm\\_base.py:976: ConvergenceWarning: Liblinear failed to converge, increase the number of iterations.\n",
      "  warnings.warn(\"Liblinear failed to converge, increase \"\n"
     ]
    },
    {
     "name": "stdout",
     "output_type": "stream",
     "text": [
      "[CV]  C=0.5, class_weight=balanced, dual=True, max_iter=1000, multi_class=crammer_singer, score=0.809, total= 3.5min\n",
      "[CV] C=0.5, class_weight=None, dual=False, max_iter=50, multi_class=ovr \n",
      "[CV]  C=0.5, class_weight=None, dual=False, max_iter=50, multi_class=ovr, score=0.821, total= 2.6min\n",
      "[CV] C=0.5, class_weight=None, dual=False, max_iter=50, multi_class=ovr \n",
      "[CV]  C=0.5, class_weight=None, dual=False, max_iter=50, multi_class=ovr, score=0.820, total= 2.7min\n",
      "[CV] C=0.5, class_weight=None, dual=False, max_iter=50, multi_class=ovr \n",
      "[CV]  C=0.5, class_weight=None, dual=False, max_iter=50, multi_class=ovr, score=0.819, total= 2.8min\n",
      "[CV] C=0.5, class_weight=None, dual=False, max_iter=50, multi_class=crammer_singer \n"
     ]
    },
    {
     "name": "stderr",
     "output_type": "stream",
     "text": [
      "C:\\Users\\Edgar\\anaconda3\\lib\\site-packages\\sklearn\\svm\\_base.py:976: ConvergenceWarning: Liblinear failed to converge, increase the number of iterations.\n",
      "  warnings.warn(\"Liblinear failed to converge, increase \"\n"
     ]
    },
    {
     "name": "stdout",
     "output_type": "stream",
     "text": [
      "[CV]  C=0.5, class_weight=None, dual=False, max_iter=50, multi_class=crammer_singer, score=0.819, total= 3.1min\n",
      "[CV] C=0.5, class_weight=None, dual=False, max_iter=50, multi_class=crammer_singer \n"
     ]
    },
    {
     "name": "stderr",
     "output_type": "stream",
     "text": [
      "C:\\Users\\Edgar\\anaconda3\\lib\\site-packages\\sklearn\\svm\\_base.py:976: ConvergenceWarning: Liblinear failed to converge, increase the number of iterations.\n",
      "  warnings.warn(\"Liblinear failed to converge, increase \"\n"
     ]
    },
    {
     "name": "stdout",
     "output_type": "stream",
     "text": [
      "[CV]  C=0.5, class_weight=None, dual=False, max_iter=50, multi_class=crammer_singer, score=0.820, total= 3.3min\n",
      "[CV] C=0.5, class_weight=None, dual=False, max_iter=50, multi_class=crammer_singer \n"
     ]
    },
    {
     "name": "stderr",
     "output_type": "stream",
     "text": [
      "C:\\Users\\Edgar\\anaconda3\\lib\\site-packages\\sklearn\\svm\\_base.py:976: ConvergenceWarning: Liblinear failed to converge, increase the number of iterations.\n",
      "  warnings.warn(\"Liblinear failed to converge, increase \"\n"
     ]
    },
    {
     "name": "stdout",
     "output_type": "stream",
     "text": [
      "[CV]  C=0.5, class_weight=None, dual=False, max_iter=50, multi_class=crammer_singer, score=0.818, total= 3.3min\n",
      "[CV] C=0.5, class_weight=None, dual=False, max_iter=100, multi_class=ovr \n",
      "[CV]  C=0.5, class_weight=None, dual=False, max_iter=100, multi_class=ovr, score=0.821, total= 2.7min\n",
      "[CV] C=0.5, class_weight=None, dual=False, max_iter=100, multi_class=ovr \n",
      "[CV]  C=0.5, class_weight=None, dual=False, max_iter=100, multi_class=ovr, score=0.820, total= 2.7min\n",
      "[CV] C=0.5, class_weight=None, dual=False, max_iter=100, multi_class=ovr \n",
      "[CV]  C=0.5, class_weight=None, dual=False, max_iter=100, multi_class=ovr, score=0.819, total= 2.6min\n",
      "[CV] C=0.5, class_weight=None, dual=False, max_iter=100, multi_class=crammer_singer \n"
     ]
    },
    {
     "name": "stderr",
     "output_type": "stream",
     "text": [
      "C:\\Users\\Edgar\\anaconda3\\lib\\site-packages\\sklearn\\svm\\_base.py:976: ConvergenceWarning: Liblinear failed to converge, increase the number of iterations.\n",
      "  warnings.warn(\"Liblinear failed to converge, increase \"\n"
     ]
    },
    {
     "name": "stdout",
     "output_type": "stream",
     "text": [
      "[CV]  C=0.5, class_weight=None, dual=False, max_iter=100, multi_class=crammer_singer, score=0.819, total= 3.1min\n",
      "[CV] C=0.5, class_weight=None, dual=False, max_iter=100, multi_class=crammer_singer \n"
     ]
    },
    {
     "name": "stderr",
     "output_type": "stream",
     "text": [
      "C:\\Users\\Edgar\\anaconda3\\lib\\site-packages\\sklearn\\svm\\_base.py:976: ConvergenceWarning: Liblinear failed to converge, increase the number of iterations.\n",
      "  warnings.warn(\"Liblinear failed to converge, increase \"\n"
     ]
    },
    {
     "name": "stdout",
     "output_type": "stream",
     "text": [
      "[CV]  C=0.5, class_weight=None, dual=False, max_iter=100, multi_class=crammer_singer, score=0.820, total= 3.8min\n",
      "[CV] C=0.5, class_weight=None, dual=False, max_iter=100, multi_class=crammer_singer \n"
     ]
    },
    {
     "name": "stderr",
     "output_type": "stream",
     "text": [
      "C:\\Users\\Edgar\\anaconda3\\lib\\site-packages\\sklearn\\svm\\_base.py:976: ConvergenceWarning: Liblinear failed to converge, increase the number of iterations.\n",
      "  warnings.warn(\"Liblinear failed to converge, increase \"\n"
     ]
    },
    {
     "name": "stdout",
     "output_type": "stream",
     "text": [
      "[CV]  C=0.5, class_weight=None, dual=False, max_iter=100, multi_class=crammer_singer, score=0.818, total= 3.2min\n",
      "[CV] C=0.5, class_weight=None, dual=False, max_iter=500, multi_class=ovr \n",
      "[CV]  C=0.5, class_weight=None, dual=False, max_iter=500, multi_class=ovr, score=0.821, total= 2.7min\n",
      "[CV] C=0.5, class_weight=None, dual=False, max_iter=500, multi_class=ovr \n",
      "[CV]  C=0.5, class_weight=None, dual=False, max_iter=500, multi_class=ovr, score=0.820, total= 2.8min\n",
      "[CV] C=0.5, class_weight=None, dual=False, max_iter=500, multi_class=ovr \n",
      "[CV]  C=0.5, class_weight=None, dual=False, max_iter=500, multi_class=ovr, score=0.819, total= 2.6min\n",
      "[CV] C=0.5, class_weight=None, dual=False, max_iter=500, multi_class=crammer_singer \n"
     ]
    },
    {
     "name": "stderr",
     "output_type": "stream",
     "text": [
      "C:\\Users\\Edgar\\anaconda3\\lib\\site-packages\\sklearn\\svm\\_base.py:976: ConvergenceWarning: Liblinear failed to converge, increase the number of iterations.\n",
      "  warnings.warn(\"Liblinear failed to converge, increase \"\n"
     ]
    },
    {
     "name": "stdout",
     "output_type": "stream",
     "text": [
      "[CV]  C=0.5, class_weight=None, dual=False, max_iter=500, multi_class=crammer_singer, score=0.819, total= 3.0min\n",
      "[CV] C=0.5, class_weight=None, dual=False, max_iter=500, multi_class=crammer_singer \n"
     ]
    },
    {
     "name": "stderr",
     "output_type": "stream",
     "text": [
      "C:\\Users\\Edgar\\anaconda3\\lib\\site-packages\\sklearn\\svm\\_base.py:976: ConvergenceWarning: Liblinear failed to converge, increase the number of iterations.\n",
      "  warnings.warn(\"Liblinear failed to converge, increase \"\n"
     ]
    },
    {
     "name": "stdout",
     "output_type": "stream",
     "text": [
      "[CV]  C=0.5, class_weight=None, dual=False, max_iter=500, multi_class=crammer_singer, score=0.820, total= 3.5min\n",
      "[CV] C=0.5, class_weight=None, dual=False, max_iter=500, multi_class=crammer_singer \n"
     ]
    },
    {
     "name": "stderr",
     "output_type": "stream",
     "text": [
      "C:\\Users\\Edgar\\anaconda3\\lib\\site-packages\\sklearn\\svm\\_base.py:976: ConvergenceWarning: Liblinear failed to converge, increase the number of iterations.\n",
      "  warnings.warn(\"Liblinear failed to converge, increase \"\n"
     ]
    },
    {
     "name": "stdout",
     "output_type": "stream",
     "text": [
      "[CV]  C=0.5, class_weight=None, dual=False, max_iter=500, multi_class=crammer_singer, score=0.818, total= 3.3min\n",
      "[CV] C=0.5, class_weight=None, dual=False, max_iter=1000, multi_class=ovr \n",
      "[CV]  C=0.5, class_weight=None, dual=False, max_iter=1000, multi_class=ovr, score=0.821, total= 2.7min\n",
      "[CV] C=0.5, class_weight=None, dual=False, max_iter=1000, multi_class=ovr \n",
      "[CV]  C=0.5, class_weight=None, dual=False, max_iter=1000, multi_class=ovr, score=0.820, total= 2.6min\n",
      "[CV] C=0.5, class_weight=None, dual=False, max_iter=1000, multi_class=ovr \n",
      "[CV]  C=0.5, class_weight=None, dual=False, max_iter=1000, multi_class=ovr, score=0.819, total= 2.7min\n",
      "[CV] C=0.5, class_weight=None, dual=False, max_iter=1000, multi_class=crammer_singer \n"
     ]
    },
    {
     "name": "stderr",
     "output_type": "stream",
     "text": [
      "C:\\Users\\Edgar\\anaconda3\\lib\\site-packages\\sklearn\\svm\\_base.py:976: ConvergenceWarning: Liblinear failed to converge, increase the number of iterations.\n",
      "  warnings.warn(\"Liblinear failed to converge, increase \"\n"
     ]
    },
    {
     "name": "stdout",
     "output_type": "stream",
     "text": [
      "[CV]  C=0.5, class_weight=None, dual=False, max_iter=1000, multi_class=crammer_singer, score=0.819, total= 3.0min\n",
      "[CV] C=0.5, class_weight=None, dual=False, max_iter=1000, multi_class=crammer_singer \n"
     ]
    },
    {
     "name": "stderr",
     "output_type": "stream",
     "text": [
      "C:\\Users\\Edgar\\anaconda3\\lib\\site-packages\\sklearn\\svm\\_base.py:976: ConvergenceWarning: Liblinear failed to converge, increase the number of iterations.\n",
      "  warnings.warn(\"Liblinear failed to converge, increase \"\n"
     ]
    },
    {
     "name": "stdout",
     "output_type": "stream",
     "text": [
      "[CV]  C=0.5, class_weight=None, dual=False, max_iter=1000, multi_class=crammer_singer, score=0.820, total= 4.3min\n",
      "[CV] C=0.5, class_weight=None, dual=False, max_iter=1000, multi_class=crammer_singer \n"
     ]
    },
    {
     "name": "stderr",
     "output_type": "stream",
     "text": [
      "C:\\Users\\Edgar\\anaconda3\\lib\\site-packages\\sklearn\\svm\\_base.py:976: ConvergenceWarning: Liblinear failed to converge, increase the number of iterations.\n",
      "  warnings.warn(\"Liblinear failed to converge, increase \"\n"
     ]
    },
    {
     "name": "stdout",
     "output_type": "stream",
     "text": [
      "[CV]  C=0.5, class_weight=None, dual=False, max_iter=1000, multi_class=crammer_singer, score=0.818, total= 3.0min\n",
      "[CV] C=0.5, class_weight=None, dual=True, max_iter=50, multi_class=ovr \n",
      "[CV]  C=0.5, class_weight=None, dual=True, max_iter=50, multi_class=ovr, score=0.821, total= 2.5min\n",
      "[CV] C=0.5, class_weight=None, dual=True, max_iter=50, multi_class=ovr \n",
      "[CV]  C=0.5, class_weight=None, dual=True, max_iter=50, multi_class=ovr, score=0.820, total= 2.5min\n",
      "[CV] C=0.5, class_weight=None, dual=True, max_iter=50, multi_class=ovr \n",
      "[CV]  C=0.5, class_weight=None, dual=True, max_iter=50, multi_class=ovr, score=0.819, total= 2.6min\n",
      "[CV] C=0.5, class_weight=None, dual=True, max_iter=50, multi_class=crammer_singer \n"
     ]
    },
    {
     "name": "stderr",
     "output_type": "stream",
     "text": [
      "C:\\Users\\Edgar\\anaconda3\\lib\\site-packages\\sklearn\\svm\\_base.py:976: ConvergenceWarning: Liblinear failed to converge, increase the number of iterations.\n",
      "  warnings.warn(\"Liblinear failed to converge, increase \"\n"
     ]
    },
    {
     "name": "stdout",
     "output_type": "stream",
     "text": [
      "[CV]  C=0.5, class_weight=None, dual=True, max_iter=50, multi_class=crammer_singer, score=0.819, total= 3.5min\n",
      "[CV] C=0.5, class_weight=None, dual=True, max_iter=50, multi_class=crammer_singer \n"
     ]
    },
    {
     "name": "stderr",
     "output_type": "stream",
     "text": [
      "C:\\Users\\Edgar\\anaconda3\\lib\\site-packages\\sklearn\\svm\\_base.py:976: ConvergenceWarning: Liblinear failed to converge, increase the number of iterations.\n",
      "  warnings.warn(\"Liblinear failed to converge, increase \"\n"
     ]
    },
    {
     "name": "stdout",
     "output_type": "stream",
     "text": [
      "[CV]  C=0.5, class_weight=None, dual=True, max_iter=50, multi_class=crammer_singer, score=0.820, total= 3.9min\n",
      "[CV] C=0.5, class_weight=None, dual=True, max_iter=50, multi_class=crammer_singer \n"
     ]
    },
    {
     "name": "stderr",
     "output_type": "stream",
     "text": [
      "C:\\Users\\Edgar\\anaconda3\\lib\\site-packages\\sklearn\\svm\\_base.py:976: ConvergenceWarning: Liblinear failed to converge, increase the number of iterations.\n",
      "  warnings.warn(\"Liblinear failed to converge, increase \"\n"
     ]
    },
    {
     "name": "stdout",
     "output_type": "stream",
     "text": [
      "[CV]  C=0.5, class_weight=None, dual=True, max_iter=50, multi_class=crammer_singer, score=0.818, total= 3.4min\n",
      "[CV] C=0.5, class_weight=None, dual=True, max_iter=100, multi_class=ovr \n",
      "[CV]  C=0.5, class_weight=None, dual=True, max_iter=100, multi_class=ovr, score=0.821, total= 2.5min\n",
      "[CV] C=0.5, class_weight=None, dual=True, max_iter=100, multi_class=ovr \n",
      "[CV]  C=0.5, class_weight=None, dual=True, max_iter=100, multi_class=ovr, score=0.820, total= 2.5min\n",
      "[CV] C=0.5, class_weight=None, dual=True, max_iter=100, multi_class=ovr \n",
      "[CV]  C=0.5, class_weight=None, dual=True, max_iter=100, multi_class=ovr, score=0.819, total= 2.5min\n",
      "[CV] C=0.5, class_weight=None, dual=True, max_iter=100, multi_class=crammer_singer \n"
     ]
    },
    {
     "name": "stderr",
     "output_type": "stream",
     "text": [
      "C:\\Users\\Edgar\\anaconda3\\lib\\site-packages\\sklearn\\svm\\_base.py:976: ConvergenceWarning: Liblinear failed to converge, increase the number of iterations.\n",
      "  warnings.warn(\"Liblinear failed to converge, increase \"\n"
     ]
    },
    {
     "name": "stdout",
     "output_type": "stream",
     "text": [
      "[CV]  C=0.5, class_weight=None, dual=True, max_iter=100, multi_class=crammer_singer, score=0.819, total= 3.1min\n",
      "[CV] C=0.5, class_weight=None, dual=True, max_iter=100, multi_class=crammer_singer \n"
     ]
    },
    {
     "name": "stderr",
     "output_type": "stream",
     "text": [
      "C:\\Users\\Edgar\\anaconda3\\lib\\site-packages\\sklearn\\svm\\_base.py:976: ConvergenceWarning: Liblinear failed to converge, increase the number of iterations.\n",
      "  warnings.warn(\"Liblinear failed to converge, increase \"\n"
     ]
    },
    {
     "name": "stdout",
     "output_type": "stream",
     "text": [
      "[CV]  C=0.5, class_weight=None, dual=True, max_iter=100, multi_class=crammer_singer, score=0.820, total= 3.8min\n",
      "[CV] C=0.5, class_weight=None, dual=True, max_iter=100, multi_class=crammer_singer \n"
     ]
    },
    {
     "name": "stderr",
     "output_type": "stream",
     "text": [
      "C:\\Users\\Edgar\\anaconda3\\lib\\site-packages\\sklearn\\svm\\_base.py:976: ConvergenceWarning: Liblinear failed to converge, increase the number of iterations.\n",
      "  warnings.warn(\"Liblinear failed to converge, increase \"\n"
     ]
    },
    {
     "name": "stdout",
     "output_type": "stream",
     "text": [
      "[CV]  C=0.5, class_weight=None, dual=True, max_iter=100, multi_class=crammer_singer, score=0.818, total= 3.4min\n",
      "[CV] C=0.5, class_weight=None, dual=True, max_iter=500, multi_class=ovr \n",
      "[CV]  C=0.5, class_weight=None, dual=True, max_iter=500, multi_class=ovr, score=0.821, total= 2.6min\n",
      "[CV] C=0.5, class_weight=None, dual=True, max_iter=500, multi_class=ovr \n",
      "[CV]  C=0.5, class_weight=None, dual=True, max_iter=500, multi_class=ovr, score=0.820, total= 2.6min\n",
      "[CV] C=0.5, class_weight=None, dual=True, max_iter=500, multi_class=ovr \n",
      "[CV]  C=0.5, class_weight=None, dual=True, max_iter=500, multi_class=ovr, score=0.819, total= 2.5min\n",
      "[CV] C=0.5, class_weight=None, dual=True, max_iter=500, multi_class=crammer_singer \n"
     ]
    },
    {
     "name": "stderr",
     "output_type": "stream",
     "text": [
      "C:\\Users\\Edgar\\anaconda3\\lib\\site-packages\\sklearn\\svm\\_base.py:976: ConvergenceWarning: Liblinear failed to converge, increase the number of iterations.\n",
      "  warnings.warn(\"Liblinear failed to converge, increase \"\n"
     ]
    },
    {
     "name": "stdout",
     "output_type": "stream",
     "text": [
      "[CV]  C=0.5, class_weight=None, dual=True, max_iter=500, multi_class=crammer_singer, score=0.819, total= 3.3min\n",
      "[CV] C=0.5, class_weight=None, dual=True, max_iter=500, multi_class=crammer_singer \n"
     ]
    },
    {
     "name": "stderr",
     "output_type": "stream",
     "text": [
      "C:\\Users\\Edgar\\anaconda3\\lib\\site-packages\\sklearn\\svm\\_base.py:976: ConvergenceWarning: Liblinear failed to converge, increase the number of iterations.\n",
      "  warnings.warn(\"Liblinear failed to converge, increase \"\n"
     ]
    },
    {
     "name": "stdout",
     "output_type": "stream",
     "text": [
      "[CV]  C=0.5, class_weight=None, dual=True, max_iter=500, multi_class=crammer_singer, score=0.820, total= 3.6min\n",
      "[CV] C=0.5, class_weight=None, dual=True, max_iter=500, multi_class=crammer_singer \n"
     ]
    },
    {
     "name": "stderr",
     "output_type": "stream",
     "text": [
      "C:\\Users\\Edgar\\anaconda3\\lib\\site-packages\\sklearn\\svm\\_base.py:976: ConvergenceWarning: Liblinear failed to converge, increase the number of iterations.\n",
      "  warnings.warn(\"Liblinear failed to converge, increase \"\n"
     ]
    },
    {
     "name": "stdout",
     "output_type": "stream",
     "text": [
      "[CV]  C=0.5, class_weight=None, dual=True, max_iter=500, multi_class=crammer_singer, score=0.818, total= 3.3min\n",
      "[CV] C=0.5, class_weight=None, dual=True, max_iter=1000, multi_class=ovr \n",
      "[CV]  C=0.5, class_weight=None, dual=True, max_iter=1000, multi_class=ovr, score=0.821, total= 2.6min\n",
      "[CV] C=0.5, class_weight=None, dual=True, max_iter=1000, multi_class=ovr \n",
      "[CV]  C=0.5, class_weight=None, dual=True, max_iter=1000, multi_class=ovr, score=0.820, total= 2.6min\n",
      "[CV] C=0.5, class_weight=None, dual=True, max_iter=1000, multi_class=ovr \n",
      "[CV]  C=0.5, class_weight=None, dual=True, max_iter=1000, multi_class=ovr, score=0.819, total= 2.5min\n",
      "[CV] C=0.5, class_weight=None, dual=True, max_iter=1000, multi_class=crammer_singer \n"
     ]
    },
    {
     "name": "stderr",
     "output_type": "stream",
     "text": [
      "C:\\Users\\Edgar\\anaconda3\\lib\\site-packages\\sklearn\\svm\\_base.py:976: ConvergenceWarning: Liblinear failed to converge, increase the number of iterations.\n",
      "  warnings.warn(\"Liblinear failed to converge, increase \"\n"
     ]
    },
    {
     "name": "stdout",
     "output_type": "stream",
     "text": [
      "[CV]  C=0.5, class_weight=None, dual=True, max_iter=1000, multi_class=crammer_singer, score=0.819, total= 3.0min\n",
      "[CV] C=0.5, class_weight=None, dual=True, max_iter=1000, multi_class=crammer_singer \n"
     ]
    },
    {
     "name": "stderr",
     "output_type": "stream",
     "text": [
      "C:\\Users\\Edgar\\anaconda3\\lib\\site-packages\\sklearn\\svm\\_base.py:976: ConvergenceWarning: Liblinear failed to converge, increase the number of iterations.\n",
      "  warnings.warn(\"Liblinear failed to converge, increase \"\n"
     ]
    },
    {
     "name": "stdout",
     "output_type": "stream",
     "text": [
      "[CV]  C=0.5, class_weight=None, dual=True, max_iter=1000, multi_class=crammer_singer, score=0.820, total= 3.7min\n",
      "[CV] C=0.5, class_weight=None, dual=True, max_iter=1000, multi_class=crammer_singer \n"
     ]
    },
    {
     "name": "stderr",
     "output_type": "stream",
     "text": [
      "C:\\Users\\Edgar\\anaconda3\\lib\\site-packages\\sklearn\\svm\\_base.py:976: ConvergenceWarning: Liblinear failed to converge, increase the number of iterations.\n",
      "  warnings.warn(\"Liblinear failed to converge, increase \"\n"
     ]
    },
    {
     "name": "stdout",
     "output_type": "stream",
     "text": [
      "[CV]  C=0.5, class_weight=None, dual=True, max_iter=1000, multi_class=crammer_singer, score=0.818, total= 3.4min\n"
     ]
    },
    {
     "name": "stderr",
     "output_type": "stream",
     "text": [
      "[Parallel(n_jobs=1)]: Done 288 out of 288 | elapsed: 894.0min finished\n"
     ]
    },
    {
     "name": "stdout",
     "output_type": "stream",
     "text": [
      "0.8200530736890056\n",
      "{'C': 0.5, 'class_weight': None, 'dual': False, 'max_iter': 50, 'multi_class': 'ovr'}\n"
     ]
    }
   ],
   "source": [
    "from sklearn.svm import LinearSVC\n",
    "\n",
    "model = LinearSVC(penalty=\"l2\", dual=True)\n",
    "\n",
    "param_grid = {\n",
    "    'dual':[False,True],\n",
    "    'multi_class':['ovr', 'crammer_singer'],\n",
    "    'C':[0.01,0.1,0.5],\n",
    "    'max_iter':[50,100,500,1000],\n",
    "    'class_weight':['balanced',None]\n",
    "    }\n",
    "\n",
    "model, pred = algorithm_pipeline(X_train_tf, X_test_tf, y_train, y_test, model, \n",
    "                                 param_grid, cv=3, scoring_fit='f1_weighted')\n",
    "\n",
    "print(model.best_score_)\n",
    "print(model.best_params_)"
   ]
  },
  {
   "cell_type": "code",
   "execution_count": 9,
   "metadata": {},
   "outputs": [
    {
     "name": "stdout",
     "output_type": "stream",
     "text": [
      "Best score: 0.8200530736890056 with hyperparameters: {'C': 0.5, 'class_weight': None, 'dual': False, 'max_iter': 50, 'multi_class': 'ovr'}\n"
     ]
    }
   ],
   "source": [
    "print('Best score:' ,model.best_score_, 'with hyperparameters:', model.best_params_)"
   ]
  },
  {
   "cell_type": "markdown",
   "metadata": {},
   "source": [
    "On va essayer d'ajuster encore plus ces hyperparamettres autour du Best Score:"
   ]
  },
  {
   "cell_type": "code",
   "execution_count": 10,
   "metadata": {},
   "outputs": [
    {
     "name": "stdout",
     "output_type": "stream",
     "text": [
      "Fitting 3 folds for each of 25 candidates, totalling 75 fits\n",
      "[CV] C=0.3, class_weight=None, dual=False, max_iter=30, multi_class=ovr \n"
     ]
    },
    {
     "name": "stderr",
     "output_type": "stream",
     "text": [
      "[Parallel(n_jobs=1)]: Using backend SequentialBackend with 1 concurrent workers.\n"
     ]
    },
    {
     "name": "stdout",
     "output_type": "stream",
     "text": [
      "[CV]  C=0.3, class_weight=None, dual=False, max_iter=30, multi_class=ovr, score=0.819, total= 3.2min\n",
      "[CV] C=0.3, class_weight=None, dual=False, max_iter=30, multi_class=ovr \n"
     ]
    },
    {
     "name": "stderr",
     "output_type": "stream",
     "text": [
      "[Parallel(n_jobs=1)]: Done   1 out of   1 | elapsed:  3.2min remaining:    0.0s\n"
     ]
    },
    {
     "name": "stdout",
     "output_type": "stream",
     "text": [
      "[CV]  C=0.3, class_weight=None, dual=False, max_iter=30, multi_class=ovr, score=0.819, total= 2.7min\n",
      "[CV] C=0.3, class_weight=None, dual=False, max_iter=30, multi_class=ovr \n"
     ]
    },
    {
     "name": "stderr",
     "output_type": "stream",
     "text": [
      "[Parallel(n_jobs=1)]: Done   2 out of   2 | elapsed:  5.9min remaining:    0.0s\n"
     ]
    },
    {
     "name": "stdout",
     "output_type": "stream",
     "text": [
      "[CV]  C=0.3, class_weight=None, dual=False, max_iter=30, multi_class=ovr, score=0.817, total= 2.6min\n",
      "[CV] C=0.3, class_weight=None, dual=False, max_iter=40, multi_class=ovr \n",
      "[CV]  C=0.3, class_weight=None, dual=False, max_iter=40, multi_class=ovr, score=0.819, total= 2.7min\n",
      "[CV] C=0.3, class_weight=None, dual=False, max_iter=40, multi_class=ovr \n",
      "[CV]  C=0.3, class_weight=None, dual=False, max_iter=40, multi_class=ovr, score=0.819, total= 2.7min\n",
      "[CV] C=0.3, class_weight=None, dual=False, max_iter=40, multi_class=ovr \n",
      "[CV]  C=0.3, class_weight=None, dual=False, max_iter=40, multi_class=ovr, score=0.817, total= 2.6min\n",
      "[CV] C=0.3, class_weight=None, dual=False, max_iter=50, multi_class=ovr \n",
      "[CV]  C=0.3, class_weight=None, dual=False, max_iter=50, multi_class=ovr, score=0.819, total= 2.8min\n",
      "[CV] C=0.3, class_weight=None, dual=False, max_iter=50, multi_class=ovr \n",
      "[CV]  C=0.3, class_weight=None, dual=False, max_iter=50, multi_class=ovr, score=0.819, total= 2.7min\n",
      "[CV] C=0.3, class_weight=None, dual=False, max_iter=50, multi_class=ovr \n",
      "[CV]  C=0.3, class_weight=None, dual=False, max_iter=50, multi_class=ovr, score=0.817, total= 4.7min\n",
      "[CV] C=0.3, class_weight=None, dual=False, max_iter=60, multi_class=ovr \n",
      "[CV]  C=0.3, class_weight=None, dual=False, max_iter=60, multi_class=ovr, score=0.819, total= 3.1min\n",
      "[CV] C=0.3, class_weight=None, dual=False, max_iter=60, multi_class=ovr \n",
      "[CV]  C=0.3, class_weight=None, dual=False, max_iter=60, multi_class=ovr, score=0.819, total= 2.7min\n",
      "[CV] C=0.3, class_weight=None, dual=False, max_iter=60, multi_class=ovr \n",
      "[CV]  C=0.3, class_weight=None, dual=False, max_iter=60, multi_class=ovr, score=0.817, total= 2.8min\n",
      "[CV] C=0.3, class_weight=None, dual=False, max_iter=70, multi_class=ovr \n",
      "[CV]  C=0.3, class_weight=None, dual=False, max_iter=70, multi_class=ovr, score=0.819, total= 2.7min\n",
      "[CV] C=0.3, class_weight=None, dual=False, max_iter=70, multi_class=ovr \n",
      "[CV]  C=0.3, class_weight=None, dual=False, max_iter=70, multi_class=ovr, score=0.819, total= 2.8min\n",
      "[CV] C=0.3, class_weight=None, dual=False, max_iter=70, multi_class=ovr \n",
      "[CV]  C=0.3, class_weight=None, dual=False, max_iter=70, multi_class=ovr, score=0.817, total= 2.8min\n",
      "[CV] C=0.4, class_weight=None, dual=False, max_iter=30, multi_class=ovr \n",
      "[CV]  C=0.4, class_weight=None, dual=False, max_iter=30, multi_class=ovr, score=0.821, total= 2.8min\n",
      "[CV] C=0.4, class_weight=None, dual=False, max_iter=30, multi_class=ovr \n",
      "[CV]  C=0.4, class_weight=None, dual=False, max_iter=30, multi_class=ovr, score=0.820, total= 2.8min\n",
      "[CV] C=0.4, class_weight=None, dual=False, max_iter=30, multi_class=ovr \n",
      "[CV]  C=0.4, class_weight=None, dual=False, max_iter=30, multi_class=ovr, score=0.818, total= 2.7min\n",
      "[CV] C=0.4, class_weight=None, dual=False, max_iter=40, multi_class=ovr \n",
      "[CV]  C=0.4, class_weight=None, dual=False, max_iter=40, multi_class=ovr, score=0.821, total= 2.9min\n",
      "[CV] C=0.4, class_weight=None, dual=False, max_iter=40, multi_class=ovr \n",
      "[CV]  C=0.4, class_weight=None, dual=False, max_iter=40, multi_class=ovr, score=0.820, total= 2.7min\n",
      "[CV] C=0.4, class_weight=None, dual=False, max_iter=40, multi_class=ovr \n",
      "[CV]  C=0.4, class_weight=None, dual=False, max_iter=40, multi_class=ovr, score=0.818, total= 2.7min\n",
      "[CV] C=0.4, class_weight=None, dual=False, max_iter=50, multi_class=ovr \n",
      "[CV]  C=0.4, class_weight=None, dual=False, max_iter=50, multi_class=ovr, score=0.821, total= 2.8min\n",
      "[CV] C=0.4, class_weight=None, dual=False, max_iter=50, multi_class=ovr \n",
      "[CV]  C=0.4, class_weight=None, dual=False, max_iter=50, multi_class=ovr, score=0.820, total= 2.8min\n",
      "[CV] C=0.4, class_weight=None, dual=False, max_iter=50, multi_class=ovr \n",
      "[CV]  C=0.4, class_weight=None, dual=False, max_iter=50, multi_class=ovr, score=0.818, total= 2.7min\n",
      "[CV] C=0.4, class_weight=None, dual=False, max_iter=60, multi_class=ovr \n",
      "[CV]  C=0.4, class_weight=None, dual=False, max_iter=60, multi_class=ovr, score=0.821, total= 2.8min\n",
      "[CV] C=0.4, class_weight=None, dual=False, max_iter=60, multi_class=ovr \n",
      "[CV]  C=0.4, class_weight=None, dual=False, max_iter=60, multi_class=ovr, score=0.820, total= 2.8min\n",
      "[CV] C=0.4, class_weight=None, dual=False, max_iter=60, multi_class=ovr \n",
      "[CV]  C=0.4, class_weight=None, dual=False, max_iter=60, multi_class=ovr, score=0.818, total= 2.8min\n",
      "[CV] C=0.4, class_weight=None, dual=False, max_iter=70, multi_class=ovr \n",
      "[CV]  C=0.4, class_weight=None, dual=False, max_iter=70, multi_class=ovr, score=0.821, total= 2.8min\n",
      "[CV] C=0.4, class_weight=None, dual=False, max_iter=70, multi_class=ovr \n",
      "[CV]  C=0.4, class_weight=None, dual=False, max_iter=70, multi_class=ovr, score=0.820, total= 2.8min\n",
      "[CV] C=0.4, class_weight=None, dual=False, max_iter=70, multi_class=ovr \n",
      "[CV]  C=0.4, class_weight=None, dual=False, max_iter=70, multi_class=ovr, score=0.818, total= 4.1min\n",
      "[CV] C=0.5, class_weight=None, dual=False, max_iter=30, multi_class=ovr \n",
      "[CV]  C=0.5, class_weight=None, dual=False, max_iter=30, multi_class=ovr, score=0.821, total= 2.9min\n",
      "[CV] C=0.5, class_weight=None, dual=False, max_iter=30, multi_class=ovr \n",
      "[CV]  C=0.5, class_weight=None, dual=False, max_iter=30, multi_class=ovr, score=0.820, total= 2.8min\n",
      "[CV] C=0.5, class_weight=None, dual=False, max_iter=30, multi_class=ovr \n",
      "[CV]  C=0.5, class_weight=None, dual=False, max_iter=30, multi_class=ovr, score=0.819, total= 2.9min\n",
      "[CV] C=0.5, class_weight=None, dual=False, max_iter=40, multi_class=ovr \n",
      "[CV]  C=0.5, class_weight=None, dual=False, max_iter=40, multi_class=ovr, score=0.821, total= 2.8min\n",
      "[CV] C=0.5, class_weight=None, dual=False, max_iter=40, multi_class=ovr \n",
      "[CV]  C=0.5, class_weight=None, dual=False, max_iter=40, multi_class=ovr, score=0.820, total= 2.8min\n",
      "[CV] C=0.5, class_weight=None, dual=False, max_iter=40, multi_class=ovr \n",
      "[CV]  C=0.5, class_weight=None, dual=False, max_iter=40, multi_class=ovr, score=0.819, total= 2.9min\n",
      "[CV] C=0.5, class_weight=None, dual=False, max_iter=50, multi_class=ovr \n",
      "[CV]  C=0.5, class_weight=None, dual=False, max_iter=50, multi_class=ovr, score=0.821, total= 2.8min\n",
      "[CV] C=0.5, class_weight=None, dual=False, max_iter=50, multi_class=ovr \n",
      "[CV]  C=0.5, class_weight=None, dual=False, max_iter=50, multi_class=ovr, score=0.820, total= 2.8min\n",
      "[CV] C=0.5, class_weight=None, dual=False, max_iter=50, multi_class=ovr \n",
      "[CV]  C=0.5, class_weight=None, dual=False, max_iter=50, multi_class=ovr, score=0.819, total= 2.8min\n",
      "[CV] C=0.5, class_weight=None, dual=False, max_iter=60, multi_class=ovr \n",
      "[CV]  C=0.5, class_weight=None, dual=False, max_iter=60, multi_class=ovr, score=0.821, total= 2.9min\n",
      "[CV] C=0.5, class_weight=None, dual=False, max_iter=60, multi_class=ovr \n",
      "[CV]  C=0.5, class_weight=None, dual=False, max_iter=60, multi_class=ovr, score=0.820, total= 2.8min\n",
      "[CV] C=0.5, class_weight=None, dual=False, max_iter=60, multi_class=ovr \n",
      "[CV]  C=0.5, class_weight=None, dual=False, max_iter=60, multi_class=ovr, score=0.819, total= 2.9min\n",
      "[CV] C=0.5, class_weight=None, dual=False, max_iter=70, multi_class=ovr \n",
      "[CV]  C=0.5, class_weight=None, dual=False, max_iter=70, multi_class=ovr, score=0.821, total= 2.8min\n",
      "[CV] C=0.5, class_weight=None, dual=False, max_iter=70, multi_class=ovr \n",
      "[CV]  C=0.5, class_weight=None, dual=False, max_iter=70, multi_class=ovr, score=0.820, total= 2.9min\n",
      "[CV] C=0.5, class_weight=None, dual=False, max_iter=70, multi_class=ovr \n",
      "[CV]  C=0.5, class_weight=None, dual=False, max_iter=70, multi_class=ovr, score=0.819, total= 2.8min\n",
      "[CV] C=0.6, class_weight=None, dual=False, max_iter=30, multi_class=ovr \n",
      "[CV]  C=0.6, class_weight=None, dual=False, max_iter=30, multi_class=ovr, score=0.821, total= 2.7min\n",
      "[CV] C=0.6, class_weight=None, dual=False, max_iter=30, multi_class=ovr \n",
      "[CV]  C=0.6, class_weight=None, dual=False, max_iter=30, multi_class=ovr, score=0.822, total= 2.8min\n",
      "[CV] C=0.6, class_weight=None, dual=False, max_iter=30, multi_class=ovr \n",
      "[CV]  C=0.6, class_weight=None, dual=False, max_iter=30, multi_class=ovr, score=0.820, total= 2.8min\n",
      "[CV] C=0.6, class_weight=None, dual=False, max_iter=40, multi_class=ovr \n",
      "[CV]  C=0.6, class_weight=None, dual=False, max_iter=40, multi_class=ovr, score=0.821, total= 2.7min\n",
      "[CV] C=0.6, class_weight=None, dual=False, max_iter=40, multi_class=ovr \n",
      "[CV]  C=0.6, class_weight=None, dual=False, max_iter=40, multi_class=ovr, score=0.822, total= 2.9min\n",
      "[CV] C=0.6, class_weight=None, dual=False, max_iter=40, multi_class=ovr \n",
      "[CV]  C=0.6, class_weight=None, dual=False, max_iter=40, multi_class=ovr, score=0.820, total= 2.7min\n",
      "[CV] C=0.6, class_weight=None, dual=False, max_iter=50, multi_class=ovr \n",
      "[CV]  C=0.6, class_weight=None, dual=False, max_iter=50, multi_class=ovr, score=0.821, total= 2.9min\n",
      "[CV] C=0.6, class_weight=None, dual=False, max_iter=50, multi_class=ovr \n",
      "[CV]  C=0.6, class_weight=None, dual=False, max_iter=50, multi_class=ovr, score=0.822, total= 2.7min\n",
      "[CV] C=0.6, class_weight=None, dual=False, max_iter=50, multi_class=ovr \n",
      "[CV]  C=0.6, class_weight=None, dual=False, max_iter=50, multi_class=ovr, score=0.820, total= 3.0min\n",
      "[CV] C=0.6, class_weight=None, dual=False, max_iter=60, multi_class=ovr \n",
      "[CV]  C=0.6, class_weight=None, dual=False, max_iter=60, multi_class=ovr, score=0.821, total= 2.9min\n",
      "[CV] C=0.6, class_weight=None, dual=False, max_iter=60, multi_class=ovr \n",
      "[CV]  C=0.6, class_weight=None, dual=False, max_iter=60, multi_class=ovr, score=0.822, total= 2.8min\n",
      "[CV] C=0.6, class_weight=None, dual=False, max_iter=60, multi_class=ovr \n",
      "[CV]  C=0.6, class_weight=None, dual=False, max_iter=60, multi_class=ovr, score=0.820, total= 3.4min\n",
      "[CV] C=0.6, class_weight=None, dual=False, max_iter=70, multi_class=ovr \n",
      "[CV]  C=0.6, class_weight=None, dual=False, max_iter=70, multi_class=ovr, score=0.821, total= 2.8min\n",
      "[CV] C=0.6, class_weight=None, dual=False, max_iter=70, multi_class=ovr \n",
      "[CV]  C=0.6, class_weight=None, dual=False, max_iter=70, multi_class=ovr, score=0.822, total= 2.9min\n",
      "[CV] C=0.6, class_weight=None, dual=False, max_iter=70, multi_class=ovr \n",
      "[CV]  C=0.6, class_weight=None, dual=False, max_iter=70, multi_class=ovr, score=0.820, total= 2.8min\n",
      "[CV] C=0.7, class_weight=None, dual=False, max_iter=30, multi_class=ovr \n",
      "[CV]  C=0.7, class_weight=None, dual=False, max_iter=30, multi_class=ovr, score=0.820, total= 2.8min\n",
      "[CV] C=0.7, class_weight=None, dual=False, max_iter=30, multi_class=ovr \n",
      "[CV]  C=0.7, class_weight=None, dual=False, max_iter=30, multi_class=ovr, score=0.822, total= 2.8min\n",
      "[CV] C=0.7, class_weight=None, dual=False, max_iter=30, multi_class=ovr \n",
      "[CV]  C=0.7, class_weight=None, dual=False, max_iter=30, multi_class=ovr, score=0.819, total= 2.8min\n",
      "[CV] C=0.7, class_weight=None, dual=False, max_iter=40, multi_class=ovr \n",
      "[CV]  C=0.7, class_weight=None, dual=False, max_iter=40, multi_class=ovr, score=0.820, total= 2.8min\n",
      "[CV] C=0.7, class_weight=None, dual=False, max_iter=40, multi_class=ovr \n",
      "[CV]  C=0.7, class_weight=None, dual=False, max_iter=40, multi_class=ovr, score=0.822, total= 2.8min\n",
      "[CV] C=0.7, class_weight=None, dual=False, max_iter=40, multi_class=ovr \n",
      "[CV]  C=0.7, class_weight=None, dual=False, max_iter=40, multi_class=ovr, score=0.819, total= 2.9min\n",
      "[CV] C=0.7, class_weight=None, dual=False, max_iter=50, multi_class=ovr \n",
      "[CV]  C=0.7, class_weight=None, dual=False, max_iter=50, multi_class=ovr, score=0.820, total= 2.8min\n",
      "[CV] C=0.7, class_weight=None, dual=False, max_iter=50, multi_class=ovr \n",
      "[CV]  C=0.7, class_weight=None, dual=False, max_iter=50, multi_class=ovr, score=0.822, total= 3.1min\n",
      "[CV] C=0.7, class_weight=None, dual=False, max_iter=50, multi_class=ovr \n",
      "[CV]  C=0.7, class_weight=None, dual=False, max_iter=50, multi_class=ovr, score=0.819, total= 3.1min\n",
      "[CV] C=0.7, class_weight=None, dual=False, max_iter=60, multi_class=ovr \n",
      "[CV]  C=0.7, class_weight=None, dual=False, max_iter=60, multi_class=ovr, score=0.820, total= 2.8min\n",
      "[CV] C=0.7, class_weight=None, dual=False, max_iter=60, multi_class=ovr \n",
      "[CV]  C=0.7, class_weight=None, dual=False, max_iter=60, multi_class=ovr, score=0.822, total= 2.9min\n",
      "[CV] C=0.7, class_weight=None, dual=False, max_iter=60, multi_class=ovr \n",
      "[CV]  C=0.7, class_weight=None, dual=False, max_iter=60, multi_class=ovr, score=0.819, total= 2.8min\n",
      "[CV] C=0.7, class_weight=None, dual=False, max_iter=70, multi_class=ovr \n",
      "[CV]  C=0.7, class_weight=None, dual=False, max_iter=70, multi_class=ovr, score=0.820, total= 2.8min\n",
      "[CV] C=0.7, class_weight=None, dual=False, max_iter=70, multi_class=ovr \n",
      "[CV]  C=0.7, class_weight=None, dual=False, max_iter=70, multi_class=ovr, score=0.822, total= 2.9min\n",
      "[CV] C=0.7, class_weight=None, dual=False, max_iter=70, multi_class=ovr \n",
      "[CV]  C=0.7, class_weight=None, dual=False, max_iter=70, multi_class=ovr, score=0.819, total= 2.8min\n"
     ]
    },
    {
     "name": "stderr",
     "output_type": "stream",
     "text": [
      "[Parallel(n_jobs=1)]: Done  75 out of  75 | elapsed: 216.6min finished\n"
     ]
    },
    {
     "name": "stdout",
     "output_type": "stream",
     "text": [
      "\n",
      "**********************************************\n",
      "Best score: 0.8207794100438032 with hyperparameters: {'C': 0.6, 'class_weight': None, 'dual': False, 'max_iter': 30, 'multi_class': 'ovr'}\n"
     ]
    }
   ],
   "source": [
    "from sklearn.svm import LinearSVC\n",
    "\n",
    "model = LinearSVC(penalty=\"l2\", dual=True)\n",
    "\n",
    "param_grid = {\n",
    "    'dual':[False],\n",
    "    'multi_class':['ovr'],\n",
    "    'C':[0.3,0.4,0.5,0.6,0.7],\n",
    "    'max_iter':[30,40,50,60,70],\n",
    "    'class_weight':[None]\n",
    "    }\n",
    "\n",
    "model, pred = algorithm_pipeline(X_train_tf, X_test_tf, y_train, y_test, model, \n",
    "                                 param_grid, cv=3, scoring_fit='f1_weighted')\n",
    "\n",
    "print('')\n",
    "print('**********************************************')\n",
    "print('Best score:' ,model.best_score_, 'with hyperparameters:', model.best_params_)"
   ]
  },
  {
   "cell_type": "markdown",
   "metadata": {},
   "source": [
    "# CONCLUSIONS"
   ]
  },
  {
   "cell_type": "markdown",
   "metadata": {},
   "source": [
    "Il semble que al meilleure ponctuation qu'on peut avoir avec le LinearSVC est de 0.82"
   ]
  }
 ],
 "metadata": {
  "kernelspec": {
   "display_name": "Python 3",
   "language": "python",
   "name": "python3"
  },
  "language_info": {
   "codemirror_mode": {
    "name": "ipython",
    "version": 3
   },
   "file_extension": ".py",
   "mimetype": "text/x-python",
   "name": "python",
   "nbconvert_exporter": "python",
   "pygments_lexer": "ipython3",
   "version": "3.8.3"
  }
 },
 "nbformat": 4,
 "nbformat_minor": 4
}
