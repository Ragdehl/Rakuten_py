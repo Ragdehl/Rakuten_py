{
 "cells": [
  {
   "cell_type": "markdown",
   "id": "52063eb8",
   "metadata": {},
   "source": [
    "Prototype d'environnement et execution avec 40000 échantillons, 80% pour l'entrainement (dont 15% de validation) et 20% pour les tests.\n"
   ]
  },
  {
   "cell_type": "code",
   "execution_count": 1,
   "id": "da62dbbc",
   "metadata": {},
   "outputs": [],
   "source": [
    "from rakuten_common import *\n",
    "\n",
    "NB_ECHANTILLONS = 40000\n"
   ]
  },
  {
   "cell_type": "code",
   "execution_count": 3,
   "id": "355deae4",
   "metadata": {},
   "outputs": [],
   "source": [
    "spacynlp = None\n",
    "french_stop_words = set(stopwords.words('french'))\n",
    "def tokenize_spacy(sentence):\n",
    "    \"\"\"\n",
    "    Tokenizer basé sur spacy\n",
    "    \"\"\"\n",
    "    global spacynlp\n",
    "    if spacynlp is None:\n",
    "        spacynlp = spacy.load(\"fr_core_news_sm\")\n",
    "        spacynlp.disable_pipes ('tagger', 'parser', 'ner')\n",
    "    s = sentence\n",
    "    t = [x.lemma_ for x in spacynlp(s)]\n",
    "    #t = [x.text for x in spacynlp(s) if not x.text in french_stop_words]\n",
    "    return t\n",
    "\n",
    "class TextOneHot(RakutenBaseModel):\n",
    "    \"\"\"\n",
    "    Modèle NN exécuté après un préprocessing des données effectué\n",
    "    avec un pipe sklearn <TfidfVectorizer | SelectFromModel(LinearSVC)>\n",
    "    \"\"\"\n",
    "    def __init__(self, nb=None):\n",
    "        super().__init__(self.__class__.__name__, nb)\n",
    "        self.maxfeatures = 80000 # Nombre de features selectionnées par SVC\n",
    "                \n",
    "        self.select = make_pipeline(\n",
    "            TfidfVectorizer(analyzer='word',\n",
    "                  #strip_accents='ascii',\n",
    "                  #stop_words=french_stop_words, \n",
    "                  #    tokenizer=tokenize_spacy, # mieux mais long!\n",
    "                  #lowercase=True,\n",
    "                  max_df=0.8,\n",
    "                  min_df=2,\n",
    "                  ngram_range=(1,2),\n",
    "                  use_idf=True,\n",
    "                  smooth_idf=True,\n",
    "                  sublinear_tf=False,\n",
    "                  binary=True,\n",
    " #                 max_features=30000,  moins rentable que celui de SelectFromModel \n",
    "                  ),\n",
    "                  SelectFromModel(LinearSVC(penalty=\"l2\", dual=True, C=0.8,\n",
    "                                            tol=1e-5, max_iter=4000),\n",
    "                                  max_features=self.maxfeatures))\n",
    "\n",
    "    def get_model_body(self):\n",
    "        self.layer_index = 0\n",
    "        inp = tf.keras.layers.Input(shape=self.input_shape, name=self.layer_name(\"input\"))\n",
    "        x = tf.keras.layers.Dense(90, activation='relu', name=self.layer_name(\"dense\"))(inp)\n",
    "        x = tf.keras.layers.Dropout(0.5, name=self.layer_name(\"dropout\"))(x)\n",
    "#        x = tf.keras.layers.Dense(100, activation='relu', name=self.layer_name(\"dense\"))(x)\n",
    "#        x = tf.keras.layers.Dropout(0.4, name=self.layer_name(\"dropout\"))(x)\n",
    "        x = tf.keras.layers.BatchNormalization(name=self.layer_name(\"batchnorm\"))(x)\n",
    "        return inp, x\n",
    "\n",
    "    def preprocess_X_train(self, off_start, off_end, input_file=None):\n",
    "        y_train_select = get_y()[off_start:off_end]\n",
    "        X_train = get_X_text(input_file)[off_start:off_end]\n",
    "        X_train = self.select.fit_transform(X_train, y_train_select).toarray()\n",
    "        self.input_shape = X_train.shape[1:]\n",
    "        return X_train\n",
    "\n",
    "    def preprocess_X_test(self, off_start, off_end, input_file=None):\n",
    "        X_test = get_X_text(input_file)[off_start:off_end]\n",
    "        X_test = self.select.transform(X_test).toarray()\n",
    "        return X_test\n",
    "\n",
    "    def fit(self, off_start, off_val, off_end, input_file=None):\n",
    "\n",
    "        X_train = self.preprocess_X_train(off_start, off_val, input_file)\n",
    "        y_train = self.preprocess_y_train(off_start, off_val, input_file)\n",
    "\n",
    "        X_val = self.preprocess_X_test(off_val, off_end, input_file)\n",
    "        y_val = self.preprocess_y_train(off_val, off_end, input_file)\n",
    "\n",
    "        self.model = self.get_model()\n",
    "\n",
    "        return self.compile_and_train_gen(X_train, y_train, X_val, y_val,\n",
    "                                          optimizer='rmsprop',\n",
    "                                          epochs=50, patience_stop=7, patience_lr=4,\n",
    "                                          class_weight=[])\n",
    "        "
   ]
  },
  {
   "cell_type": "code",
   "execution_count": 4,
   "id": "6da9c21c",
   "metadata": {},
   "outputs": [
    {
     "name": "stdout",
     "output_type": "stream",
     "text": [
      "++ [07h33mn] TextOneHot: Evaluation avec 40000 échantillons\n",
      "++ [07h33mn] TextOneHot: fit(): Début\n",
      "Epoch 1/50\n",
      "850/850 [==============================] - 88s 101ms/step - loss: 1.7357 - accuracy: 0.5622 - val_loss: 0.7389 - val_accuracy: 0.7950\n",
      "Epoch 2/50\n",
      "850/850 [==============================] - 65s 77ms/step - loss: 0.5868 - accuracy: 0.8447 - val_loss: 0.6908 - val_accuracy: 0.8092\n",
      "Epoch 3/50\n",
      "850/850 [==============================] - 64s 75ms/step - loss: 0.3863 - accuracy: 0.8978 - val_loss: 0.7139 - val_accuracy: 0.8087\n",
      "Epoch 4/50\n",
      "850/850 [==============================] - 65s 76ms/step - loss: 0.2891 - accuracy: 0.9240 - val_loss: 0.7423 - val_accuracy: 0.8121\n",
      "Epoch 5/50\n",
      "850/850 [==============================] - 64s 76ms/step - loss: 0.2516 - accuracy: 0.9330 - val_loss: 0.7837 - val_accuracy: 0.8129\n",
      "Epoch 6/50\n",
      "850/850 [==============================] - 64s 75ms/step - loss: 0.2049 - accuracy: 0.9477 - val_loss: 0.8206 - val_accuracy: 0.8131\n",
      "\n",
      "Epoch 00006: ReduceLROnPlateau reducing learning rate to 0.00010000000474974513.\n",
      "Epoch 7/50\n",
      "850/850 [==============================] - 64s 75ms/step - loss: 0.1774 - accuracy: 0.9536 - val_loss: 0.8125 - val_accuracy: 0.8169\n",
      "Epoch 8/50\n",
      "850/850 [==============================] - 64s 75ms/step - loss: 0.1726 - accuracy: 0.9558 - val_loss: 0.8125 - val_accuracy: 0.8175\n",
      "Epoch 9/50\n",
      "850/850 [==============================] - 64s 75ms/step - loss: 0.1607 - accuracy: 0.9578 - val_loss: 0.8176 - val_accuracy: 0.8167\n",
      "Restoring model weights from the end of the best epoch.\n",
      "Epoch 00009: early stopping\n"
     ]
    },
    {
     "data": {
      "image/png": "[encoded data removed]",
      "text/plain": [
       "<Figure size 1080x216 with 2 Axes>"
      ]
     },
     "metadata": {
      "needs_background": "light"
     },
     "output_type": "display_data"
    },
    {
     "name": "stdout",
     "output_type": "stream",
     "text": [
      "++ [07h44mn] TextOneHot: fit(): Fin\n",
      "\n",
      "++ [07h44mn] TextOneHot: predict(): Début\n",
      "250/250 [==============================] - 2s 8ms/step\n",
      "++ [07h44mn] TextOneHot: predict(): Fin\n",
      "\n",
      "++ [07h44mn] TextOneHot: w-f1-score = \u001b[1m0.8073\u001b[0m\n",
      "\n",
      "              precision    recall  f1-score   support\n",
      "\n",
      "          10       0.41      0.71      0.52       304\n",
      "        1140       0.76      0.74      0.75       252\n",
      "        1160       0.94      0.90      0.92       383\n",
      "        1180       0.91      0.41      0.57        73\n",
      "        1280       0.71      0.72      0.72       461\n",
      "        1281       0.67      0.58      0.62       218\n",
      "        1300       0.93      0.92      0.93       488\n",
      "        1301       0.95      0.86      0.90        63\n",
      "        1302       0.83      0.77      0.80       224\n",
      "        1320       0.85      0.76      0.80       322\n",
      "        1560       0.80      0.85      0.82       495\n",
      "        1920       0.86      0.86      0.86       403\n",
      "        1940       0.94      0.82      0.88        78\n",
      "        2060       0.76      0.76      0.76       481\n",
      "        2220       0.89      0.72      0.80        71\n",
      "        2280       0.80      0.77      0.78       459\n",
      "        2403       0.72      0.74      0.73       431\n",
      "        2462       0.76      0.75      0.75       138\n",
      "        2522       0.89      0.91      0.90       435\n",
      "        2582       0.71      0.74      0.73       225\n",
      "        2583       0.97      0.98      0.97      1004\n",
      "        2585       0.78      0.79      0.79       203\n",
      "        2705       0.87      0.65      0.75       252\n",
      "        2905       0.94      0.99      0.96        69\n",
      "          40       0.69      0.58      0.63       231\n",
      "          50       0.80      0.79      0.79       168\n",
      "          60       1.00      0.72      0.84        69\n",
      "\n",
      "    accuracy                           0.80      8000\n",
      "   macro avg       0.82      0.77      0.79      8000\n",
      "weighted avg       0.82      0.80      0.81      8000\n",
      "\n",
      "++ [07h44mn] TextOneHot: Evaluation exécutée en 673 secondes\n",
      "++ [07h44mn] TextOneHot: Modèle sauvegardé dans modele_rakuten_out\\TextOneHot_40000_model.hdf5\n",
      "++ [07h44mn] TextOneHot: Objet complet sauvegardé dans modele_rakuten_out\\TextOneHot_40000_object.pkl\n"
     ]
    }
   ],
   "source": [
    "TextOneHot().evaluate(NB_ECHANTILLONS)"
   ]
  },
  {
   "cell_type": "code",
   "execution_count": 4,
   "id": "138b5ee0",
   "metadata": {},
   "outputs": [],
   "source": [
    "class Multilingu(RakutenBaseModel):\n",
    "    \"\"\"\n",
    "    Modèle de plongement (embedding) dans un modèle de texte préentrainé\n",
    "    (Multilingual-large)\n",
    "    \"\"\"\n",
    "    def __init__(self, nb=None):\n",
    "        super().__init__(self.__class__.__name__, nb)\n",
    "        self.embedding_length = 512 # Défini par le modèle Multilingual/large\n",
    "        self.std = StandardScaler()\n",
    "\n",
    "    def get_model_body(self):\n",
    "        self.layer_index = 0\n",
    "        inp = tf.keras.layers.Input(shape=(self.embedding_length,),\n",
    "                                    name=self.layer_name(\"input\"))\n",
    "        x = tf.keras.layers.BatchNormalization(name=self.layer_name(\"batchnorm\"))(inp)\n",
    "        x = tf.keras.layers.Dense(200, activation='relu', name=self.layer_name(\"dense\"))(x)\n",
    "        x = tf.keras.layers.Dropout(0.5, name=self.layer_name(\"dropout\"))(x)\n",
    "#        x = tf.keras.layers.Dense(100, activation='relu', name=self.layer_name(\"dense\"))(x)\n",
    "#        x = tf.keras.layers.Dropout(0.4, name=self.layer_name(\"dropout\"))(x)\n",
    "        return inp, x\n",
    "\n",
    "    def preprocess_X_train(self, off_start, off_end, input_file=None):\n",
    "        X_train = get_X_text_embed_multilingual(input_file)[off_start:off_end]\n",
    "        X_train = self.std.fit_transform(X_train)\n",
    "        return X_train\n",
    "\n",
    "    def preprocess_X_test(self, off_start, off_end, input_file=None):\n",
    "        X_test = get_X_text_embed_multilingual(input_file)[off_start:off_end]\n",
    "        X_test = self.std.transform(X_test)\n",
    "        return X_test\n",
    "\n",
    "    def fit(self, off_start, off_val, off_end, input_file=None):\n",
    "\n",
    "        X_train = self.preprocess_X_train(off_start, off_val, input_file)\n",
    "        y_train = self.preprocess_y_train(off_start, off_val, input_file)\n",
    "\n",
    "        X_val = self.preprocess_X_test(off_val, off_end, input_file)\n",
    "        y_val = self.preprocess_y_train(off_val, off_end, input_file)\n",
    "\n",
    "        self.model = self.get_model()\n",
    "        \n",
    "        return self.compile_and_train_gen(X_train, y_train, X_val, y_val, optimizer='adam',\n",
    "                                         epochs=50, patience_stop=8, patience_lr=3, class_weight=[])\n",
    "        \n"
   ]
  },
  {
   "cell_type": "code",
   "execution_count": 6,
   "id": "b5e25a89",
   "metadata": {},
   "outputs": [
    {
     "name": "stdout",
     "output_type": "stream",
     "text": [
      "++ [07h44mn] Multilingu: Evaluation avec 40000 échantillons\n",
      "++ [07h44mn] Multilingu: fit(): Début\n",
      "Epoch 1/50\n",
      "850/850 [==============================] - 3s 2ms/step - loss: 1.7807 - accuracy: 0.5182 - val_loss: 0.8225 - val_accuracy: 0.7471\n",
      "Epoch 2/50\n",
      "850/850 [==============================] - 1s 1ms/step - loss: 0.9159 - accuracy: 0.7219 - val_loss: 0.7657 - val_accuracy: 0.7648\n",
      "Epoch 3/50\n",
      "850/850 [==============================] - 1s 1ms/step - loss: 0.8258 - accuracy: 0.7430 - val_loss: 0.7379 - val_accuracy: 0.7738\n",
      "Epoch 4/50\n",
      "850/850 [==============================] - 1s 1ms/step - loss: 0.7574 - accuracy: 0.7613 - val_loss: 0.7318 - val_accuracy: 0.7754\n",
      "Epoch 5/50\n",
      "850/850 [==============================] - 1s 1ms/step - loss: 0.7005 - accuracy: 0.7765 - val_loss: 0.7287 - val_accuracy: 0.7710\n",
      "Epoch 6/50\n",
      "850/850 [==============================] - 1s 1ms/step - loss: 0.6787 - accuracy: 0.7781 - val_loss: 0.7183 - val_accuracy: 0.7846- accuracy\n",
      "Epoch 7/50\n",
      "850/850 [==============================] - 1s 1ms/step - loss: 0.6471 - accuracy: 0.7902 - val_loss: 0.7278 - val_accuracy: 0.7790\n",
      "Epoch 8/50\n",
      "850/850 [==============================] - 1s 1ms/step - loss: 0.6320 - accuracy: 0.7914 - val_loss: 0.7422 - val_accuracy: 0.7785\n",
      "Epoch 9/50\n",
      "850/850 [==============================] - 1s 1ms/step - loss: 0.6016 - accuracy: 0.8039 - val_loss: 0.7403 - val_accuracy: 0.7796\n",
      "\n",
      "Epoch 00009: ReduceLROnPlateau reducing learning rate to 0.00010000000474974513.\n",
      "Epoch 10/50\n",
      "850/850 [==============================] - 1s 1ms/step - loss: 0.5540 - accuracy: 0.8151 - val_loss: 0.7240 - val_accuracy: 0.7873\n",
      "Epoch 11/50\n",
      "850/850 [==============================] - 1s 1ms/step - loss: 0.5186 - accuracy: 0.8278 - val_loss: 0.7217 - val_accuracy: 0.7873\n",
      "Epoch 12/50\n",
      "850/850 [==============================] - 1s 1ms/step - loss: 0.4861 - accuracy: 0.8412 - val_loss: 0.7214 - val_accuracy: 0.7896\n",
      "\n",
      "Epoch 00012: ReduceLROnPlateau reducing learning rate to 1.0000000474974514e-05.\n",
      "Epoch 13/50\n",
      "850/850 [==============================] - 1s 1ms/step - loss: 0.4970 - accuracy: 0.8325 - val_loss: 0.7204 - val_accuracy: 0.7896\n",
      "Epoch 14/50\n",
      "850/850 [==============================] - 1s 2ms/step - loss: 0.4907 - accuracy: 0.8330 - val_loss: 0.7189 - val_accuracy: 0.7892\n",
      "Restoring model weights from the end of the best epoch.\n",
      "Epoch 00014: early stopping\n"
     ]
    },
    {
     "data": {
      "image/png": "[encoded data removed]",
      "text/plain": [
       "<Figure size 1080x216 with 2 Axes>"
      ]
     },
     "metadata": {
      "needs_background": "light"
     },
     "output_type": "display_data"
    },
    {
     "name": "stdout",
     "output_type": "stream",
     "text": [
      "++ [07h45mn] Multilingu: fit(): Fin\n",
      "\n",
      "++ [07h45mn] Multilingu: predict(): Début\n",
      "250/250 [==============================] - 0s 687us/step\n",
      "++ [07h45mn] Multilingu: predict(): Fin\n",
      "\n",
      "++ [07h45mn] Multilingu: w-f1-score = \u001b[1m0.7763\u001b[0m\n",
      "\n",
      "              precision    recall  f1-score   support\n",
      "\n",
      "          10       0.57      0.62      0.59       304\n",
      "        1140       0.74      0.75      0.74       252\n",
      "        1160       0.87      0.91      0.89       383\n",
      "        1180       0.67      0.45      0.54        73\n",
      "        1280       0.58      0.57      0.58       461\n",
      "        1281       0.68      0.49      0.57       218\n",
      "        1300       0.78      0.89      0.83       488\n",
      "        1301       0.87      0.83      0.85        63\n",
      "        1302       0.78      0.67      0.72       224\n",
      "        1320       0.76      0.67      0.72       322\n",
      "        1560       0.78      0.74      0.76       495\n",
      "        1920       0.84      0.88      0.86       403\n",
      "        1940       0.82      0.85      0.84        78\n",
      "        2060       0.70      0.72      0.71       481\n",
      "        2220       0.74      0.73      0.74        71\n",
      "        2280       0.82      0.87      0.85       459\n",
      "        2403       0.72      0.77      0.74       431\n",
      "        2462       0.83      0.80      0.81       138\n",
      "        2522       0.86      0.86      0.86       435\n",
      "        2582       0.64      0.67      0.65       225\n",
      "        2583       0.95      0.96      0.95      1004\n",
      "        2585       0.69      0.75      0.72       203\n",
      "        2705       0.88      0.67      0.76       252\n",
      "        2905       0.97      0.99      0.98        69\n",
      "          40       0.63      0.71      0.67       231\n",
      "          50       0.75      0.77      0.76       168\n",
      "          60       0.91      0.72      0.81        69\n",
      "\n",
      "    accuracy                           0.78      8000\n",
      "   macro avg       0.77      0.75      0.76      8000\n",
      "weighted avg       0.78      0.78      0.78      8000\n",
      "\n",
      "++ [07h45mn] Multilingu: Evaluation exécutée en 21 secondes\n",
      "++ [07h45mn] Multilingu: Modèle sauvegardé dans modele_rakuten_out\\Multilingu_40000_model.hdf5\n",
      "++ [07h45mn] Multilingu: Objet complet sauvegardé dans modele_rakuten_out\\Multilingu_40000_object.pkl\n"
     ]
    }
   ],
   "source": [
    "Multilingu().evaluate(NB_ECHANTILLONS)"
   ]
  },
  {
   "cell_type": "code",
   "execution_count": 5,
   "id": "0251d254",
   "metadata": {},
   "outputs": [],
   "source": [
    "class EffNet(RakutenBaseModel):\n",
    "    \"\"\"\n",
    "    Modèle de transfert learning d'images avec EfficientNet et l'utilisation\n",
    "    d'un générateur d'images augmentées.\n",
    "    https://www.dlology.com/blog/transfer-learning-with-efficientnet/\n",
    "    \"\"\"\n",
    "\n",
    "    def __init__(self, nb=None):\n",
    "        super().__init__(self.__class__.__name__, nb)\n",
    "        self.input_shape = (240, 240, 3) # Dépend du numéro x (EfficientNetBx)\n",
    "        self.preprocessing_function = None # Inclus dans le modèle qui attend des données [..255]\n",
    "        self.basetrainable = 8\n",
    "        self.epochs_freezed = 10\n",
    "        self.epochs_unfreezed = 10\n",
    "        self.batch_size = 32\n",
    "\n",
    "    def preprocess_X_train(self, off_start, off_end, input_file=None):\n",
    "        return get_X_image_path(input_file)[off_start:off_end]\n",
    "\n",
    "    def preprocess_X_test(self, off_start, off_end, input_file=None):\n",
    "        return get_X_image_path(input_file)[off_start:off_end]\n",
    "    \n",
    "    def data_from_file(self, filepath):\n",
    "        \"\"\"\n",
    "        Méthode pour lire une image à partir d'un fichier et la retourner\n",
    "        au bon format (adapté aux entrées du modèle modèle)\n",
    "        \"\"\"\n",
    "        img = cv2.imread(filepath)\n",
    "        img = cv2.resize(img, (240, 240), interpolation=cv2.INTER_CUBIC)\n",
    "        return img\n",
    "\n",
    "    def get_model_body(self):\n",
    "        self.layer_index = 0\n",
    "        self.basemodel = tf.keras.applications.EfficientNetB1(\n",
    "                                input_shape = self.input_shape,\n",
    "                                include_top = False,\n",
    "                                # drop_connect_rate=0.4,\n",
    "                                weights = 'imagenet')\n",
    "        inp = Input(shape=self.input_shape, name=\"input_\" + self.name)\n",
    "        x = self.basemodel(inp)\n",
    "        x = tf.keras.layers.GlobalAveragePooling2D()(x)\n",
    "        x = tf.keras.layers.Dense(1024, activation=\"relu\", name=self.layer_name(\"dense\"))(x)\n",
    "        x = tf.keras.layers.BatchNormalization(trainable = True,axis=1, name=self.layer_name(\"batchnorm\"))(x)\n",
    "        x = tf.keras.layers.Dropout(0.5, name=self.layer_name(\"dropout\"))(x)\n",
    "        x = tf.keras.layers.Dense(512, activation=\"relu\", name=self.layer_name(\"dense\"))(x)\n",
    "        x = tf.keras.layers.BatchNormalization(trainable = True, axis=1, name=self.layer_name(\"batchnorm\"))(x)\n",
    "        return inp, x\n",
    "\n",
    "    def __get_train_dataset(self, X_imagepaths, y_train):\n",
    "        df = pd.DataFrame({\"imgpath\": X_imagepaths, \"class\": y_train})\n",
    "        datagenerator = tf.keras.preprocessing.image.ImageDataGenerator(\n",
    "                                    validation_split = VALIDATION_SPLIT,\n",
    "                                    preprocessing_function = self.preprocessing_function,\n",
    "                                    rotation_range = 10,\n",
    "                                    width_shift_range = 0.1,\n",
    "                                    height_shift_range = 0.1,\n",
    "                                    zoom_range = 0.1,\n",
    "                                    brightness_range=[0.9, 1.1],\n",
    "                                    horizontal_flip = True\n",
    "                                    )\n",
    "        traingen = datagenerator.flow_from_dataframe(subset = 'training', dataframe=df,\n",
    "                                                     x_col=\"imgpath\", y_col=\"class\",\n",
    "                                                     class_mode=\"sparse\",\n",
    "                                                     target_size=(self.input_shape[0], self.input_shape[1]),\n",
    "                                                     batch_size=self.batch_size)\n",
    "        valgen = datagenerator.flow_from_dataframe(subset='validation',\n",
    "                                                   dataframe=df, x_col=\"imgpath\", y_col=\"class\",\n",
    "                                                   class_mode=\"sparse\",\n",
    "                                                   target_size=(self.input_shape[0], self.input_shape[1]),\n",
    "                                                   batch_size=self.batch_size)\n",
    "        return traingen, valgen\n",
    "\n",
    "    def __get_test_dataset(self, X_imagepaths):\n",
    "        df = pd.DataFrame({\"imgpath\": X_imagepaths,\n",
    "                           \"class\": [0 for _ in range(len(X_imagepaths))]})\n",
    "        testgen = tf.keras.preprocessing.image.ImageDataGenerator( \n",
    "                        preprocessing_function = self.preprocessing_function).flow_from_dataframe(\n",
    "                        dataframe=df, x_col=\"imgpath\", y_col=\"class\",\n",
    "                        class_mode=None, target_size=(self.input_shape[0], self.input_shape[1]),\n",
    "                        batch_size=1,\n",
    "                        shuffle = False)\n",
    "        return testgen\n",
    "    \n",
    "    def compile_and_train(self, traingen, valgen, optimizer, patience, epochs):\n",
    "        callbacks = [tf.keras.callbacks.EarlyStopping(monitor='val_loss', patience=patience,\n",
    "                                             restore_best_weights=True, verbose=1),\n",
    "                     tf.keras.callbacks.ModelCheckpoint(filepath=self.fbestweights,\n",
    "                                             save_weights_only=True, save_best_only=True,\n",
    "                                              monitor='val_loss', mode='min')]\n",
    "        self.model.compile(optimizer=optimizer,\n",
    "                           loss='sparse_categorical_crossentropy', metrics = ['accuracy'])\n",
    "        if os.path.isfile(self.fbestweights):\n",
    "            os.remove(self.fbestweights)\n",
    "        history = self.model.fit(traingen, epochs=epochs,\n",
    "                                      steps_per_epoch = traingen.n//traingen.batch_size,\n",
    "                                      validation_data = valgen,\n",
    "                                      validation_steps = valgen.n//valgen.batch_size,\n",
    "                                      callbacks=callbacks)\n",
    "        if os.path.isfile(self.fbestweights):\n",
    "            self.model.load_weights(self.fbestweights)\n",
    "        plot_history(f\"{self.name}\", history)\n",
    "\n",
    "    def fit(self, off_start, off_val, off_end, input_file=None):\n",
    "\n",
    "        self.prt(f\"Création des générateurs d'images\")\n",
    "        X_imgpaths = get_X_image_path(input_file)[off_start:off_end]\n",
    "        y_train = get_y()[off_start:off_end]\n",
    "        traingen, valgen = self.__get_train_dataset(X_imgpaths, y_train)\n",
    "        self.fit_labels = dict((v,k) for k,v in (traingen.class_indices).items())\n",
    "\n",
    "        self.model = self.get_model()\n",
    "        \n",
    "        self.prt(f\"Congélation des layers du modèle de base et entrainement\")\n",
    "        for layer in self.basemodel.layers:\n",
    "            layer.trainable = False\n",
    "        history = self.compile_and_train(traingen, valgen,\n",
    "                                         optimizer=tf.keras.optimizers.Adam(lr=1e-3),\n",
    "                                         patience=1,\n",
    "                                         epochs=self.epochs_freezed)\n",
    "        if self.basetrainable > 0:\n",
    "            self.prt(f\"Décongélation des {self.basetrainable} derniers layers et entrainement\")\n",
    "            for layer in self.basemodel.layers[-self.basetrainable:]:\n",
    "                if not isinstance(layer, tf.keras.layers.BatchNormalization):\n",
    "                    layer.trainable = True\n",
    "            self.compile_and_train(traingen, valgen,\n",
    "                                   optimizer=tf.keras.optimizers.Adam(lr=1e-4),\n",
    "                                   patience=2,\n",
    "                                   epochs=self.epochs_unfreezed)\n",
    "        self.prt(\"Entrainement terminé\")\n",
    "        return history\n",
    "\n",
    "    def predict(self, off_start, off_end, input_file=\"X_train_update.csv\"):\n",
    "        \"\"\" Prédiction, en utilisant le générateur de données de test \"\"\"\n",
    "        length = off_end - off_start\n",
    "        self.prt(f\"Prédiction de {length} échantillons\")\n",
    "        X_imgpaths = get_X_image_path(input_file)[off_start:off_end]\n",
    "        testgen = self.__get_test_dataset(X_imgpaths)\n",
    "        \n",
    "        softmaxout = self.model.predict(testgen, verbose = 1)\n",
    "        assert len(self.fit_labels) == NB_CLASSES\n",
    "        y_pred = [self.fit_labels[i] for i in np.argmax(softmaxout, axis=1)]\n",
    "        self.prt(\"Prédiction terminée\")\n",
    "        return y_pred\n"
   ]
  },
  {
   "cell_type": "code",
   "execution_count": 6,
   "id": "9d6de36f",
   "metadata": {},
   "outputs": [
    {
     "name": "stdout",
     "output_type": "stream",
     "text": [
      "++ [23h06mn] EffNet: Evaluation avec 40000 échantillons\n",
      "++ [23h06mn] EffNet: Création des générateurs d'images\n",
      "Found 27200 validated image filenames belonging to 27 classes.\n",
      "Found 4800 validated image filenames belonging to 27 classes.\n",
      "++ [23h06mn] EffNet: Congélation des layers du modèle de base et entrainement\n",
      "Epoch 1/10\n",
      "850/850 [==============================] - 1990s 2s/step - loss: 2.2627 - accuracy: 0.3961 - val_loss: 1.5694 - val_accuracy: 0.5402\n",
      "Epoch 2/10\n",
      "850/850 [==============================] - 1950s 2s/step - loss: 1.5860 - accuracy: 0.5290 - val_loss: 1.5066 - val_accuracy: 0.5606\n",
      "Epoch 3/10\n",
      "850/850 [==============================] - 1958s 2s/step - loss: 1.4749 - accuracy: 0.5517 - val_loss: 1.5063 - val_accuracy: 0.5531\n",
      "Epoch 4/10\n",
      "850/850 [==============================] - 1950s 2s/step - loss: 1.3867 - accuracy: 0.5752 - val_loss: 1.4373 - val_accuracy: 0.5788\n",
      "Epoch 5/10\n",
      "850/850 [==============================] - 1950s 2s/step - loss: 1.3219 - accuracy: 0.5903 - val_loss: 1.4346 - val_accuracy: 0.5752\n",
      "Epoch 6/10\n",
      "850/850 [==============================] - 1952s 2s/step - loss: 1.2620 - accuracy: 0.6061 - val_loss: 1.4061 - val_accuracy: 0.5848\n",
      "Epoch 7/10\n",
      "850/850 [==============================] - 1958s 2s/step - loss: 1.2222 - accuracy: 0.6239 - val_loss: 1.3707 - val_accuracy: 0.6021\n",
      "Epoch 8/10\n",
      "850/850 [==============================] - 1950s 2s/step - loss: 1.1697 - accuracy: 0.6333 - val_loss: 1.3768 - val_accuracy: 0.5910\n",
      "Restoring model weights from the end of the best epoch.\n",
      "Epoch 00008: early stopping\n"
     ]
    },
    {
     "data": {
      "image/png": "[encoded data removed]",
      "text/plain": [
       "<Figure size 1080x216 with 2 Axes>"
      ]
     },
     "metadata": {
      "needs_background": "light"
     },
     "output_type": "display_data"
    },
    {
     "name": "stdout",
     "output_type": "stream",
     "text": [
      "++ [03h27mn] EffNet: Décongélation des 8 derniers layers et entrainement\n",
      "Epoch 1/10\n",
      "850/850 [==============================] - 2017s 2s/step - loss: 1.1006 - accuracy: 0.6545 - val_loss: 1.3171 - val_accuracy: 0.6112\n",
      "Epoch 2/10\n",
      "850/850 [==============================] - 12339s 15s/step - loss: 0.9916 - accuracy: 0.6868 - val_loss: 1.3005 - val_accuracy: 0.6202\n",
      "Epoch 3/10\n",
      "850/850 [==============================] - 2008s 2s/step - loss: 0.9236 - accuracy: 0.7064 - val_loss: 1.3096 - val_accuracy: 0.6212\n",
      "Epoch 4/10\n",
      "850/850 [==============================] - 2102s 2s/step - loss: 0.8631 - accuracy: 0.7216 - val_loss: 1.3095 - val_accuracy: 0.6285\n",
      "Restoring model weights from the end of the best epoch.\n",
      "Epoch 00004: early stopping\n"
     ]
    },
    {
     "data": {
      "image/png": "[encoded data removed]",
      "text/plain": [
       "<Figure size 1080x216 with 2 Axes>"
      ]
     },
     "metadata": {
      "needs_background": "light"
     },
     "output_type": "display_data"
    },
    {
     "name": "stdout",
     "output_type": "stream",
     "text": [
      "++ [08h35mn] EffNet: Entrainement terminé\n",
      "++ [08h35mn] EffNet: Prédiction de 8000 échantillons\n",
      "Found 8000 validated image filenames.\n",
      "8000/8000 [==============================] - 482s 60ms/step\n",
      "++ [08h43mn] EffNet: Prédiction terminée\n",
      "++ [08h43mn] EffNet: w-f1-score = \u001b[1m0.6164\u001b[0m\n",
      "\n",
      "              precision    recall  f1-score   support\n",
      "\n",
      "          10       0.51      0.63      0.56       304\n",
      "        1140       0.59      0.60      0.60       252\n",
      "        1160       0.88      0.93      0.90       383\n",
      "        1180       0.53      0.32      0.40        73\n",
      "        1280       0.41      0.39      0.40       461\n",
      "        1281       0.41      0.22      0.29       218\n",
      "        1300       0.65      0.74      0.69       488\n",
      "        1301       0.67      0.51      0.58        63\n",
      "        1302       0.49      0.38      0.43       224\n",
      "        1320       0.52      0.43      0.47       322\n",
      "        1560       0.58      0.64      0.61       495\n",
      "        1920       0.73      0.81      0.77       403\n",
      "        1940       0.73      0.73      0.73        78\n",
      "        2060       0.54      0.51      0.52       481\n",
      "        2220       0.51      0.37      0.43        71\n",
      "        2280       0.67      0.77      0.72       459\n",
      "        2403       0.70      0.58      0.63       431\n",
      "        2462       0.64      0.54      0.59       138\n",
      "        2522       0.62      0.70      0.66       435\n",
      "        2582       0.54      0.44      0.49       225\n",
      "        2583       0.76      0.85      0.81      1004\n",
      "        2585       0.43      0.39      0.41       203\n",
      "        2705       0.70      0.74      0.72       252\n",
      "        2905       0.49      0.68      0.57        69\n",
      "          40       0.49      0.53      0.51       231\n",
      "          50       0.52      0.29      0.37       168\n",
      "          60       0.70      0.61      0.65        69\n",
      "\n",
      "    accuracy                           0.63      8000\n",
      "   macro avg       0.59      0.57      0.57      8000\n",
      "weighted avg       0.62      0.63      0.62      8000\n",
      "\n",
      "++ [08h43mn] EffNet: Evaluation exécutée en 34618 secondes\n",
      "++ [08h43mn] EffNet: Modèle sauvegardé dans modele_rakuten_out\\EffNet_40000_model.hdf5\n",
      "Pas de sauvegarde de  basemodel\n",
      "++ [08h43mn] EffNet: Objet complet sauvegardé dans modele_rakuten_out\\EffNet_40000_object.pkl\n"
     ]
    }
   ],
   "source": [
    "EffNet().evaluate(NB_ECHANTILLONS)"
   ]
  },
  {
   "cell_type": "code",
   "execution_count": 8,
   "id": "34dee565",
   "metadata": {},
   "outputs": [
    {
     "name": "stdout",
     "output_type": "stream",
     "text": [
      "++ [09h17mn] CatModel: Evaluation avec 40000 échantillons\n",
      "++ [09h17mn] CatModel: Chargements des modèles référencés \"40000\"\n",
      "Chargement de l'objet (modele_rakuten_out\\TextOneHot_40000_object.pkl)\n",
      "Chargement du modèle (modele_rakuten_out\\TextOneHot_40000_model.hdf5)\n",
      "Chargement de l'objet (modele_rakuten_out\\Multilingu_40000_object.pkl)\n",
      "Chargement du modèle (modele_rakuten_out\\Multilingu_40000_model.hdf5)\n",
      "Chargement de l'objet (modele_rakuten_out\\EffNet_40000_object.pkl)\n",
      "Chargement du modèle (modele_rakuten_out\\EffNet_40000_model.hdf5)\n",
      "++ [09h17mn] CatModel: Preprocessing des 32000 données d'entrainement\n",
      "++ [09h17mn] CatModel: Instantiation des générateurs d'entrainement\n",
      "Nettoyage de modele_rakuten_out\\CatDataset_train_27200\n"
     ]
    },
    {
     "name": "stderr",
     "output_type": "stream",
     "text": [
      "  1%|▍                                                                                 | 5/850 [00:00<00:19, 44.00it/s]"
     ]
    },
    {
     "name": "stdout",
     "output_type": "stream",
     "text": [
      "Création de 850 fichiers de batch dans modele_rakuten_out\\CatDataset_train_27200\n",
      "* modèle TextOneHot\n"
     ]
    },
    {
     "name": "stderr",
     "output_type": "stream",
     "text": [
      "100%|████████████████████████████████████████████████████████████████████████████████| 850/850 [00:38<00:00, 21.93it/s]\n",
      "  6%|████▉                                                                           | 53/850 [00:00<00:01, 527.13it/s]"
     ]
    },
    {
     "name": "stdout",
     "output_type": "stream",
     "text": [
      "* modèle Multilingu\n"
     ]
    },
    {
     "name": "stderr",
     "output_type": "stream",
     "text": [
      "100%|███████████████████████████████████████████████████████████████████████████████| 850/850 [00:01<00:00, 625.53it/s]\n",
      "  0%|                                                                                          | 0/850 [00:00<?, ?it/s]"
     ]
    },
    {
     "name": "stdout",
     "output_type": "stream",
     "text": [
      "* modèle EffNet\n"
     ]
    },
    {
     "name": "stderr",
     "output_type": "stream",
     "text": [
      "100%|████████████████████████████████████████████████████████████████████████████████| 850/850 [02:25<00:00,  5.84it/s]\n",
      "  0%|                                                                                          | 0/150 [00:00<?, ?it/s]"
     ]
    },
    {
     "name": "stdout",
     "output_type": "stream",
     "text": [
      "Nettoyage de modele_rakuten_out\\CatDataset_val_4800\n",
      "Création de 150 fichiers de batch dans modele_rakuten_out\\CatDataset_val_4800\n",
      "* modèle TextOneHot\n"
     ]
    },
    {
     "name": "stderr",
     "output_type": "stream",
     "text": [
      "100%|████████████████████████████████████████████████████████████████████████████████| 150/150 [00:06<00:00, 23.59it/s]\n",
      " 40%|████████████████████████████████                                                | 60/150 [00:00<00:00, 596.01it/s]"
     ]
    },
    {
     "name": "stdout",
     "output_type": "stream",
     "text": [
      "* modèle Multilingu\n"
     ]
    },
    {
     "name": "stderr",
     "output_type": "stream",
     "text": [
      "100%|███████████████████████████████████████████████████████████████████████████████| 150/150 [00:00<00:00, 549.02it/s]\n",
      "  1%|▌                                                                                 | 1/150 [00:00<00:26,  5.63it/s]"
     ]
    },
    {
     "name": "stdout",
     "output_type": "stream",
     "text": [
      "* modèle EffNet\n"
     ]
    },
    {
     "name": "stderr",
     "output_type": "stream",
     "text": [
      "100%|████████████████████████████████████████████████████████████████████████████████| 150/150 [00:25<00:00,  5.79it/s]\n"
     ]
    },
    {
     "name": "stdout",
     "output_type": "stream",
     "text": [
      "++ [09h21mn] CatModel: Création du modèle\n",
      "  * Layers non entrainables:\n",
      "      - input_EffNet\n",
      "      - efficientnetb1\n",
      "      - global_average_pooling2d_2\n",
      "      - dense_1_EffNet\n",
      "      - input_1_TextOneHot\n",
      "      - input_1_Multilingu\n",
      "      - batchnorm_2_EffNet\n",
      "      - dense_2_TextOneHot\n",
      "      - batchnorm_2_Multilingu\n",
      "      - dropout_3_EffNet\n",
      "      - dropout_3_TextOneHot\n",
      "      - dense_3_Multilingu\n",
      "      - dense_4_EffNet\n",
      "      - batchnorm_4_TextOneHot\n",
      "      - dropout_4_Multilingu\n",
      "      - batchnorm_5_EffNet\n",
      "      - concatenate_1_CatModel\n",
      "  * Layers entrainables:\n",
      "      - dense_2_CatModel\n",
      "      - dropout_3_CatModel\n",
      "      - dense_4_CatModel\n",
      "  * Init des layers avec les poids des modèles de base:\n",
      "      - dense_2_TextOneHot\n",
      "      - batchnorm_4_TextOneHot\n",
      "      - batchnorm_2_Multilingu\n",
      "      - dense_3_Multilingu\n",
      "      - efficientnetb1\n",
      "      - dense_1_EffNet\n",
      "      - batchnorm_2_EffNet\n",
      "      - dense_4_EffNet\n",
      "      - batchnorm_5_EffNet\n",
      "++ [09h21mn] CatModel: fit(): Début\n",
      "Epoch 1/12\n",
      "850/850 [==============================] - 2579s 3s/step - loss: 1.2863 - accuracy: 0.6469 - val_loss: 0.4442 - val_accuracy: 0.8687\n",
      "Epoch 2/12\n",
      "850/850 [==============================] - 2791s 3s/step - loss: 0.4016 - accuracy: 0.8802 - val_loss: 0.4346 - val_accuracy: 0.8735\n",
      "Epoch 3/12\n",
      "850/850 [==============================] - 2012s 2s/step - loss: 0.3345 - accuracy: 0.8971 - val_loss: 0.4526 - val_accuracy: 0.8696\n",
      "Epoch 4/12\n",
      "850/850 [==============================] - 2726s 3s/step - loss: 0.3078 - accuracy: 0.9052 - val_loss: 0.4487 - val_accuracy: 0.8700\n",
      "\n",
      "Epoch 00004: ReduceLROnPlateau reducing learning rate to 0.00010000000474974513.\n",
      "Epoch 5/12\n",
      "850/850 [==============================] - 3189s 4s/step - loss: 0.2736 - accuracy: 0.9115 - val_loss: 0.4307 - val_accuracy: 0.8746\n",
      "Epoch 6/12\n",
      "850/850 [==============================] - 2687s 3s/step - loss: 0.2591 - accuracy: 0.9174 - val_loss: 0.4285 - val_accuracy: 0.8756\n",
      "Epoch 7/12\n",
      "850/850 [==============================] - 1963s 2s/step - loss: 0.2572 - accuracy: 0.9196 - val_loss: 0.4315 - val_accuracy: 0.8752\n",
      "Epoch 8/12\n",
      "850/850 [==============================] - 2203s 3s/step - loss: 0.2468 - accuracy: 0.9209 - val_loss: 0.4276 - val_accuracy: 0.8756\n",
      "Epoch 9/12\n",
      "850/850 [==============================] - 2175s 3s/step - loss: 0.2410 - accuracy: 0.9257 - val_loss: 0.4277 - val_accuracy: 0.8765\n",
      "Epoch 10/12\n",
      "850/850 [==============================] - 2202s 3s/step - loss: 0.2567 - accuracy: 0.9201 - val_loss: 0.4298 - val_accuracy: 0.8785\n",
      "\n",
      "Epoch 00010: ReduceLROnPlateau reducing learning rate to 1.0000000474974514e-05.\n",
      "Epoch 11/12\n",
      "850/850 [==============================] - 2310s 3s/step - loss: 0.2468 - accuracy: 0.9213 - val_loss: 0.4281 - val_accuracy: 0.8779\n",
      "Restoring model weights from the end of the best epoch.\n",
      "Epoch 00011: early stopping\n",
      "++ [16h48mn] CatModel: fit(): Fin\n"
     ]
    },
    {
     "data": {
      "image/png": "[encoded data removed]",
      "text/plain": [
       "<Figure size 1080x216 with 2 Axes>"
      ]
     },
     "metadata": {
      "needs_background": "light"
     },
     "output_type": "display_data"
    },
    {
     "name": "stdout",
     "output_type": "stream",
     "text": [
      "++ [16h48mn] CatModel: Prédiction pour 8000 échantillons\n",
      "++ [16h48mn] CatModel: Preprocessing des données de test\n",
      "++ [16h48mn] CatModel: Instantiation du générateur de test\n",
      "Nettoyage de modele_rakuten_out\\CatDataset_test_8000\n"
     ]
    },
    {
     "name": "stderr",
     "output_type": "stream",
     "text": [
      "  1%|▌                                                                              | 55/8000 [00:00<00:14, 540.72it/s]"
     ]
    },
    {
     "name": "stdout",
     "output_type": "stream",
     "text": [
      "Création de 8000 fichiers de batch dans modele_rakuten_out\\CatDataset_test_8000\n",
      "* modèle TextOneHot\n"
     ]
    },
    {
     "name": "stderr",
     "output_type": "stream",
     "text": [
      "100%|█████████████████████████████████████████████████████████████████████████████| 8000/8000 [00:17<00:00, 453.59it/s]\n",
      "  1%|▍                                                                              | 50/8000 [00:00<00:16, 496.32it/s]"
     ]
    },
    {
     "name": "stdout",
     "output_type": "stream",
     "text": [
      "* modèle Multilingu\n"
     ]
    },
    {
     "name": "stderr",
     "output_type": "stream",
     "text": [
      "100%|████████████████████████████████████████████████████████████████████████████| 8000/8000 [00:05<00:00, 1440.25it/s]\n",
      "  0%|                                                                               | 11/8000 [00:00<01:16, 104.97it/s]"
     ]
    },
    {
     "name": "stdout",
     "output_type": "stream",
     "text": [
      "* modèle EffNet\n"
     ]
    },
    {
     "name": "stderr",
     "output_type": "stream",
     "text": [
      "100%|█████████████████████████████████████████████████████████████████████████████| 8000/8000 [00:56<00:00, 142.01it/s]\n"
     ]
    },
    {
     "name": "stdout",
     "output_type": "stream",
     "text": [
      "++ [16h50mn] CatModel: predict(): Début\n",
      "8000/8000 [==============================] - 590s 73ms/step\n",
      "++ [17h00mn] CatModel: predict(): Fin\n",
      "\n",
      "++ [17h00mn] CatModel: w-f1-score = \u001b[1m0.853\u001b[0m\n",
      "\n",
      "              precision    recall  f1-score   support\n",
      "\n",
      "          10       0.73      0.71      0.72       304\n",
      "        1140       0.79      0.82      0.80       252\n",
      "        1160       0.97      0.99      0.98       383\n",
      "        1180       0.75      0.59      0.66        73\n",
      "        1280       0.70      0.72      0.71       461\n",
      "        1281       0.71      0.57      0.63       218\n",
      "        1300       0.91      0.97      0.94       488\n",
      "        1301       0.90      0.89      0.90        63\n",
      "        1302       0.85      0.76      0.80       224\n",
      "        1320       0.83      0.82      0.82       322\n",
      "        1560       0.86      0.83      0.85       495\n",
      "        1920       0.87      0.90      0.88       403\n",
      "        1940       0.88      0.90      0.89        78\n",
      "        2060       0.78      0.78      0.78       481\n",
      "        2220       0.88      0.75      0.81        71\n",
      "        2280       0.88      0.89      0.88       459\n",
      "        2403       0.84      0.84      0.84       431\n",
      "        2462       0.85      0.86      0.85       138\n",
      "        2522       0.92      0.91      0.92       435\n",
      "        2582       0.76      0.77      0.76       225\n",
      "        2583       0.97      0.98      0.97      1004\n",
      "        2585       0.80      0.84      0.82       203\n",
      "        2705       0.84      0.91      0.87       252\n",
      "        2905       1.00      0.99      0.99        69\n",
      "          40       0.83      0.84      0.84       231\n",
      "          50       0.83      0.83      0.83       168\n",
      "          60       0.95      0.78      0.86        69\n",
      "\n",
      "    accuracy                           0.85      8000\n",
      "   macro avg       0.85      0.83      0.84      8000\n",
      "weighted avg       0.85      0.85      0.85      8000\n",
      "\n",
      "++ [17h00mn] CatModel: Evaluation exécutée en 27767 secondes\n",
      "++ [17h00mn] CatModel: Modèle sauvegardé dans modele_rakuten_out\\CatModel_40000_model.hdf5\n",
      "Pas de sauvegarde de  objs\n",
      "++ [17h00mn] CatModel: Objet complet sauvegardé dans modele_rakuten_out\\CatModel_40000_object.pkl\n"
     ]
    }
   ],
   "source": [
    "class CatModel(RakutenCatModel):\n",
    "    \"\"\"\n",
    "    Modèle qui concatene plusieurs modèles de base\n",
    "    \"\"\"\n",
    "    def __init__(self, nb=None):\n",
    "        super().__init__(self.__class__.__name__, nb)\n",
    "        \n",
    "    def fit(self, off_start, off_val, off_end, input_file=None):\n",
    "        \"\"\"\n",
    "        Entrainement du modèle sur l'intervalle des données spécifié par\n",
    "        off_start et off_end (offsets dans les fichiers de data).\n",
    "        \"\"\"\n",
    "\n",
    "        self.prt(f'Chargements des modèles référencés \"{self.nb}\"')\n",
    "        self.objs = [\n",
    "             #TextEmbed(self.nb),\n",
    "             TextOneHot(self.nb),\n",
    "             Multilingu(self.nb),\n",
    "             EffNet(self.nb)\n",
    "        ]\n",
    "\n",
    "        # Générateurs qui alimenteront fit() avec les données train & val\n",
    "        traingen, valgen = self.create_train_generators(off_start, off_val, off_end, input_file)\n",
    "        \n",
    "        self.prt(f\"Création du modèle\")\n",
    "        # Récupèration des inputs et des outputs de chaque modèle de base\n",
    "        # pour construire le modèle concatenate\n",
    "        inputlayers, outputlayers = [], []\n",
    "        for obj in self.objs:\n",
    "            inp, outp = obj.get_model_body()\n",
    "            inputlayers.append(inp)\n",
    "            outputlayers.append(outp)\n",
    "        \n",
    "        self.layer_index = 0 # compteur utilisé dans get_model_body()\n",
    "        concatname = self.layer_name(\"concatenate\")\n",
    "        x = concatenate(outputlayers, axis=-1, name = concatname)\n",
    "        x = Dense(64, activation='relu', name=self.layer_name(\"dense\"))(x)\n",
    "        x = Dropout(0.3, name=self.layer_name(\"dropout\"))(x)\n",
    "        x = Dense(NB_CLASSES, activation='softmax', name=self.layer_name(\"dense\"))(x)\n",
    "        self.model = Model(inputlayers, x, name=self.name)\n",
    "\n",
    "        #print(self.model.summary())\n",
    "\n",
    "        print(f\"  * Layers non entrainables:\")\n",
    "        for layer in self.model.layers[:-3]:\n",
    "            layer.trainable = False\n",
    "            print(f\"      - {layer.name}\")\n",
    "        print(f\"  * Layers entrainables:\")\n",
    "        for layer in self.model.layers:\n",
    "            if layer.trainable:\n",
    "                print(f\"      - {layer.name}\")\n",
    "\n",
    "        self.model.compile(optimizer= tf.keras.optimizers.Adam(lr=1e-3),\n",
    "                           loss='sparse_categorical_crossentropy',\n",
    "                           metrics = ['accuracy'])\n",
    "\n",
    "        # Initialisation des poids\n",
    "        self.copy_submodels_weights()\n",
    "\n",
    "        self.prt(\"fit(): Début\")    \n",
    "        callbacks = [tf.keras.callbacks.EarlyStopping(monitor='val_loss', patience=3,\n",
    "                                             restore_best_weights=True, verbose=1),\n",
    "                     tf.keras.callbacks.ModelCheckpoint(filepath=self.fbestweights,\n",
    "                                             save_weights_only=True, save_best_only=True,\n",
    "                                              monitor='val_loss', mode='min'),\n",
    "                     tf.keras.callbacks.ReduceLROnPlateau(monitor='val_loss', patience=2, factor=0.1,\n",
    "                                                          verbose=1)]\n",
    "        if os.path.isfile(self.fbestweights):\n",
    "            os.remove(self.fbestweights)\n",
    "        history = self.model.fit(traingen,\n",
    "                                 epochs=12,\n",
    "                                 validation_data = valgen,\n",
    "                                 callbacks=callbacks)\n",
    "        if os.path.isfile(self.fbestweights):\n",
    "            self.model.load_weights(self.fbestweights)\n",
    "        self.prt(\"fit(): Fin\")\n",
    "        plot_history(f\"{self.name}\", history)\n",
    "        return history\n",
    "                                  \n",
    "CatModel().evaluate(NB_ECHANTILLONS)"
   ]
  },
  {
   "cell_type": "code",
   "execution_count": null,
   "id": "457cceb0",
   "metadata": {},
   "outputs": [],
   "source": []
  }
 ],
 "metadata": {
  "kernelspec": {
   "display_name": "Python 3",
   "language": "python",
   "name": "python3"
  }
 },
 "nbformat": 4,
 "nbformat_minor": 5
}
