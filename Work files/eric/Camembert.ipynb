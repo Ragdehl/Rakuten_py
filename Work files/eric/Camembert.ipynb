{
 "cells": [
  {
   "cell_type": "markdown",
   "id": "9b4eaee7",
   "metadata": {},
   "source": [
    "###  Un petit prototype de l'utilisation de Camembert\n",
    "\n",
    "Télécharger les fichiers qui suivent à partir de https://huggingface.co/jplu/tf-camembert-base/tree/main/ et les copier dans le sous répertoire local **huggingface/tf-camembert-base/**\n",
    "  * config.json\n",
    "  * tokenizer.json\n",
    "  * sentencepiece.bpe.model\n",
    "  * tf_model.h5\n"
   ]
  },
  {
   "cell_type": "code",
   "execution_count": 16,
   "id": "b2a58caa",
   "metadata": {},
   "outputs": [],
   "source": [
    "from rakuten_common import *"
   ]
  },
  {
   "cell_type": "code",
   "execution_count": 17,
   "id": "6f05244e",
   "metadata": {
    "scrolled": true
   },
   "outputs": [
    {
     "name": "stderr",
     "output_type": "stream",
     "text": [
      "Some layers from the model checkpoint at huggingface\\tf-camembert-base were not used when initializing TFCamembertModel: ['lm_head']\n",
      "- This IS expected if you are initializing TFCamembertModel from the checkpoint of a model trained on another task or with another architecture (e.g. initializing a BertForSequenceClassification model from a BertForPreTraining model).\n",
      "- This IS NOT expected if you are initializing TFCamembertModel from the checkpoint of a model that you expect to be exactly identical (initializing a BertForSequenceClassification model from a BertForSequenceClassification model).\n",
      "Some layers of TFCamembertModel were not initialized from the model checkpoint at huggingface\\tf-camembert-base and are newly initialized: ['roberta/pooler/dense/kernel:0', 'roberta/pooler/dense/bias:0']\n",
      "You should probably TRAIN this model on a down-stream task to be able to use it for predictions and inference.\n"
     ]
    },
    {
     "name": "stdout",
     "output_type": "stream",
     "text": [
      "WARNING:tensorflow:The parameters `output_attentions`, `output_hidden_states` and `use_cache` cannot be updated when calling a model.They have to be set to True/False in the config object (i.e.: `config=XConfig.from_pretrained('name', output_attentions=True)`).\n",
      "WARNING:tensorflow:The parameter `return_dict` cannot be set in graph mode and will always be set to `True`.\n",
      "Model: \"model_7\"\n",
      "__________________________________________________________________________________________________\n",
      "Layer (type)                    Output Shape         Param #     Connected to                     \n",
      "==================================================================================================\n",
      "input_15 (InputLayer)           [(None, 200)]        0                                            \n",
      "__________________________________________________________________________________________________\n",
      "input_16 (InputLayer)           [(None, 200)]        0                                            \n",
      "__________________________________________________________________________________________________\n",
      "tf_camembert_model_7 (TFCamembe TFBaseModelOutputWit 110621952   input_15[0][0]                   \n",
      "                                                                 input_16[0][0]                   \n",
      "__________________________________________________________________________________________________\n",
      "dense_17 (Dense)                (None, 100)          76900       tf_camembert_model_7[0][1]       \n",
      "__________________________________________________________________________________________________\n",
      "dropout_306 (Dropout)           (None, 100)          0           dense_17[0][0]                   \n",
      "__________________________________________________________________________________________________\n",
      "dense_18 (Dense)                (None, 27)           2727        dropout_306[0][0]                \n",
      "==================================================================================================\n",
      "Total params: 110,701,579\n",
      "Trainable params: 79,627\n",
      "Non-trainable params: 110,621,952\n",
      "__________________________________________________________________________________________________\n"
     ]
    }
   ],
   "source": [
    "# Quelques liens\n",
    "# https://nlpinfrench.fr/transformers/02_firstBert_fr.html\n",
    "# https://github.com/TheophileBlard/french-sentiment-analysis-with-bert/blob/master/03_bert.ipynb\n",
    "# https://huggingface.co/models?filter=tf&search=camembert  \n",
    "# https://huggingface.co/jplu/tf-camembert-base/tree/main  # Download\n",
    "# http://mccormickml.com/2020/07/29/smart-batching-tutorial/#51-load-pre-trained-model   batch_size\n",
    "# https://melusine.readthedocs.io/en/latest/readme.html\n",
    "\n",
    "import transformers\n",
    "\n",
    "bertdir = os.path.join(\"huggingface\", \"tf-camembert-base\")\n",
    "max_length = 200 # Longueur maximum des phrases\n",
    "\n",
    "def model_body():\n",
    "    \"\"\" Architecture réseau \"\"\"\n",
    "    bert_model = transformers.TFCamembertModel.from_pretrained(bertdir,\n",
    "                                                               local_files_only=True)\n",
    "    txt_input = Input(shape=(max_length,), dtype=\"int32\")\n",
    "    att_input = Input(shape=(max_length,), dtype=\"int32\")\n",
    "    inp = [txt_input, att_input]\n",
    "    x = bert_model(txt_input,attention_mask=att_input)[1]\n",
    "#    x = Dense(200, activation=\"relu\")(x)\n",
    "#    x = Dropout(0.2)(x)\n",
    "    x = Dense(100, activation=\"relu\")(x)\n",
    "    x = Dropout(0.2)(x)\n",
    "    return inp, x\n",
    "\n",
    "def preprocess_X(X):\n",
    "    \"\"\" Preprocessing de texte \"\"\"\n",
    "    seqs = tokenizer.batch_encode_plus(X, max_length=max_length,\n",
    "                                            padding=\"max_length\",\n",
    "                                            truncation=True)\n",
    "    return np.asarray(seqs[\"input_ids\"]),\\\n",
    "           np.asarray(seqs[\"attention_mask\"]),\n",
    "\n",
    "# Création du modèle\n",
    "inp, x = model_body()\n",
    "x = Dense(27, activation=\"softmax\")(x)\n",
    "model = tf.keras.models.Model(inputs=inp, outputs=x)\n",
    "\n",
    "# Congélation du camembert\n",
    "for layer in model.layers:\n",
    "    if layer.name.find(\"tf_camembert_model\") >= 0:\n",
    "        layer.trainable = False\n",
    "\n",
    "# Compilation du modèle\n",
    "model.compile(optimizer=tf.keras.optimizers.Adam(learning_rate=0.001),\n",
    "              loss=\"sparse_categorical_crossentropy\",\n",
    "              metrics=[\"accuracy\"])\n",
    "model.summary()\n",
    "\n",
    "# Split des donnéees\n",
    "X = get_X_text()[:NB_ECHANTILLONS]\n",
    "y = get_y()[:NB_ECHANTILLONS]\n",
    "\n",
    "X, X_test, y, y_test = train_test_split(X, y, test_size=TEST_SIZE)\n",
    "X_train, X_val, y_train, y_val = train_test_split(X, y, test_size=VALIDATION_SPLIT)\n",
    "\n",
    "# Conversion des X\n",
    "tokenizer = transformers.CamembertTokenizer.from_pretrained(bertdir,\n",
    "                                                            local_files_only=True)\n",
    "X_train = preprocess_X(X_train)\n",
    "X_val = preprocess_X(X_val)\n",
    "X_test = preprocess_X(X_test)\n",
    "\n",
    "# Conversion des y\n",
    "fit_labels = {i: v for i, v in enumerate(sorted(list(set(y_train))))}\n",
    "assert len(fit_labels) == NB_CLASSES\n",
    "rv = {fit_labels[i]: i for i in fit_labels}\n",
    "\n",
    "y_train = np.array([rv[v] for v in y_train])\n",
    "y_val = np.array([rv[v] for v in y_val])\n",
    "y_test = np.array([rv[v] for v in y_test])\n"
   ]
  },
  {
   "cell_type": "code",
   "execution_count": null,
   "id": "86837927",
   "metadata": {},
   "outputs": [],
   "source": [
    "# Entrainement\n",
    "model.fit(X_train, y_train, validation_data=(X_val, y_val), verbose=1, epochs=1, batch_size=32)"
   ]
  },
  {
   "cell_type": "code",
   "execution_count": null,
   "id": "71db2a84",
   "metadata": {},
   "outputs": [],
   "source": [
    "# Prédiction\n",
    "softmaxout = model.predict(X_test, verbose=1)\n",
    "y_pred = [fit_labels[i] for i in np.argmax(softmaxout, axis=1)]\n",
    "classification_report(y_test, y_pred)"
   ]
  }
 ],
 "metadata": {
  "kernelspec": {
   "display_name": "Python 3",
   "language": "python",
   "name": "python3"
  },
  "language_info": {
   "codemirror_mode": {
    "name": "ipython",
    "version": 3
   },
   "file_extension": ".py",
   "mimetype": "text/x-python",
   "name": "python",
   "nbconvert_exporter": "python",
   "pygments_lexer": "ipython3",
   "version": "3.7.10"
  }
 },
 "nbformat": 4,
 "nbformat_minor": 5
}
