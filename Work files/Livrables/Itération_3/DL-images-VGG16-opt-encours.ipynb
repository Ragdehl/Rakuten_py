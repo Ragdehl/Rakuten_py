{
 "cells": [
  {
   "cell_type": "markdown",
   "metadata": {},
   "source": [
    "# DEEP LEARNING "
   ]
  },
  {
   "cell_type": "markdown",
   "metadata": {},
   "source": [
    "# Partie sur les images"
   ]
  },
  {
   "cell_type": "markdown",
   "metadata": {},
   "source": [
    "- Reprise du Transfert learning (modèle VGG16 qui avait un score de plus de 0.4 pour un échantillon total réduit de 30000 observations) \n",
    "- Introduction de la pondération des classes\n",
    "- Introduction des callbacks\n",
    "- Optimisation bayésienne des hyperparamètres (en cours très long, sur tout l'échantillon)"
   ]
  },
  {
   "cell_type": "markdown",
   "metadata": {},
   "source": [
    "### Objectif à dépasser : weighted F1-score = 0.5534 (Resnet)\n",
    "Environnement : Project"
   ]
  },
  {
   "cell_type": "markdown",
   "metadata": {},
   "source": [
    "Import libraries:"
   ]
  },
  {
   "cell_type": "code",
   "execution_count": 1,
   "metadata": {},
   "outputs": [],
   "source": [
    "import pandas as pd\n",
    "import numpy as np\n",
    "import matplotlib.pyplot as plt\n",
    "import numpy as np\n",
    "import glob, os\n",
    "os.chdir('C:\\\\Users\\\\barry\\\\OneDrive - CSTBGroup\\\\image_ds\\\\images')"
   ]
  },
  {
   "cell_type": "markdown",
   "metadata": {},
   "source": [
    "Optimisation bayésienne : "
   ]
  },
  {
   "cell_type": "markdown",
   "metadata": {
    "scrolled": true
   },
   "source": [
    "!pip3 install GPy\n",
    "!pip3 install GPyOpt\n",
    "#!pip3 install flatbuffers\n",
    "#NB PYTHON VERSION 3.6"
   ]
  },
  {
   "cell_type": "markdown",
   "metadata": {},
   "source": [
    "print(tensorflow.__version__)\n",
    "print(K.__version__)\n",
    "print(np.__version__)\n",
    "print(matplotlib.__version__)\n",
    "print(GPy.__version__)\n",
    "print(GPyOpt.__version__)"
   ]
  },
  {
   "cell_type": "code",
   "execution_count": 2,
   "metadata": {
    "scrolled": true
   },
   "outputs": [],
   "source": [
    "# Install GPy, GPyOpt\n",
    "import tensorflow \n",
    "import tensorflow.keras as keras\n",
    "import numpy as np\n",
    "import matplotlib.pyplot as plt\n",
    "%matplotlib inline\n",
    "import GPy\n",
    "import GPyOpt\n",
    "from GPyOpt.methods import BayesianOptimization"
   ]
  },
  {
   "cell_type": "markdown",
   "metadata": {},
   "source": [
    "Récupérer les données:"
   ]
  },
  {
   "cell_type": "code",
   "execution_count": 3,
   "metadata": {},
   "outputs": [],
   "source": [
    "X = pd.read_csv('X_train_update.csv',index_col=0)\n",
    "y = pd.read_csv('Y_train_CVw08PX.csv',index_col=0)"
   ]
  },
  {
   "cell_type": "markdown",
   "metadata": {},
   "source": [
    "Liste des images:"
   ]
  },
  {
   "cell_type": "code",
   "execution_count": 4,
   "metadata": {},
   "outputs": [],
   "source": [
    "os.chdir('C:\\\\Users\\\\barry\\\\OneDrive - CSTBGroup\\\\image_ds')"
   ]
  },
  {
   "cell_type": "code",
   "execution_count": 5,
   "metadata": {},
   "outputs": [],
   "source": [
    "import os #Miscellaneous operating system interfaces\n",
    "#https://docs.python.org/3/library/os.html\n",
    "\n",
    "#get current working directory\n",
    "current_path = os.getcwd() \n",
    "\n",
    "#Training images path\n",
    "images_path = current_path + r'/images/image_train/'\n",
    "\n",
    "#List with the name of all training images\n",
    "images_list = os.listdir(images_path)"
   ]
  },
  {
   "cell_type": "markdown",
   "metadata": {},
   "source": [
    "Géneration nom des images:"
   ]
  },
  {
   "cell_type": "code",
   "execution_count": 6,
   "metadata": {
    "scrolled": true
   },
   "outputs": [
    {
     "data": {
      "text/plain": [
       "0        image_1263597046_product_3804725264.jpg\n",
       "1         image_1008141237_product_436067568.jpg\n",
       "2          image_938777978_product_201115110.jpg\n",
       "3           image_457047496_product_50418756.jpg\n",
       "4         image_1077757786_product_278535884.jpg\n",
       "                          ...                   \n",
       "84911      image_941495734_product_206719094.jpg\n",
       "84912    image_1188462883_product_3065095706.jpg\n",
       "84913     image_1009325617_product_440707564.jpg\n",
       "84914    image_1267353403_product_3942400296.jpg\n",
       "84915       image_684671297_product_57203227.jpg\n",
       "Name: image name, Length: 84916, dtype: object"
      ]
     },
     "execution_count": 6,
     "metadata": {},
     "output_type": "execute_result"
    }
   ],
   "source": [
    "#Create a column with the name of the picture\n",
    "X['image name'] = 'image_' + X['imageid'].map(str) + '_product_' + X['productid'].map(str) + '.jpg'\n",
    "X['image name']"
   ]
  },
  {
   "cell_type": "markdown",
   "metadata": {},
   "source": [
    "### Répartition des images dans les échantillons train, validation et test"
   ]
  },
  {
   "cell_type": "markdown",
   "metadata": {},
   "source": [
    "Répartion :"
   ]
  },
  {
   "cell_type": "code",
   "execution_count": 7,
   "metadata": {},
   "outputs": [],
   "source": [
    "from sklearn.model_selection import train_test_split\n",
    "X_train, X_test, y_train, y_test = train_test_split(X, y, test_size = 0.2, random_state = 123)\n",
    "X_train, X_val, y_train, y_val = train_test_split(X_train, y_train, test_size = 0.2, random_state = 123)"
   ]
  },
  {
   "cell_type": "markdown",
   "metadata": {},
   "source": [
    "from sklearn.model_selection import train_test_split\n",
    "X_train, X_test, y_train, y_test = train_test_split(X, y, test_size = 0.2, random_state = 123)\n",
    "X_train, X_val, y_train, y_val = train_test_split(X_train, y_train, test_size = 0.1, random_state = 123)\n",
    "\n",
    "X_val = X_train.iloc[:2400,:]\n",
    "y_val = y_train.iloc[:2400,:]\n",
    "\n",
    "X_train = X_train.iloc[:21600,:]\n",
    "y_train = y_train.iloc[:21600:,:]\n",
    "\n",
    "X_test = X_test.iloc[:6000,:]\n",
    "y_test = y_test.iloc[:6000,:]"
   ]
  },
  {
   "cell_type": "markdown",
   "metadata": {},
   "source": [
    "from sklearn.model_selection import train_test_split\n",
    "X_train, X_test, y_train, y_test = train_test_split(X, y, test_size = 0.2, random_state = 123)\n",
    "X_train, X_val, y_train, y_val = train_test_split(X_train, y_train, test_size = 0.1, random_state = 123)\n",
    "\n",
    "X_val = X_train.iloc[:400,:]\n",
    "y_val = y_train.iloc[:400,:]\n",
    "\n",
    "X_train = X_train.iloc[:1600,:]\n",
    "y_train = y_train.iloc[:1600:,:]\n",
    "\n",
    "X_test = X_test.iloc[:600,:]\n",
    "y_test = y_test.iloc[:600,:]"
   ]
  },
  {
   "cell_type": "markdown",
   "metadata": {},
   "source": [
    "Qualité de la répartition :"
   ]
  },
  {
   "cell_type": "code",
   "execution_count": 8,
   "metadata": {},
   "outputs": [
    {
     "data": {
      "text/html": [
       "<div>\n",
       "<style scoped>\n",
       "    .dataframe tbody tr th:only-of-type {\n",
       "        vertical-align: middle;\n",
       "    }\n",
       "\n",
       "    .dataframe tbody tr th {\n",
       "        vertical-align: top;\n",
       "    }\n",
       "\n",
       "    .dataframe thead th {\n",
       "        text-align: right;\n",
       "    }\n",
       "</style>\n",
       "<table border=\"1\" class=\"dataframe\">\n",
       "  <thead>\n",
       "    <tr style=\"text-align: right;\">\n",
       "      <th></th>\n",
       "      <th>Nombre_images_train</th>\n",
       "      <th>Nombre_images_test</th>\n",
       "      <th>y</th>\n",
       "    </tr>\n",
       "    <tr>\n",
       "      <th>prdtypecode</th>\n",
       "      <th></th>\n",
       "      <th></th>\n",
       "      <th></th>\n",
       "    </tr>\n",
       "  </thead>\n",
       "  <tbody>\n",
       "    <tr>\n",
       "      <th>2583</th>\n",
       "      <td>6566</td>\n",
       "      <td>2045</td>\n",
       "      <td>2583</td>\n",
       "    </tr>\n",
       "    <tr>\n",
       "      <th>1560</th>\n",
       "      <td>3285</td>\n",
       "      <td>967</td>\n",
       "      <td>1560</td>\n",
       "    </tr>\n",
       "    <tr>\n",
       "      <th>2522</th>\n",
       "      <td>3236</td>\n",
       "      <td>993</td>\n",
       "      <td>2522</td>\n",
       "    </tr>\n",
       "    <tr>\n",
       "      <th>1300</th>\n",
       "      <td>3218</td>\n",
       "      <td>1006</td>\n",
       "      <td>1300</td>\n",
       "    </tr>\n",
       "    <tr>\n",
       "      <th>2060</th>\n",
       "      <td>3151</td>\n",
       "      <td>1060</td>\n",
       "      <td>2060</td>\n",
       "    </tr>\n",
       "    <tr>\n",
       "      <th>1280</th>\n",
       "      <td>3117</td>\n",
       "      <td>944</td>\n",
       "      <td>1280</td>\n",
       "    </tr>\n",
       "    <tr>\n",
       "      <th>2403</th>\n",
       "      <td>3033</td>\n",
       "      <td>979</td>\n",
       "      <td>2403</td>\n",
       "    </tr>\n",
       "    <tr>\n",
       "      <th>2280</th>\n",
       "      <td>3013</td>\n",
       "      <td>964</td>\n",
       "      <td>2280</td>\n",
       "    </tr>\n",
       "    <tr>\n",
       "      <th>1920</th>\n",
       "      <td>2729</td>\n",
       "      <td>866</td>\n",
       "      <td>1920</td>\n",
       "    </tr>\n",
       "    <tr>\n",
       "      <th>1160</th>\n",
       "      <td>2533</td>\n",
       "      <td>791</td>\n",
       "      <td>1160</td>\n",
       "    </tr>\n",
       "    <tr>\n",
       "      <th>1320</th>\n",
       "      <td>2088</td>\n",
       "      <td>635</td>\n",
       "      <td>1320</td>\n",
       "    </tr>\n",
       "    <tr>\n",
       "      <th>10</th>\n",
       "      <td>2020</td>\n",
       "      <td>601</td>\n",
       "      <td>10</td>\n",
       "    </tr>\n",
       "    <tr>\n",
       "      <th>2705</th>\n",
       "      <td>1777</td>\n",
       "      <td>536</td>\n",
       "      <td>2705</td>\n",
       "    </tr>\n",
       "    <tr>\n",
       "      <th>1140</th>\n",
       "      <td>1678</td>\n",
       "      <td>552</td>\n",
       "      <td>1140</td>\n",
       "    </tr>\n",
       "    <tr>\n",
       "      <th>2582</th>\n",
       "      <td>1638</td>\n",
       "      <td>524</td>\n",
       "      <td>2582</td>\n",
       "    </tr>\n",
       "    <tr>\n",
       "      <th>40</th>\n",
       "      <td>1617</td>\n",
       "      <td>475</td>\n",
       "      <td>40</td>\n",
       "    </tr>\n",
       "    <tr>\n",
       "      <th>2585</th>\n",
       "      <td>1605</td>\n",
       "      <td>527</td>\n",
       "      <td>2585</td>\n",
       "    </tr>\n",
       "    <tr>\n",
       "      <th>1302</th>\n",
       "      <td>1585</td>\n",
       "      <td>505</td>\n",
       "      <td>1302</td>\n",
       "    </tr>\n",
       "    <tr>\n",
       "      <th>1281</th>\n",
       "      <td>1336</td>\n",
       "      <td>415</td>\n",
       "      <td>1281</td>\n",
       "    </tr>\n",
       "    <tr>\n",
       "      <th>50</th>\n",
       "      <td>1046</td>\n",
       "      <td>341</td>\n",
       "      <td>50</td>\n",
       "    </tr>\n",
       "    <tr>\n",
       "      <th>2462</th>\n",
       "      <td>895</td>\n",
       "      <td>298</td>\n",
       "      <td>2462</td>\n",
       "    </tr>\n",
       "    <tr>\n",
       "      <th>2905</th>\n",
       "      <td>563</td>\n",
       "      <td>165</td>\n",
       "      <td>2905</td>\n",
       "    </tr>\n",
       "    <tr>\n",
       "      <th>1301</th>\n",
       "      <td>542</td>\n",
       "      <td>154</td>\n",
       "      <td>1301</td>\n",
       "    </tr>\n",
       "    <tr>\n",
       "      <th>2220</th>\n",
       "      <td>541</td>\n",
       "      <td>151</td>\n",
       "      <td>2220</td>\n",
       "    </tr>\n",
       "    <tr>\n",
       "      <th>60</th>\n",
       "      <td>519</td>\n",
       "      <td>176</td>\n",
       "      <td>60</td>\n",
       "    </tr>\n",
       "    <tr>\n",
       "      <th>1940</th>\n",
       "      <td>515</td>\n",
       "      <td>175</td>\n",
       "      <td>1940</td>\n",
       "    </tr>\n",
       "    <tr>\n",
       "      <th>1180</th>\n",
       "      <td>499</td>\n",
       "      <td>139</td>\n",
       "      <td>1180</td>\n",
       "    </tr>\n",
       "  </tbody>\n",
       "</table>\n",
       "</div>"
      ],
      "text/plain": [
       "             Nombre_images_train  Nombre_images_test     y\n",
       "prdtypecode                                               \n",
       "2583                        6566                2045  2583\n",
       "1560                        3285                 967  1560\n",
       "2522                        3236                 993  2522\n",
       "1300                        3218                1006  1300\n",
       "2060                        3151                1060  2060\n",
       "1280                        3117                 944  1280\n",
       "2403                        3033                 979  2403\n",
       "2280                        3013                 964  2280\n",
       "1920                        2729                 866  1920\n",
       "1160                        2533                 791  1160\n",
       "1320                        2088                 635  1320\n",
       "10                          2020                 601    10\n",
       "2705                        1777                 536  2705\n",
       "1140                        1678                 552  1140\n",
       "2582                        1638                 524  2582\n",
       "40                          1617                 475    40\n",
       "2585                        1605                 527  2585\n",
       "1302                        1585                 505  1302\n",
       "1281                        1336                 415  1281\n",
       "50                          1046                 341    50\n",
       "2462                         895                 298  2462\n",
       "2905                         563                 165  2905\n",
       "1301                         542                 154  1301\n",
       "2220                         541                 151  2220\n",
       "60                           519                 176    60\n",
       "1940                         515                 175  1940\n",
       "1180                         499                 139  1180"
      ]
     },
     "execution_count": 8,
     "metadata": {},
     "output_type": "execute_result"
    }
   ],
   "source": [
    "trainy = pd.DataFrame(y_train.value_counts(), columns = ['Nombre_images_train'])\n",
    "testy = pd.DataFrame(y_test.value_counts(), columns = ['Nombre_images_test'])\n",
    "train_test = trainy.merge(testy, right_index = True, left_index = True)\n",
    "train_test['y'] = train_test.index\n",
    "yval = []\n",
    "for i in train_test['y']:\n",
    "    yval.append(i[0])\n",
    "train_test['y'] = yval\n",
    "train_test"
   ]
  },
  {
   "cell_type": "markdown",
   "metadata": {},
   "source": [
    "Téléchargement Tensorboad"
   ]
  },
  {
   "cell_type": "code",
   "execution_count": 9,
   "metadata": {},
   "outputs": [],
   "source": [
    "%load_ext tensorboard"
   ]
  },
  {
   "cell_type": "markdown",
   "metadata": {},
   "source": [
    "# TRANSFER LEARNING"
   ]
  },
  {
   "cell_type": "code",
   "execution_count": 10,
   "metadata": {},
   "outputs": [
    {
     "name": "stderr",
     "output_type": "stream",
     "text": [
      "Using TensorFlow backend.\n"
     ]
    }
   ],
   "source": [
    "from keras.applications.vgg16 import preprocess_input\n",
    "from keras.applications.vgg16 import VGG16\n",
    "from keras.preprocessing.image import ImageDataGenerator\n",
    "\n",
    "train_data_generator = ImageDataGenerator(\n",
    "        preprocessing_function = preprocess_input,  # data augmentation\n",
    "        rotation_range = 10,\n",
    "        width_shift_range = 0.1,\n",
    "        height_shift_range = 0.1,\n",
    "        zoom_range = 1.1,\n",
    "        horizontal_flip = True\n",
    "        )\n",
    "\n",
    "val_data_generator = ImageDataGenerator(preprocessing_function = preprocess_input)\n",
    "\n",
    "test_data_generator = ImageDataGenerator(preprocessing_function = preprocess_input)"
   ]
  },
  {
   "cell_type": "code",
   "execution_count": 11,
   "metadata": {},
   "outputs": [],
   "source": [
    "X_train[\"class\"] = y_train\n",
    "X_test[\"class\"] = y_test\n",
    "X_val[\"class\"] = y_val"
   ]
  },
  {
   "cell_type": "code",
   "execution_count": 12,
   "metadata": {},
   "outputs": [
    {
     "name": "stdout",
     "output_type": "stream",
     "text": [
      "Found 54345 validated image filenames belonging to 27 classes.\n",
      "Found 13587 validated image filenames belonging to 27 classes.\n",
      "Found 16984 validated image filenames belonging to 27 classes.\n"
     ]
    }
   ],
   "source": [
    "batch_size = 32\n",
    "path = os.chdir('C:\\\\Users\\\\barry\\\\OneDrive - CSTBGroup\\\\image_ds\\\\images\\\\image_train')\n",
    "X_train[\"class\"] = X_train[\"class\"].astype(str)\n",
    "X_test[\"class\"] = X_test[\"class\"].astype(str)\n",
    "X_val[\"class\"] = X_val[\"class\"].astype(str)\n",
    "\n",
    "train_generator = train_data_generator.flow_from_dataframe(dataframe=X_train,\n",
    "                                                          directory=path,\n",
    "                                                           x_col = \"image name\",\n",
    "                                                           y_col = \"class\",\n",
    "                                                           class_mode =\"sparse\",\n",
    "                                                          target_size = (224, 224), \n",
    "                                                          batch_size = batch_size)\n",
    "\n",
    "\n",
    "val_generator = val_data_generator.flow_from_dataframe(dataframe=X_val,\n",
    "                                                          directory=path,\n",
    "                                                           x_col = \"image name\",\n",
    "                                                           y_col = \"class\",\n",
    "                                                           class_mode =\"sparse\",\n",
    "                                                          target_size = (224, 224), \n",
    "                                                          batch_size = batch_size)\n",
    "\n",
    "test_generator = test_data_generator.flow_from_dataframe(dataframe=X_test,\n",
    "                                                          directory=path,\n",
    "                                                           x_col = \"image name\",\n",
    "                                                           y_col = \"class\",\n",
    "                                                           class_mode =\"sparse\",\n",
    "                                                          target_size = (224, 224), \n",
    "                                                          batch_size = batch_size)"
   ]
  },
  {
   "cell_type": "markdown",
   "metadata": {
    "scrolled": true
   },
   "source": [
    "import tensorflow as tf\n",
    "from tensorflow.keras.layers import Dense, Dropout, Flatten, GlobalAveragePooling2D\n",
    "from tensorflow.keras.optimizers import Adam                                                                  \n",
    "from tensorflow.keras.models import Model, Sequential\n",
    "from tensorflow.keras.preprocessing.image import ImageDataGenerator\n",
    "from tensorflow.keras import backend as K\n",
    "from tensorflow.keras.applications.vgg16 import VGG16\n",
    "\n",
    "n_class = 27\n",
    "# Modèle VGG16\n",
    "base_model = VGG16(weights='imagenet', include_top=False) \n",
    "# Freezer les couches du VGG16\n",
    "for layer in base_model.layers: \n",
    "    layer.trainable = False\n",
    "\n",
    "model = Sequential()\n",
    "model.add(base_model) # Ajout du modèle VGG16\n",
    "model.add(GlobalAveragePooling2D()) \n",
    "model.add(Dense(1024,activation='relu'))\n",
    "model.add(Dropout(rate=0.2))\n",
    "model.add(Dense(512, activation='relu'))\n",
    "model.add(Dropout(rate=0.2))\n",
    "model.add(Dense(n_class, activation='softmax'))\n",
    "\n",
    "#model.compile(optimizer=\"adam\", loss='sparse_categorical_crossentropy', metrics=['acc'])\n",
    "model.compile(optimizer=Adam(lr = 0.0001), loss='sparse_categorical_crossentropy', metrics=['acc'])"
   ]
  },
  {
   "cell_type": "code",
   "execution_count": 13,
   "metadata": {},
   "outputs": [],
   "source": [
    "import keras as K\n",
    "import tensorflow as tf\n",
    "from tensorflow.keras.layers import Dense, Dropout, Flatten, GlobalAveragePooling2D\n",
    "from tensorflow.keras.optimizers import Adam                                                                  \n",
    "from tensorflow.keras.models import Model, Sequential\n",
    "from tensorflow.keras.preprocessing.image import ImageDataGenerator\n",
    "import tensorflow.keras.backend as K\n",
    "from tensorflow.keras.applications.vgg16 import VGG16\n",
    "from tensorflow.keras import callbacks\n",
    "# Remarque : manque le callback TensorBoard\n",
    "\n",
    "def build_model( learning_rate = 1e-4, rate = 0.2, units_1 = 1024 , units_2 = 512) :\n",
    "# Modèle VGG16\n",
    "    base_model = VGG16(weights='imagenet', include_top=False) \n",
    "# Freezer les couches du VGG16\n",
    "    for layer in base_model.layers: \n",
    "        layer.trainable = False\n",
    "    model = Sequential()\n",
    "    model.add(base_model) # Ajout du modèle VGG16\n",
    "    model.add(GlobalAveragePooling2D()) \n",
    "    model.add(Dense(units_1,activation='relu'))\n",
    "    model.add(Dropout(rate=rate))\n",
    "    model.add(Dense(units_2, activation='relu'))\n",
    "    model.add(Dropout(rate=rate))\n",
    "    model.add(Dense(27, activation='softmax'))\n",
    "    model.compile(optimizer=Adam(lr = learning_rate), loss='sparse_categorical_crossentropy', metrics=['acc'])\n",
    "\n",
    "    lr_reduce = callbacks.ReduceLROnPlateau(monitor='val_acc',\n",
    "                                            factor=0.6,\n",
    "                                            patience=2,\n",
    "                                            verbose=1,\n",
    "                                            mode='max',\n",
    "                                            min_lr=1e-7)\n",
    "    early_stop = callbacks.EarlyStopping(monitor='val_acc',\n",
    "                                         patience=3,\n",
    "                                         verbose=1,\n",
    "                                         mode='max')\n",
    "    \n",
    "    checkpoint = callbacks.ModelCheckpoint('vgg16_60_20_20_3hyp.h5',\n",
    "                                           monitor='val_acc',\n",
    "                                           verbose=1,\n",
    "                                           save_weights_only=False,\n",
    "                                           save_best_only=True,\n",
    "                                           mode='max',\n",
    "                                           save_freq='epoch')\n",
    "    return model, lr_reduce, early_stop, checkpoint"
   ]
  },
  {
   "cell_type": "code",
   "execution_count": 14,
   "metadata": {},
   "outputs": [],
   "source": [
    "import sklearn\n",
    "from sklearn.utils import class_weight\n",
    "\n",
    "def fit_model(model, lr_reduce, early_stop, checkpoint):\n",
    "    \"\"\"function that trains the head classifier\"\"\"\n",
    "    class_weights = class_weight.compute_class_weight('balanced',\n",
    "                                                      np.unique(train_generator.classes),  train_generator.classes)\n",
    "    train_class_weights = dict(enumerate(class_weights))\n",
    "\n",
    "    history = model.fit_generator(generator=train_generator, \n",
    "                                epochs = 2,\n",
    "                                steps_per_epoch = len(X_train)//batch_size,\n",
    "                                validation_data = val_generator,\n",
    "                                validation_steps = len(X_val)//batch_size, \n",
    "                               class_weight = train_class_weights,\n",
    "                           callbacks =  [lr_reduce, early_stop, checkpoint]\n",
    "                                )\n",
    "    return history"
   ]
  },
  {
   "cell_type": "code",
   "execution_count": 15,
   "metadata": {},
   "outputs": [],
   "source": [
    "from sklearn.metrics import f1_score\n",
    "\n",
    "def evaluate_model(model):\n",
    "    y_tl_pred_2 = model.predict_generator(test_generator, verbose = 1)\n",
    "    y_tl_pred_2 = y_tl_pred_2.argmax(axis = 1)\n",
    "    evaluation = f1_score(test_generator.classes, y_tl_pred_2 , average = \"weighted\")\n",
    "    return evaluation"
   ]
  },
  {
   "cell_type": "code",
   "execution_count": 16,
   "metadata": {
    "scrolled": true
   },
   "outputs": [],
   "source": [
    "# define the kernel for the Bayesian surrogate model using the \"radial basis function\" (RBF)\n",
    "#kernel = GPy.kern.RBF(input_dim=1, variance=1.0, lengthscale=1.0)\n",
    "\n",
    "# hyperparameter bounds\n",
    "bounds = [{'name': 'learning_rate', 'type': 'discrete', 'domain': (1e-3,1e-4, 1e-5)},\n",
    "           {'name': 'rate', 'type': 'discrete', 'domain': (0.2, 0.3,0.4,0.5)},\n",
    "         {'name': 'units_1', 'type': 'discrete', 'domain': ( 128, 256, 512,1024)},\n",
    "         {'name': 'units_2', 'type': 'discrete', 'domain': (64, 128, 256,512)}]\n",
    "\n",
    "\n",
    "# objective function for the model optimization:\n",
    "def f(x):\n",
    "    print()\n",
    "    print(\"Hyperparameters:\", x)\n",
    "    # Retrieve 'accuracy' from the previously saved model\n",
    "    try:\n",
    "        previous_best_model = models.load_model('vgg16_60_20_20_3hyp_best.h5')\n",
    "        previous_evaluation = evaluate_model(previous_best_model)\n",
    "    except Exception:\n",
    "        previous_best_model = None\n",
    "        \n",
    "    model, lr_reduce, early_stop, checkpoint = build_model(\n",
    "                                        learning_rate=float(x[:,0]),\n",
    "                                        rate=float(x[:,1]),\n",
    "                                        units_1=int(x[:,1]),\n",
    "                                        units_2=int(x[:,1]))\n",
    "    history = fit_model(model, lr_reduce, early_stop, checkpoint)\n",
    "    evaluation = evaluate_model(model)\n",
    "    print()\n",
    "    print(\"F1_score:\\t{0}\".format(evaluation))\n",
    "    print(evaluation)\n",
    "    print()\n",
    "    # compare previous and current validation accuracies\n",
    "    if not previous_best_model:\n",
    "        keras.models.save_model(model, 'vgg16_60_20_20_3hyp_best.h5', overwrite=False,include_optimizer=True)\n",
    "    if previous_best_model and evaluation > previous_evaluation:\n",
    "        keras.models.save_model(model, 'vgg16_60_20_20_3hyp_best.h5', overwrite=True, include_optimizer=True)\n",
    "    # Get the dictionary containing each metric and the loss for each epoch\n",
    "    # history_dict = history.history\n",
    "    # print(history_dict)\n",
    "    def plot_history(history):\n",
    "        \"\"\"function that plots the model loss and accuracy\"\"\"\n",
    "        plt.figure(1, figsize = (15,8))\n",
    "        plt.subplot(221)\n",
    "        plt.plot(history.history['acc'])\n",
    "        plt.plot(history.history['val_acc'])\n",
    "        plt.title('model accuracy')\n",
    "        plt.ylabel('accuracy')\n",
    "        plt.xlabel('epoch')\n",
    "        plt.legend(['train', 'valid'])\n",
    "        \n",
    "        plt.subplot(222)\n",
    "        plt.plot(history.history['loss'])\n",
    "        plt.plot(history.history['val_loss'])\n",
    "        plt.title('model loss')\n",
    "        plt.ylabel('loss')\n",
    "        plt.xlabel('epoch')\n",
    "        plt.legend(['train', 'valid'])  \n",
    "        plt.show()\n",
    "     # plot the model accuracy and loss results\n",
    "    plot_history(history)\n",
    "    # delete the instantiated models from memory and clear the session\n",
    "    del model\n",
    "    del previous_best_model\n",
    "    keras.backend.clear_session()\n",
    "    return evaluation  \n",
    "\n"
   ]
  },
  {
   "cell_type": "markdown",
   "metadata": {},
   "source": [
    "Optimisation Bayésienne (en cours) :"
   ]
  },
  {
   "cell_type": "code",
   "execution_count": null,
   "metadata": {},
   "outputs": [
    {
     "name": "stdout",
     "output_type": "stream",
     "text": [
      "\n",
      "Hyperparameters: [[1.00e-03 2.00e-01 5.12e+02 5.12e+02]]\n",
      "WARNING:tensorflow:From C:\\Users\\barry\\AppData\\Roaming\\Python\\Python36\\site-packages\\tensorflow\\python\\ops\\array_ops.py:5049: calling gather (from tensorflow.python.ops.array_ops) with validate_indices is deprecated and will be removed in a future version.\n",
      "Instructions for updating:\n",
      "The `validate_indices` argument has no effect. Indices are always validated on CPU and never validated on GPU.\n",
      "Epoch 1/2\n",
      "1698/1698 [==============================] - 5411s 3s/step - loss: 3.2963 - acc: 0.0372 - val_loss: 3.2958 - val_acc: 0.0365\n",
      "\n",
      "Epoch 00001: val_acc improved from -inf to 0.03648, saving model to vgg16_60_20_20_3hyp.h5\n",
      "Epoch 2/2\n",
      "1698/1698 [==============================] - 5407s 3s/step - loss: 3.2955 - acc: 0.0372 - val_loss: 3.2958 - val_acc: 0.0365\n",
      "\n",
      "Epoch 00002: val_acc did not improve from 0.03648\n",
      "531/531 [==============================] - 6848s 13s/step\n",
      "\n",
      "F1_score:\t0.0024187812081845647\n",
      "0.0024187812081845647\n",
      "\n"
     ]
    },
    {
     "data": {
      "image/png": "[encoded data removed]",
      "text/plain": [
       "<Figure size 1080x576 with 2 Axes>"
      ]
     },
     "metadata": {
      "needs_background": "light"
     },
     "output_type": "display_data"
    },
    {
     "name": "stdout",
     "output_type": "stream",
     "text": [
      "\n",
      "Hyperparameters: [[1.00e-04 3.00e-01 1.28e+02 2.56e+02]]\n",
      "Epoch 1/2\n",
      "1698/1698 [==============================] - 5397s 3s/step - loss: 3.2959 - acc: 0.0372 - val_loss: 3.2958 - val_acc: 0.0364\n",
      "\n",
      "Epoch 00001: val_acc improved from -inf to 0.03641, saving model to vgg16_60_20_20_3hyp.h5\n",
      "Epoch 2/2\n",
      "1266/1698 [=====================>........] - ETA: 18:43 - loss: 3.2982 - acc: 0.0364"
     ]
    }
   ],
   "source": [
    "optimizer = BayesianOptimization(f=f,\n",
    "                                 domain=bounds,\n",
    "                                random_state=1)\n",
    "print()\n",
    "print(\"=====================\")\n",
    "print(\"=====================\")\n",
    "print()\n",
    "optimizer.run_optimization(max_iter=10, verbosity=False)\n",
    "optimizer.plot_acquisition()\n",
    "optimizer.plot_convergence()\n",
    "optimizer.save_report('optimisation_VGG16.txt')"
   ]
  },
  {
   "cell_type": "markdown",
   "metadata": {},
   "source": [
    "Paramètres optimisés : "
   ]
  },
  {
   "cell_type": "code",
   "execution_count": null,
   "metadata": {},
   "outputs": [],
   "source": [
    "# print optimized model\n",
    "print(\"\"\"\n",
    "Optimized Parameters:\n",
    "\\t{0}:\\t{1}\n",
    "\\t{2}:\\t{3}\n",
    "\\t{4}:\\t{5}\n",
    "\\t{6}:\\t{7}\n",
    "\\t{8}:\\t{9}\n",
    "\"\"\".format(bounds[0][\"name\"], optimizer.x_opt[0],\n",
    "           bounds[1][\"name\"], optimizer.x_opt[1],\n",
    "           bounds[2][\"name\"], optimizer.x_opt[2],\n",
    "           bounds[4][\"name\"], optimizer.x_opt[3]))\n",
    "print(\"optimized accuracy: {0}\".format(abs(optimizer.fx_opt)))"
   ]
  },
  {
   "cell_type": "markdown",
   "metadata": {},
   "source": [
    "Téléchargement du meilleur modèle : "
   ]
  },
  {
   "cell_type": "code",
   "execution_count": null,
   "metadata": {},
   "outputs": [],
   "source": [
    "# reinstantiate the best model from saved file\n",
    "best_model = K.models.load_model('cifar10_best.h5')\n",
    "best_model.summary()\n",
    "loss, acc = best_model.evaluate(features_valid, y_test)\n",
    "print('Restored model, accuracy: {:5.2f}%'.format(100*acc))"
   ]
  },
  {
   "cell_type": "code",
   "execution_count": 18,
   "metadata": {},
   "outputs": [
    {
     "data": {
      "text/plain": [
       "ERROR: Timed out waiting for TensorBoard to start. It may still be running as pid 20236."
      ]
     },
     "metadata": {},
     "output_type": "display_data"
    }
   ],
   "source": [
    "%tensorboard --logdir logs2"
   ]
  },
  {
   "cell_type": "markdown",
   "metadata": {},
   "source": [
    "Nombre couches à defreezed : "
   ]
  },
  {
   "cell_type": "code",
   "execution_count": 31,
   "metadata": {},
   "outputs": [],
   "source": [
    "for layer in base_model.layers[-4:]:\n",
    "    layer.trainable = True"
   ]
  },
  {
   "cell_type": "code",
   "execution_count": null,
   "metadata": {},
   "outputs": [],
   "source": [
    "model.compile(optimizer=Adam(lr=1e-4), loss='sparse_categorical_crossentropy', metrics=['accuracy'])\n",
    "tl_2_defreeze = model.fit_generator(generator=train_generator, \n",
    "                                epochs = 10,\n",
    "                                steps_per_epoch = len(X_train)//batch_size,\n",
    "                                validation_data=test_generator,\n",
    "                                validation_steps=len(X_val)//batch_size, \n",
    "                                    class_weight=class_weights\n",
    "                                )"
   ]
  },
  {
   "cell_type": "code",
   "execution_count": null,
   "metadata": {},
   "outputs": [],
   "source": [
    "y_tl_pred_2 = model.predict_generator(test_generator, verbose = 1)\n",
    "y_tl_pred_2 = y_tl_pred_2.argmax(axis = 1)"
   ]
  },
  {
   "cell_type": "code",
   "execution_count": null,
   "metadata": {},
   "outputs": [],
   "source": [
    "from sklearn.metrics import f1_score\n",
    "f1_score(test_generator.classes, y_tl_pred_2 , average = \"weighted\")"
   ]
  },
  {
   "cell_type": "code",
   "execution_count": null,
   "metadata": {},
   "outputs": [],
   "source": [
    "print(\"Score initiale : 0.44\")"
   ]
  },
  {
   "cell_type": "markdown",
   "metadata": {},
   "source": [
    "Graph : "
   ]
  },
  {
   "cell_type": "code",
   "execution_count": null,
   "metadata": {},
   "outputs": [],
   "source": [
    "import matplotlib.pyplot as plt\n",
    "acc = history.history['acc']\n",
    "val_acc = history.history['val_acc']\n",
    "loss = history.history['loss']\n",
    "val_loss = history.history['val_loss']\n",
    "epochs = range(1, len(acc) + 1)\n",
    "\n",
    "\n",
    "plt.plot(epochs, acc,  label = \"Entrainement\")\n",
    "plt.plot(epochs, val_acc,  label= \"Validation\")\n",
    "plt.title(\"Exactitude pendant l'\\entraînement et la validation\")\n",
    "plt.legend()\n",
    "          \n",
    "plt.figure()\n",
    "          \n",
    "plt.plot(epochs, loss, label = 'Entrainement')\n",
    "plt.plot(epochs, val_loss, 'b', label = \"Validation\")\n",
    "plt.title(\"Perte pendant l'\\entraînement et la validation\")\n",
    "plt.legend()\n",
    "plt.show()"
   ]
  },
  {
   "cell_type": "code",
   "execution_count": null,
   "metadata": {},
   "outputs": [],
   "source": [
    "from sklearn.metrics import confusion_matrix\n",
    "print(pd.DataFrame(confusion_matrix( test_generator.classes, y_tl_pred_2)))"
   ]
  }
 ],
 "metadata": {
  "kernelspec": {
   "display_name": "Python 3",
   "language": "python",
   "name": "python3"
  },
  "language_info": {
   "codemirror_mode": {
    "name": "ipython",
    "version": 3
   },
   "file_extension": ".py",
   "mimetype": "text/x-python",
   "name": "python",
   "nbconvert_exporter": "python",
   "pygments_lexer": "ipython3",
   "version": "3.6.13"
  }
 },
 "nbformat": 4,
 "nbformat_minor": 4
}
