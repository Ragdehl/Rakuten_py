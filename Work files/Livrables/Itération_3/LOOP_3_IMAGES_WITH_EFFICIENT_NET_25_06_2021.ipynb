{
  "nbformat": 4,
  "nbformat_minor": 5,
  "metadata": {
    "kernelspec": {
      "display_name": "Python 3",
      "language": "python",
      "name": "python3"
    },
    "language_info": {
      "codemirror_mode": {
        "name": "ipython",
        "version": 3
      },
      "file_extension": ".py",
      "mimetype": "text/x-python",
      "name": "python",
      "nbconvert_exporter": "python",
      "pygments_lexer": "ipython3",
      "version": "3.8.5"
    },
    "colab": {
      "name": "LOOP 3 IMAGES WITH EFFICIENT NET 25 06 2021.ipynb",
      "provenance": [],
      "include_colab_link": true
    }
  },
  "cells": [
    {
      "cell_type": "markdown",
      "metadata": {
        "id": "view-in-github",
        "colab_type": "text"
      },
      "source": [
        "<a href=\"https://colab.research.google.com/github/Ragdehl/Rakuten_py/blob/main/Livrables/It%C3%A9ration_3/LOOP_3_IMAGES_WITH_EFFICIENT_NET_25_06_2021.ipynb\" target=\"_parent\"><img src=\"https://colab.research.google.com/assets/colab-badge.svg\" alt=\"Open In Colab\"/></a>"
      ]
    },
    {
      "cell_type": "code",
      "metadata": {
        "id": "or0V6M7V-n8E"
      },
      "source": [
        "import pandas as pd\n",
        "import numpy as np\n",
        "import seaborn as sns\n",
        "import matplotlib.pyplot as plt\n",
        "import numpy as np\n",
        "import glob"
      ],
      "id": "or0V6M7V-n8E",
      "execution_count": null,
      "outputs": []
    },
    {
      "cell_type": "code",
      "metadata": {
        "id": "FDHFg18O-n8H"
      },
      "source": [
        "from keras.applications.resnet50 import ResNet50\n",
        "from keras.layers import Dense, GlobalAveragePooling2D\n",
        "from keras.models import Model\n",
        "from keras.optimizers import SGD\n",
        "from keras.preprocessing.image import ImageDataGenerator"
      ],
      "id": "FDHFg18O-n8H",
      "execution_count": null,
      "outputs": []
    },
    {
      "cell_type": "code",
      "metadata": {
        "id": "iOOJODmb-n8H"
      },
      "source": [
        "X = pd.read_csv('X_train_update.csv',index_col=0)\n",
        "y = pd.read_csv('Y_train_CVw08PX.csv',index_col=0)"
      ],
      "id": "iOOJODmb-n8H",
      "execution_count": null,
      "outputs": []
    },
    {
      "cell_type": "code",
      "metadata": {
        "id": "nBhCttTi-n8I"
      },
      "source": [
        "import os #Miscellaneous operating system interfaces\n",
        "#https://docs.python.org/3/library/os.html\n",
        "\n",
        "#get current working directory\n",
        "current_path = os.getcwd() \n",
        "\n",
        "#Training images path\n",
        "images_path = current_path + r'/images2/image_train/'\n",
        "\n",
        "#List with the name of all training images\n",
        "images_list = os.listdir(images_path)"
      ],
      "id": "nBhCttTi-n8I",
      "execution_count": null,
      "outputs": []
    },
    {
      "cell_type": "code",
      "metadata": {
        "id": "ApjWMNyp-n8I",
        "outputId": "9732d847-0f7c-416b-e211-2f8a0b838514"
      },
      "source": [
        "#Create a column with the name of the picture\n",
        "X['image name'] = 'image_' + X['imageid'].map(str) + '_product_' + X['productid'].map(str) + '.jpg'\n",
        "X['image name']"
      ],
      "id": "ApjWMNyp-n8I",
      "execution_count": null,
      "outputs": [
        {
          "output_type": "execute_result",
          "data": {
            "text/plain": [
              "0        image_1263597046_product_3804725264.jpg\n",
              "1         image_1008141237_product_436067568.jpg\n",
              "2          image_938777978_product_201115110.jpg\n",
              "3           image_457047496_product_50418756.jpg\n",
              "4         image_1077757786_product_278535884.jpg\n",
              "                          ...                   \n",
              "84911      image_941495734_product_206719094.jpg\n",
              "84912    image_1188462883_product_3065095706.jpg\n",
              "84913     image_1009325617_product_440707564.jpg\n",
              "84914    image_1267353403_product_3942400296.jpg\n",
              "84915       image_684671297_product_57203227.jpg\n",
              "Name: image name, Length: 84916, dtype: object"
            ]
          },
          "metadata": {
            "tags": []
          },
          "execution_count": 5
        }
      ]
    },
    {
      "cell_type": "code",
      "metadata": {
        "id": "-cFPZfE7-n8J"
      },
      "source": [
        "from sklearn.model_selection import train_test_split\n",
        "X_train, X_test, y_train, y_test = train_test_split(X, y, test_size = 0.2, random_state = 123)\n",
        "X_train, X_val, y_train, y_val = train_test_split(X_train, y_train, test_size = 0.1, random_state = 123)\n",
        "\n",
        "X_val = X_train.iloc[:1600,:]\n",
        "y_val = y_train.iloc[:1600,:]\n",
        "\n",
        "X_train = X_train.iloc[:14400,:]\n",
        "y_train = y_train.iloc[:14400:,:]\n",
        "\n",
        "X_test = X_test.iloc[:4000,:]\n",
        "y_test = y_test.iloc[:4000,:]"
      ],
      "id": "-cFPZfE7-n8J",
      "execution_count": null,
      "outputs": []
    },
    {
      "cell_type": "code",
      "metadata": {
        "id": "0pEjM1hm-n8K"
      },
      "source": [
        "X_train[\"class\"] = y_train\n",
        "X_test[\"class\"] = y_test\n",
        "X_val[\"class\"] = y_val"
      ],
      "id": "0pEjM1hm-n8K",
      "execution_count": null,
      "outputs": []
    },
    {
      "cell_type": "code",
      "metadata": {
        "id": "lHHivywF-n8K"
      },
      "source": [
        "train_data_generator = ImageDataGenerator(rescale = 1./255, rotation_range = 10, width_shift_range = 0.15, height_shift_range = 0.15,zoom_range = 1.1, horizontal_flip = True)\n",
        "val_data_generator = ImageDataGenerator(rescale = 1./255, rotation_range = 10, width_shift_range = 0.15, height_shift_range = 0.15,zoom_range = 1.1,horizontal_flip = True)\n",
        "test_data_generator = ImageDataGenerator(rescale = 1./255)"
      ],
      "id": "lHHivywF-n8K",
      "execution_count": null,
      "outputs": []
    },
    {
      "cell_type": "code",
      "metadata": {
        "id": "nCYbxVDA-n8L",
        "outputId": "cb52f214-ee32-41bc-967b-ef7a3b326e66"
      },
      "source": [
        "batch_size = 32\n",
        "path = images_path\n",
        "X_train[\"class\"] = X_train[\"class\"].astype(str)\n",
        "X_test[\"class\"] = X_test[\"class\"].astype(str)\n",
        "X_val[\"class\"] = X_val[\"class\"].astype(str)\n",
        "\n",
        "train_generator = train_data_generator.flow_from_dataframe(dataframe=X_train,\n",
        "                                                          directory=path,\n",
        "                                                           x_col = \"image name\",\n",
        "                                                           y_col = \"class\",\n",
        "                                                           class_mode =\"sparse\",\n",
        "                                                          target_size = (224, 224), \n",
        "                                                          batch_size = batch_size)\n",
        "\n",
        "\n",
        "val_generator = val_data_generator.flow_from_dataframe(dataframe=X_val,\n",
        "                                                          directory=path,\n",
        "                                                           x_col = \"image name\",\n",
        "                                                           y_col = \"class\",\n",
        "                                                           class_mode =\"sparse\",\n",
        "                                                          target_size = (224, 224), \n",
        "                                                          batch_size = batch_size)\n",
        "\n",
        "test_generator = test_data_generator.flow_from_dataframe(dataframe=X_test,\n",
        "                                                          directory=path,\n",
        "                                                           x_col = \"image name\",\n",
        "                                                           y_col = \"class\",\n",
        "                                                           class_mode =\"sparse\",\n",
        "                                                          target_size = (224, 224), \n",
        "                                                          batch_size = batch_size)"
      ],
      "id": "nCYbxVDA-n8L",
      "execution_count": null,
      "outputs": [
        {
          "output_type": "stream",
          "text": [
            "Found 14400 validated image filenames belonging to 27 classes.\n",
            "Found 1600 validated image filenames belonging to 27 classes.\n",
            "Found 4000 validated image filenames belonging to 27 classes.\n"
          ],
          "name": "stdout"
        }
      ]
    },
    {
      "cell_type": "code",
      "metadata": {
        "id": "MgdQG1pc-n8L"
      },
      "source": [
        ""
      ],
      "id": "MgdQG1pc-n8L",
      "execution_count": null,
      "outputs": []
    },
    {
      "cell_type": "code",
      "metadata": {
        "id": "XAScJc6J-n8L",
        "outputId": "5896aa5b-2ede-40fa-eaea-eee30780ddc1"
      },
      "source": [
        "pip install -U efficientnet"
      ],
      "id": "XAScJc6J-n8L",
      "execution_count": null,
      "outputs": [
        {
          "output_type": "stream",
          "text": [
            "Requirement already satisfied: efficientnet in c:\\users\\utilisateur\\anaconda3\\envs\\tf\\lib\\site-packages (1.1.1)\n",
            "Requirement already satisfied: scikit-image in c:\\users\\utilisateur\\anaconda3\\envs\\tf\\lib\\site-packages (from efficientnet) (0.17.2)\n",
            "Requirement already satisfied: keras-applications<=1.0.8,>=1.0.7 in c:\\users\\utilisateur\\anaconda3\\envs\\tf\\lib\\site-packages (from efficientnet) (1.0.8)\n",
            "Requirement already satisfied: h5py in c:\\users\\utilisateur\\anaconda3\\envs\\tf\\lib\\site-packages (from keras-applications<=1.0.8,>=1.0.7->efficientnet) (2.10.0)\n",
            "Requirement already satisfied: numpy>=1.9.1 in c:\\users\\utilisateur\\anaconda3\\envs\\tf\\lib\\site-packages (from keras-applications<=1.0.8,>=1.0.7->efficientnet) (1.19.2)\n",
            "Requirement already satisfied: six in c:\\users\\utilisateur\\anaconda3\\envs\\tf\\lib\\site-packages (from h5py->keras-applications<=1.0.8,>=1.0.7->efficientnet) (1.15.0)\n",
            "Requirement already satisfied: scipy>=1.0.1 in c:\\users\\utilisateur\\anaconda3\\envs\\tf\\lib\\site-packages (from scikit-image->efficientnet) (1.6.2)\n",
            "Requirement already satisfied: matplotlib!=3.0.0,>=2.0.0 in c:\\users\\utilisateur\\anaconda3\\envs\\tf\\lib\\site-packages (from scikit-image->efficientnet) (3.4.0)\n",
            "Requirement already satisfied: networkx>=2.0 in c:\\users\\utilisateur\\anaconda3\\envs\\tf\\lib\\site-packages (from scikit-image->efficientnet) (2.5)\n",
            "Requirement already satisfied: pillow!=7.1.0,!=7.1.1,>=4.3.0 in c:\\users\\utilisateur\\anaconda3\\envs\\tf\\lib\\site-packages (from scikit-image->efficientnet) (8.1.2)\n",
            "Requirement already satisfied: imageio>=2.3.0 in c:\\users\\utilisateur\\anaconda3\\envs\\tf\\lib\\site-packages (from scikit-image->efficientnet) (2.9.0)\n",
            "Requirement already satisfied: tifffile>=2019.7.26 in c:\\users\\utilisateur\\anaconda3\\envs\\tf\\lib\\site-packages (from scikit-image->efficientnet) (2020.10.1)\n",
            "Requirement already satisfied: PyWavelets>=1.1.1 in c:\\users\\utilisateur\\anaconda3\\envs\\tf\\lib\\site-packages (from scikit-image->efficientnet) (1.1.1)\n",
            "Requirement already satisfied: pyparsing>=2.2.1 in c:\\users\\utilisateur\\anaconda3\\envs\\tf\\lib\\site-packages (from matplotlib!=3.0.0,>=2.0.0->scikit-image->efficientnet) (2.4.7)\n",
            "Requirement already satisfied: cycler>=0.10 in c:\\users\\utilisateur\\anaconda3\\envs\\tf\\lib\\site-packages (from matplotlib!=3.0.0,>=2.0.0->scikit-image->efficientnet) (0.10.0)\n",
            "Requirement already satisfied: kiwisolver>=1.0.1 in c:\\users\\utilisateur\\anaconda3\\envs\\tf\\lib\\site-packages (from matplotlib!=3.0.0,>=2.0.0->scikit-image->efficientnet) (1.3.1)\n",
            "Requirement already satisfied: python-dateutil>=2.7 in c:\\users\\utilisateur\\anaconda3\\envs\\tf\\lib\\site-packages (from matplotlib!=3.0.0,>=2.0.0->scikit-image->efficientnet) (2.8.1)\n",
            "Requirement already satisfied: decorator>=4.3.0 in c:\\users\\utilisateur\\anaconda3\\envs\\tf\\lib\\site-packages (from networkx>=2.0->scikit-image->efficientnet) (4.4.2)\n",
            "Note: you may need to restart the kernel to use updated packages.\n"
          ],
          "name": "stdout"
        }
      ]
    },
    {
      "cell_type": "code",
      "metadata": {
        "id": "iXTXn3qd-n8M"
      },
      "source": [
        "import efficientnet.keras as efn\n",
        "from tensorflow.python.keras.models import Sequential\n",
        "from tensorflow.python.keras.layers import Dropout,Dense, Flatten, GlobalAveragePooling2D"
      ],
      "id": "iXTXn3qd-n8M",
      "execution_count": null,
      "outputs": []
    },
    {
      "cell_type": "code",
      "metadata": {
        "id": "gO_vIlPQ-n8M"
      },
      "source": [
        "from keras.optimizers import Adam\n",
        "from tensorflow.keras.optimizers import RMSprop\n",
        "opt = Adam(lr=0.0001)"
      ],
      "id": "gO_vIlPQ-n8M",
      "execution_count": null,
      "outputs": []
    },
    {
      "cell_type": "code",
      "metadata": {
        "id": "DYgw8GRH-n8M",
        "outputId": "76081538-d42a-43cd-edd2-b68c9a0fa4c6"
      },
      "source": [
        "base_model = efn.EfficientNetB0(input_shape = (224, 224, 3), include_top = False, weights = 'imagenet')\n",
        "for layer in base_model.layers:\n",
        "    layer.trainable = False\n",
        "    \n",
        "n_class = 27\n",
        "model = Sequential()\n",
        "model.add(efn.EfficientNetB0(input_shape = (224, 224, 3), include_top = False, weights = 'imagenet'))\n",
        "model.add(Flatten())\n",
        "model.add(Dense(1024, activation=\"relu\"))\n",
        "model.add(Dropout(0.5))\n",
        "model.add(Dense(n_class, activation=\"sigmoid\"))\n",
        "    \n",
        "# Compiling the model\n",
        "model.compile(optimizer=opt,loss='sparse_categorical_crossentropy',metrics=['accuracy'])\n",
        "model.summary()"
      ],
      "id": "DYgw8GRH-n8M",
      "execution_count": null,
      "outputs": [
        {
          "output_type": "stream",
          "text": [
            "Model: \"sequential_2\"\n",
            "_________________________________________________________________\n",
            "Layer (type)                 Output Shape              Param #   \n",
            "=================================================================\n",
            "efficientnet-b0 (Functional) (None, 7, 7, 1280)        4049564   \n",
            "_________________________________________________________________\n",
            "flatten_2 (Flatten)          (None, 62720)             0         \n",
            "_________________________________________________________________\n",
            "dense_4 (Dense)              (None, 1024)              64226304  \n",
            "_________________________________________________________________\n",
            "dropout_2 (Dropout)          (None, 1024)              0         \n",
            "_________________________________________________________________\n",
            "dense_5 (Dense)              (None, 27)                27675     \n",
            "=================================================================\n",
            "Total params: 68,303,543\n",
            "Trainable params: 68,261,527\n",
            "Non-trainable params: 42,016\n",
            "_________________________________________________________________\n"
          ],
          "name": "stdout"
        }
      ]
    },
    {
      "cell_type": "code",
      "metadata": {
        "id": "Yy9iCOYd-n8M",
        "outputId": "b0af9450-f8a8-4a0e-f69f-b6b6a5d5a3de"
      },
      "source": [
        "model.fit_generator(train_generator, \n",
        "                                epochs = 2,\n",
        "                                steps_per_epoch = len(X_train)//batch_size,\n",
        "                                validation_data = val_generator,\n",
        "                                validation_steps = len(X_val)//batch_size)"
      ],
      "id": "Yy9iCOYd-n8M",
      "execution_count": null,
      "outputs": [
        {
          "output_type": "stream",
          "text": [
            "WARNING:tensorflow:From <ipython-input-20-8a011b2255bb>:1: Model.fit_generator (from tensorflow.python.keras.engine.training) is deprecated and will be removed in a future version.\n",
            "Instructions for updating:\n",
            "Please use Model.fit, which supports generators.\n",
            "Epoch 1/2\n",
            "450/450 [==============================] - 1639s 4s/step - loss: 2.9782 - accuracy: 0.1742 - val_loss: 2.5216 - val_accuracy: 0.2862\n",
            "Epoch 2/2\n",
            "450/450 [==============================] - 1611s 4s/step - loss: 2.5967 - accuracy: 0.2812 - val_loss: 2.1837 - val_accuracy: 0.3569\n"
          ],
          "name": "stdout"
        },
        {
          "output_type": "execute_result",
          "data": {
            "text/plain": [
              "<tensorflow.python.keras.callbacks.History at 0x1fcb33ee580>"
            ]
          },
          "metadata": {
            "tags": []
          },
          "execution_count": 20
        }
      ]
    },
    {
      "cell_type": "code",
      "metadata": {
        "id": "ODi_57sO-n8N"
      },
      "source": [
        "for layer in base_model.layers[-4:]:\n",
        "    layer.trainable = True"
      ],
      "id": "ODi_57sO-n8N",
      "execution_count": null,
      "outputs": []
    },
    {
      "cell_type": "code",
      "metadata": {
        "id": "BbCALKPk-n8N",
        "outputId": "979ccd7b-5ba4-453b-9bbe-92276bbc225a"
      },
      "source": [
        "model.compile(optimizer= opt , loss='sparse_categorical_crossentropy', metrics = ['accuracy'])\n",
        "hist_unfreeze = model.fit_generator(generator=train_generator, \n",
        "                                epochs = 2,\n",
        "                                steps_per_epoch = len(X_train)//batch_size,\n",
        "                                validation_data=test_generator,\n",
        "                                validation_steps=len(X_val)//batch_size\n",
        "                                )"
      ],
      "id": "BbCALKPk-n8N",
      "execution_count": null,
      "outputs": [
        {
          "output_type": "stream",
          "text": [
            "Epoch 1/2\n",
            "450/450 [==============================] - 1622s 4s/step - loss: 2.3926 - accuracy: 0.3294 - val_loss: 1.8585 - val_accuracy: 0.4688\n",
            "Epoch 2/2\n",
            "450/450 [==============================] - 1678s 4s/step - loss: 2.2835 - accuracy: 0.3477 - val_loss: 1.8688 - val_accuracy: 0.4856\n"
          ],
          "name": "stdout"
        }
      ]
    },
    {
      "cell_type": "code",
      "metadata": {
        "id": "OTTVHY8U-n8N",
        "outputId": "9bca8608-be1a-4766-8233-a0f838971f97"
      },
      "source": [
        "import pandas as pd\n",
        "pd.DataFrame(hist_unfreeze.history).plot(figsize=(12, 8))\n",
        "plt.grid(True)\n",
        "plt.gca().set_ylim(0.2, 0.6) # set the vertical range to [0-1]\n",
        "plt.show()"
      ],
      "id": "OTTVHY8U-n8N",
      "execution_count": null,
      "outputs": [
        {
          "output_type": "display_data",
          "data": {
            "image/png": "[encoded data removed]",
            "text/plain": [
              "<Figure size 864x576 with 1 Axes>"
            ]
          },
          "metadata": {
            "tags": [],
            "needs_background": "light"
          }
        }
      ]
    },
    {
      "cell_type": "markdown",
      "metadata": {
        "id": "nAGovT9H-n8O"
      },
      "source": [
        "## loop 2 with callbacks + augmentation nombre données (avec passage en batch de 64)"
      ],
      "id": "nAGovT9H-n8O"
    },
    {
      "cell_type": "code",
      "metadata": {
        "id": "2fAPRUH1-n8O"
      },
      "source": [
        "from sklearn.model_selection import train_test_split\n",
        "X_train, X_test, y_train, y_test = train_test_split(X, y, test_size = 0.2, random_state = 123)\n",
        "X_train, X_val, y_train, y_val = train_test_split(X_train, y_train, test_size = 0.1, random_state = 123)\n",
        "X_val = X_train.iloc[:4800,:] #\n",
        "y_val = y_train.iloc[:4800,:]\n",
        "X_train = X_train.iloc[:43200,:] #\n",
        "y_train = y_train.iloc[:43200,:]\n",
        "X_test = X_test.iloc[:12000,:] #\n",
        "y_test = y_test.iloc[:12000,:]"
      ],
      "id": "2fAPRUH1-n8O",
      "execution_count": null,
      "outputs": []
    },
    {
      "cell_type": "code",
      "metadata": {
        "id": "pEHIMA_4-n8O"
      },
      "source": [
        "X_train[\"class\"] = y_train\n",
        "X_test[\"class\"] = y_test\n",
        "X_val[\"class\"] = y_val"
      ],
      "id": "pEHIMA_4-n8O",
      "execution_count": null,
      "outputs": []
    },
    {
      "cell_type": "code",
      "metadata": {
        "id": "ScQa0KAT-n8O"
      },
      "source": [
        "train_data_generator = ImageDataGenerator(rescale = 1./255, rotation_range = 10, width_shift_range = 0.15, height_shift_range = 0.12,zoom_range = 1.1, horizontal_flip = True)\n",
        "val_data_generator = ImageDataGenerator(rescale = 1./255, rotation_range = 10, width_shift_range = 0.15, height_shift_range = 0.12,zoom_range = 1.1,horizontal_flip = True)\n",
        "test_data_generator = ImageDataGenerator(rescale = 1./255)"
      ],
      "id": "ScQa0KAT-n8O",
      "execution_count": null,
      "outputs": []
    },
    {
      "cell_type": "code",
      "metadata": {
        "id": "aeyGueZr-n8O",
        "outputId": "017facf6-6912-4d01-e109-c2be2cdc8f99"
      },
      "source": [
        "batch_size = 64 #\n",
        "path = images_path\n",
        "X_train[\"class\"] = X_train[\"class\"].astype(str)\n",
        "X_test[\"class\"] = X_test[\"class\"].astype(str)\n",
        "X_val[\"class\"] = X_val[\"class\"].astype(str)\n",
        "\n",
        "train_generator = train_data_generator.flow_from_dataframe(dataframe=X_train,\n",
        "                                                          directory=path,\n",
        "                                                           x_col = \"image name\",\n",
        "                                                           y_col = \"class\",\n",
        "                                                           class_mode =\"sparse\",\n",
        "                                                          target_size = (224, 224), \n",
        "                                                          batch_size = batch_size)\n",
        "\n",
        "\n",
        "val_generator = val_data_generator.flow_from_dataframe(dataframe=X_val,\n",
        "                                                          directory=path,\n",
        "                                                           x_col = \"image name\",\n",
        "                                                           y_col = \"class\",\n",
        "                                                           class_mode =\"sparse\",\n",
        "                                                          target_size = (224, 224), \n",
        "                                                          batch_size = batch_size)\n",
        "\n",
        "test_generator = test_data_generator.flow_from_dataframe(dataframe=X_test,\n",
        "                                                          directory=path,\n",
        "                                                           x_col = \"image name\",\n",
        "                                                           y_col = \"class\",\n",
        "                                                           class_mode =\"sparse\",\n",
        "                                                          target_size = (224, 224), \n",
        "                                                          batch_size = batch_size)"
      ],
      "id": "aeyGueZr-n8O",
      "execution_count": null,
      "outputs": [
        {
          "output_type": "stream",
          "text": [
            "Found 43200 validated image filenames belonging to 27 classes.\n",
            "Found 4800 validated image filenames belonging to 27 classes.\n",
            "Found 12000 validated image filenames belonging to 27 classes.\n"
          ],
          "name": "stdout"
        }
      ]
    },
    {
      "cell_type": "code",
      "metadata": {
        "id": "vOkM75C3-n8P"
      },
      "source": [
        "opt2 = Adam(lr=0.1)"
      ],
      "id": "vOkM75C3-n8P",
      "execution_count": null,
      "outputs": []
    },
    {
      "cell_type": "code",
      "metadata": {
        "id": "pQInAV1P-n8P",
        "outputId": "4776f40e-eb06-4540-dc09-e73be261d39c"
      },
      "source": [
        "base_model = efn.EfficientNetB0(input_shape = (224, 224, 3), include_top = False, weights = 'imagenet')\n",
        "for layer in base_model.layers:\n",
        "    layer.trainable = False\n",
        "    \n",
        "n_class = 27\n",
        "model2 = Sequential()\n",
        "model2.add(efn.EfficientNetB0(input_shape = (224, 224, 3), include_top = False, weights = 'imagenet'))\n",
        "model2.add(Flatten())\n",
        "model2.add(Dense(1024, activation=\"relu\"))\n",
        "model2.add(Dropout(0.5))\n",
        "model2.add(Dense(n_class, activation=\"sigmoid\"))\n",
        "    \n",
        "# Compiling the model\n",
        "model2.compile(optimizer=opt2,loss='sparse_categorical_crossentropy',metrics=['accuracy'])\n",
        "model2.summary()"
      ],
      "id": "pQInAV1P-n8P",
      "execution_count": null,
      "outputs": [
        {
          "output_type": "stream",
          "text": [
            "Model: \"sequential_4\"\n",
            "_________________________________________________________________\n",
            "Layer (type)                 Output Shape              Param #   \n",
            "=================================================================\n",
            "efficientnet-b0 (Functional) (None, 7, 7, 1280)        4049564   \n",
            "_________________________________________________________________\n",
            "flatten_4 (Flatten)          (None, 62720)             0         \n",
            "_________________________________________________________________\n",
            "dense_8 (Dense)              (None, 1024)              64226304  \n",
            "_________________________________________________________________\n",
            "dropout_4 (Dropout)          (None, 1024)              0         \n",
            "_________________________________________________________________\n",
            "dense_9 (Dense)              (None, 27)                27675     \n",
            "=================================================================\n",
            "Total params: 68,303,543\n",
            "Trainable params: 68,261,527\n",
            "Non-trainable params: 42,016\n",
            "_________________________________________________________________\n"
          ],
          "name": "stdout"
        }
      ]
    },
    {
      "cell_type": "code",
      "metadata": {
        "id": "YmoqBAHa-n8P"
      },
      "source": [
        "# implementation du callback checkpoint\n",
        "from tensorflow.keras import callbacks\n",
        "import os\n",
        "cwd = os.getcwd()\n",
        "filepath = cwd\n",
        "\n",
        "checkpoint = callbacks.ModelCheckpoint(filepath = filepath, monitor = 'val_loss', save_best_only = True, save_weights_only = False,\n",
        "                                       mode = 'min', save_freq = 'epoch')"
      ],
      "id": "YmoqBAHa-n8P",
      "execution_count": null,
      "outputs": []
    },
    {
      "cell_type": "code",
      "metadata": {
        "id": "1yVZTx0B-n8P"
      },
      "source": [
        "# diminution du learning rate toutes les epochs\n",
        "def decreasinglrUpdate(epoch,learning_rate):\n",
        "    if epoch % 1 == 0:\n",
        "        return learning_rate * 0.3\n",
        "    else: \n",
        "        return learning_rate\n",
        "    \n",
        "lrScheduler = callbacks.LearningRateScheduler(schedule = decreasinglrUpdate,\n",
        "                                              verbose = 1)"
      ],
      "id": "1yVZTx0B-n8P",
      "execution_count": null,
      "outputs": []
    },
    {
      "cell_type": "code",
      "metadata": {
        "id": "oqDyKJEX-n8P",
        "outputId": "8834efa4-c7ef-4621-81c2-dcafdb1bf940"
      },
      "source": [
        "# Training the model for 10 epochs\n",
        "history2 = model2.fit_generator(train_generator, \n",
        "                                epochs = 7,\n",
        "                                steps_per_epoch = len(X_train)//batch_size,\n",
        "                                validation_data = val_generator,\n",
        "                                validation_steps = len(X_val)//batch_size,\n",
        "                                callbacks = [lrScheduler, checkpoint])"
      ],
      "id": "oqDyKJEX-n8P",
      "execution_count": null,
      "outputs": [
        {
          "output_type": "stream",
          "text": [
            "\n",
            "Epoch 00001: LearningRateScheduler reducing learning rate to 0.030000000447034835.\n",
            "Epoch 1/7\n",
            "675/675 [==============================] - ETA: 0s - loss: 14.5100 - accuracy: 0.0391WARNING:tensorflow:From C:\\Users\\utilisateur\\anaconda3\\envs\\tf\\lib\\site-packages\\tensorflow\\python\\training\\tracking\\tracking.py:111: Model.state_updates (from tensorflow.python.keras.engine.training) is deprecated and will be removed in a future version.\n",
            "Instructions for updating:\n",
            "This property should not be used in TensorFlow 2.0, as updates are applied automatically.\n",
            "WARNING:tensorflow:From C:\\Users\\utilisateur\\anaconda3\\envs\\tf\\lib\\site-packages\\tensorflow\\python\\training\\tracking\\tracking.py:111: Layer.updates (from tensorflow.python.keras.engine.base_layer) is deprecated and will be removed in a future version.\n",
            "Instructions for updating:\n",
            "This property should not be used in TensorFlow 2.0, as updates are applied automatically.\n",
            "INFO:tensorflow:Assets written to: C:\\Users\\utilisateur\\Documents\\projet_rakuten\\assets\n",
            "675/675 [==============================] - 4961s 7s/step - loss: 14.5100 - accuracy: 0.0391 - val_loss: 14.6776 - val_accuracy: 0.0360\n",
            "\n",
            "Epoch 00002: LearningRateScheduler reducing learning rate to 0.009000000357627868.\n",
            "Epoch 2/7\n",
            "675/675 [==============================] - ETA: 0s - loss: 14.5701 - accuracy: 0.0388INFO:tensorflow:Assets written to: C:\\Users\\utilisateur\\Documents\\projet_rakuten\\assets\n",
            "675/675 [==============================] - 4884s 7s/step - loss: 14.5701 - accuracy: 0.0388 - val_loss: 14.6099 - val_accuracy: 0.0360\n",
            "\n",
            "Epoch 00003: LearningRateScheduler reducing learning rate to 0.002700000163167715.\n",
            "Epoch 3/7\n",
            "675/675 [==============================] - ETA: 0s - loss: 14.5268 - accuracy: 0.0388INFO:tensorflow:Assets written to: C:\\Users\\utilisateur\\Documents\\projet_rakuten\\assets\n",
            "675/675 [==============================] - 4838s 7s/step - loss: 14.5268 - accuracy: 0.0388 - val_loss: 14.6096 - val_accuracy: 0.0360\n",
            "\n",
            "Epoch 00004: LearningRateScheduler reducing learning rate to 0.0008100000210106373.\n",
            "Epoch 4/7\n",
            " 33/675 [>.............................] - ETA: 1:14:19 - loss: 14.5771 - accuracy: 0.0417"
          ],
          "name": "stdout"
        },
        {
          "output_type": "error",
          "ename": "KeyboardInterrupt",
          "evalue": "",
          "traceback": [
            "\u001b[1;31m---------------------------------------------------------------------------\u001b[0m",
            "\u001b[1;31mKeyboardInterrupt\u001b[0m                         Traceback (most recent call last)",
            "\u001b[1;32m<ipython-input-35-5f2a8dd44997>\u001b[0m in \u001b[0;36m<module>\u001b[1;34m\u001b[0m\n\u001b[0;32m      1\u001b[0m \u001b[1;31m# Training the model for 10 epochs\u001b[0m\u001b[1;33m\u001b[0m\u001b[1;33m\u001b[0m\u001b[1;33m\u001b[0m\u001b[0m\n\u001b[1;32m----> 2\u001b[1;33m history2 = model2.fit_generator(train_generator, \n\u001b[0m\u001b[0;32m      3\u001b[0m                                 \u001b[0mepochs\u001b[0m \u001b[1;33m=\u001b[0m \u001b[1;36m7\u001b[0m\u001b[1;33m,\u001b[0m\u001b[1;33m\u001b[0m\u001b[1;33m\u001b[0m\u001b[0m\n\u001b[0;32m      4\u001b[0m                                 \u001b[0msteps_per_epoch\u001b[0m \u001b[1;33m=\u001b[0m \u001b[0mlen\u001b[0m\u001b[1;33m(\u001b[0m\u001b[0mX_train\u001b[0m\u001b[1;33m)\u001b[0m\u001b[1;33m//\u001b[0m\u001b[0mbatch_size\u001b[0m\u001b[1;33m,\u001b[0m\u001b[1;33m\u001b[0m\u001b[1;33m\u001b[0m\u001b[0m\n\u001b[0;32m      5\u001b[0m                                 \u001b[0mvalidation_data\u001b[0m \u001b[1;33m=\u001b[0m \u001b[0mval_generator\u001b[0m\u001b[1;33m,\u001b[0m\u001b[1;33m\u001b[0m\u001b[1;33m\u001b[0m\u001b[0m\n",
            "\u001b[1;32m~\\anaconda3\\envs\\tf\\lib\\site-packages\\tensorflow\\python\\util\\deprecation.py\u001b[0m in \u001b[0;36mnew_func\u001b[1;34m(*args, **kwargs)\u001b[0m\n\u001b[0;32m    322\u001b[0m               \u001b[1;34m'in a future version'\u001b[0m \u001b[1;32mif\u001b[0m \u001b[0mdate\u001b[0m \u001b[1;32mis\u001b[0m \u001b[1;32mNone\u001b[0m \u001b[1;32melse\u001b[0m \u001b[1;33m(\u001b[0m\u001b[1;34m'after %s'\u001b[0m \u001b[1;33m%\u001b[0m \u001b[0mdate\u001b[0m\u001b[1;33m)\u001b[0m\u001b[1;33m,\u001b[0m\u001b[1;33m\u001b[0m\u001b[1;33m\u001b[0m\u001b[0m\n\u001b[0;32m    323\u001b[0m               instructions)\n\u001b[1;32m--> 324\u001b[1;33m       \u001b[1;32mreturn\u001b[0m \u001b[0mfunc\u001b[0m\u001b[1;33m(\u001b[0m\u001b[1;33m*\u001b[0m\u001b[0margs\u001b[0m\u001b[1;33m,\u001b[0m \u001b[1;33m**\u001b[0m\u001b[0mkwargs\u001b[0m\u001b[1;33m)\u001b[0m\u001b[1;33m\u001b[0m\u001b[1;33m\u001b[0m\u001b[0m\n\u001b[0m\u001b[0;32m    325\u001b[0m     return tf_decorator.make_decorator(\n\u001b[0;32m    326\u001b[0m         \u001b[0mfunc\u001b[0m\u001b[1;33m,\u001b[0m \u001b[0mnew_func\u001b[0m\u001b[1;33m,\u001b[0m \u001b[1;34m'deprecated'\u001b[0m\u001b[1;33m,\u001b[0m\u001b[1;33m\u001b[0m\u001b[1;33m\u001b[0m\u001b[0m\n",
            "\u001b[1;32m~\\anaconda3\\envs\\tf\\lib\\site-packages\\tensorflow\\python\\keras\\engine\\training.py\u001b[0m in \u001b[0;36mfit_generator\u001b[1;34m(self, generator, steps_per_epoch, epochs, verbose, callbacks, validation_data, validation_steps, validation_freq, class_weight, max_queue_size, workers, use_multiprocessing, shuffle, initial_epoch)\u001b[0m\n\u001b[0;32m   1813\u001b[0m     \"\"\"\n\u001b[0;32m   1814\u001b[0m     \u001b[0m_keras_api_gauge\u001b[0m\u001b[1;33m.\u001b[0m\u001b[0mget_cell\u001b[0m\u001b[1;33m(\u001b[0m\u001b[1;34m'fit_generator'\u001b[0m\u001b[1;33m)\u001b[0m\u001b[1;33m.\u001b[0m\u001b[0mset\u001b[0m\u001b[1;33m(\u001b[0m\u001b[1;32mTrue\u001b[0m\u001b[1;33m)\u001b[0m\u001b[1;33m\u001b[0m\u001b[1;33m\u001b[0m\u001b[0m\n\u001b[1;32m-> 1815\u001b[1;33m     return self.fit(\n\u001b[0m\u001b[0;32m   1816\u001b[0m         \u001b[0mgenerator\u001b[0m\u001b[1;33m,\u001b[0m\u001b[1;33m\u001b[0m\u001b[1;33m\u001b[0m\u001b[0m\n\u001b[0;32m   1817\u001b[0m         \u001b[0msteps_per_epoch\u001b[0m\u001b[1;33m=\u001b[0m\u001b[0msteps_per_epoch\u001b[0m\u001b[1;33m,\u001b[0m\u001b[1;33m\u001b[0m\u001b[1;33m\u001b[0m\u001b[0m\n",
            "\u001b[1;32m~\\anaconda3\\envs\\tf\\lib\\site-packages\\tensorflow\\python\\keras\\engine\\training.py\u001b[0m in \u001b[0;36m_method_wrapper\u001b[1;34m(self, *args, **kwargs)\u001b[0m\n\u001b[0;32m    106\u001b[0m   \u001b[1;32mdef\u001b[0m \u001b[0m_method_wrapper\u001b[0m\u001b[1;33m(\u001b[0m\u001b[0mself\u001b[0m\u001b[1;33m,\u001b[0m \u001b[1;33m*\u001b[0m\u001b[0margs\u001b[0m\u001b[1;33m,\u001b[0m \u001b[1;33m**\u001b[0m\u001b[0mkwargs\u001b[0m\u001b[1;33m)\u001b[0m\u001b[1;33m:\u001b[0m\u001b[1;33m\u001b[0m\u001b[1;33m\u001b[0m\u001b[0m\n\u001b[0;32m    107\u001b[0m     \u001b[1;32mif\u001b[0m \u001b[1;32mnot\u001b[0m \u001b[0mself\u001b[0m\u001b[1;33m.\u001b[0m\u001b[0m_in_multi_worker_mode\u001b[0m\u001b[1;33m(\u001b[0m\u001b[1;33m)\u001b[0m\u001b[1;33m:\u001b[0m  \u001b[1;31m# pylint: disable=protected-access\u001b[0m\u001b[1;33m\u001b[0m\u001b[1;33m\u001b[0m\u001b[0m\n\u001b[1;32m--> 108\u001b[1;33m       \u001b[1;32mreturn\u001b[0m \u001b[0mmethod\u001b[0m\u001b[1;33m(\u001b[0m\u001b[0mself\u001b[0m\u001b[1;33m,\u001b[0m \u001b[1;33m*\u001b[0m\u001b[0margs\u001b[0m\u001b[1;33m,\u001b[0m \u001b[1;33m**\u001b[0m\u001b[0mkwargs\u001b[0m\u001b[1;33m)\u001b[0m\u001b[1;33m\u001b[0m\u001b[1;33m\u001b[0m\u001b[0m\n\u001b[0m\u001b[0;32m    109\u001b[0m \u001b[1;33m\u001b[0m\u001b[0m\n\u001b[0;32m    110\u001b[0m     \u001b[1;31m# Running inside `run_distribute_coordinator` already.\u001b[0m\u001b[1;33m\u001b[0m\u001b[1;33m\u001b[0m\u001b[1;33m\u001b[0m\u001b[0m\n",
            "\u001b[1;32m~\\anaconda3\\envs\\tf\\lib\\site-packages\\tensorflow\\python\\keras\\engine\\training.py\u001b[0m in \u001b[0;36mfit\u001b[1;34m(self, x, y, batch_size, epochs, verbose, callbacks, validation_split, validation_data, shuffle, class_weight, sample_weight, initial_epoch, steps_per_epoch, validation_steps, validation_batch_size, validation_freq, max_queue_size, workers, use_multiprocessing)\u001b[0m\n\u001b[0;32m   1096\u001b[0m                 batch_size=batch_size):\n\u001b[0;32m   1097\u001b[0m               \u001b[0mcallbacks\u001b[0m\u001b[1;33m.\u001b[0m\u001b[0mon_train_batch_begin\u001b[0m\u001b[1;33m(\u001b[0m\u001b[0mstep\u001b[0m\u001b[1;33m)\u001b[0m\u001b[1;33m\u001b[0m\u001b[1;33m\u001b[0m\u001b[0m\n\u001b[1;32m-> 1098\u001b[1;33m               \u001b[0mtmp_logs\u001b[0m \u001b[1;33m=\u001b[0m \u001b[0mtrain_function\u001b[0m\u001b[1;33m(\u001b[0m\u001b[0miterator\u001b[0m\u001b[1;33m)\u001b[0m\u001b[1;33m\u001b[0m\u001b[1;33m\u001b[0m\u001b[0m\n\u001b[0m\u001b[0;32m   1099\u001b[0m               \u001b[1;32mif\u001b[0m \u001b[0mdata_handler\u001b[0m\u001b[1;33m.\u001b[0m\u001b[0mshould_sync\u001b[0m\u001b[1;33m:\u001b[0m\u001b[1;33m\u001b[0m\u001b[1;33m\u001b[0m\u001b[0m\n\u001b[0;32m   1100\u001b[0m                 \u001b[0mcontext\u001b[0m\u001b[1;33m.\u001b[0m\u001b[0masync_wait\u001b[0m\u001b[1;33m(\u001b[0m\u001b[1;33m)\u001b[0m\u001b[1;33m\u001b[0m\u001b[1;33m\u001b[0m\u001b[0m\n",
            "\u001b[1;32m~\\anaconda3\\envs\\tf\\lib\\site-packages\\tensorflow\\python\\eager\\def_function.py\u001b[0m in \u001b[0;36m__call__\u001b[1;34m(self, *args, **kwds)\u001b[0m\n\u001b[0;32m    778\u001b[0m       \u001b[1;32melse\u001b[0m\u001b[1;33m:\u001b[0m\u001b[1;33m\u001b[0m\u001b[1;33m\u001b[0m\u001b[0m\n\u001b[0;32m    779\u001b[0m         \u001b[0mcompiler\u001b[0m \u001b[1;33m=\u001b[0m \u001b[1;34m\"nonXla\"\u001b[0m\u001b[1;33m\u001b[0m\u001b[1;33m\u001b[0m\u001b[0m\n\u001b[1;32m--> 780\u001b[1;33m         \u001b[0mresult\u001b[0m \u001b[1;33m=\u001b[0m \u001b[0mself\u001b[0m\u001b[1;33m.\u001b[0m\u001b[0m_call\u001b[0m\u001b[1;33m(\u001b[0m\u001b[1;33m*\u001b[0m\u001b[0margs\u001b[0m\u001b[1;33m,\u001b[0m \u001b[1;33m**\u001b[0m\u001b[0mkwds\u001b[0m\u001b[1;33m)\u001b[0m\u001b[1;33m\u001b[0m\u001b[1;33m\u001b[0m\u001b[0m\n\u001b[0m\u001b[0;32m    781\u001b[0m \u001b[1;33m\u001b[0m\u001b[0m\n\u001b[0;32m    782\u001b[0m       \u001b[0mnew_tracing_count\u001b[0m \u001b[1;33m=\u001b[0m \u001b[0mself\u001b[0m\u001b[1;33m.\u001b[0m\u001b[0m_get_tracing_count\u001b[0m\u001b[1;33m(\u001b[0m\u001b[1;33m)\u001b[0m\u001b[1;33m\u001b[0m\u001b[1;33m\u001b[0m\u001b[0m\n",
            "\u001b[1;32m~\\anaconda3\\envs\\tf\\lib\\site-packages\\tensorflow\\python\\eager\\def_function.py\u001b[0m in \u001b[0;36m_call\u001b[1;34m(self, *args, **kwds)\u001b[0m\n\u001b[0;32m    805\u001b[0m       \u001b[1;31m# In this case we have created variables on the first call, so we run the\u001b[0m\u001b[1;33m\u001b[0m\u001b[1;33m\u001b[0m\u001b[1;33m\u001b[0m\u001b[0m\n\u001b[0;32m    806\u001b[0m       \u001b[1;31m# defunned version which is guaranteed to never create variables.\u001b[0m\u001b[1;33m\u001b[0m\u001b[1;33m\u001b[0m\u001b[1;33m\u001b[0m\u001b[0m\n\u001b[1;32m--> 807\u001b[1;33m       \u001b[1;32mreturn\u001b[0m \u001b[0mself\u001b[0m\u001b[1;33m.\u001b[0m\u001b[0m_stateless_fn\u001b[0m\u001b[1;33m(\u001b[0m\u001b[1;33m*\u001b[0m\u001b[0margs\u001b[0m\u001b[1;33m,\u001b[0m \u001b[1;33m**\u001b[0m\u001b[0mkwds\u001b[0m\u001b[1;33m)\u001b[0m  \u001b[1;31m# pylint: disable=not-callable\u001b[0m\u001b[1;33m\u001b[0m\u001b[1;33m\u001b[0m\u001b[0m\n\u001b[0m\u001b[0;32m    808\u001b[0m     \u001b[1;32melif\u001b[0m \u001b[0mself\u001b[0m\u001b[1;33m.\u001b[0m\u001b[0m_stateful_fn\u001b[0m \u001b[1;32mis\u001b[0m \u001b[1;32mnot\u001b[0m \u001b[1;32mNone\u001b[0m\u001b[1;33m:\u001b[0m\u001b[1;33m\u001b[0m\u001b[1;33m\u001b[0m\u001b[0m\n\u001b[0;32m    809\u001b[0m       \u001b[1;31m# Release the lock early so that multiple threads can perform the call\u001b[0m\u001b[1;33m\u001b[0m\u001b[1;33m\u001b[0m\u001b[1;33m\u001b[0m\u001b[0m\n",
            "\u001b[1;32m~\\anaconda3\\envs\\tf\\lib\\site-packages\\tensorflow\\python\\eager\\function.py\u001b[0m in \u001b[0;36m__call__\u001b[1;34m(self, *args, **kwargs)\u001b[0m\n\u001b[0;32m   2827\u001b[0m     \u001b[1;32mwith\u001b[0m \u001b[0mself\u001b[0m\u001b[1;33m.\u001b[0m\u001b[0m_lock\u001b[0m\u001b[1;33m:\u001b[0m\u001b[1;33m\u001b[0m\u001b[1;33m\u001b[0m\u001b[0m\n\u001b[0;32m   2828\u001b[0m       \u001b[0mgraph_function\u001b[0m\u001b[1;33m,\u001b[0m \u001b[0margs\u001b[0m\u001b[1;33m,\u001b[0m \u001b[0mkwargs\u001b[0m \u001b[1;33m=\u001b[0m \u001b[0mself\u001b[0m\u001b[1;33m.\u001b[0m\u001b[0m_maybe_define_function\u001b[0m\u001b[1;33m(\u001b[0m\u001b[0margs\u001b[0m\u001b[1;33m,\u001b[0m \u001b[0mkwargs\u001b[0m\u001b[1;33m)\u001b[0m\u001b[1;33m\u001b[0m\u001b[1;33m\u001b[0m\u001b[0m\n\u001b[1;32m-> 2829\u001b[1;33m     \u001b[1;32mreturn\u001b[0m \u001b[0mgraph_function\u001b[0m\u001b[1;33m.\u001b[0m\u001b[0m_filtered_call\u001b[0m\u001b[1;33m(\u001b[0m\u001b[0margs\u001b[0m\u001b[1;33m,\u001b[0m \u001b[0mkwargs\u001b[0m\u001b[1;33m)\u001b[0m  \u001b[1;31m# pylint: disable=protected-access\u001b[0m\u001b[1;33m\u001b[0m\u001b[1;33m\u001b[0m\u001b[0m\n\u001b[0m\u001b[0;32m   2830\u001b[0m \u001b[1;33m\u001b[0m\u001b[0m\n\u001b[0;32m   2831\u001b[0m   \u001b[1;33m@\u001b[0m\u001b[0mproperty\u001b[0m\u001b[1;33m\u001b[0m\u001b[1;33m\u001b[0m\u001b[0m\n",
            "\u001b[1;32m~\\anaconda3\\envs\\tf\\lib\\site-packages\\tensorflow\\python\\eager\\function.py\u001b[0m in \u001b[0;36m_filtered_call\u001b[1;34m(self, args, kwargs, cancellation_manager)\u001b[0m\n\u001b[0;32m   1841\u001b[0m       \u001b[0;31m`\u001b[0m\u001b[0margs\u001b[0m\u001b[0;31m`\u001b[0m \u001b[1;32mand\u001b[0m\u001b[0;31m \u001b[0m\u001b[0;31m`\u001b[0m\u001b[0mkwargs\u001b[0m\u001b[0;31m`\u001b[0m\u001b[1;33m.\u001b[0m\u001b[1;33m\u001b[0m\u001b[1;33m\u001b[0m\u001b[0m\n\u001b[0;32m   1842\u001b[0m     \"\"\"\n\u001b[1;32m-> 1843\u001b[1;33m     return self._call_flat(\n\u001b[0m\u001b[0;32m   1844\u001b[0m         [t for t in nest.flatten((args, kwargs), expand_composites=True)\n\u001b[0;32m   1845\u001b[0m          if isinstance(t, (ops.Tensor,\n",
            "\u001b[1;32m~\\anaconda3\\envs\\tf\\lib\\site-packages\\tensorflow\\python\\eager\\function.py\u001b[0m in \u001b[0;36m_call_flat\u001b[1;34m(self, args, captured_inputs, cancellation_manager)\u001b[0m\n\u001b[0;32m   1921\u001b[0m         and executing_eagerly):\n\u001b[0;32m   1922\u001b[0m       \u001b[1;31m# No tape is watching; skip to running the function.\u001b[0m\u001b[1;33m\u001b[0m\u001b[1;33m\u001b[0m\u001b[1;33m\u001b[0m\u001b[0m\n\u001b[1;32m-> 1923\u001b[1;33m       return self._build_call_outputs(self._inference_function.call(\n\u001b[0m\u001b[0;32m   1924\u001b[0m           ctx, args, cancellation_manager=cancellation_manager))\n\u001b[0;32m   1925\u001b[0m     forward_backward = self._select_forward_and_backward_functions(\n",
            "\u001b[1;32m~\\anaconda3\\envs\\tf\\lib\\site-packages\\tensorflow\\python\\eager\\function.py\u001b[0m in \u001b[0;36mcall\u001b[1;34m(self, ctx, args, cancellation_manager)\u001b[0m\n\u001b[0;32m    543\u001b[0m       \u001b[1;32mwith\u001b[0m \u001b[0m_InterpolateFunctionError\u001b[0m\u001b[1;33m(\u001b[0m\u001b[0mself\u001b[0m\u001b[1;33m)\u001b[0m\u001b[1;33m:\u001b[0m\u001b[1;33m\u001b[0m\u001b[1;33m\u001b[0m\u001b[0m\n\u001b[0;32m    544\u001b[0m         \u001b[1;32mif\u001b[0m \u001b[0mcancellation_manager\u001b[0m \u001b[1;32mis\u001b[0m \u001b[1;32mNone\u001b[0m\u001b[1;33m:\u001b[0m\u001b[1;33m\u001b[0m\u001b[1;33m\u001b[0m\u001b[0m\n\u001b[1;32m--> 545\u001b[1;33m           outputs = execute.execute(\n\u001b[0m\u001b[0;32m    546\u001b[0m               \u001b[0mstr\u001b[0m\u001b[1;33m(\u001b[0m\u001b[0mself\u001b[0m\u001b[1;33m.\u001b[0m\u001b[0msignature\u001b[0m\u001b[1;33m.\u001b[0m\u001b[0mname\u001b[0m\u001b[1;33m)\u001b[0m\u001b[1;33m,\u001b[0m\u001b[1;33m\u001b[0m\u001b[1;33m\u001b[0m\u001b[0m\n\u001b[0;32m    547\u001b[0m               \u001b[0mnum_outputs\u001b[0m\u001b[1;33m=\u001b[0m\u001b[0mself\u001b[0m\u001b[1;33m.\u001b[0m\u001b[0m_num_outputs\u001b[0m\u001b[1;33m,\u001b[0m\u001b[1;33m\u001b[0m\u001b[1;33m\u001b[0m\u001b[0m\n",
            "\u001b[1;32m~\\anaconda3\\envs\\tf\\lib\\site-packages\\tensorflow\\python\\eager\\execute.py\u001b[0m in \u001b[0;36mquick_execute\u001b[1;34m(op_name, num_outputs, inputs, attrs, ctx, name)\u001b[0m\n\u001b[0;32m     57\u001b[0m   \u001b[1;32mtry\u001b[0m\u001b[1;33m:\u001b[0m\u001b[1;33m\u001b[0m\u001b[1;33m\u001b[0m\u001b[0m\n\u001b[0;32m     58\u001b[0m     \u001b[0mctx\u001b[0m\u001b[1;33m.\u001b[0m\u001b[0mensure_initialized\u001b[0m\u001b[1;33m(\u001b[0m\u001b[1;33m)\u001b[0m\u001b[1;33m\u001b[0m\u001b[1;33m\u001b[0m\u001b[0m\n\u001b[1;32m---> 59\u001b[1;33m     tensors = pywrap_tfe.TFE_Py_Execute(ctx._handle, device_name, op_name,\n\u001b[0m\u001b[0;32m     60\u001b[0m                                         inputs, attrs, num_outputs)\n\u001b[0;32m     61\u001b[0m   \u001b[1;32mexcept\u001b[0m \u001b[0mcore\u001b[0m\u001b[1;33m.\u001b[0m\u001b[0m_NotOkStatusException\u001b[0m \u001b[1;32mas\u001b[0m \u001b[0me\u001b[0m\u001b[1;33m:\u001b[0m\u001b[1;33m\u001b[0m\u001b[1;33m\u001b[0m\u001b[0m\n",
            "\u001b[1;31mKeyboardInterrupt\u001b[0m: "
          ]
        }
      ]
    },
    {
      "cell_type": "code",
      "metadata": {
        "id": "zS4JsYh_-n8Q"
      },
      "source": [
        "# resultats particulièrement mauvais sans amélioration -> arrêt "
      ],
      "id": "zS4JsYh_-n8Q",
      "execution_count": null,
      "outputs": []
    },
    {
      "cell_type": "code",
      "metadata": {
        "id": "0-3DEOoI-n8Q"
      },
      "source": [
        "for layer in base_model.layers[-4:]:\n",
        "    layer.trainable = True"
      ],
      "id": "0-3DEOoI-n8Q",
      "execution_count": null,
      "outputs": []
    },
    {
      "cell_type": "code",
      "metadata": {
        "id": "X-8cMf23-n8Q"
      },
      "source": [
        "model2.compile(optimizer= opt , loss='sparse_categorical_crossentropy', metrics = ['accuracy'])\n",
        "hist_unfreeze2 = model2.fit_generator(generator=train_generator, \n",
        "                                epochs = 5,\n",
        "                                steps_per_epoch = len(X_train)//batch_size,\n",
        "                                validation_data=test_generator,\n",
        "                                validation_steps=len(X_val)//batch_size\n",
        "                                )"
      ],
      "id": "X-8cMf23-n8Q",
      "execution_count": null,
      "outputs": []
    },
    {
      "cell_type": "code",
      "metadata": {
        "id": "eXIIcPAy-n8Q"
      },
      "source": [
        "import pandas as pd\n",
        "pd.DataFrame(history.hist_unfreeze2).plot(figsize=(12, 8))\n",
        "plt.grid(True)\n",
        "plt.gca().set_ylim(0, 1) # set the vertical range to [0-1]\n",
        "plt.show()"
      ],
      "id": "eXIIcPAy-n8Q",
      "execution_count": null,
      "outputs": []
    },
    {
      "cell_type": "markdown",
      "metadata": {
        "id": "soMa6STr-n8Q"
      },
      "source": [
        "## loop 3 with callbacks + augmentation nombre données (on repart en batch de 32 )\n",
        "## learning rate fixe"
      ],
      "id": "soMa6STr-n8Q"
    },
    {
      "cell_type": "code",
      "metadata": {
        "id": "hCdshkHT-n8Q"
      },
      "source": [
        "from sklearn.model_selection import train_test_split\n",
        "X_train, X_test, y_train, y_test = train_test_split(X, y, test_size = 0.2, random_state = 123)\n",
        "X_train, X_val, y_train, y_val = train_test_split(X_train, y_train, test_size = 0.1, random_state = 123)\n",
        "\n",
        "X_val = X_train.iloc[:3200,:]\n",
        "y_val = y_train.iloc[:3200,:]\n",
        "\n",
        "X_train = X_train.iloc[:28800,:]\n",
        "y_train = y_train.iloc[:28800:,:]\n",
        "\n",
        "X_test = X_test.iloc[:8000,:]\n",
        "y_test = y_test.iloc[:8000,:]"
      ],
      "id": "hCdshkHT-n8Q",
      "execution_count": null,
      "outputs": []
    },
    {
      "cell_type": "code",
      "metadata": {
        "id": "FnFic-h--n8Q"
      },
      "source": [
        "X_train[\"class\"] = y_train\n",
        "X_test[\"class\"] = y_test\n",
        "X_val[\"class\"] = y_val"
      ],
      "id": "FnFic-h--n8Q",
      "execution_count": null,
      "outputs": []
    },
    {
      "cell_type": "code",
      "metadata": {
        "id": "-HWJ2Wiy-n8Q"
      },
      "source": [
        "train_data_generator = ImageDataGenerator(rescale = 1./255, rotation_range = 10, width_shift_range = 0.1, height_shift_range = 0.15,zoom_range = 1.1, horizontal_flip = True)\n",
        "val_data_generator = ImageDataGenerator(rescale = 1./255, rotation_range = 10, width_shift_range = 0.1, height_shift_range = 0.15,zoom_range = 1.1,horizontal_flip = True)\n",
        "test_data_generator = ImageDataGenerator(rescale = 1./255)"
      ],
      "id": "-HWJ2Wiy-n8Q",
      "execution_count": null,
      "outputs": []
    },
    {
      "cell_type": "code",
      "metadata": {
        "id": "BZPmXUWM-n8Q",
        "outputId": "e639f3d2-8479-4442-d53b-1d95473d33af"
      },
      "source": [
        "batch_size = 32\n",
        "path = images_path\n",
        "X_train[\"class\"] = X_train[\"class\"].astype(str)\n",
        "X_test[\"class\"] = X_test[\"class\"].astype(str)\n",
        "X_val[\"class\"] = X_val[\"class\"].astype(str)\n",
        "\n",
        "train_generator = train_data_generator.flow_from_dataframe(dataframe=X_train,\n",
        "                                                          directory=path,\n",
        "                                                           x_col = \"image name\",\n",
        "                                                           y_col = \"class\",\n",
        "                                                           class_mode =\"sparse\",\n",
        "                                                          target_size = (224, 224), \n",
        "                                                          batch_size = batch_size)\n",
        "\n",
        "\n",
        "val_generator = val_data_generator.flow_from_dataframe(dataframe=X_val,\n",
        "                                                          directory=path,\n",
        "                                                           x_col = \"image name\",\n",
        "                                                           y_col = \"class\",\n",
        "                                                           class_mode =\"sparse\",\n",
        "                                                          target_size = (224, 224), \n",
        "                                                          batch_size = batch_size)\n",
        "\n",
        "test_generator = test_data_generator.flow_from_dataframe(dataframe=X_test,\n",
        "                                                          directory=path,\n",
        "                                                           x_col = \"image name\",\n",
        "                                                           y_col = \"class\",\n",
        "                                                           class_mode =\"sparse\",\n",
        "                                                          target_size = (224, 224), \n",
        "                                                          batch_size = batch_size)"
      ],
      "id": "BZPmXUWM-n8Q",
      "execution_count": null,
      "outputs": [
        {
          "output_type": "stream",
          "text": [
            "Found 28800 validated image filenames belonging to 27 classes.\n",
            "Found 3200 validated image filenames belonging to 27 classes.\n",
            "Found 8000 validated image filenames belonging to 27 classes.\n"
          ],
          "name": "stdout"
        }
      ]
    },
    {
      "cell_type": "code",
      "metadata": {
        "id": "FBw7RHO9-n8R"
      },
      "source": [
        "opt3 = Adam(lr=0.0001)"
      ],
      "id": "FBw7RHO9-n8R",
      "execution_count": null,
      "outputs": []
    },
    {
      "cell_type": "code",
      "metadata": {
        "id": "cEE1gFMK-n8R",
        "outputId": "817b726a-b9fb-47d2-dc2e-afb7c67fbf5e"
      },
      "source": [
        "base_model = efn.EfficientNetB0(input_shape = (224, 224, 3), include_top = False, weights = 'imagenet')\n",
        "for layer in base_model.layers:\n",
        "    layer.trainable = False\n",
        "    \n",
        "n_class = 27\n",
        "model3 = Sequential()\n",
        "model3.add(efn.EfficientNetB0(input_shape = (224, 224, 3), include_top = False, weights = 'imagenet'))\n",
        "model3.add(Flatten())\n",
        "model3.add(Dense(1024, activation=\"relu\"))\n",
        "model3.add(Dropout(0.5))\n",
        "model3.add(Dense(n_class, activation=\"sigmoid\"))\n",
        "    \n",
        "# Compiling the model\n",
        "model3.compile(optimizer=opt,loss='sparse_categorical_crossentropy',metrics=['accuracy'])\n",
        "model3.summary()"
      ],
      "id": "cEE1gFMK-n8R",
      "execution_count": null,
      "outputs": [
        {
          "output_type": "stream",
          "text": [
            "Model: \"sequential_5\"\n",
            "_________________________________________________________________\n",
            "Layer (type)                 Output Shape              Param #   \n",
            "=================================================================\n",
            "efficientnet-b0 (Functional) (None, 7, 7, 1280)        4049564   \n",
            "_________________________________________________________________\n",
            "flatten_5 (Flatten)          (None, 62720)             0         \n",
            "_________________________________________________________________\n",
            "dense_10 (Dense)             (None, 1024)              64226304  \n",
            "_________________________________________________________________\n",
            "dropout_5 (Dropout)          (None, 1024)              0         \n",
            "_________________________________________________________________\n",
            "dense_11 (Dense)             (None, 27)                27675     \n",
            "=================================================================\n",
            "Total params: 68,303,543\n",
            "Trainable params: 68,261,527\n",
            "Non-trainable params: 42,016\n",
            "_________________________________________________________________\n"
          ],
          "name": "stdout"
        }
      ]
    },
    {
      "cell_type": "code",
      "metadata": {
        "id": "mZtG_aKo-n8R"
      },
      "source": [
        "# implementation du callback checkpoint\n",
        "from tensorflow.keras import callbacks\n",
        "import os\n",
        "cwd = os.getcwd()\n",
        "filepath = cwd\n",
        "\n",
        "checkpoint = callbacks.ModelCheckpoint(filepath = filepath, monitor = 'val_loss', save_best_only = True, save_weights_only = False,\n",
        "                                       mode = 'min', save_freq = 'epoch')"
      ],
      "id": "mZtG_aKo-n8R",
      "execution_count": null,
      "outputs": []
    },
    {
      "cell_type": "code",
      "metadata": {
        "id": "81sfCioU-n8R"
      },
      "source": [
        "lr_plateau = callbacks.ReduceLROnPlateau(monitor='val_loss', patience=1, verbose=2, mode='min')"
      ],
      "id": "81sfCioU-n8R",
      "execution_count": null,
      "outputs": []
    },
    {
      "cell_type": "code",
      "metadata": {
        "id": "0XtUGbBk-n8R",
        "outputId": "17231cc4-c0bd-44cc-88c3-8a011d394a62"
      },
      "source": [
        "# Training the model for 3 epochs\n",
        "history3 = model3.fit_generator(train_generator, \n",
        "                                epochs = 3,\n",
        "                                steps_per_epoch = len(X_train)//batch_size,\n",
        "                                validation_data = val_generator,\n",
        "                                validation_steps = len(X_val)//batch_size,\n",
        "                                callbacks = [lr_plateau , checkpoint])"
      ],
      "id": "0XtUGbBk-n8R",
      "execution_count": null,
      "outputs": [
        {
          "output_type": "stream",
          "text": [
            "Epoch 1/3\n",
            "900/900 [==============================] - ETA: 0s - loss: 3.1619 - accuracy: 0.0974INFO:tensorflow:Assets written to: C:\\Users\\utilisateur\\Documents\\projet_rakuten\\assets\n",
            "900/900 [==============================] - 3369s 4s/step - loss: 3.1619 - accuracy: 0.0974 - val_loss: 2.8459 - val_accuracy: 0.1728\n",
            "Epoch 2/3\n",
            "900/900 [==============================] - ETA: 0s - loss: 2.7323 - accuracy: 0.2122INFO:tensorflow:Assets written to: C:\\Users\\utilisateur\\Documents\\projet_rakuten\\assets\n",
            "900/900 [==============================] - 4129s 5s/step - loss: 2.7323 - accuracy: 0.2122 - val_loss: 2.3597 - val_accuracy: 0.3300\n",
            "Epoch 3/3\n",
            "900/900 [==============================] - ETA: 0s - loss: 2.4262 - accuracy: 0.3099INFO:tensorflow:Assets written to: C:\\Users\\utilisateur\\Documents\\projet_rakuten\\assets\n",
            "900/900 [==============================] - 4154s 5s/step - loss: 2.4262 - accuracy: 0.3099 - val_loss: 2.0863 - val_accuracy: 0.3837\n"
          ],
          "name": "stdout"
        }
      ]
    },
    {
      "cell_type": "code",
      "metadata": {
        "id": "XTKuXVWB-n8R"
      },
      "source": [
        "for layer in base_model.layers[-4:]:\n",
        "    layer.trainable = True"
      ],
      "id": "XTKuXVWB-n8R",
      "execution_count": null,
      "outputs": []
    },
    {
      "cell_type": "code",
      "metadata": {
        "id": "5ZXu3U5Q-n8R",
        "outputId": "ddf5e6fb-60a4-40d3-fa90-de2c15bbf0b2"
      },
      "source": [
        "model3.compile(optimizer= opt , loss='sparse_categorical_crossentropy', metrics = ['accuracy'])\n",
        "hist_unfreeze3 = model3.fit_generator(generator=train_generator, \n",
        "                                epochs = 3,\n",
        "                                steps_per_epoch = len(X_train)//batch_size,\n",
        "                                validation_data=test_generator,\n",
        "                                validation_steps=len(X_val)//batch_size\n",
        "                                )"
      ],
      "id": "5ZXu3U5Q-n8R",
      "execution_count": null,
      "outputs": [
        {
          "output_type": "stream",
          "text": [
            "Epoch 1/3\n",
            "900/900 [==============================] - 3672s 4s/step - loss: 2.2580 - accuracy: 0.3553 - val_loss: 1.8056 - val_accuracy: 0.4775\n",
            "Epoch 2/3\n",
            "900/900 [==============================] - 3648s 4s/step - loss: 2.1416 - accuracy: 0.3816 - val_loss: 1.7165 - val_accuracy: 0.5200\n",
            "Epoch 3/3\n",
            "900/900 [==============================] - 5692s 6s/step - loss: 2.0611 - accuracy: 0.4059 - val_loss: 1.6005 - val_accuracy: 0.5391\n"
          ],
          "name": "stdout"
        }
      ]
    },
    {
      "cell_type": "code",
      "metadata": {
        "id": "e2wWQrr_-n8R",
        "outputId": "2210633d-62d9-436c-cce0-e547d1410d79"
      },
      "source": [
        "import pandas as pd\n",
        "pd.DataFrame(hist_unfreeze3.history).plot(figsize=(12, 8))\n",
        "plt.grid(True)\n",
        "plt.gca().set_ylim(0.2, 0.6) # set the vertical range to [0-1]\n",
        "plt.show()"
      ],
      "id": "e2wWQrr_-n8R",
      "execution_count": null,
      "outputs": [
        {
          "output_type": "display_data",
          "data": {
            "image/png": "[encoded data removed]",
            "text/plain": [
              "<Figure size 864x576 with 1 Axes>"
            ]
          },
          "metadata": {
            "tags": [],
            "needs_background": "light"
          }
        }
      ]
    }
  ]
}