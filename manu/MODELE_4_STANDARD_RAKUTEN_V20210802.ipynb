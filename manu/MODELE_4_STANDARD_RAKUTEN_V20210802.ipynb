{
  "nbformat": 4,
  "nbformat_minor": 5,
  "metadata": {
    "kernelspec": {
      "display_name": "Python 3",
      "language": "python",
      "name": "python3"
    },
    "language_info": {
      "codemirror_mode": {
        "name": "ipython",
        "version": 3
      },
      "file_extension": ".py",
      "mimetype": "text/x-python",
      "name": "python",
      "nbconvert_exporter": "python",
      "pygments_lexer": "ipython3",
      "version": "3.8.8"
    },
    "colab": {
      "name": "MODELE_4_STANDARD_RAKUTEN_V20210802.ipynb",
      "provenance": []
    }
  },
  "cells": [
    {
      "cell_type": "code",
      "metadata": {
        "id": "bridal-proposition"
      },
      "source": [
        "from rakuten_common import *"
      ],
      "id": "bridal-proposition",
      "execution_count": null,
      "outputs": []
    },
    {
      "cell_type": "code",
      "metadata": {
        "id": "opposed-qatar"
      },
      "source": [
        "class EmbedRNN(RakutenBaseModel):\n",
        "    \"\"\"\n",
        "    Modèle texte avec un layer Embedding et un layer GRU\n",
        "    \"\"\"\n",
        "    def __init__(self, nb=None):\n",
        "        super().__init__(self.__class__.__name__, nb)\n",
        "        if not hasattr(self, \"std\"):\n",
        "            # Appel pour la création du modèle\n",
        "            self.maxlen = 600\n",
        "            self.num_words = 70000\n",
        "            self.embedding_dim = 200\n",
        "            self.tokenizer = tf.keras.preprocessing.text.Tokenizer(num_words=self.num_words)\n",
        "\n",
        "    def get_class_weight(self):\n",
        "        indices = {int(self.fit_labels[i]):i for i in self.fit_labels}\n",
        "        cw = {i: 1 for i in range(NB_CLASSES)}\n",
        "        #cw[indices[1280]] = 2\n",
        "        return cw\n",
        "\n",
        "    def get_model_body(self):\n",
        "        self.layer_index = 0\n",
        "        inp = tf.keras.layers.Input(shape=(self.maxlen,),\n",
        "                                    name=self.layer_name(\"input\"))\n",
        "        x = tf.keras.layers.Embedding(self.num_words, self.embedding_dim,\n",
        "                                      name=self.layer_name(\"embed\"))(inp)\n",
        "        x = tf.keras.layers.GRU(128, return_sequences=True,\n",
        "                                name=self.layer_name(\"gru\"))(x)\n",
        "        x = tf.keras.layers.Dropout(0.3, name=self.layer_name(\"dropout\"))(x)\n",
        "        x = tf.keras.layers.GlobalAveragePooling1D(name=self.layer_name(\"batchnorm\"))(x)\n",
        "        x = tf.keras.layers.Dense(256, activation='relu', name=self.layer_name(\"dense\"))(x)\n",
        "        x = tf.keras.layers.Dropout(0.3, name=self.layer_name(\"dropout\"))(x)\n",
        "        return inp, x\n",
        "\n",
        "    def preprocess_X_train(self, off_start, off_end, input_file=None):\n",
        "        X_train = get_X_text(input_file)[off_start:off_end]\n",
        "        self.tokenizer.fit_on_texts(X_train)\n",
        "        self.word2idx = self.tokenizer.word_index\n",
        "        self.idx2word = self.tokenizer.index_word\n",
        "        self.vocab_size = self.tokenizer.num_words\n",
        "        \n",
        "        X_train = self.tokenizer.texts_to_sequences(X_train)\n",
        "        X_train = tf.keras.preprocessing.sequence.pad_sequences(X_train,\n",
        "                                                                maxlen=self.maxlen,\n",
        "                                                                padding='post')\n",
        "        return X_train\n",
        "\n",
        "    def preprocess_X_test(self, off_start, off_end, input_file=None):\n",
        "        X_test = get_X_text(input_file)[off_start:off_end]\n",
        "        X_test = self.tokenizer.texts_to_sequences(X_test)\n",
        "        X_test = tf.keras.preprocessing.sequence.pad_sequences(X_test,\n",
        "                                                               maxlen=self.maxlen,\n",
        "                                                               padding='post')\n",
        "\n",
        "        return X_test\n",
        "\n",
        "    def fit(self, off_start, off_val, off_end, input_file=None):\n",
        "\n",
        "        X_train = self.preprocess_X_train(off_start, off_val, input_file)\n",
        "        y_train = self.preprocess_y_train(off_start, off_val, input_file)\n",
        "\n",
        "        X_val = self.preprocess_X_test(off_val, off_end, input_file)\n",
        "        y_val = self.preprocess_y_train(off_val, off_end, input_file)\n",
        "\n",
        "        self.model = self.get_model()\n",
        "        \n",
        "        return self.compile_and_train_gen(X_train, y_train, X_val, y_val, optimizer='adam',\n",
        "                                         epochs=50, patience_stop=8, patience_lr=3,\n",
        "                                          class_weight=[])"
      ],
      "id": "opposed-qatar",
      "execution_count": null,
      "outputs": []
    },
    {
      "cell_type": "code",
      "metadata": {
        "id": "portable-stability",
        "outputId": "7e112d3c-a0d4-4028-8a6e-d4100d413061"
      },
      "source": [
        "EmbedRNN().evaluate(NB_ECHANTILLONS)"
      ],
      "id": "portable-stability",
      "execution_count": null,
      "outputs": [
        {
          "output_type": "stream",
          "text": [
            "++ [20h15mn] EmbedRNN: Evaluation avec 84916 échantillons\n",
            "++ [20h15mn] EmbedRNN: fit(): Début\n",
            "Epoch 1/50\n",
            "1805/1805 [==============================] - 682s 377ms/step - loss: 1.5350 - accuracy: 0.5338 - val_loss: 0.8198 - val_accuracy: 0.7588\n",
            "Epoch 2/50\n",
            "1805/1805 [==============================] - 692s 384ms/step - loss: 0.6239 - accuracy: 0.8153 - val_loss: 0.6481 - val_accuracy: 0.8090\n",
            "Epoch 3/50\n",
            "1805/1805 [==============================] - 679s 376ms/step - loss: 0.3418 - accuracy: 0.8969 - val_loss: 0.6957 - val_accuracy: 0.8074\n",
            "Epoch 4/50\n",
            "1805/1805 [==============================] - 679s 376ms/step - loss: 0.1856 - accuracy: 0.9439 - val_loss: 0.7726 - val_accuracy: 0.8129\n",
            "Epoch 5/50\n",
            "1805/1805 [==============================] - 680s 377ms/step - loss: 0.1137 - accuracy: 0.9654 - val_loss: 0.9004 - val_accuracy: 0.8086\n",
            "\n",
            "Epoch 00005: ReduceLROnPlateau reducing learning rate to 0.00010000000474974513.\n",
            "Epoch 6/50\n",
            "1805/1805 [==============================] - 684s 379ms/step - loss: 0.0507 - accuracy: 0.9846 - val_loss: 1.0065 - val_accuracy: 0.8117\n",
            "Epoch 7/50\n",
            "1805/1805 [==============================] - 687s 381ms/step - loss: 0.0373 - accuracy: 0.9883 - val_loss: 1.0856 - val_accuracy: 0.8100\n",
            "Epoch 8/50\n",
            "1805/1805 [==============================] - 689s 382ms/step - loss: 0.0298 - accuracy: 0.9907 - val_loss: 1.1499 - val_accuracy: 0.8112\n",
            "\n",
            "Epoch 00008: ReduceLROnPlateau reducing learning rate to 1.0000000474974514e-05.\n",
            "Epoch 9/50\n",
            "1805/1805 [==============================] - 687s 381ms/step - loss: 0.0232 - accuracy: 0.9931 - val_loss: 1.1692 - val_accuracy: 0.8109\n",
            "Epoch 10/50\n",
            "1805/1805 [==============================] - 688s 381ms/step - loss: 0.0224 - accuracy: 0.9932 - val_loss: 1.1805 - val_accuracy: 0.8103\n",
            "Restoring model weights from the end of the best epoch.\n",
            "Epoch 00010: early stopping\n"
          ],
          "name": "stdout"
        },
        {
          "output_type": "display_data",
          "data": {
            "image/png": "[encoded data removed]",
            "text/plain": [
              "<Figure size 1080x216 with 2 Axes>"
            ]
          },
          "metadata": {
            "tags": [],
            "needs_background": "light"
          }
        },
        {
          "output_type": "stream",
          "text": [
            "++ [22h09mn] EmbedRNN: fit(): Fin\n",
            "\n",
            "++ [22h09mn] EmbedRNN: predict(): Début\n",
            "531/531 [==============================] - 46s 85ms/step\n",
            "++ [22h10mn] EmbedRNN: predict(): Fin\n",
            "\n",
            "++ [22h10mn] EmbedRNN: w-f1-score = \u001b[1m0.8054\u001b[0m\n",
            "\n",
            "              precision    recall  f1-score   support\n",
            "\n",
            "          10       0.48      0.61      0.54       652\n",
            "        1140       0.74      0.73      0.74       541\n",
            "        1160       0.96      0.89      0.92       815\n",
            "        1180       0.69      0.49      0.58       140\n",
            "        1280       0.65      0.76      0.70       956\n",
            "        1281       0.74      0.35      0.48       399\n",
            "        1300       0.94      0.94      0.94      1051\n",
            "        1301       0.94      0.87      0.90       168\n",
            "        1302       0.77      0.76      0.77       497\n",
            "        1320       0.82      0.71      0.76       683\n",
            "        1560       0.84      0.82      0.83       993\n",
            "        1920       0.86      0.93      0.90       841\n",
            "        1940       0.64      0.87      0.74       147\n",
            "        2060       0.78      0.79      0.78      1031\n",
            "        2220       0.81      0.71      0.76       147\n",
            "        2280       0.88      0.81      0.85       921\n",
            "        2403       0.70      0.85      0.76       972\n",
            "        2462       0.78      0.68      0.73       282\n",
            "        2522       0.91      0.90      0.90       988\n",
            "        2582       0.72      0.74      0.73       509\n",
            "        2583       0.96      0.98      0.97      1987\n",
            "        2585       0.76      0.77      0.76       499\n",
            "        2705       0.83      0.63      0.72       559\n",
            "        2905       0.98      0.98      0.98       162\n",
            "          40       0.67      0.61      0.64       535\n",
            "          50       0.71      0.85      0.77       353\n",
            "          60       0.98      0.73      0.84       156\n",
            "\n",
            "    accuracy                           0.81     16984\n",
            "   macro avg       0.80      0.77      0.78     16984\n",
            "weighted avg       0.81      0.81      0.81     16984\n",
            "\n",
            "++ [22h10mn] EmbedRNN: 3290 mauvaises prédictions: modele_rakuten_out\\EmbedRNN_84916_bad_predictions.csv\n",
            "++ [22h10mn] EmbedRNN: Evaluation exécutée en 1h55mn\n",
            "++ [22h10mn] EmbedRNN: Modèle sauvegardé dans modele_rakuten_out\\EmbedRNN_84916_model.hdf5\n",
            "++ [22h10mn] EmbedRNN: Objet complet sauvegardé dans modele_rakuten_out\\EmbedRNN_84916_object.pkl\n"
          ],
          "name": "stdout"
        }
      ]
    },
    {
      "cell_type": "code",
      "metadata": {
        "id": "positive-taste"
      },
      "source": [
        "class Multilingu(RakutenBaseModel):\n",
        "    \"\"\"\n",
        "    Utilisation d'un modèle texte pré-entrainé (Multilingual-large) pour obtenir\n",
        "    des vecteurs d'embedding.\n",
        "    La fonction get_X_text_embed_multilingual() retourne ces vecteurs. Les plongements\n",
        "    des phrases sont effectués lors de la première exécution et stocké dans un fichier\n",
        "    qui est simplement lu par la suite.\n",
        "    Pour utiliser ce mdèle il faut télécharger \n",
        "           https://tfhub.dev/google/universal-sentence-encoder-multilingual-large/3\n",
        "    et l'extraire en tant que tfhub/universal-sentence-encoder-multilingual-large-3\n",
        "    \"\"\"\n",
        "    def __init__(self, nb=None):\n",
        "        super().__init__(self.__class__.__name__, nb)\n",
        "        if not hasattr(self, \"std\"):\n",
        "            # Appel pour la création du modèle\n",
        "            self.embedding_length = 512 # Défini par le modèle Multilingual/large\n",
        "            self.std = StandardScaler()\n",
        "\n",
        "    def get_model_body(self):\n",
        "        self.layer_index = 0\n",
        "        inp = tf.keras.layers.Input(shape=(self.embedding_length,),\n",
        "                                    name=self.layer_name(\"input\"))\n",
        "        x = tf.keras.layers.BatchNormalization(name=self.layer_name(\"batchnorm\"))(inp)\n",
        "        x = tf.keras.layers.Dense(200, activation='relu', name=self.layer_name(\"dense\"))(x)\n",
        "        x = tf.keras.layers.Dropout(0.4, name=self.layer_name(\"dropout\"))(x)\n",
        "#        x = tf.keras.layers.Dense(100, activation='relu', name=self.layer_name(\"dense\"))(x)\n",
        "#        x = tf.keras.layers.Dropout(0.4, name=self.layer_name(\"dropout\"))(x)\n",
        "        return inp, x\n",
        "\n",
        "    def preprocess_X_train(self, off_start, off_end, input_file=None):\n",
        "        X_train = get_X_text_embed_multilingual(input_file)[off_start:off_end]\n",
        "        X_train = self.std.fit_transform(X_train)\n",
        "        return X_train\n",
        "\n",
        "    def preprocess_X_test(self, off_start, off_end, input_file=None):\n",
        "        X_test = get_X_text_embed_multilingual(input_file)[off_start:off_end]\n",
        "        X_test = self.std.transform(X_test)\n",
        "        return X_test\n",
        "\n",
        "    def fit(self, off_start, off_val, off_end, input_file=None):\n",
        "\n",
        "        X_train = self.preprocess_X_train(off_start, off_val, input_file)\n",
        "        y_train = self.preprocess_y_train(off_start, off_val, input_file)\n",
        "\n",
        "        X_val = self.preprocess_X_test(off_val, off_end, input_file)\n",
        "        y_val = self.preprocess_y_train(off_val, off_end, input_file)\n",
        "\n",
        "        self.model = self.get_model()\n",
        "        \n",
        "        return self.compile_and_train_gen(X_train, y_train, X_val, y_val, optimizer='adam',\n",
        "                                         epochs=50, patience_stop=7, patience_lr=3)"
      ],
      "id": "positive-taste",
      "execution_count": null,
      "outputs": []
    },
    {
      "cell_type": "code",
      "metadata": {
        "id": "green-intranet"
      },
      "source": [
        "Multilingu().evaluate(NB_ECHANTILLONS)"
      ],
      "id": "green-intranet",
      "execution_count": null,
      "outputs": []
    },
    {
      "cell_type": "code",
      "metadata": {
        "id": "impaired-retreat"
      },
      "source": [
        "class NPDataset(tf.keras.utils.Sequence):\n",
        "    \"\"\"\n",
        "    Générateur qui extrait les données (de type tableau numpy)\n",
        "    à partir d'un path de fichier (passer par un fichier évite\n",
        "    le risque de OOM avec les grosses matrices denses one hot)\n",
        "    \"\"\"\n",
        "    def __init__(self, batch_size,\n",
        "                 X, y=None, shuffle=False, random_state=1968):\n",
        "        nb = len(X)\n",
        "        self.y = y\n",
        "        self.batch_size = batch_size\n",
        "        self.batch_number = int(nb / batch_size)\n",
        "        self.batch_indexes = range(self.batch_number)\n",
        "        self.prefix = re.match(r'^(.*)_\\d+\\.npy$', X[0]).group(1)\n",
        "        if shuffle:\n",
        "            self.random_state = random_state\n",
        "            self.batch_indexes = sklearn.utils.shuffle(self.batch_indexes,\n",
        "                                                       random_state=random_state)\n",
        "        self.shuffle = shuffle\n",
        "\n",
        "    def __len__(self):\n",
        "        \"\"\" Retourne le nombre de batchs \"\"\"\n",
        "        return self.batch_number\n",
        "\n",
        "    def __getitem__(self, index):\n",
        "        index = self.batch_indexes[index]\n",
        "        X = []\n",
        "        for i in range(index*self.batch_size, (index+1)*self.batch_size):\n",
        "            f = f\"{self.prefix}_{i}.npy\"\n",
        "            with open(f, 'rb') as fd:\n",
        "                x = np.load(fd)\n",
        "                X.append(x)\n",
        "        X = np.array(X)\n",
        "        if self.y is None:\n",
        "            return X\n",
        "        else:\n",
        "            y = self.y[index*self.batch_size : (index+1)*self.batch_size]\n",
        "            return X, y\n",
        "\n",
        "    def on_epoch_end(self):\n",
        "        \"\"\" Changements effectués à chaque fin d'époque \"\"\"\n",
        "        if self.shuffle:\n",
        "            self.batch_indexes = sklearn.utils.shuffle(self.batch_indexes,\n",
        "                                                       random_state=self.random_state)\n",
        "        \n",
        "\n",
        "class TextOneHot(RakutenBaseModel):\n",
        "    \"\"\"\n",
        "    Mini modèle NN exécuté après un préprocessing des données effectué\n",
        "    avec un pipe sklearn TfidfVectorizer | SelectFromModel(LinearSVC)\n",
        "    \n",
        "    Il faut télécharger la base de donnée Spacy pour le français:\n",
        "                     python -m spacy download fr_core_news_sm\n",
        "    Les textes sont tokenizés et lemattisés en utilisant Spacy, la fonction\n",
        "    get_X_text_spacy_lemma() retourne ces textes préprocessés en les lisant\n",
        "    dans un fichier qui est construit lors de la première utilisation.\n",
        "    \"\"\"\n",
        "    def __init__(self, nb=None):\n",
        "        super().__init__(self.__class__.__name__, nb)\n",
        "        if not hasattr(self, \"select\"):\n",
        "            # Appel pour la création du modèle\n",
        "            self.privatedir = os.path.join(OUTDIR, self.name)\n",
        "            self.maxfeatures = 50000 # Nombre de features selectionnées par SVC\n",
        "            self.select = make_pipeline(\n",
        "                TfidfVectorizer(analyzer='word',\n",
        "                  #strip_accents='ascii',\n",
        "                  #stop_words=french_stop_words, \n",
        "                  #    tokenizer=tokenize_spacy, # les données sont déjà tokenizées\n",
        "                  preprocessor=' '.join,\n",
        "                  lowercase=False,\n",
        "                  stop_words=None,\n",
        "                  max_df=0.8,\n",
        "                  min_df=2,\n",
        "                  ngram_range=(1,2),\n",
        "                  use_idf=True,\n",
        "                  smooth_idf=True,\n",
        "                  sublinear_tf=False,\n",
        "                  binary=True,\n",
        " #                 max_features=30000,  moins rentable que celui de SelectFromModel \n",
        "                  ),\n",
        "                  SelectFromModel(LinearSVC(penalty=\"l2\", dual=True, C=0.8,\n",
        "                                            tol=1e-5, max_iter=4000),\n",
        "                                  max_features=self.maxfeatures))\n",
        "\n",
        "    def __flush_data_to_file(self, data, tag, off_start, off_end, input_file=None):\n",
        "        if not os.path.isdir(self.privatedir):\n",
        "            os.makedirs(self.privatedir)\n",
        "        filelist = []\n",
        "        for i in range(data.shape[0]):\n",
        "            f = os.path.join(self.privatedir,\n",
        "                             f\"{tag}_{off_start}_{off_end}_{i}.npy\")\n",
        "            with open(f, 'wb') as fd:\n",
        "                datum = data[i].toarray()[0]\n",
        "                np.save(fd, datum)\n",
        "            filelist.append(f)\n",
        "        return filelist\n",
        "    \n",
        "    def data_from_file(self, filepath):\n",
        "        \"\"\"\n",
        "        Méthode pour lire une donnée preprocessée à partir d'un fichier\n",
        "        et la retourner\n",
        "        \"\"\"\n",
        "        with open(filepath, 'rb') as fd:\n",
        "            datum = np.load(fd)\n",
        "        return datum\n",
        "\n",
        "#    def get_class_weight(self):\n",
        "#        indices = {int(self.fit_labels[i]):i for i in self.fit_labels}\n",
        "#        cw = {i: 1 for i in range(NB_CLASSES)}\n",
        "#        cw[indices[10]] = 2\n",
        "#        return cw\n",
        "\n",
        "    def get_model_body(self):\n",
        "        self.layer_index = 0\n",
        "        inp = tf.keras.layers.Input(shape=self.input_shape, name=self.layer_name(\"input\"))\n",
        "        x = inp\n",
        "        x = tf.keras.layers.Dense(90, activation='relu', name=self.layer_name(\"dense\"))(x)\n",
        "        x = tf.keras.layers.Dropout(0.5, name=self.layer_name(\"dropout\"))(x)\n",
        "        x = tf.keras.layers.BatchNormalization(name=self.layer_name(\"batchnorm\"))(x)\n",
        "        return inp, x\n",
        "\n",
        "    def preprocess_X_train(self, off_start, off_end, input_file=None):\n",
        "        y_train = get_y()[off_start:off_end]\n",
        "#            X_train = get_X_text(input_file)[off_start:off_end]\n",
        "        X_train = get_X_text_spacy_lemma(input_file)[off_start:off_end]\n",
        "        X_train = self.select.fit_transform(X_train, y_train)\n",
        "        self.input_shape = X_train.shape[1:]\n",
        "        self.prt(f\"Nombre de mots retenus = {self.input_shape[0]}\")\n",
        "        return self.__flush_data_to_file(X_train, \"train\", off_start, off_end)\n",
        "\n",
        "    def preprocess_X_test(self, off_start, off_end, input_file=None):\n",
        "#        X_test = get_X_text(input_file)[off_start:off_end]\n",
        "        X_test = get_X_text_spacy_lemma(input_file)[off_start:off_end]\n",
        "        X_test = self.select.transform(X_test)\n",
        "        return self.__flush_data_to_file(X_test, \"test\", off_start, off_end)\n",
        "\n",
        "    def fit(self, off_start, off_val, off_end, input_file=None):\n",
        "\n",
        "        X_train = self.preprocess_X_train(off_start, off_val, input_file)\n",
        "        y_train = self.preprocess_y_train(off_start, off_val, input_file)\n",
        "        trainds = NPDataset(self.batch_size, X_train, y_train, shuffle=True)\n",
        "\n",
        "        X_val = self.preprocess_X_test(off_val, off_end, input_file)\n",
        "        y_val = self.preprocess_y_train(off_val, off_end, input_file)\n",
        "        valds = NPDataset(self.batch_size, X_val, y_val, shuffle=True)\n",
        "\n",
        "        self.model = self.get_model()\n",
        "\n",
        "        return self.compile_and_train_dataset(trainds, valds,\n",
        "                                              optimizer=tf.keras.optimizers.Adam(lr=0.0001),\n",
        "                                              epochs=20,\n",
        "                                              patience_stop=6, patience_lr=3)\n",
        "\n",
        "    def predict(self, off_start, off_end, input_file=None):\n",
        "        X_test = self.preprocess_X_test(off_start, off_end, input_file)\n",
        "        testds = NPDataset(1, X_test, shuffle=False)\n",
        "        return self.model_predict(testds)"
      ],
      "id": "impaired-retreat",
      "execution_count": null,
      "outputs": []
    },
    {
      "cell_type": "code",
      "metadata": {
        "id": "packed-guest",
        "outputId": "e74da5ca-f74f-45f0-8f84-9b179efe716b"
      },
      "source": [
        "TextOneHot().evaluate(NB_ECHANTILLONS)"
      ],
      "id": "packed-guest",
      "execution_count": null,
      "outputs": [
        {
          "output_type": "stream",
          "text": [
            "++ [18h55mn] TextOneHot: Evaluation avec 84916 échantillons\n",
            "++ [18h55mn] TextOneHot: Nombre de mots retenus = 50000\n"
          ],
          "name": "stdout"
        },
        {
          "output_type": "stream",
          "text": [
            "C:\\Users\\utilisateur\\anaconda3\\envs\\tf\\lib\\site-packages\\tensorflow\\python\\keras\\optimizer_v2\\optimizer_v2.py:374: UserWarning: The `lr` argument is deprecated, use `learning_rate` instead.\n",
            "  warnings.warn(\n"
          ],
          "name": "stderr"
        },
        {
          "output_type": "stream",
          "text": [
            "++ [18h59mn] TextOneHot: fit(): Début\n",
            "Epoch 1/20\n",
            "1804/1804 [==============================] - 115s 63ms/step - loss: 1.6604 - accuracy: 0.6326 - val_loss: 0.8212 - val_accuracy: 0.8039\n",
            "Epoch 2/20\n",
            "1804/1804 [==============================] - 110s 61ms/step - loss: 0.7026 - accuracy: 0.8401 - val_loss: 0.5880 - val_accuracy: 0.8355\n",
            "Epoch 3/20\n",
            "1804/1804 [==============================] - 110s 61ms/step - loss: 0.4008 - accuracy: 0.9096 - val_loss: 0.5283 - val_accuracy: 0.8482\n",
            "Epoch 4/20\n",
            "1804/1804 [==============================] - 109s 60ms/step - loss: 0.2462 - accuracy: 0.9461 - val_loss: 0.5223 - val_accuracy: 0.8487\n",
            "Epoch 5/20\n",
            "1804/1804 [==============================] - 110s 61ms/step - loss: 0.1626 - accuracy: 0.9645 - val_loss: 0.5291 - val_accuracy: 0.8494\n",
            "Epoch 6/20\n",
            "1804/1804 [==============================] - 110s 61ms/step - loss: 0.1137 - accuracy: 0.9753 - val_loss: 0.5507 - val_accuracy: 0.8500\n",
            "Epoch 7/20\n",
            "1804/1804 [==============================] - 110s 61ms/step - loss: 0.0803 - accuracy: 0.9830 - val_loss: 0.5766 - val_accuracy: 0.8484\n",
            "\n",
            "Epoch 00007: ReduceLROnPlateau reducing learning rate to 9.999999747378752e-06.\n",
            "Epoch 8/20\n",
            "1804/1804 [==============================] - 113s 63ms/step - loss: 0.0582 - accuracy: 0.9886 - val_loss: 0.5778 - val_accuracy: 0.8488\n",
            "Epoch 9/20\n",
            "1804/1804 [==============================] - 113s 63ms/step - loss: 0.0548 - accuracy: 0.9901 - val_loss: 0.5813 - val_accuracy: 0.8486\n",
            "Epoch 10/20\n",
            "1804/1804 [==============================] - 111s 61ms/step - loss: 0.0519 - accuracy: 0.9904 - val_loss: 0.5847 - val_accuracy: 0.8487\n",
            "Restoring model weights from the end of the best epoch.\n",
            "\n",
            "Epoch 00010: ReduceLROnPlateau reducing learning rate to 9.999999747378752e-07.\n",
            "Epoch 00010: early stopping\n"
          ],
          "name": "stdout"
        },
        {
          "output_type": "display_data",
          "data": {
            "image/png": "[encoded data removed]",
            "text/plain": [
              "<Figure size 1080x216 with 2 Axes>"
            ]
          },
          "metadata": {
            "tags": [],
            "needs_background": "light"
          }
        },
        {
          "output_type": "stream",
          "text": [
            "++ [19h18mn] TextOneHot: fit(): Fin\n",
            "\n",
            "++ [19h19mn] TextOneHot: predict(): Début\n",
            "16984/16984 [==============================] - 38s 2ms/step\n",
            "++ [19h19mn] TextOneHot: predict(): Fin\n",
            "\n",
            "++ [19h19mn] TextOneHot: w-f1-score = \u001b[1m0.8471\u001b[0m\n",
            "\n",
            "              precision    recall  f1-score   support\n",
            "\n",
            "          10       0.54      0.65      0.59       652\n",
            "        1140       0.82      0.81      0.81       541\n",
            "        1160       0.95      0.95      0.95       815\n",
            "        1180       0.83      0.65      0.73       140\n",
            "        1280       0.74      0.74      0.74       956\n",
            "        1281       0.67      0.63      0.65       399\n",
            "        1300       0.94      0.96      0.95      1051\n",
            "        1301       0.99      0.89      0.94       168\n",
            "        1302       0.87      0.84      0.85       497\n",
            "        1320       0.89      0.83      0.86       683\n",
            "        1560       0.85      0.86      0.85       993\n",
            "        1920       0.92      0.93      0.92       841\n",
            "        1940       0.91      0.95      0.93       147\n",
            "        2060       0.81      0.82      0.82      1031\n",
            "        2220       0.89      0.83      0.86       147\n",
            "        2280       0.76      0.82      0.79       921\n",
            "        2403       0.77      0.79      0.78       972\n",
            "        2462       0.82      0.79      0.80       282\n",
            "        2522       0.94      0.93      0.93       988\n",
            "        2582       0.79      0.76      0.77       509\n",
            "        2583       0.98      0.99      0.98      1987\n",
            "        2585       0.86      0.88      0.87       499\n",
            "        2705       0.78      0.70      0.74       559\n",
            "        2905       0.99      0.98      0.99       162\n",
            "          40       0.78      0.68      0.73       535\n",
            "          50       0.83      0.87      0.85       353\n",
            "          60       0.96      0.88      0.92       156\n",
            "\n",
            "    accuracy                           0.85     16984\n",
            "   macro avg       0.85      0.83      0.84     16984\n",
            "weighted avg       0.85      0.85      0.85     16984\n",
            "\n",
            "++ [19h19mn] TextOneHot: 2602 mauvaises prédictions: modele_rakuten_out\\TextOneHot_84916_bad_predictions.csv\n",
            "++ [19h19mn] TextOneHot: Evaluation exécutée en 0h24mn\n",
            "++ [19h19mn] TextOneHot: Modèle sauvegardé dans modele_rakuten_out\\TextOneHot_84916_model.hdf5\n",
            "++ [19h19mn] TextOneHot: Objet complet sauvegardé dans modele_rakuten_out\\TextOneHot_84916_object.pkl\n"
          ],
          "name": "stdout"
        }
      ]
    },
    {
      "cell_type": "code",
      "metadata": {
        "id": "religious-parent"
      },
      "source": [
        "class EffNetB1(RakutenBaseModel):\n",
        "    \"\"\"\n",
        "    Modèle de transfert learning d'images avec EfficientNet et l'utilisation\n",
        "    d'un générateur d'images augmentées.\n",
        "    https://www.dlology.com/blog/transfer-learning-with-efficientnet/\n",
        "    Le modèle B5 a le format d'image (456x456) le plus proche de celles à\n",
        "    classer (500x500), il est plus performant que B1 (~0.87 versus ~0.85)\n",
        "    mais beaucoup plus coûteux en temps d'éxecution.\n",
        "    \"\"\"\n",
        "\n",
        "    def __init__(self, nb=None):\n",
        "        super().__init__(self.__class__.__name__, nb)\n",
        "        self.input_shape = (240, 240, 3) # Dépend du numéro x (EfficientNetBx)\n",
        "        self.preprocessing_function = None # Inclus dans le modèle\n",
        "        self.basetrainable = 8\n",
        "        self.epochs_freezed = 10\n",
        "        self.epochs_unfreezed = 20\n",
        "        self.batch_size = 32\n",
        "\n",
        "    def preprocess_X_train(self, off_start, off_end, input_file=None):\n",
        "        return get_X_image_path(input_file)[off_start:off_end]\n",
        "\n",
        "    def preprocess_X_test(self, off_start, off_end, input_file=None):\n",
        "        return get_X_image_path(input_file)[off_start:off_end]\n",
        "    \n",
        "    def data_from_file(self, filepath):\n",
        "        \"\"\"\n",
        "        Méthode pour lire une image à partir d'un fichier et la retourner\n",
        "        au bon format (adapté aux entrées du modèle modèle)\n",
        "        \"\"\"\n",
        "        img = cv2.imread(filepath)\n",
        "        img = cv2.resize(img, (240, 240), interpolation=cv2.INTER_CUBIC)\n",
        "        return img\n",
        "\n",
        "    def get_model_body(self):\n",
        "        self.layer_index = 0\n",
        "        self.basemodel = tf.keras.applications.EfficientNetB1(\n",
        "                                input_shape = self.input_shape,\n",
        "                                include_top = False,\n",
        "                                # drop_connect_rate=0.4,\n",
        "                                weights = 'imagenet')\n",
        "        inp = Input(shape=self.input_shape, name=\"input_\" + self.name)\n",
        "        x = self.basemodel(inp)\n",
        "        x = tf.keras.layers.GlobalAveragePooling2D()(x)\n",
        "        x = tf.keras.layers.Dense(1024, activation=\"relu\", name=self.layer_name(\"dense\"))(x)\n",
        "        x = tf.keras.layers.BatchNormalization(trainable = True,axis=1, name=self.layer_name(\"batchnorm\"))(x)\n",
        "        x = tf.keras.layers.Dropout(0.5, name=self.layer_name(\"dropout\"))(x)\n",
        "        x = tf.keras.layers.Dense(512, activation=\"relu\", name=self.layer_name(\"dense\"))(x)\n",
        "        x = tf.keras.layers.BatchNormalization(trainable = True, axis=1, name=self.layer_name(\"batchnorm\"))(x)\n",
        "        return inp, x\n",
        "\n",
        "    def __get_train_dataset(self, X_imagepaths, y_train):\n",
        "        \n",
        "        df = pd.DataFrame({\"imgpath\": X_imagepaths, \"class\": y_train})\n",
        "        # Voyons quel est le type d'un élément\n",
        "        print(\"Type d'un élément =\", type(df.imgpath[0])) ###\n",
        "        # Forcons le type à str (string)\n",
        "        df.imgpath = df.imgpath.apply(str)###\n",
        "        \n",
        "        datagenerator = tf.keras.preprocessing.image.ImageDataGenerator(\n",
        "                                    validation_split = VALIDATION_SPLIT,\n",
        "                                    preprocessing_function = self.preprocessing_function,\n",
        "                                    rotation_range = 10,\n",
        "                                    width_shift_range = 0.1,\n",
        "                                    height_shift_range = 0.1,\n",
        "                                    zoom_range = 0.1,\n",
        "                                    brightness_range=[0.9, 1.1],\n",
        "                                    horizontal_flip = True\n",
        "                                    )\n",
        "        traingen = datagenerator.flow_from_dataframe(subset = 'training', dataframe=df,\n",
        "                                                     x_col=\"imgpath\", y_col=\"class\",\n",
        "                                                     class_mode=\"sparse\",\n",
        "                                                     target_size=(self.input_shape[0], self.input_shape[1]),\n",
        "                                                     batch_size=self.batch_size)\n",
        "        valgen = datagenerator.flow_from_dataframe(subset='validation',\n",
        "                                                   dataframe=df, x_col=\"imgpath\", y_col=\"class\",\n",
        "                                                   class_mode=\"sparse\",\n",
        "                                                   target_size=(self.input_shape[0], self.input_shape[1]),\n",
        "                                                   batch_size=self.batch_size)\n",
        "        return traingen, valgen\n",
        "\n",
        "    def __get_test_dataset(self, X_imagepaths):\n",
        "        df = pd.DataFrame({\"imgpath\": X_imagepaths,\n",
        "                           \"class\": [0 for _ in range(len(X_imagepaths))]})\n",
        "        testgen = tf.keras.preprocessing.image.ImageDataGenerator( \n",
        "                        preprocessing_function = self.preprocessing_function).flow_from_dataframe(\n",
        "                        dataframe=df, x_col=\"imgpath\", y_col=\"class\",\n",
        "                        class_mode=None, target_size=(self.input_shape[0], self.input_shape[1]),\n",
        "                        batch_size=1,\n",
        "                        shuffle = False)\n",
        "        return testgen\n",
        "\n",
        "    def fit(self, off_start, off_val, off_end, input_file=None):\n",
        "\n",
        "        self.prt(f\"Création des générateurs d'images\")\n",
        "        X_imgpaths = get_X_image_path(input_file)[off_start:off_end]\n",
        "        y_train = get_y()[off_start:off_end]\n",
        "        traingen, valgen = self.__get_train_dataset(X_imgpaths, y_train)\n",
        "        self.fit_labels = dict((v,k) for k,v in (traingen.class_indices).items())\n",
        "\n",
        "        self.model = self.get_model()\n",
        "        \n",
        "        self.prt(f\"Congélation des layers du modèle de base et entrainement\")\n",
        "        for layer in self.basemodel.layers:\n",
        "            layer.trainable = False\n",
        "        history = self.compile_and_train_dataset(traingen, valgen,\n",
        "                                         optimizer=tf.keras.optimizers.Adam(lr=0.01),\n",
        "                                         epochs=self.epochs_freezed)\n",
        "        if self.basetrainable > 0:\n",
        "            self.prt(f\"Décongélation des {self.basetrainable} derniers layers et entrainement\")\n",
        "            for layer in self.basemodel.layers[-self.basetrainable:]:\n",
        "                if not isinstance(layer, tf.keras.layers.BatchNormalization):\n",
        "                    layer.trainable = True\n",
        "            self.compile_and_train_dataset(traingen, valgen,\n",
        "                                   optimizer=tf.keras.optimizers.Adam(lr=0.00008),\n",
        "                                    patience_lr=3,\n",
        "                                   epochs=self.epochs_unfreezed)\n",
        "        self.prt(\"Entrainement terminé\")\n",
        "        return history\n",
        "\n",
        "    def predict(self, off_start, off_end, input_file=None):\n",
        "        X_test = self.preprocess_X_test(off_start, off_end, input_file)\n",
        "        testgen = self.__get_test_dataset(X_test)\n",
        "        return self.model_predict(testgen)"
      ],
      "id": "religious-parent",
      "execution_count": null,
      "outputs": []
    },
    {
      "cell_type": "code",
      "metadata": {
        "id": "minor-assignment",
        "outputId": "b2d87324-45bd-4608-d260-e6b55e27d5f0"
      },
      "source": [
        "#https://keras.io/examples/vision/image_classification_efficientnet_fine_tuning/\n",
        "EffNetB1().evaluate(NB_ECHANTILLONS)"
      ],
      "id": "minor-assignment",
      "execution_count": null,
      "outputs": [
        {
          "output_type": "stream",
          "text": [
            "++ [18h22mn] EffNetB1: Evaluation avec 84916 échantillons\n",
            "++ [18h22mn] EffNetB1: Création des générateurs d'images\n",
            "Creation de modele_rakuten_out\\X_train_update_image_path.pkl\n",
            "Type d'un élément = <class 'str'>\n",
            "Found 57743 validated image filenames belonging to 27 classes.\n",
            "Found 10189 validated image filenames belonging to 27 classes.\n",
            "++ [18h23mn] EffNetB1: Congélation des layers du modèle de base et entrainement\n",
            "++ [18h23mn] EffNetB1: fit(): Début\n"
          ],
          "name": "stdout"
        },
        {
          "output_type": "stream",
          "text": [
            "C:\\Users\\utilisateur\\anaconda3\\envs\\tf\\lib\\site-packages\\tensorflow\\python\\keras\\optimizer_v2\\optimizer_v2.py:374: UserWarning: The `lr` argument is deprecated, use `learning_rate` instead.\n",
            "  warnings.warn(\n"
          ],
          "name": "stderr"
        },
        {
          "output_type": "stream",
          "text": [
            "Epoch 1/10\n",
            "1805/1805 [==============================] - 2348s 1s/step - loss: 1.8363 - accuracy: 0.4706 - val_loss: 1.5700 - val_accuracy: 0.5247\n",
            "Epoch 2/10\n",
            "1805/1805 [==============================] - 2398s 1s/step - loss: 1.6059 - accuracy: 0.5238 - val_loss: 1.5481 - val_accuracy: 0.5460\n",
            "Epoch 3/10\n",
            "1805/1805 [==============================] - 2358s 1s/step - loss: 1.5515 - accuracy: 0.5386 - val_loss: 1.4526 - val_accuracy: 0.5624\n",
            "Epoch 4/10\n",
            "1805/1805 [==============================] - 2367s 1s/step - loss: 1.5064 - accuracy: 0.5505 - val_loss: 1.4493 - val_accuracy: 0.5691\n",
            "Epoch 5/10\n",
            "1805/1805 [==============================] - 2342s 1s/step - loss: 1.4611 - accuracy: 0.5638 - val_loss: 1.4242 - val_accuracy: 0.5751\n",
            "Epoch 6/10\n",
            "1805/1805 [==============================] - 2407s 1s/step - loss: 1.4313 - accuracy: 0.5696 - val_loss: 1.3998 - val_accuracy: 0.5885\n",
            "Epoch 7/10\n",
            "1805/1805 [==============================] - 2433s 1s/step - loss: 1.4021 - accuracy: 0.5786 - val_loss: 1.3580 - val_accuracy: 0.5933\n",
            "Epoch 8/10\n",
            "1805/1805 [==============================] - 2897s 2s/step - loss: 1.3759 - accuracy: 0.5833 - val_loss: 1.3676 - val_accuracy: 0.5950\n",
            "Epoch 9/10\n",
            "1805/1805 [==============================] - 35526s 20s/step - loss: 1.3521 - accuracy: 0.5908 - val_loss: 1.3618 - val_accuracy: 0.5979\n",
            "\n",
            "Epoch 00009: ReduceLROnPlateau reducing learning rate to 0.0009999999776482583.\n",
            "Epoch 10/10\n",
            "1805/1805 [==============================] - 2411s 1s/step - loss: 1.2014 - accuracy: 0.6289 - val_loss: 1.2607 - val_accuracy: 0.6217\n"
          ],
          "name": "stdout"
        },
        {
          "output_type": "display_data",
          "data": {
            "image/png": "[encoded data removed]",
            "text/plain": [
              "<Figure size 1080x216 with 2 Axes>"
            ]
          },
          "metadata": {
            "tags": [],
            "needs_background": "light"
          }
        },
        {
          "output_type": "stream",
          "text": [
            "++ [10h21mn] EffNetB1: fit(): Fin\n",
            "\n",
            "++ [10h21mn] EffNetB1: Décongélation des 8 derniers layers et entrainement\n",
            "++ [10h21mn] EffNetB1: fit(): Début\n",
            "Epoch 1/20\n",
            "1805/1805 [==============================] - 2513s 1s/step - loss: 1.1647 - accuracy: 0.6399 - val_loss: 1.2469 - val_accuracy: 0.6250\n",
            "Epoch 2/20\n",
            "1805/1805 [==============================] - 2660s 1s/step - loss: 1.1177 - accuracy: 0.6514 - val_loss: 1.2237 - val_accuracy: 0.6341\n",
            "Epoch 3/20\n",
            "1805/1805 [==============================] - 3008s 2s/step - loss: 1.0821 - accuracy: 0.6630 - val_loss: 1.2210 - val_accuracy: 0.6367\n",
            "Epoch 4/20\n",
            "1805/1805 [==============================] - 2499s 1s/step - loss: 1.0532 - accuracy: 0.6715 - val_loss: 1.2137 - val_accuracy: 0.6378\n",
            "Epoch 5/20\n",
            "1805/1805 [==============================] - 2473s 1s/step - loss: 1.0242 - accuracy: 0.6812 - val_loss: 1.2036 - val_accuracy: 0.6405\n",
            "Epoch 6/20\n",
            "1805/1805 [==============================] - 3015s 2s/step - loss: 0.9977 - accuracy: 0.6882 - val_loss: 1.2136 - val_accuracy: 0.6377\n",
            "Epoch 7/20\n",
            "1805/1805 [==============================] - 2463s 1s/step - loss: 0.9718 - accuracy: 0.6964 - val_loss: 1.2067 - val_accuracy: 0.6429\n",
            "Epoch 8/20\n",
            "1805/1805 [==============================] - 2469s 1s/step - loss: 0.9517 - accuracy: 0.7020 - val_loss: 1.1906 - val_accuracy: 0.6470\n",
            "Epoch 9/20\n",
            "1805/1805 [==============================] - 2500s 1s/step - loss: 0.9216 - accuracy: 0.7098 - val_loss: 1.2157 - val_accuracy: 0.6429\n",
            "Epoch 10/20\n",
            "1805/1805 [==============================] - 2492s 1s/step - loss: 0.9015 - accuracy: 0.7151 - val_loss: 1.2133 - val_accuracy: 0.6441\n",
            "Epoch 11/20\n",
            "1805/1805 [==============================] - 2484s 1s/step - loss: 0.8836 - accuracy: 0.7194 - val_loss: 1.2187 - val_accuracy: 0.6472\n",
            "\n",
            "Epoch 00011: ReduceLROnPlateau reducing learning rate to 7.999999797903002e-06.\n",
            "Epoch 12/20\n",
            "1805/1805 [==============================] - 2462s 1s/step - loss: 0.8413 - accuracy: 0.7342 - val_loss: 1.2074 - val_accuracy: 0.6500\n",
            "Restoring model weights from the end of the best epoch.\n",
            "Epoch 00012: early stopping\n"
          ],
          "name": "stdout"
        },
        {
          "output_type": "display_data",
          "data": {
            "image/png": "[encoded data removed]",
            "text/plain": [
              "<Figure size 1080x216 with 2 Axes>"
            ]
          },
          "metadata": {
            "tags": [],
            "needs_background": "light"
          }
        },
        {
          "output_type": "stream",
          "text": [
            "++ [18h58mn] EffNetB1: fit(): Fin\n",
            "\n",
            "++ [18h58mn] EffNetB1: Entrainement terminé\n",
            "Found 16984 validated image filenames.\n",
            "++ [18h58mn] EffNetB1: predict(): Début\n",
            "16984/16984 [==============================] - 774s 46ms/step\n",
            "++ [19h11mn] EffNetB1: predict(): Fin\n",
            "\n",
            "++ [19h11mn] EffNetB1: w-f1-score = \u001b[1m0.6479\u001b[0m\n",
            "\n",
            "              precision    recall  f1-score   support\n",
            "\n",
            "          10       0.54      0.61      0.57       652\n",
            "        1140       0.64      0.67      0.66       541\n",
            "        1160       0.92      0.92      0.92       815\n",
            "        1180       0.56      0.39      0.46       140\n",
            "        1280       0.50      0.43      0.47       956\n",
            "        1281       0.43      0.27      0.33       399\n",
            "        1300       0.71      0.78      0.75      1051\n",
            "        1301       0.76      0.67      0.72       168\n",
            "        1302       0.51      0.47      0.49       497\n",
            "        1320       0.50      0.48      0.49       683\n",
            "        1560       0.61      0.59      0.60       993\n",
            "        1920       0.79      0.81      0.80       841\n",
            "        1940       0.70      0.77      0.73       147\n",
            "        2060       0.54      0.59      0.56      1031\n",
            "        2220       0.59      0.38      0.46       147\n",
            "        2280       0.69      0.78      0.73       921\n",
            "        2403       0.69      0.62      0.65       972\n",
            "        2462       0.67      0.50      0.57       282\n",
            "        2522       0.66      0.72      0.69       988\n",
            "        2582       0.59      0.42      0.49       509\n",
            "        2583       0.79      0.88      0.83      1987\n",
            "        2585       0.55      0.47      0.51       499\n",
            "        2705       0.71      0.77      0.74       559\n",
            "        2905       0.49      0.84      0.62       162\n",
            "          40       0.57      0.54      0.56       535\n",
            "          50       0.51      0.38      0.43       353\n",
            "          60       0.61      0.78      0.68       156\n",
            "\n",
            "    accuracy                           0.65     16984\n",
            "   macro avg       0.62      0.61      0.61     16984\n",
            "weighted avg       0.65      0.65      0.65     16984\n",
            "\n",
            "++ [19h11mn] EffNetB1: 5869 mauvaises prédictions: modele_rakuten_out\\EffNetB1_84916_bad_predictions.csv\n",
            "++ [19h11mn] EffNetB1: Evaluation exécutée en 24h48mn\n"
          ],
          "name": "stdout"
        },
        {
          "output_type": "stream",
          "text": [
            "C:\\Users\\utilisateur\\anaconda3\\envs\\tf\\lib\\site-packages\\tensorflow\\python\\keras\\utils\\generic_utils.py:494: CustomMaskWarning: Custom mask layers require a config and must override get_config. When loading, the custom mask layer must be passed to the custom_objects argument.\n",
            "  warnings.warn('Custom mask layers require a config and must override '\n"
          ],
          "name": "stderr"
        },
        {
          "output_type": "stream",
          "text": [
            "++ [19h11mn] EffNetB1: Modèle sauvegardé dans modele_rakuten_out\\EffNetB1_84916_model.hdf5\n",
            "Pas de sauvegarde de  basemodel\n",
            "++ [19h11mn] EffNetB1: Objet complet sauvegardé dans modele_rakuten_out\\EffNetB1_84916_object.pkl\n"
          ],
          "name": "stdout"
        }
      ]
    },
    {
      "cell_type": "code",
      "metadata": {
        "id": "legendary-saver"
      },
      "source": [
        "class CatModel(RakutenCatModel):\n",
        "    \"\"\"\n",
        "    Modèle qui concatene plusieurs modèles de base. ceux ci sont\n",
        "    listés et instanciées dans self.objs. le paramètre nb permet\n",
        "    de corréler les fichiers créés par les modèles de base et le\n",
        "    modèle de concaténation, ils ont tous le même nb (en pratique\n",
        "    il s'agit du nombre d'échantillons utilisés).\n",
        "    \n",
        "    Le modèle utilise un layer Keras concatenate après appel des\n",
        "    méthodes get_model_body() de chaque modèle de base afin de\n",
        "    récupérer l'architecture des layers de ces modèles.\n",
        "    \n",
        "         +----------+  +----------+  +----------+\n",
        "         | modèle A |  | modèle B |  | modèle C |\n",
        "         +-----+----+  +-----+----+  +-----+----+\n",
        "               |             |             |\n",
        "               +-------+     |    +--------+\n",
        "                       |     |    |\n",
        "                    +--v-----v----v--+\n",
        "                    |   concatenate  |\n",
        "                    +--------+-------+\n",
        "                             |\n",
        "                    +--------v-------+\n",
        "                    |  top layerss   |\n",
        "                    +----------------+\n",
        "                    \n",
        "    Une fois le modèle compilé, les poids des layers de bases sont\n",
        "    initialisés avec ceux des objets modèles de base, grace à la\n",
        "    méthode copy_submodules_weights().\n",
        "    \"\"\"\n",
        "    def config(self, nb):\n",
        "        \"\"\" Déclaration des modèles de base utilisés \"\"\"\n",
        "        if not hasattr(self, \"objs\") and nb is not None:\n",
        "            self.objs = [\n",
        "                         EmbedRNN(nb),\n",
        "                         TextOneHot(nb),\n",
        "                         Multilingu(nb),\n",
        "                         EffNetB1(nb)\n",
        "                        ]\n",
        "\n",
        "    def __init__(self, nb=None):\n",
        "        super().__init__(self.__class__.__name__, nb)\n",
        "\n",
        "        self.config(nb)\n",
        "        \n",
        "    def fit(self, off_start, off_val, off_end, input_file=None):\n",
        "        \"\"\"\n",
        "        Entrainement du modèle sur l'intervalle des données spécifié par\n",
        "        off_start et off_end (offsets dans les fichiers de data).\n",
        "        \"\"\"\n",
        "\n",
        "        self.prt(f'Chargements des modèles référencés \"{self.nb}\"')\n",
        "        self.config(self.nb)\n",
        "\n",
        "        # Générateurs qui alimenteront fit() avec les données train & val\n",
        "        traingen, valgen = self.create_train_generators(off_start, off_val, off_end, input_file)\n",
        "        \n",
        "        self.prt(f\"Création du modèle\")\n",
        "        # Récupèration des inputs et des outputs de chaque modèle de base\n",
        "        # pour construire le modèle concatenate\n",
        "        inputtensors, outputtensors = [], []\n",
        "        for obj in self.objs:\n",
        "            inp, outp = obj.get_model_body()\n",
        "            inputtensors.append(inp)\n",
        "            outputtensors.append(outp)\n",
        "        \n",
        "        self.layer_index = 0 # compteur utilisé dans get_model_body()\n",
        "        \n",
        "        tensors = outputtensors\n",
        "#        outputtensors = []\n",
        "#        for x in tensors:\n",
        "#            x = BatchNormalization(name=self.layer_name(\"batchnorm\"))(x)\n",
        "#            x = Dense(128, activation='relu', name=self.layer_name(\"dense\"))(x)\n",
        "#            outputtensors.append(x)\n",
        "\n",
        "        x = concatenate(outputtensors, axis=-1, name = self.layer_name(\"concatenate\"))\n",
        "#        x = Dense(64, activation='relu', name=self.layer_name(\"dense\"))(x)\n",
        "#        x = Dropout(0.2, name=self.layer_name(\"dropout\"))(x)\n",
        "#        x = BatchNormalization(name=self.layer_name(\"batchnorm\"))(x)\n",
        "        x = Dense(NB_CLASSES, activation='softmax', name=self.layer_name(\"dense\"))(x)\n",
        "        self.model = Model(inputtensors, x, name=self.name)\n",
        "\n",
        "        #print(self.model.summary())\n",
        "\n",
        "        print(f\"  * Layers non entrainables:\")\n",
        "        for layer in self.model.layers:\n",
        "            if layer.name.find(self.name) < 0:\n",
        "                layer.trainable = False\n",
        "                print(f\"      - {layer.name}\")\n",
        "#        for layer in self.model.layers:\n",
        "#            if 0 <= layer.name.find('efficient'):\n",
        "#                layer.trainable = False\n",
        "#                print(f\"      - {layer.name}\")\n",
        "        print(f\"  * Layers entrainables:\")\n",
        "        for layer in self.model.layers:\n",
        "            if layer.trainable:\n",
        "                print(f\"      - {layer.name}\")\n",
        "\n",
        "        self.model.compile(optimizer= tf.keras.optimizers.Adam(lr=0.001),\n",
        "                           loss='sparse_categorical_crossentropy',\n",
        "                           metrics = ['accuracy'])\n",
        "\n",
        "        # Initialisation des poids\n",
        "        self.copy_submodels_weights()\n",
        "\n",
        "        self.prt(\"fit(): Début\")    \n",
        "        callbacks = [tf.keras.callbacks.EarlyStopping(monitor='val_loss', patience=3,\n",
        "                                             restore_best_weights=True, verbose=1),\n",
        "                     tf.keras.callbacks.ModelCheckpoint(filepath=self.fbestweights,\n",
        "                                             save_weights_only=True, save_best_only=True,\n",
        "                                              monitor='val_loss', mode='min'),\n",
        "                     tf.keras.callbacks.ReduceLROnPlateau(monitor='val_loss', patience=3, factor=0.1,\n",
        "                                                          verbose=1)]\n",
        "        if os.path.isfile(self.fbestweights):\n",
        "            os.remove(self.fbestweights)\n",
        "        history = self.model.fit(traingen,\n",
        "                                 epochs=15,\n",
        "                                 validation_data = valgen,\n",
        "                                 callbacks=callbacks)\n",
        "        if os.path.isfile(self.fbestweights):\n",
        "            self.model.load_weights(self.fbestweights)\n",
        "        self.prt(\"fit(): Fin\")\n",
        "        plot_history(f\"{self.name}\", history)\n",
        "\n",
        "        print(f\"Décongélation des layers suivants:\")\n",
        "        for layer in self.model.layers:\n",
        "            if not layer.trainable and layer.name.find(\"efficient\") < 0:\n",
        "                print(f\"      - {layer.name}\")\n",
        "\n",
        "        self.model.compile(optimizer= tf.keras.optimizers.Adam(lr=0.0001),\n",
        "                           loss='sparse_categorical_crossentropy',\n",
        "                           metrics = ['accuracy'])\n",
        "\n",
        "\n",
        "        if os.path.isfile(self.fbestweights):\n",
        "            os.remove(self.fbestweights)\n",
        "        history = self.model.fit(traingen,\n",
        "                                 epochs=15,\n",
        "                                 validation_data = valgen,\n",
        "                                 callbacks=callbacks)\n",
        "        if os.path.isfile(self.fbestweights):\n",
        "            self.model.load_weights(self.fbestweights)\n",
        "        self.prt(\"fit(): Fin\")\n",
        "        plot_history(f\"{self.name}\", history)\n",
        "\n",
        "        return history"
      ],
      "id": "legendary-saver",
      "execution_count": null,
      "outputs": []
    },
    {
      "cell_type": "code",
      "metadata": {
        "id": "occasional-northern",
        "outputId": "1c2a8881-7dc2-42f2-d0b3-1735057fd3c1"
      },
      "source": [
        "CatModel().evaluate(NB_ECHANTILLONS)"
      ],
      "id": "occasional-northern",
      "execution_count": null,
      "outputs": [
        {
          "output_type": "stream",
          "text": [
            "++ [22h24mn] CatModel: Evaluation avec 84916 échantillons\n",
            "++ [22h24mn] CatModel: Chargements des modèles référencés \"84916\"\n",
            "Chargement de l'objet (modele_rakuten_out\\EmbedRNN_84916_object.pkl)\n",
            "Chargement du modèle (modele_rakuten_out\\EmbedRNN_84916_model.hdf5)\n",
            "Chargement de l'objet (modele_rakuten_out\\TextOneHot_84916_object.pkl)\n",
            "Chargement du modèle (modele_rakuten_out\\TextOneHot_84916_model.hdf5)\n",
            "Chargement de l'objet (modele_rakuten_out\\Multilingu_84916_object.pkl)\n",
            "Chargement du modèle (modele_rakuten_out\\Multilingu_84916_model.hdf5)\n",
            "Chargement de l'objet (modele_rakuten_out\\EffNetB1_84916_object.pkl)\n",
            "Chargement du modèle (modele_rakuten_out\\EffNetB1_84916_model.hdf5)\n",
            "++ [22h25mn] CatModel: Preprocessing des 67932 données d'entrainement\n",
            "++ [22h25mn] TextOneHot: Nombre de mots retenus = 50000\n"
          ],
          "name": "stdout"
        },
        {
          "output_type": "stream",
          "text": [
            "  0%|          | 7/1804 [00:00<00:27, 64.32it/s]"
          ],
          "name": "stderr"
        },
        {
          "output_type": "stream",
          "text": [
            "++ [22h28mn] CatModel: Instantiation des générateurs d'entrainement\n",
            "Création de 1804 fichiers de batch dans modele_rakuten_out\\CatDataset_train_57742\n",
            "* modèle EmbedRNN\n"
          ],
          "name": "stdout"
        },
        {
          "output_type": "stream",
          "text": [
            "100%|██████████| 1804/1804 [00:02<00:00, 750.44it/s]\n",
            "  0%|          | 3/1804 [00:00<01:27, 20.58it/s]"
          ],
          "name": "stderr"
        },
        {
          "output_type": "stream",
          "text": [
            "* modèle TextOneHot\n"
          ],
          "name": "stdout"
        },
        {
          "output_type": "stream",
          "text": [
            "100%|██████████| 1804/1804 [03:18<00:00,  9.07it/s]\n",
            "  2%|▏         | 31/1804 [00:00<00:05, 301.35it/s]"
          ],
          "name": "stderr"
        },
        {
          "output_type": "stream",
          "text": [
            "* modèle Multilingu\n"
          ],
          "name": "stdout"
        },
        {
          "output_type": "stream",
          "text": [
            "100%|██████████| 1804/1804 [00:01<00:00, 904.33it/s]\n",
            "  0%|          | 1/1804 [00:00<05:47,  5.20it/s]"
          ],
          "name": "stderr"
        },
        {
          "output_type": "stream",
          "text": [
            "* modèle EffNetB1\n"
          ],
          "name": "stdout"
        },
        {
          "output_type": "stream",
          "text": [
            "100%|██████████| 1804/1804 [04:54<00:00,  6.13it/s]\n",
            " 76%|███████▌  | 241/318 [00:00<00:00, 1218.80it/s]"
          ],
          "name": "stderr"
        },
        {
          "output_type": "stream",
          "text": [
            "Création de 318 fichiers de batch dans modele_rakuten_out\\CatDataset_val_10190\n",
            "* modèle EmbedRNN\n"
          ],
          "name": "stdout"
        },
        {
          "output_type": "stream",
          "text": [
            "100%|██████████| 318/318 [00:00<00:00, 1193.72it/s]\n",
            "  1%|          | 3/318 [00:00<00:14, 21.37it/s]"
          ],
          "name": "stderr"
        },
        {
          "output_type": "stream",
          "text": [
            "* modèle TextOneHot\n"
          ],
          "name": "stdout"
        },
        {
          "output_type": "stream",
          "text": [
            "100%|██████████| 318/318 [00:34<00:00,  9.22it/s]\n",
            " 42%|████▏     | 133/318 [00:00<00:00, 1309.54it/s]"
          ],
          "name": "stderr"
        },
        {
          "output_type": "stream",
          "text": [
            "* modèle Multilingu\n"
          ],
          "name": "stdout"
        },
        {
          "output_type": "stream",
          "text": [
            "100%|██████████| 318/318 [00:00<00:00, 565.54it/s] \n",
            "  0%|          | 0/318 [00:00<?, ?it/s]"
          ],
          "name": "stderr"
        },
        {
          "output_type": "stream",
          "text": [
            "* modèle EffNetB1\n"
          ],
          "name": "stdout"
        },
        {
          "output_type": "stream",
          "text": [
            "100%|██████████| 318/318 [00:52<00:00,  6.01it/s]\n"
          ],
          "name": "stderr"
        },
        {
          "output_type": "stream",
          "text": [
            "++ [22h38mn] CatModel: Création du modèle\n",
            "  * Layers non entrainables:\n",
            "      - input_EffNetB1\n",
            "      - input_1_EmbedRNN\n",
            "      - efficientnetb1\n",
            "      - embed_2_EmbedRNN\n",
            "      - global_average_pooling2d\n",
            "      - gru_3_EmbedRNN\n",
            "      - dense_1_EffNetB1\n",
            "      - dropout_4_EmbedRNN\n",
            "      - input_1_TextOneHot\n",
            "      - input_1_Multilingu\n",
            "      - batchnorm_2_EffNetB1\n",
            "      - batchnorm_5_EmbedRNN\n",
            "      - dense_2_TextOneHot\n",
            "      - batchnorm_2_Multilingu\n",
            "      - dropout_3_EffNetB1\n",
            "      - dense_6_EmbedRNN\n",
            "      - dropout_3_TextOneHot\n",
            "      - dense_3_Multilingu\n",
            "      - dense_4_EffNetB1\n",
            "      - dropout_7_EmbedRNN\n",
            "      - batchnorm_4_TextOneHot\n",
            "      - dropout_4_Multilingu\n",
            "      - batchnorm_5_EffNetB1\n",
            "  * Layers entrainables:\n",
            "      - concatenate_1_CatModel\n",
            "      - dense_2_CatModel\n",
            "  * Init des layers avec les poids des modèles de base:\n",
            "      - embed_2_EmbedRNN\n",
            "      - gru_3_EmbedRNN\n",
            "      - dense_6_EmbedRNN\n",
            "      - dense_2_TextOneHot\n",
            "      - batchnorm_4_TextOneHot\n",
            "      - batchnorm_2_Multilingu\n",
            "      - dense_3_Multilingu\n",
            "      - efficientnetb1\n",
            "      - dense_1_EffNetB1\n",
            "      - batchnorm_2_EffNetB1\n",
            "      - dense_4_EffNetB1\n",
            "      - batchnorm_5_EffNetB1\n",
            "++ [22h38mn] CatModel: fit(): Début\n",
            "Epoch 1/15\n"
          ],
          "name": "stdout"
        },
        {
          "output_type": "stream",
          "text": [
            "C:\\Users\\utilisateur\\anaconda3\\envs\\tf\\lib\\site-packages\\tensorflow\\python\\keras\\optimizer_v2\\optimizer_v2.py:374: UserWarning: The `lr` argument is deprecated, use `learning_rate` instead.\n",
            "  warnings.warn(\n"
          ],
          "name": "stderr"
        },
        {
          "output_type": "stream",
          "text": [
            "1804/1804 [==============================] - 2081s 1s/step - loss: 0.2270 - accuracy: 0.9347 - val_loss: 0.4223 - val_accuracy: 0.8789\n",
            "Epoch 2/15\n",
            "1804/1804 [==============================] - 2057s 1s/step - loss: 0.0944 - accuracy: 0.9702 - val_loss: 0.4416 - val_accuracy: 0.8828\n",
            "Epoch 3/15\n",
            "1804/1804 [==============================] - 2056s 1s/step - loss: 0.0800 - accuracy: 0.9746 - val_loss: 0.4719 - val_accuracy: 0.8827\n",
            "Epoch 4/15\n",
            "1804/1804 [==============================] - 2054s 1s/step - loss: 0.0762 - accuracy: 0.9757 - val_loss: 0.5001 - val_accuracy: 0.8806\n",
            "Restoring model weights from the end of the best epoch.\n",
            "\n",
            "Epoch 00004: ReduceLROnPlateau reducing learning rate to 0.00010000000474974513.\n",
            "Epoch 00004: early stopping\n",
            "++ [00h56mn] CatModel: fit(): Fin\n"
          ],
          "name": "stdout"
        },
        {
          "output_type": "display_data",
          "data": {
            "image/png": "[encoded data removed]",
            "text/plain": [
              "<Figure size 1080x216 with 2 Axes>"
            ]
          },
          "metadata": {
            "tags": [],
            "needs_background": "light"
          }
        },
        {
          "output_type": "stream",
          "text": [
            "Décongélation des layers suivants:\n",
            "      - input_EffNetB1\n",
            "      - input_1_EmbedRNN\n",
            "      - embed_2_EmbedRNN\n",
            "      - global_average_pooling2d\n",
            "      - gru_3_EmbedRNN\n",
            "      - dense_1_EffNetB1\n",
            "      - dropout_4_EmbedRNN\n",
            "      - input_1_TextOneHot\n",
            "      - input_1_Multilingu\n",
            "      - batchnorm_2_EffNetB1\n",
            "      - batchnorm_5_EmbedRNN\n",
            "      - dense_2_TextOneHot\n",
            "      - batchnorm_2_Multilingu\n",
            "      - dropout_3_EffNetB1\n",
            "      - dense_6_EmbedRNN\n",
            "      - dropout_3_TextOneHot\n",
            "      - dense_3_Multilingu\n",
            "      - dense_4_EffNetB1\n",
            "      - dropout_7_EmbedRNN\n",
            "      - batchnorm_4_TextOneHot\n",
            "      - dropout_4_Multilingu\n",
            "      - batchnorm_5_EffNetB1\n",
            "Epoch 1/15\n",
            "1804/1804 [==============================] - 2065s 1s/step - loss: 0.0919 - accuracy: 0.9709 - val_loss: 0.4179 - val_accuracy: 0.8823\n",
            "Epoch 2/15\n",
            "1804/1804 [==============================] - 26097s 14s/step - loss: 0.0841 - accuracy: 0.9736 - val_loss: 0.4158 - val_accuracy: 0.8813\n",
            "Epoch 3/15\n",
            "1804/1804 [==============================] - 2125s 1s/step - loss: 0.0809 - accuracy: 0.9748 - val_loss: 0.4155 - val_accuracy: 0.8834\n",
            "Epoch 4/15\n",
            "1804/1804 [==============================] - 2058s 1s/step - loss: 0.0785 - accuracy: 0.9757 - val_loss: 0.4151 - val_accuracy: 0.8833\n",
            "Epoch 5/15\n",
            "1804/1804 [==============================] - 2053s 1s/step - loss: 0.0731 - accuracy: 0.9771 - val_loss: 0.4134 - val_accuracy: 0.8835\n",
            "Epoch 6/15\n",
            "1804/1804 [==============================] - 2054s 1s/step - loss: 0.0722 - accuracy: 0.9773 - val_loss: 0.4155 - val_accuracy: 0.8832\n",
            "Epoch 7/15\n",
            "1804/1804 [==============================] - 2056s 1s/step - loss: 0.0703 - accuracy: 0.9778 - val_loss: 0.4200 - val_accuracy: 0.8833\n",
            "Epoch 8/15\n",
            "1804/1804 [==============================] - 2058s 1s/step - loss: 0.0691 - accuracy: 0.9777 - val_loss: 0.4209 - val_accuracy: 0.8829\n",
            "Restoring model weights from the end of the best epoch.\n",
            "\n",
            "Epoch 00008: ReduceLROnPlateau reducing learning rate to 9.999999747378752e-06.\n",
            "Epoch 00008: early stopping\n",
            "++ [12h12mn] CatModel: fit(): Fin\n"
          ],
          "name": "stdout"
        },
        {
          "output_type": "display_data",
          "data": {
            "image/png": "[encoded data removed]",
            "text/plain": [
              "<Figure size 1080x216 with 2 Axes>"
            ]
          },
          "metadata": {
            "tags": [],
            "needs_background": "light"
          }
        },
        {
          "output_type": "stream",
          "text": [
            "++ [12h12mn] CatModel: Prédiction pour 16984 échantillons\n",
            "++ [12h12mn] CatModel: Preprocessing des données de test\n"
          ],
          "name": "stdout"
        },
        {
          "output_type": "stream",
          "text": [
            "  1%|          | 92/16984 [00:00<00:23, 720.76it/s]"
          ],
          "name": "stderr"
        },
        {
          "output_type": "stream",
          "text": [
            "++ [12h12mn] CatModel: Instantiation du générateur de test\n",
            "Création de 16984 fichiers de batch dans modele_rakuten_out\\CatDataset_test_16984\n",
            "* modèle EmbedRNN\n"
          ],
          "name": "stdout"
        },
        {
          "output_type": "stream",
          "text": [
            "100%|██████████| 16984/16984 [00:11<00:00, 1497.67it/s]\n",
            "  0%|          | 83/16984 [00:00<00:21, 779.47it/s]"
          ],
          "name": "stderr"
        },
        {
          "output_type": "stream",
          "text": [
            "* modèle TextOneHot\n"
          ],
          "name": "stdout"
        },
        {
          "output_type": "stream",
          "text": [
            "100%|██████████| 16984/16984 [00:58<00:00, 287.93it/s]\n",
            "  0%|          | 46/16984 [00:00<00:37, 456.77it/s]"
          ],
          "name": "stderr"
        },
        {
          "output_type": "stream",
          "text": [
            "* modèle Multilingu\n"
          ],
          "name": "stdout"
        },
        {
          "output_type": "stream",
          "text": [
            "100%|██████████| 16984/16984 [00:10<00:00, 1685.17it/s]\n",
            "  0%|          | 20/16984 [00:00<01:36, 176.21it/s]"
          ],
          "name": "stderr"
        },
        {
          "output_type": "stream",
          "text": [
            "* modèle EffNetB1\n"
          ],
          "name": "stdout"
        },
        {
          "output_type": "stream",
          "text": [
            "100%|██████████| 16984/16984 [01:39<00:00, 170.05it/s]\n"
          ],
          "name": "stderr"
        },
        {
          "output_type": "stream",
          "text": [
            "++ [12h15mn] CatModel: predict(): Début\n",
            "16984/16984 [==============================] - 1025s 60ms/step\n",
            "++ [12h33mn] CatModel: predict(): Fin\n",
            "\n",
            "++ [12h33mn] CatModel: w-f1-score = \u001b[1m0.8783\u001b[0m\n",
            "\n",
            "              precision    recall  f1-score   support\n",
            "\n",
            "          10       0.69      0.76      0.72       652\n",
            "        1140       0.84      0.84      0.84       541\n",
            "        1160       0.99      0.98      0.98       815\n",
            "        1180       0.77      0.69      0.72       140\n",
            "        1280       0.75      0.79      0.77       956\n",
            "        1281       0.70      0.64      0.67       399\n",
            "        1300       0.96      0.97      0.96      1051\n",
            "        1301       0.96      0.92      0.94       168\n",
            "        1302       0.88      0.84      0.86       497\n",
            "        1320       0.89      0.86      0.87       683\n",
            "        1560       0.86      0.86      0.86       993\n",
            "        1920       0.92      0.94      0.93       841\n",
            "        1940       0.97      0.96      0.97       147\n",
            "        2060       0.84      0.83      0.83      1031\n",
            "        2220       0.91      0.86      0.88       147\n",
            "        2280       0.89      0.87      0.88       921\n",
            "        2403       0.82      0.87      0.84       972\n",
            "        2462       0.86      0.84      0.85       282\n",
            "        2522       0.95      0.94      0.94       988\n",
            "        2582       0.79      0.76      0.78       509\n",
            "        2583       0.98      0.99      0.98      1987\n",
            "        2585       0.84      0.91      0.88       499\n",
            "        2705       0.91      0.86      0.88       559\n",
            "        2905       0.99      0.99      0.99       162\n",
            "          40       0.85      0.77      0.81       535\n",
            "          50       0.86      0.89      0.87       353\n",
            "          60       0.95      0.91      0.93       156\n",
            "\n",
            "    accuracy                           0.88     16984\n",
            "   macro avg       0.87      0.86      0.87     16984\n",
            "weighted avg       0.88      0.88      0.88     16984\n",
            "\n",
            "++ [12h33mn] CatModel: 2070 mauvaises prédictions: modele_rakuten_out\\CatModel_84916_bad_predictions.csv\n",
            "++ [12h33mn] CatModel: Evaluation exécutée en 14h8mn\n"
          ],
          "name": "stdout"
        },
        {
          "output_type": "stream",
          "text": [
            "C:\\Users\\utilisateur\\anaconda3\\envs\\tf\\lib\\site-packages\\tensorflow\\python\\keras\\utils\\generic_utils.py:494: CustomMaskWarning: Custom mask layers require a config and must override get_config. When loading, the custom mask layer must be passed to the custom_objects argument.\n",
            "  warnings.warn('Custom mask layers require a config and must override '\n"
          ],
          "name": "stderr"
        },
        {
          "output_type": "stream",
          "text": [
            "++ [12h33mn] CatModel: Modèle sauvegardé dans modele_rakuten_out\\CatModel_84916_model.hdf5\n",
            "Pas de sauvegarde de  objs\n",
            "++ [12h33mn] CatModel: Objet complet sauvegardé dans modele_rakuten_out\\CatModel_84916_object.pkl\n"
          ],
          "name": "stdout"
        }
      ]
    },
    {
      "cell_type": "code",
      "metadata": {
        "id": "permanent-plumbing",
        "outputId": "e2eb8f2a-8232-498e-df70-5c414ddec354"
      },
      "source": [
        "# Analyse des mauvaises prédictions à partir du fichier généré\n",
        "# ne contenant que les mauvaises prédictions\n",
        "badf = \"modele_rakuten_out\\CatModel_84916_bad_predictions.csv\"\n",
        "df = pd.read_csv(badf)\n",
        "\n",
        "print(\"Classes les plus mal prédites:\")\n",
        "vc = df.y_test.value_counts()\n",
        "display(pd.DataFrame(vc[:20]).transpose().rename(index = {'y_test': 'Erreurs'}))\n",
        "\n",
        "plt.figure(figsize=(16,10))\n",
        "sns.heatmap(pd.crosstab(df.y_test, df.y_pred))\n",
        "plt.title(\"Matrice de confusion sur les mauvaise prédictions\")\n",
        "plt.show()"
      ],
      "id": "permanent-plumbing",
      "execution_count": null,
      "outputs": [
        {
          "output_type": "stream",
          "text": [
            "Classes les plus mal prédites:\n"
          ],
          "name": "stdout"
        },
        {
          "output_type": "display_data",
          "data": {
            "text/html": [
              "<div>\n",
              "<style scoped>\n",
              "    .dataframe tbody tr th:only-of-type {\n",
              "        vertical-align: middle;\n",
              "    }\n",
              "\n",
              "    .dataframe tbody tr th {\n",
              "        vertical-align: top;\n",
              "    }\n",
              "\n",
              "    .dataframe thead th {\n",
              "        text-align: right;\n",
              "    }\n",
              "</style>\n",
              "<table border=\"1\" class=\"dataframe\">\n",
              "  <thead>\n",
              "    <tr style=\"text-align: right;\">\n",
              "      <th></th>\n",
              "      <th>1280</th>\n",
              "      <th>2060</th>\n",
              "      <th>10</th>\n",
              "      <th>1281</th>\n",
              "      <th>1560</th>\n",
              "      <th>2403</th>\n",
              "      <th>40</th>\n",
              "      <th>2280</th>\n",
              "      <th>2582</th>\n",
              "      <th>1320</th>\n",
              "      <th>1140</th>\n",
              "      <th>2705</th>\n",
              "      <th>1302</th>\n",
              "      <th>2522</th>\n",
              "      <th>1920</th>\n",
              "      <th>2462</th>\n",
              "      <th>2585</th>\n",
              "      <th>1180</th>\n",
              "      <th>50</th>\n",
              "      <th>1300</th>\n",
              "    </tr>\n",
              "  </thead>\n",
              "  <tbody>\n",
              "    <tr>\n",
              "      <th>Erreurs</th>\n",
              "      <td>202</td>\n",
              "      <td>174</td>\n",
              "      <td>155</td>\n",
              "      <td>142</td>\n",
              "      <td>139</td>\n",
              "      <td>130</td>\n",
              "      <td>123</td>\n",
              "      <td>123</td>\n",
              "      <td>120</td>\n",
              "      <td>95</td>\n",
              "      <td>87</td>\n",
              "      <td>80</td>\n",
              "      <td>80</td>\n",
              "      <td>63</td>\n",
              "      <td>50</td>\n",
              "      <td>46</td>\n",
              "      <td>45</td>\n",
              "      <td>44</td>\n",
              "      <td>40</td>\n",
              "      <td>34</td>\n",
              "    </tr>\n",
              "  </tbody>\n",
              "</table>\n",
              "</div>"
            ],
            "text/plain": [
              "         1280  2060  10    1281  1560  2403  40    2280  2582  1320  1140  \\\n",
              "Erreurs   202   174   155   142   139   130   123   123   120    95    87   \n",
              "\n",
              "         2705  1302  2522  1920  2462  2585  1180  50    1300  \n",
              "Erreurs    80    80    63    50    46    45    44    40    34  "
            ]
          },
          "metadata": {
            "tags": []
          }
        },
        {
          "output_type": "display_data",
          "data": {
            "image/png": "[encoded data removed]",
            "text/plain": [
              "<Figure size 1152x720 with 2 Axes>"
            ]
          },
          "metadata": {
            "tags": [],
            "needs_background": "light"
          }
        }
      ]
    },
    {
      "cell_type": "code",
      "metadata": {
        "id": "indonesian-istanbul",
        "outputId": "e8b0de0f-7ed5-4305-d9f8-178455e81d79"
      },
      "source": [
        "# Sauvegarde des modèles et création du fichier csv des\n",
        "# prédictions sur le fichier officiel de test\n",
        "CatModel(NB_ECHANTILLONS).deliver()"
      ],
      "id": "indonesian-istanbul",
      "execution_count": null,
      "outputs": [
        {
          "output_type": "stream",
          "text": [
            "Chargement de l'objet (modele_rakuten_out\\CatModel_84916_object.pkl)\n",
            "Chargement du modèle (modele_rakuten_out\\CatModel_84916_model.hdf5)\n",
            "Chargement de l'objet (modele_rakuten_out\\EmbedRNN_84916_object.pkl)\n",
            "Chargement du modèle (modele_rakuten_out\\EmbedRNN_84916_model.hdf5)\n",
            "Chargement de l'objet (modele_rakuten_out\\TextOneHot_84916_object.pkl)\n",
            "Chargement du modèle (modele_rakuten_out\\TextOneHot_84916_model.hdf5)\n",
            "Chargement de l'objet (modele_rakuten_out\\Multilingu_84916_object.pkl)\n",
            "Chargement du modèle (modele_rakuten_out\\Multilingu_84916_model.hdf5)\n",
            "Chargement de l'objet (modele_rakuten_out\\EffNetB1_84916_object.pkl)\n",
            "Chargement du modèle (modele_rakuten_out\\EffNetB1_84916_model.hdf5)\n",
            "++ [12h35mn] CatModel: Création de modele_rakuten_out\\liv\\2021_08_06_12h35\\CatModel_graph.png\n",
            "('You must install pydot (`pip install pydot`) and install graphviz (see instructions at https://graphviz.gitlab.io/download/) ', 'for plot_model/model_to_dot to work.')\n",
            "++ [12h35mn] CatModel: Sauvegarde des modèles dans modele_rakuten_out\\liv\\2021_08_06_12h35\n",
            "   modele_rakuten_out\\liv\\2021_08_06_12h35\\CatModel_84916_model.hdf5\n",
            "   modele_rakuten_out\\liv\\2021_08_06_12h35\\CatModel_84916_object.pkl\n",
            "   modele_rakuten_out\\liv\\2021_08_06_12h35\\EffNetB1_84916_model.hdf5\n",
            "   modele_rakuten_out\\liv\\2021_08_06_12h35\\EffNetB1_84916_object.pkl\n",
            "   modele_rakuten_out\\liv\\2021_08_06_12h35\\EmbedRNN_84916_model.hdf5\n",
            "   modele_rakuten_out\\liv\\2021_08_06_12h35\\EmbedRNN_84916_object.pkl\n",
            "   modele_rakuten_out\\liv\\2021_08_06_12h35\\Multilingu_84916_model.hdf5\n",
            "   modele_rakuten_out\\liv\\2021_08_06_12h35\\Multilingu_84916_object.pkl\n",
            "   modele_rakuten_out\\liv\\2021_08_06_12h35\\TextOneHot_84916_model.hdf5\n",
            "   modele_rakuten_out\\liv\\2021_08_06_12h35\\TextOneHot_84916_object.pkl\n",
            "++ [12h35mn] CatModel: Prédiction sur les données de test officielles\n",
            "++ [12h35mn] CatModel: Prédiction pour 13812 échantillons\n",
            "++ [12h35mn] CatModel: Preprocessing des données de test\n",
            "Creation de modele_rakuten_out\\X_test_update_text.pkl\n",
            "Tokenization de 13812 phrases\n"
          ],
          "name": "stdout"
        },
        {
          "output_type": "stream",
          "text": [
            "100%|██████████| 13812/13812 [00:14<00:00, 932.90it/s] \n"
          ],
          "name": "stderr"
        },
        {
          "output_type": "stream",
          "text": [
            "Chargement de tfhub/universal-sentence-encoder-multilingual-large-3\n"
          ],
          "name": "stdout"
        },
        {
          "output_type": "stream",
          "text": [
            "  0%|          | 0/13812 [00:00<?, ?it/s]"
          ],
          "name": "stderr"
        },
        {
          "output_type": "stream",
          "text": [
            "Plongement de 13812 phrases\n"
          ],
          "name": "stdout"
        },
        {
          "output_type": "stream",
          "text": [
            "100%|██████████| 13812/13812 [21:12<00:00, 10.85it/s] \n"
          ],
          "name": "stderr"
        },
        {
          "output_type": "stream",
          "text": [
            "Creation de modele_rakuten_out\\X_test_update_image_path.pkl\n"
          ],
          "name": "stdout"
        },
        {
          "output_type": "stream",
          "text": [
            "  3%|▎         | 371/13812 [00:00<00:07, 1842.84it/s]"
          ],
          "name": "stderr"
        },
        {
          "output_type": "stream",
          "text": [
            "++ [12h57mn] CatModel: Instantiation du générateur de test\n",
            "Création de 13812 fichiers de batch dans modele_rakuten_out\\CatDataset_test_13812\n",
            "* modèle EmbedRNN\n"
          ],
          "name": "stdout"
        },
        {
          "output_type": "stream",
          "text": [
            "100%|██████████| 13812/13812 [00:09<00:00, 1523.70it/s]\n",
            "  0%|          | 65/13812 [00:00<00:21, 649.85it/s]"
          ],
          "name": "stderr"
        },
        {
          "output_type": "stream",
          "text": [
            "* modèle TextOneHot\n"
          ],
          "name": "stdout"
        },
        {
          "output_type": "stream",
          "text": [
            "100%|██████████| 13812/13812 [00:38<00:00, 356.81it/s]\n",
            "  1%|          | 155/13812 [00:00<00:08, 1539.60it/s]"
          ],
          "name": "stderr"
        },
        {
          "output_type": "stream",
          "text": [
            "* modèle Multilingu\n"
          ],
          "name": "stdout"
        },
        {
          "output_type": "stream",
          "text": [
            "100%|██████████| 13812/13812 [00:06<00:00, 2000.01it/s]\n",
            "  0%|          | 38/13812 [00:00<01:14, 185.62it/s]"
          ],
          "name": "stderr"
        },
        {
          "output_type": "stream",
          "text": [
            "* modèle EffNetB1\n"
          ],
          "name": "stdout"
        },
        {
          "output_type": "stream",
          "text": [
            "100%|██████████| 13812/13812 [01:22<00:00, 167.97it/s]\n"
          ],
          "name": "stderr"
        },
        {
          "output_type": "stream",
          "text": [
            "++ [13h00mn] CatModel: predict(): Début\n",
            "13812/13812 [==============================] - 941s 68ms/step\n",
            "++ [13h15mn] CatModel: predict(): Fin\n",
            "\n",
            "++ [13h15mn] CatModel: Création de \u001b[1mmodele_rakuten_out\\liv\\2021_08_06_12h35\\Y_test.csv\u001b[0m\n"
          ],
          "name": "stdout"
        }
      ]
    }
  ]
}